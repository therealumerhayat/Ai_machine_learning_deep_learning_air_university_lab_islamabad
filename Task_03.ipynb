{
 "cells": [
  {
   "cell_type": "markdown",
   "id": "bc53c009",
   "metadata": {},
   "source": [
    "**Name:** Muhammad Umer\n",
    "\n",
    "**Email** umerhayat282@gmail.com\n",
    "\n",
    "**Date** September 12, 2025\n",
    "\n",
    "\n",
    "\n",
    "____"
   ]
  },
  {
   "cell_type": "markdown",
   "id": "27792401",
   "metadata": {},
   "source": [
    "#   Conditional Statements"
   ]
  },
  {
   "cell_type": "markdown",
   "id": "03bcf30b",
   "metadata": {},
   "source": [
    "**1. Even or Odd: Write a program to check if the number 15 is even or odd and print the result.**"
   ]
  },
  {
   "cell_type": "code",
   "execution_count": 2,
   "id": "befb8e89",
   "metadata": {},
   "outputs": [
    {
     "name": "stdout",
     "output_type": "stream",
     "text": [
      "Odd\n"
     ]
    }
   ],
   "source": [
    "x = int(input(\"Enter a number: \"))\n",
    "if x/2 == 0:\n",
    "    print(\"Even\")\n",
    "else:\n",
    "    print(\"Odd\")"
   ]
  },
  {
   "cell_type": "markdown",
   "id": "1a4b68f4",
   "metadata": {},
   "source": [
    "**2. Positive, Negative or Zero: Write a program to check if the number -7 is positive, negative, or zero and print the result.**"
   ]
  },
  {
   "cell_type": "code",
   "execution_count": 5,
   "id": "f9103a5f",
   "metadata": {},
   "outputs": [
    {
     "name": "stdout",
     "output_type": "stream",
     "text": [
      "Negative\n"
     ]
    }
   ],
   "source": [
    "y = -7\n",
    "if y > 0:\n",
    "    print(\"Positive\")\n",
    "elif y < 0:\n",
    "    print(\"Negative\")\n",
    "else:\n",
    "    print(\"Zero\")"
   ]
  },
  {
   "cell_type": "markdown",
   "metadata": {},
   "source": [
    "**3. Leap Year: Write a program to determine if the year 2024 is a leap year and print the result.**"
   ]
  },
  {
   "cell_type": "code",
   "execution_count": 6,
   "id": "22ddc637",
   "metadata": {},
   "outputs": [
    {
     "name": "stdout",
     "output_type": "stream",
     "text": [
      "2024 is a leap year\n"
     ]
    }
   ],
   "source": [
    "year = 2024\n",
    "if year % 4 == 0:\n",
    "    if year % 100 == 0:\n",
    "        if year % 400 == 0:\n",
    "            print(f\"{year} is a leap year\")\n",
    "        else:\n",
    "            print(f\"{year} is not a leap year\")\n",
    "    else:\n",
    "        print(f\"{year} is a leap year\")\n",
    "else:\n",
    "    print(f\"{year} is not a leap year\")"
   ]
  },
  {
   "cell_type": "markdown",
   "id": "5c92f779",
   "metadata": {},
   "source": [
    "**4. Grade Calculator: Write a program that assigns grades based on marks and get marks from user input: A for marks &gt;= 90, B for marks &gt;= 80, C for marks &gt;= 70, D for marks &gt;= 60, and F for marks &lt; 60.**"
   ]
  },
  {
   "cell_type": "code",
   "execution_count": 13,
   "id": "26e4d79e",
   "metadata": {},
   "outputs": [
    {
     "name": "stdout",
     "output_type": "stream",
     "text": [
      "Grade: A\n"
     ]
    }
   ],
   "source": [
    "user_input = int(input(\"Enter a marks: \"))\n",
    "if user_input >= 90:\n",
    "    print(\"Grade: A\")\n",
    "elif user_input >= 80:\n",
    "    print(\"Grade: B\")\n",
    "elif user_input >= 70:\n",
    "    print(\"Grade: C\")\n",
    "elif user_input >= 60:\n",
    "    print(\"Grade: D\")\n",
    "else:\n",
    "    print(\"Grade: F\")"
   ]
  },
  {
   "cell_type": "markdown",
   "id": "7d0b10af",
   "metadata": {},
   "source": [
    "**5. Maximum of Three: Write a program to find the maximum of the three numbers 5, 10, and 15, and print the result.**"
   ]
  },
  {
   "cell_type": "code",
   "execution_count": 15,
   "id": "3e7d4a48",
   "metadata": {},
   "outputs": [
    {
     "name": "stdout",
     "output_type": "stream",
     "text": [
      "15 is the maximum number\n"
     ]
    }
   ],
   "source": [
    "num1 = 5\n",
    "num2 = 10\n",
    "num3 = 15\n",
    "if num1 > num2 and num1 > num3:\n",
    "    print(f\"{num1} is the maximum number\")\n",
    "elif num2 > num1 and num2 > num3:\n",
    "    print(f\"{num2} is the maximum number\")\n",
    "else:\n",
    "    print(f\"{num3} is the maximum number\")"
   ]
  },
  {
   "cell_type": "markdown",
   "id": "2664e5b6",
   "metadata": {},
   "source": [
    "**6. Divisibility Check: Write a program to check if the number 55 is divisible by both 5 and 11, and print the result.**"
   ]
  },
  {
   "cell_type": "code",
   "execution_count": 16,
   "id": "6b64e929",
   "metadata": {},
   "outputs": [
    {
     "name": "stdout",
     "output_type": "stream",
     "text": [
      "55 is divisible by both 5 and 11\n"
     ]
    }
   ],
   "source": [
    "num = 55\n",
    "if num % 5 == 0 and num % 11 == 0:\n",
    "    print(f\"{num} is divisible by both 5 and 11\")\n",
    "else:\n",
    "    print(f\"{num} is not divisible by both 5 and 11\")\n"
   ]
  },
  {
   "cell_type": "markdown",
   "id": "dd4b4c57",
   "metadata": {},
   "source": [
    "**7. Password Validation: Write a program to validate a password with the criteria: length &gt;= 8, contains uppercase, lowercase, and digits.**"
   ]
  },
  {
   "cell_type": "code",
   "execution_count": 22,
   "id": "c57104df",
   "metadata": {},
   "outputs": [
    {
     "name": "stdout",
     "output_type": "stream",
     "text": [
      "Valid password\n"
     ]
    }
   ],
   "source": [
    "password = input(\"Enter a password: \")\n",
    "if len(password) >= 8 and any(char.isupper() for char in password) and any(char.islower() for char in password) and any(char.isdigit() for char in password):\n",
    "    print(\"Valid password\")\n",
    "else:\n",
    "    print(\"Invalid password\")\n"
   ]
  },
  {
   "cell_type": "markdown",
   "metadata": {},
   "source": [
    "**8. Character Type: Write a program to determine if the character &#39;@&#39; is a vowel, consonant, digit, or special character, and print the result.**"
   ]
  },
  {
   "cell_type": "code",
   "execution_count": 26,
   "id": "68958837",
   "metadata": {},
   "outputs": [
    {
     "name": "stdout",
     "output_type": "stream",
     "text": [
      "@ is a special character\n"
     ]
    }
   ],
   "source": [
    "char = input(\"Enter a character: \")\n",
    "if char.isalpha():\n",
    "    if char.lower() in 'aeiou':\n",
    "        print(f\"{char} is a vowel\")\n",
    "    else:\n",
    "        print(f\"{char} is a consonant\")\n",
    "elif char.isdigit():\n",
    "    print(f\"{char} is a digit\")\n",
    "else:\n",
    "    print(f\"{char} is a special character\")"
   ]
  },
  {
   "cell_type": "markdown",
   "id": "0da29aed",
   "metadata": {},
   "source": [
    "**9. Triangle Type: Write a program to determine the type of triangle based on side lengths 3, 4, and 5 (equilateral, isosceles, or scalene) and print the result.**"
   ]
  },
  {
   "cell_type": "code",
   "execution_count": 28,
   "id": "4d1a1305",
   "metadata": {},
   "outputs": [
    {
     "name": "stdout",
     "output_type": "stream",
     "text": [
      "Scalene triangle\n"
     ]
    }
   ],
   "source": [
    "a = 3\n",
    "b = 4\n",
    "c = 5\n",
    "if a == b == c:\n",
    "    print(\"Equilateral triangle\")\n",
    "elif a == b or b == c or c == a:\n",
    "    print(\"Isosceles triangle\")\n",
    "else:\n",
    "    print(\"Scalene triangle\")"
   ]
  },
  {
   "cell_type": "markdown",
   "id": "cea122bd",
   "metadata": {},
   "source": [
    "**10. Age Group: Write a program to categorize age 25 into groups: Child (age &lt; 13), Teenager (13 &lt;= age &lt; 20), Adult (20 &lt;= age &lt; 60), Senior (age &gt;= 60) and print the result.**"
   ]
  },
  {
   "cell_type": "code",
   "execution_count": 30,
   "id": "ae7e3149",
   "metadata": {},
   "outputs": [
    {
     "name": "stdout",
     "output_type": "stream",
     "text": [
      "Adult\n"
     ]
    }
   ],
   "source": [
    "age = 25\n",
    "if age < 13:\n",
    "    print(\"Child\")\n",
    "elif 13 <= age < 20:\n",
    "    print(\"Teen\")\n",
    "elif 20 <= age < 60:\n",
    "    print(\"Adult\")\n",
    "else:\n",
    "    print(\"Senior\")"
   ]
  },
  {
   "cell_type": "markdown",
   "id": "6b1df356",
   "metadata": {},
   "source": [
    "**11. Weather Advice: Write conditional statements that give advice based on the weather:**\n",
    "\n",
    "- If it&#39;s sunny, print &quot;Wear sunglasses.&quot;\n",
    "- If it&#39;s raining, print &quot;Take an umbrella.&quot;\n",
    "- If it&#39;s snowing, print &quot;Wear a coat.&quot;"
   ]
  },
  {
   "cell_type": "code",
   "execution_count": 32,
   "id": "6e67a043",
   "metadata": {},
   "outputs": [
    {
     "name": "stdout",
     "output_type": "stream",
     "text": [
      "Wear glasses\n"
     ]
    }
   ],
   "source": [
    "weather = \"sunny\"\n",
    "if weather == \"sunny\":\n",
    "    print(\"Wear glasses\")\n",
    "elif weather == \"raining\":\n",
    "    print(\"Take an umbrella\")\n",
    "elif weather == \"snowing\":\n",
    "    print(\"Wear a coat\")\n",
    "else:\n",
    "    print(\"Have a nice day\")"
   ]
  },
  {
   "cell_type": "markdown",
   "id": "e7c90a51",
   "metadata": {},
   "source": [
    "**12. Day of the Week: Write conditional statements that print whether a given day is a weekday or weekend:**\n",
    "\n",
    "- 1. Weekdays: Monday to Friday\n",
    "- 2. Weekends: Saturday and Sunday"
   ]
  },
  {
   "cell_type": "code",
   "execution_count": 34,
   "id": "0142cff0",
   "metadata": {},
   "outputs": [
    {
     "name": "stdout",
     "output_type": "stream",
     "text": [
      "Saturday is a weekend\n"
     ]
    }
   ],
   "source": [
    "day = \"Saturday\"\n",
    "if day in [\"Saturday\", \"Sunday\"]:\n",
    "    print(f\"{day} is a weekend\")\n",
    "else:\n",
    "    print(f\"{day} is a weekday\")"
   ]
  },
  {
   "cell_type": "markdown",
   "id": "65e02bd7",
   "metadata": {},
   "source": [
    "**13. Bank Transaction: Write conditional statements to check if a bank transaction is valid:**\n",
    "\n",
    "- If the account balance is sufficient, print &quot;Transaction approved.&quot;\n",
    "- If not, print &quot;Insufficient funds.&quot;"
   ]
  },
  {
   "cell_type": "code",
   "execution_count": 35,
   "id": "6e204bc0",
   "metadata": {},
   "outputs": [
    {
     "name": "stdout",
     "output_type": "stream",
     "text": [
      "Transaction approved\n"
     ]
    }
   ],
   "source": [
    "account_balance = 1000\n",
    "transaction_amount = 500\n",
    "if account_balance >= transaction_amount and transaction_amount > 0:\n",
    "    print(\"Transaction approved\")\n",
    "else:\n",
    "    print(\"Insufficient funds\")   "
   ]
  },
  {
   "cell_type": "markdown",
   "id": "c638467b",
   "metadata": {},
   "source": [
    "**14. Age Group: Write conditional statements to categorize a person based on age:**\n",
    "\n",
    "- Child: 0-12\n",
    "- Teen: 13-19\n",
    "- Adult: 20-64\n",
    "- Senior: 65+"
   ]
  },
  {
   "cell_type": "code",
   "execution_count": 36,
   "id": "ca8da7a1",
   "metadata": {},
   "outputs": [
    {
     "name": "stdout",
     "output_type": "stream",
     "text": [
      "Senior\n"
     ]
    }
   ],
   "source": [
    "age  = 70\n",
    "if age < 12:\n",
    "    print(\"Child\")\n",
    "elif 13 <= age < 19:\n",
    "    print(\"Teen\")\n",
    "elif 20 <= age < 64:\n",
    "    print(\"Adult\")\n",
    "else:\n",
    "    print(\"Senior\")"
   ]
  },
  {
   "cell_type": "markdown",
   "id": "6c070602",
   "metadata": {},
   "source": [
    "___"
   ]
  },
  {
   "cell_type": "markdown",
   "id": "b0fa0071",
   "metadata": {},
   "source": [
    "#   Combining Arrays, Tuples, and Conditionals"
   ]
  },
  {
   "cell_type": "markdown",
   "id": "da77ea55",
   "metadata": {},
   "source": [
    "**15. List and Conditions: Given a list of integers [1, 2, 3, 4, 5, 6, 7, 8, 9, 10], create a new list containing only the even integers and print it.**"
   ]
  },
  {
   "cell_type": "code",
   "execution_count": 37,
   "id": "c1cdb1cc",
   "metadata": {},
   "outputs": [
    {
     "name": "stdout",
     "output_type": "stream",
     "text": [
      "Even numbers: [2, 4, 6, 8, 10]\n"
     ]
    }
   ],
   "source": [
    "num_list = [1,2,3,4,5,6,7,8,9,10]\n",
    "even_list = []\n",
    "for i in range(len(num_list)):\n",
    "    if num_list[i] % 2 == 0:\n",
    "        even_list.append(num_list[i])\n",
    "print(\"Even numbers:\", even_list)"
   ]
  },
  {
   "cell_type": "markdown",
   "id": "0024e3cb",
   "metadata": {},
   "source": [
    "**16. Tuple and Conditions: Given a tuple of integers (1, -2, 3, -4, 5), create a new tuple containing only the positive integers and print it.**"
   ]
  },
  {
   "cell_type": "code",
   "execution_count": 40,
   "id": "061d12da",
   "metadata": {},
   "outputs": [
    {
     "name": "stdout",
     "output_type": "stream",
     "text": [
      "Positive numbers tuple: (1, 3, 5)\n"
     ]
    }
   ],
   "source": [
    "num_tupl = (1,-2,3,-4,5)\n",
    "new_tupl = ()\n",
    "for i in range(len(num_tupl)):\n",
    "    if num_tupl[i] > 0:\n",
    "        new_tupl += (num_tupl[i],)\n",
    "\n",
    "\n",
    "print(\"Positive numbers tuple:\", new_tupl)"
   ]
  },
  {
   "cell_type": "markdown",
   "id": "d580a810",
   "metadata": {},
   "source": [
    "**17. Convert and Compare: Convert the list [1, 2, 3] to a tuple and check if the element 2 exists in both the list and the tuple, then print the result.**"
   ]
  },
  {
   "cell_type": "code",
   "execution_count": 42,
   "id": "cf959c88",
   "metadata": {},
   "outputs": [
    {
     "name": "stdout",
     "output_type": "stream",
     "text": [
      "True\n"
     ]
    }
   ],
   "source": [
    "list_a = [1, 2, 3]\n",
    "tuple_a = tuple(list_a)\n",
    "print(2 in list_a and 2 in tuple_a)"
   ]
  },
  {
   "cell_type": "markdown",
   "id": "e1b20109",
   "metadata": {},
   "source": [
    "**18. Conditional Count: Given a list of integers [10, 20, 30, 40, 50], count how many elements are greater than 25 and print the result.**"
   ]
  },
  {
   "cell_type": "code",
   "execution_count": 46,
   "id": "157beaac",
   "metadata": {},
   "outputs": [
    {
     "name": "stdout",
     "output_type": "stream",
     "text": [
      "Count of elements greater than 25: 3\n"
     ]
    }
   ],
   "source": [
    "int_list = [10,20,30,40,50]\n",
    "count = 0\n",
    "for num in int_list:\n",
    "    if num > 25:\n",
    "        count += 1\n",
    "print(\"Count of elements greater than 25:\", count)"
   ]
  },
  {
   "cell_type": "markdown",
   "id": "c8dc9a4d",
   "metadata": {},
   "source": [
    "\n",
    "\n",
    "\n",
    "\n",
    "**19. Filter List with Tuple: Given a list [1, 2, 3, 4, 5] and a tuple (2, 4, 6), filter the list based on elements present in the tuple and print the result.**"
   ]
  },
  {
   "cell_type": "code",
   "execution_count": 48,
   "id": "f2b5f5a7",
   "metadata": {},
   "outputs": [
    {
     "name": "stdout",
     "output_type": "stream",
     "text": [
      "Filtered list: [2, 4]\n"
     ]
    }
   ],
   "source": [
    "num_list = [1,2,3,4,5]\n",
    "tuple_a = (2,4,6)\n",
    "filtered_list = [num for num in num_list if num in tuple_a]\n",
    "print(\"Filtered list:\", filtered_list)\n"
   ]
  }
 ],
 "metadata": {
  "kernelspec": {
   "display_name": "ml_env",
   "language": "python",
   "name": "python3"
  },
  "language_info": {
   "codemirror_mode": {
    "name": "ipython",
    "version": 3
   },
   "file_extension": ".py",
   "mimetype": "text/x-python",
   "name": "python",
   "nbconvert_exporter": "python",
   "pygments_lexer": "ipython3",
   "version": "3.13.1"
  }
 },
 "nbformat": 4,
 "nbformat_minor": 5
}
