{
 "cells": [
  {
   "cell_type": "markdown",
   "id": "57f8ea81",
   "metadata": {},
   "source": [
    "**Name:** Muhammad Umer\n",
    "\n",
    "**Email** umerhayat282@gmail.com\n",
    "\n",
    "**Date** September 15, 2025\n",
    "\n",
    "**Assignment** Assignemnt 001\n",
    "\n",
    "\n",
    "\n",
    "\n",
    "____"
   ]
  },
  {
   "cell_type": "markdown",
   "id": "815666e7",
   "metadata": {},
   "source": [
    "##  Assignment"
   ]
  },
  {
   "cell_type": "markdown",
   "id": "57c4c2b1",
   "metadata": {},
   "source": [
    "**You have a list of dictionaries where each dictionary represents a product in an inventory. Each product has the following attributes: name, price, category, and stock. Write a program that:**\n",
    "\n",
    "**1. Calculates the total value of the inventory.**\n",
    "-  The total value is the sum of the price multiplied by the stock for each product.\n",
    "\n",
    "**2. Identifies the most expensive product in each category.**\n",
    "- Find and print the name and price of the most expensive product in each category.\n",
    "\n",
    "**3. Lists products that need restocking.**\n",
    "- A product needs restocking if its stock is below 5. Print the names and current stock levels of these products.\n",
    "\n",
    "**4. Categorizes products based on their price:**\n",
    "\n",
    "- Cheap: Price below $10\n",
    "- Moderate: Price between $10 and $50\n",
    "- Expensive: Price above $50\n",
    "- Print the number of products in each category.\n",
    "\n",
    "\n",
    "Use lists, conditional statements, and loops to complete these tasks."
   ]
  },
  {
   "cell_type": "code",
   "execution_count": 25,
   "id": "cb505ae4",
   "metadata": {},
   "outputs": [],
   "source": [
    "products = [\n",
    "    {\n",
    "        \"name\": \"Laptop\",\n",
    "        \"price\": 1200.00,\n",
    "        \"category\": \"Electronics\",\n",
    "        \"stock\": 50\n",
    "    },\n",
    "    {\n",
    "        \"name\": \"Keyboard\",\n",
    "        \"price\": 75.50,\n",
    "        \"category\": \"Accessories\",\n",
    "        \"stock\": 150\n",
    "    },\n",
    "    {\n",
    "        \"name\": \"Mouse\",\n",
    "        \"price\": 30.00,\n",
    "        \"category\": \"Accessories\",\n",
    "        \"stock\": 200\n",
    "    },\n",
    "    {\n",
    "        \"name\": \"Monitor\",\n",
    "        \"price\": 300.00,\n",
    "        \"category\": \"Electronics\",\n",
    "        \"stock\": 4\n",
    "    },\n",
    "    {\n",
    "        \"name\": \"Desk Chair\",\n",
    "        \"price\": 150.00,\n",
    "        \"category\": \"Furniture\",\n",
    "        \"stock\": 75\n",
    "    },\n",
    "    {\n",
    "        \"name\": \"Notebook\",\n",
    "        \"price\": 5.99,\n",
    "        \"category\": \"Stationery\",\n",
    "        \"stock\": 500\n",
    "    }\n",
    "]"
   ]
  },
  {
   "cell_type": "markdown",
   "id": "193b7ca8",
   "metadata": {},
   "source": [
    "**1. Calculates the total value of the inventory.**"
   ]
  },
  {
   "cell_type": "code",
   "execution_count": 26,
   "id": "2caf8eee",
   "metadata": {},
   "outputs": [
    {
     "name": "stdout",
     "output_type": "stream",
     "text": [
      "Total Inventory Value: $92770.00\n"
     ]
    }
   ],
   "source": [
    "#calculate the total inventory values\n",
    "total_inventory_value = sum(item[\"price\"] * item[\"stock\"] for item in products)\n",
    "print(f\"Total Inventory Value: ${total_inventory_value:.2f}\")"
   ]
  },
  {
   "cell_type": "markdown",
   "id": "436f0dde",
   "metadata": {},
   "source": [
    "**2. Identifies the most expensive product in each category.**"
   ]
  },
  {
   "cell_type": "code",
   "execution_count": 27,
   "id": "8afe51e6",
   "metadata": {},
   "outputs": [
    {
     "name": "stdout",
     "output_type": "stream",
     "text": [
      "Most expensive in Furniture: {'name': 'Desk Chair', 'price': 150.0, 'category': 'Furniture', 'stock': 75}\n",
      "Most expensive in Accessories: {'name': 'Keyboard', 'price': 75.5, 'category': 'Accessories', 'stock': 150}\n",
      "Most expensive in Electronics: {'name': 'Laptop', 'price': 1200.0, 'category': 'Electronics', 'stock': 50}\n",
      "Most expensive in Stationery: {'name': 'Notebook', 'price': 5.99, 'category': 'Stationery', 'stock': 500}\n"
     ]
    }
   ],
   "source": [
    "for category in set(item[\"category\"] for item in products):\n",
    "    most_expensive = max((item for item in products if item[\"category\"] == category), key=lambda x: x[\"price\"])\n",
    "    print(f\"Most expensive in {category}: {most_expensive}\")"
   ]
  },
  {
   "cell_type": "markdown",
   "id": "15829d9a",
   "metadata": {},
   "source": [
    "**3. Lists products that need restocking.**\n"
   ]
  },
  {
   "cell_type": "code",
   "execution_count": 29,
   "id": "a3d7b7f4",
   "metadata": {},
   "outputs": [
    {
     "name": "stdout",
     "output_type": "stream",
     "text": [
      "Restock needed for: {'name': 'Monitor', 'price': 300.0, 'category': 'Electronics', 'stock': 4}\n"
     ]
    }
   ],
   "source": [
    "for item in products:\n",
    "    if item[\"stock\"] < 5:\n",
    "        print(f\"Restock needed for: {item}\")"
   ]
  },
  {
   "cell_type": "markdown",
   "id": "af8928ca",
   "metadata": {},
   "source": [
    "**4. Categorizes products based on their price:**"
   ]
  },
  {
   "cell_type": "code",
   "execution_count": 37,
   "id": "c15aaa97",
   "metadata": {},
   "outputs": [
    {
     "name": "stdout",
     "output_type": "stream",
     "text": [
      "\n",
      " Cheap Product: 1\n",
      " Moderate Product: 1\n",
      " Expensive Product: 4\n"
     ]
    }
   ],
   "source": [
    "cheap_count = sum(1 for item in products if item[\"price\"] < 10)\n",
    "moderate_count = sum(1 for item in products if 10 <= item[\"price\"] <= 50)\n",
    "expensive_count = sum(1 for item in products if item[\"price\"] > 50)\n",
    "\n",
    "print(f\"\\n Cheap Product: {cheap_count}\\n Moderate Product: {moderate_count}\\n Expensive Product: {expensive_count}\")"
   ]
  }
 ],
 "metadata": {
  "kernelspec": {
   "display_name": "tf_env",
   "language": "python",
   "name": "python3"
  },
  "language_info": {
   "codemirror_mode": {
    "name": "ipython",
    "version": 3
   },
   "file_extension": ".py",
   "mimetype": "text/x-python",
   "name": "python",
   "nbconvert_exporter": "python",
   "pygments_lexer": "ipython3",
   "version": "3.11.11"
  }
 },
 "nbformat": 4,
 "nbformat_minor": 5
}
