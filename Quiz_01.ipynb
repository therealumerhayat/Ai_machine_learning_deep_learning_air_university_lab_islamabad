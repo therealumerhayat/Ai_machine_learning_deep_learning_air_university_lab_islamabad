{
 "cells": [
  {
   "cell_type": "markdown",
   "id": "907db5dc",
   "metadata": {},
   "source": [
    "**Name:** Muhammad Umer\n",
    "\n",
    "**Email** umerhayat282@gmail.com\n",
    "\n",
    "**Date** September 17, 2025\n",
    "\n",
    "\n",
    "\n",
    "____"
   ]
  },
  {
   "cell_type": "code",
   "execution_count": 2,
   "id": "c2dc4705",
   "metadata": {},
   "outputs": [
    {
     "name": "stdout",
     "output_type": "stream",
     "text": [
      "The sum of 8 and 8 is 16\n",
      "The answer of multiplication of 8 and 8 is 64\n",
      "The division of 8 and 4 is 2.0\n",
      "The subtraction of 8 and 4 is 4\n",
      "Loop Stopped\n"
     ]
    }
   ],
   "source": [
    "while True:\n",
    "    a = int(input(\"Enter the first number: \"))\n",
    "    operator = input(\"Enter the operator (+,-,*,/): \")\n",
    "    b = int(input(\"Enter the second number\"))\n",
    "\n",
    "    if operator == \"+\":\n",
    "        print(f\"The sum of {a} and {b} is {a+b}\")\n",
    "    elif operator == \"-\":\n",
    "        print(f\"The subtraction of {a} and {b} is {a-b}\")\n",
    "    elif operator == \"*\":\n",
    "        print(f\"The answer of multiplication of {a} and {b} is {a*b}\")\n",
    "    elif operator == \"/\":\n",
    "        if b != 0:\n",
    "            print(f\"The division of {a} and {b} is {a/b}\")\n",
    "        else:\n",
    "            print(f\"Error: Division by Zero is not allowed\")\n",
    "    else:\n",
    "        print(\"Invalid Operator! Please enter one of the following Operator (+,-,/,*)\")\n",
    "\n",
    "    user_input = input(\"Type 'stop' to end or continue to do another operation\")\n",
    "    if user_input.lower() == \"stop\":\n",
    "        print(\"Loop Stopped\")\n",
    "        break"
   ]
  },
  {
   "cell_type": "code",
   "execution_count": null,
   "id": "eb7f6a63",
   "metadata": {},
   "outputs": [],
   "source": []
  }
 ],
 "metadata": {
  "kernelspec": {
   "display_name": "tf_env",
   "language": "python",
   "name": "python3"
  },
  "language_info": {
   "codemirror_mode": {
    "name": "ipython",
    "version": 3
   },
   "file_extension": ".py",
   "mimetype": "text/x-python",
   "name": "python",
   "nbconvert_exporter": "python",
   "pygments_lexer": "ipython3",
   "version": "3.11.11"
  }
 },
 "nbformat": 4,
 "nbformat_minor": 5
}
