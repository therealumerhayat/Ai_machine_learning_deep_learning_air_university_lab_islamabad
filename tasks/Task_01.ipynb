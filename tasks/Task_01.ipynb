{
 "cells": [
  {
   "cell_type": "markdown",
   "id": "496552db",
   "metadata": {},
   "source": [
    "**Name:** Muhammad Umer\n",
    "\n",
    "**Email** umerhayat282@gmail.com\n",
    "\n",
    "**Date** September 10, 2025\n",
    "\n",
    "\n",
    "\n",
    "____"
   ]
  },
  {
   "cell_type": "markdown",
   "id": "8760c560",
   "metadata": {},
   "source": [
    "##  Lab Task 1: Basic Variable Assignment\n",
    "\n",
    "**Task:** Assign the following values to variables and print them. Then, identify and print\n",
    "the data type of each variable.\n",
    "\n",
    "- age with a value of 21 (integer)\n",
    "- height with a value of 5.9 (float)\n",
    "- name with a value of &quot;Alice&quot; (string)\n",
    "- is_student with a value of False (boolean)"
   ]
  },
  {
   "cell_type": "code",
   "execution_count": 39,
   "id": "d4b4917f",
   "metadata": {},
   "outputs": [
    {
     "name": "stdout",
     "output_type": "stream",
     "text": [
      "21\n",
      "<class 'int'>\n",
      "5.9\n",
      "<class 'float'>\n",
      "Alice\n",
      "<class 'str'>\n",
      "False\n",
      "<class 'bool'>\n"
     ]
    }
   ],
   "source": [
    "#defining the variables\n",
    "age = 21\n",
    "height = 5.9\n",
    "name = \"Alice\"\n",
    "is_student = False\n",
    "\n",
    "print(age)\n",
    "print(type(age))\n",
    "print(height)\n",
    "print(type(height))\n",
    "print(name)\n",
    "print(type(name))\n",
    "print(is_student)    \n",
    "print(type(is_student))"
   ]
  },
  {
   "cell_type": "markdown",
   "id": "a13a21e9",
   "metadata": {},
   "source": [
    "___"
   ]
  },
  {
   "cell_type": "markdown",
   "id": "d2a26444",
   "metadata": {},
   "source": [
    "##  Lab Task 2: Variable Operations\n",
    "\n",
    "**Task:** Create the following variables with given values. Perform the specified operations\n",
    "and print the results:\n",
    "\n",
    "- x with a value of 10 (integer)\n",
    "- y with a value of 3 (integer)\n",
    "- a with a value of 4.5 (float)\n",
    "- b with a value of 2.5 (float)\n",
    "- Calculate and print the sum, difference, product, and quotient of x and y.\n",
    "- Calculate and print the average of a and b."
   ]
  },
  {
   "cell_type": "code",
   "execution_count": 40,
   "id": "f7c2f81d",
   "metadata": {},
   "outputs": [
    {
     "name": "stdout",
     "output_type": "stream",
     "text": [
      "Sum of 10 and 3 is:               13\n",
      "Difference of 10 and 3 is:        7\n",
      "Product of 10 and 3 is:           30\n",
      "Quotient of 10 and 3 is:          3.00\n",
      "---------------------------------------------\n",
      "calculating the average of a and b\n",
      "Average of 4.5 and 2.5 is:           3.5\n"
     ]
    }
   ],
   "source": [
    "x = 10\n",
    "y = 3\n",
    "a = 4.5\n",
    "b = 2.5\n",
    "\n",
    "print(f\"Sum of {x} and {y} is:               {x + y}\")        # Addition\n",
    "print(f\"Difference of {x} and {y} is:        {x - y}\")        # Subtraction\n",
    "print(f\"Product of {x} and {y} is:           {x * y}\")        # Multiplication\n",
    "print(f\"Quotient of {x} and {y} is:          {x // y:.2f}\")        # Quotient\n",
    "\n",
    "print(\"---\" * 15)\n",
    "\n",
    "#calculate the average of a and b\n",
    "print(\"calculating the average of a and b\")\n",
    "average = (a + b) / 2\n",
    "print(f\"Average of {a} and {b} is:           {average}\")\n"
   ]
  },
  {
   "cell_type": "markdown",
   "id": "5217ba53",
   "metadata": {},
   "source": [
    "___"
   ]
  },
  {
   "cell_type": "markdown",
   "id": "60c28ac0",
   "metadata": {},
   "source": [
    "##  Lab Task 3: String Operations\n",
    "\n",
    "**Task:** Given the following variables, perform string operations and print the results:\n",
    "\n",
    "- first_name with a value of &quot;John&quot;\n",
    "- last_name with a value of &quot;Doe&quot;\n",
    "- Concatenate first_name and last_name with a space in between and print the\n",
    "full name.\n",
    "- Print the length of full_name.\n",
    "- Convert full_name to uppercase and print it."
   ]
  },
  {
   "cell_type": "code",
   "execution_count": 41,
   "id": "fa8e8749",
   "metadata": {},
   "outputs": [
    {
     "name": "stdout",
     "output_type": "stream",
     "text": [
      "Full name: John Doe\n",
      "Length of full name: 8\n",
      "Full name in uppercase: JOHN DOE\n"
     ]
    }
   ],
   "source": [
    "first_name = \"John\"\n",
    "last_name = \"Doe\"\n",
    "full_name = first_name + \" \" + last_name\n",
    "print(\"Full name:\", full_name)\n",
    "print(\"Length of full name:\", len(full_name))\n",
    "print(\"Full name in uppercase:\", full_name.upper())"
   ]
  },
  {
   "cell_type": "markdown",
   "id": "c9f8264d",
   "metadata": {},
   "source": [
    "___"
   ]
  },
  {
   "cell_type": "markdown",
   "id": "7658fa78",
   "metadata": {},
   "source": [
    "##  Lab Task 4: Boolean Logic\n",
    "**Task:** Assign values to the following variables and evaluate the Boolean expressions.\n",
    "Print the results.\n",
    "\n",
    "- is_raining with a value of True\n",
    "- is_sunny with a value of False\n",
    "- temperature with a value of 25 (integer)\n",
    "- Check and print whether is_raining is True and is_sunny is False.\n",
    "- Check and print whether the temperature is greater than 20 and is_sunny is True."
   ]
  },
  {
   "cell_type": "code",
   "execution_count": 42,
   "id": "c4ae1466",
   "metadata": {},
   "outputs": [
    {
     "name": "stdout",
     "output_type": "stream",
     "text": [
      "Is it raining?\n",
      " True\n",
      "Is it sunny?\n",
      " False\n",
      "Is it raining and not sunny?\n",
      " True\n",
      "Is it raining or sunny?\n",
      " True\n",
      "Is the temperature greater than 20 and is it sunny?\n",
      " False\n"
     ]
    }
   ],
   "source": [
    "is_raining = True\n",
    "is_sunny = False\n",
    "temperature = 25\n",
    "\n",
    "print(\"Is it raining?\\n\", is_raining)\n",
    "print(\"Is it sunny?\\n\", is_sunny)\n",
    "print(\"Is it raining and not sunny?\\n\", is_raining and not is_sunny)\n",
    "print(\"Is it raining or sunny?\\n\", is_raining or is_sunny)\n",
    "print(\"Is the temperature greater than 20 and is it sunny?\\n\", temperature > 20 and is_sunny)\n"
   ]
  },
  {
   "cell_type": "markdown",
   "id": "2dabcb7a",
   "metadata": {},
   "source": [
    "___"
   ]
  },
  {
   "cell_type": "markdown",
   "id": "583c0508",
   "metadata": {},
   "source": [
    "## Lab Task 5: Type Conversion\n",
    "\n",
    "**Task:** Convert the following variables into different data types and print the results.\n",
    "\n",
    "- Convert an integer to a float.\n",
    "- Convert a float to an integer.\n",
    "- Convert a string representing a number to an integer.\n",
    "- Convert a string representing a number to a float."
   ]
  },
  {
   "cell_type": "code",
   "execution_count": 43,
   "id": "f182a5e4",
   "metadata": {},
   "outputs": [
    {
     "name": "stdout",
     "output_type": "stream",
     "text": [
      "Converting int to float:\n",
      "Integer value: 10\n",
      "Float value: 10.0\n",
      "------------------------------\n",
      "Converting float to int:\n",
      "Float value: 9.99\n",
      "Integer value: 9\n",
      "------------------------------\n",
      "convert a string representing a number to an integer:\n",
      "String value: 42\n",
      "Integer value: 42\n",
      "data type before: <class 'str'>\n",
      "data type after: <class 'int'>\n",
      "------------------------------\n",
      "convert a string representing a number to a float:\n",
      "String value: 3.14\n",
      "Float value: 3.14\n",
      "data type before: <class 'str'>\n",
      "data type after: <class 'float'>\n",
      "------------------------------\n"
     ]
    }
   ],
   "source": [
    "#converting int to float\n",
    "print(\"Converting int to float:\")\n",
    "int_value = 10\n",
    "float_value = float(int_value)\n",
    "print(\"Integer value:\", int_value)\n",
    "print(\"Float value:\", float_value)\n",
    "\n",
    "print(\"---\" * 10)\n",
    "\n",
    "#coverting float to int\n",
    "print(\"Converting float to int:\")\n",
    "\n",
    "float_value2 = 9.99\n",
    "int_value2 = int(float_value2)\n",
    "print(\"Float value:\", float_value2)\n",
    "print(\"Integer value:\", int_value2)\n",
    "\n",
    "print(\"---\" * 10)\n",
    "\n",
    "#convert s sting representing a number to an integer\n",
    "print(\"convert a string representing a number to an integer:\")\n",
    "str_num = \"42\"\n",
    "int_num = int(str_num)\n",
    "print(\"String value:\", str_num)\n",
    "print(\"Integer value:\", int_num)\n",
    "print(\"data type before:\", type(str_num))\n",
    "print(\"data type after:\", type(int_num))\n",
    "\n",
    "print(\"---\" * 10)\n",
    "\n",
    "\n",
    "#convert a string representing a number to a float\n",
    "print(\"convert a string representing a number to a float:\")\n",
    "str_num2 = \"3.14\"\n",
    "float_num = float(str_num2)\n",
    "print(\"String value:\", str_num2)\n",
    "print(\"Float value:\", float_num)\n",
    "print(\"data type before:\", type(str_num2))\n",
    "print(\"data type after:\", type(float_num))\n",
    "\n",
    "print(\"---\" * 10)\n"
   ]
  },
  {
   "cell_type": "markdown",
   "id": "402401ee",
   "metadata": {},
   "source": [
    "___"
   ]
  },
  {
   "cell_type": "markdown",
   "id": "8b532669",
   "metadata": {},
   "source": [
    "##  Lab Task 6: Type Checking\n",
    "\n",
    "**Task:** Write a program that takes a variable and prints out its type using the type()\n",
    "function.\n",
    "\n",
    "var = 42\n",
    "\n",
    "var = 3.14\n",
    "\n",
    "var = &quot;Data Science\n",
    "\n",
    "var = False print(type(var))"
   ]
  },
  {
   "cell_type": "code",
   "execution_count": 44,
   "id": "387f6d12",
   "metadata": {},
   "outputs": [
    {
     "name": "stdout",
     "output_type": "stream",
     "text": [
      "The type of variable 'var1' with value '42' is: <class 'int'>\n",
      "The type of variable 'var2' with value '43.14' is: <class 'float'>\n",
      "The type of variable 'var3' with value 'Data Science' is: <class 'str'>\n",
      "The type of variable 'var4' with value 'True' is: <class 'bool'>\n"
     ]
    }
   ],
   "source": [
    "#write a program that takes a variable and prints out its type using type() function\n",
    "var1 = 42\n",
    "var2 = 43.14\n",
    "var3 = \"Data Science\"\n",
    "var4 = True\n",
    "\n",
    "def print_var_type(var, var_name):\n",
    "    print(f\"The type of variable '{var_name}' with value '{var}' is: {type(var)}\")\n",
    "\n",
    "print_var_type(var1, \"var1\")\n",
    "print_var_type(var2, \"var2\")\n",
    "print_var_type(var3, \"var3\")\n",
    "print_var_type(var4, \"var4\")"
   ]
  },
  {
   "cell_type": "markdown",
   "id": "e351636b",
   "metadata": {},
   "source": [
    "____"
   ]
  },
  {
   "cell_type": "markdown",
   "id": "0e867a53",
   "metadata": {},
   "source": [
    "##  Lab Task 7: Basic Variable Assignment\n",
    "\n",
    "**Task:** Assign the following values to variables and print them.\n",
    "\n",
    "- An integer value of 25.\n",
    "- A float value of 3.14.\n",
    "- A string value &quot;Hello, Python!&quot;.\n",
    "- A boolean value True."
   ]
  },
  {
   "cell_type": "code",
   "execution_count": 45,
   "id": "9c9e61ec",
   "metadata": {},
   "outputs": [
    {
     "name": "stdout",
     "output_type": "stream",
     "text": [
      "Integer value: 25\n",
      "Float value: 3.14\n",
      "String representing an integer: 100\n",
      "String representing a float: 3.14\n",
      "Boolean value: True\n"
     ]
    }
   ],
   "source": [
    "num_int = 25\n",
    "num_float = 3.14\n",
    "str_num_int = \"100\"\n",
    "str_num_float = \"3.14\"\n",
    "bool_value = True\n",
    "\n",
    "#print them \n",
    "print(\"Integer value:\", num_int)\n",
    "print(\"Float value:\", num_float)    \n",
    "print(\"String representing an integer:\", str_num_int)\n",
    "print(\"String representing a float:\", str_num_float)\n",
    "print(\"Boolean value:\", bool_value)"
   ]
  },
  {
   "cell_type": "code",
   "execution_count": null,
   "id": "62072a8d",
   "metadata": {},
   "outputs": [],
   "source": []
  }
 ],
 "metadata": {
  "kernelspec": {
   "display_name": "tf_env",
   "language": "python",
   "name": "python3"
  },
  "language_info": {
   "codemirror_mode": {
    "name": "ipython",
    "version": 3
   },
   "file_extension": ".py",
   "mimetype": "text/x-python",
   "name": "python",
   "nbconvert_exporter": "python",
   "pygments_lexer": "ipython3",
   "version": "3.11.11"
  }
 },
 "nbformat": 4,
 "nbformat_minor": 5
}
