{
 "cells": [
  {
   "cell_type": "markdown",
   "id": "21a60b18",
   "metadata": {},
   "source": [
    "**Name:** Muhammad Umer\n",
    "\n",
    "**Email** umerhayat282@gmail.com\n",
    "\n",
    "**Date** September 11, 2025\n",
    "\n",
    "\n",
    "\n",
    "____"
   ]
  },
  {
   "cell_type": "markdown",
   "id": "ad3b7166",
   "metadata": {},
   "source": [
    "#   Arrays (Lists)"
   ]
  },
  {
   "cell_type": "markdown",
   "id": "ba2bb4ed",
   "metadata": {},
   "source": [
    "**1-Create a List: Ask the user to input 10 natural numbers and store them in a list. Print the list.**"
   ]
  },
  {
   "cell_type": "code",
   "execution_count": 3,
   "id": "0ea59df0",
   "metadata": {},
   "outputs": [
    {
     "name": "stdout",
     "output_type": "stream",
     "text": [
      "The list is: [8, 9, 4, 12, 95, 78, 35, 25, 97, 35]\n"
     ]
    }
   ],
   "source": [
    "numbers = []\n",
    "for i in range(10):\n",
    "    number = int(input(\"Enter a number: \"))\n",
    "    numbers.append(number)\n",
    "print(\"The list is:\", numbers)"
   ]
  },
  {
   "cell_type": "markdown",
   "id": "96a03261",
   "metadata": {},
   "source": [
    "**2-List Indexing: Given a list of numbers [10, 20, 30, 40, 50], access and print the third element.**"
   ]
  },
  {
   "cell_type": "code",
   "execution_count": 4,
   "id": "16a247a8",
   "metadata": {},
   "outputs": [
    {
     "name": "stdout",
     "output_type": "stream",
     "text": [
      "The third element is: 30\n"
     ]
    }
   ],
   "source": [
    "list_of_numbers = [10, 20, 30, 40, 50]\n",
    "print(\"The third element is:\", list_of_numbers[2])"
   ]
  },
  {
   "cell_type": "markdown",
   "id": "a1fc2a0f",
   "metadata": {},
   "source": [
    "**3-List Slicing: Given a list of numbers [1, 2, 3, 4, 5, 6, 7, 8, 9, 10], slice the list to get the first 5 elements and print them.**"
   ]
  },
  {
   "cell_type": "code",
   "execution_count": 5,
   "id": "1bc846f8",
   "metadata": {},
   "outputs": [
    {
     "name": "stdout",
     "output_type": "stream",
     "text": [
      "The first 5 elements are: [1, 2, 3, 4, 5]\n"
     ]
    }
   ],
   "source": [
    "another_list = [1, 2, 3, 4, 5, 6, 7, 8, 9, 10]\n",
    "sliced_list = another_list[:5]\n",
    "print(\"The first 5 elements are:\", sliced_list)"
   ]
  },
  {
   "cell_type": "markdown",
   "id": "0eafa42f",
   "metadata": {},
   "source": [
    "**4-Append to List: Append the color &#39;purple&#39; to the list of colors [&#39;red&#39;, &#39;blue&#39;, &#39;green&#39;] and print the updated list.**"
   ]
  },
  {
   "cell_type": "code",
   "execution_count": 6,
   "id": "009e9fd6",
   "metadata": {},
   "outputs": [
    {
     "name": "stdout",
     "output_type": "stream",
     "text": [
      "The updated list of colors is: ['red', 'blue', 'green', 'purple']\n"
     ]
    }
   ],
   "source": [
    "list_of_colors = ['red', 'blue', 'green']\n",
    "list_of_colors.append('purple')\n",
    "print(\"The updated list of colors is:\", list_of_colors)"
   ]
  },
  {
   "cell_type": "markdown",
   "id": "a04d4135",
   "metadata": {},
   "source": [
    "**5-Extend List: Extend the list of fruits [&#39;apple&#39;, &#39;banana&#39;] with another list [&#39;cherry&#39;, &#39;date&#39;] and print the updated list.**"
   ]
  },
  {
   "cell_type": "code",
   "execution_count": 7,
   "id": "b3ee9db0",
   "metadata": {},
   "outputs": [
    {
     "name": "stdout",
     "output_type": "stream",
     "text": [
      "The updated list of fruits is: ['apple', 'banana', 'cherry', 'date']\n"
     ]
    }
   ],
   "source": [
    "list_of_fruits = ['apple', 'banana']\n",
    "list_of_fruits.extend(['cherry', 'date'])\n",
    "print(\"The updated list of fruits is:\", list_of_fruits)"
   ]
  },
  {
   "cell_type": "markdown",
   "id": "350cf94e",
   "metadata": {},
   "source": [
    "**6-Insert into List: Insert the number 15 at the second position in the list [10, 20, 30] and print the updated list.**"
   ]
  },
  {
   "cell_type": "code",
   "execution_count": 8,
   "id": "8f55d539",
   "metadata": {},
   "outputs": [
    {
     "name": "stdout",
     "output_type": "stream",
     "text": [
      "The updated list is: [10, 15, 20, 30]\n"
     ]
    }
   ],
   "source": [
    "l_list = [10, 20, 30]\n",
    "l_list.insert(1, 15)\n",
    "print(\"The updated list is:\", l_list)"
   ]
  },
  {
   "cell_type": "markdown",
   "id": "c3d8c029",
   "metadata": {},
   "source": [
    "**7-Remove from List: Remove the first occurrence of the element &#39;banana&#39; from the list [&#39;apple&#39;, &#39;banana&#39;, &#39;cherry&#39;, &#39;banana&#39;] and print the updated list.**"
   ]
  },
  {
   "cell_type": "code",
   "execution_count": 9,
   "id": "45ecae55",
   "metadata": {},
   "outputs": [
    {
     "name": "stdout",
     "output_type": "stream",
     "text": [
      "The updated list of fruits is: ['apple', 'cherry', 'banana']\n"
     ]
    }
   ],
   "source": [
    "fruits_list = ['apple', 'banana', 'cherry', 'banana']\n",
    "fruits_list.remove('banana')\n",
    "print(\"The updated list of fruits is:\", fruits_list)"
   ]
  },
  {
   "cell_type": "markdown",
   "id": "788f6ce7",
   "metadata": {},
   "source": [
    "**8-Pop from List: Pop the last element from the list [1, 2, 3, 4, 5], print the popped element, and the updated list.**"
   ]
  },
  {
   "cell_type": "code",
   "execution_count": 10,
   "id": "16f0b910",
   "metadata": {},
   "outputs": [
    {
     "name": "stdout",
     "output_type": "stream",
     "text": [
      "The popped element is: 5\n"
     ]
    }
   ],
   "source": [
    "new_list = [1, 2, 3, 4, 5]\n",
    "popped_element = new_list.pop()\n",
    "print(\"The popped element is:\", popped_element)"
   ]
  },
  {
   "cell_type": "markdown",
   "id": "5d1a5292",
   "metadata": {},
   "source": [
    "**9-Reverse List: Reverse the list [1, 2, 3, 4, 5] and print the reversed list.**"
   ]
  },
  {
   "cell_type": "code",
   "execution_count": 11,
   "id": "8e38c7ff",
   "metadata": {},
   "outputs": [
    {
     "name": "stdout",
     "output_type": "stream",
     "text": [
      "The reversed list is: [5, 4, 3, 2, 1]\n"
     ]
    }
   ],
   "source": [
    "r_list = [1, 2, 3, 4, 5]\n",
    "r_list.reverse()\n",
    "print(\"The reversed list is:\", r_list)"
   ]
  },
  {
   "cell_type": "markdown",
   "id": "f9a178ef",
   "metadata": {},
   "source": [
    "**10-Sort List: Sort the list of names [&#39;John&#39;, &#39;Alice&#39;, &#39;Bob&#39;] in alphabetical order and print the sorted list.**"
   ]
  },
  {
   "cell_type": "code",
   "execution_count": 12,
   "id": "38eb468e",
   "metadata": {},
   "outputs": [
    {
     "name": "stdout",
     "output_type": "stream",
     "text": [
      "The sorted list of names is: ['Alice', 'Bob', 'John']\n"
     ]
    }
   ],
   "source": [
    "name_list = ['John', 'Alice', 'Bob']\n",
    "name_list.sort()\n",
    "print(\"The sorted list of names is:\", name_list)"
   ]
  },
  {
   "cell_type": "markdown",
   "id": "50a32f14",
   "metadata": {},
   "source": [
    "**11-List Comprehension: Create a list of squares of the first 10 natural numbers using list comprehension and print the list.**"
   ]
  },
  {
   "cell_type": "code",
   "execution_count": 14,
   "id": "71b0c37e",
   "metadata": {},
   "outputs": [
    {
     "name": "stdout",
     "output_type": "stream",
     "text": [
      "The list of squares is: [1, 4, 9, 16, 25, 36, 49, 64, 81, 100]\n"
     ]
    }
   ],
   "source": [
    "\n",
    "squares = [x**2 for x in range(1, 11)]\n",
    "print(\"The list of squares is:\", squares)"
   ]
  },
  {
   "cell_type": "markdown",
   "id": "b716bb65",
   "metadata": {},
   "source": [
    "**12-Find Max and Min: Find the maximum and minimum values in the list [4, 2, 8, 6, 5] and print them.**"
   ]
  },
  {
   "cell_type": "code",
   "execution_count": 15,
   "id": "177e7366",
   "metadata": {},
   "outputs": [
    {
     "name": "stdout",
     "output_type": "stream",
     "text": [
      "The maximum value is: 8\n",
      "The minimum value is: 2\n"
     ]
    }
   ],
   "source": [
    "num_list = [4, 2, 8, 6, 5]\n",
    "max_value = max(num_list)\n",
    "min_value = min(num_list)\n",
    "print(\"The maximum value is:\", max_value)\n",
    "print(\"The minimum value is:\", min_value)"
   ]
  },
  {
   "cell_type": "markdown",
   "id": "747ed7f0",
   "metadata": {},
   "source": [
    "**13-Sum of Elements: Calculate the sum of all elements in the list [4, 2, 8, 6, 5] and print it.**"
   ]
  },
  {
   "cell_type": "code",
   "execution_count": 19,
   "id": "a6405098",
   "metadata": {},
   "outputs": [
    {
     "name": "stdout",
     "output_type": "stream",
     "text": [
      "The sum of all elements is: 10\n"
     ]
    }
   ],
   "source": [
    "list_num_2 = [1, 2, 3, 4]\n",
    "summation = sum(list_num_2)\n",
    "print(\"The sum of all elements is:\", summation)"
   ]
  },
  {
   "cell_type": "markdown",
   "id": "a4055439",
   "metadata": {},
   "source": [
    "**14-Product of Elements: Calculate the product of all elements in the list [1, 2, 3, 4] and print it.**"
   ]
  },
  {
   "cell_type": "code",
   "execution_count": 20,
   "id": "f3d92bcf",
   "metadata": {},
   "outputs": [
    {
     "name": "stdout",
     "output_type": "stream",
     "text": [
      "The product is: 24\n"
     ]
    }
   ],
   "source": [
    "list_num_2 = [1, 2, 3, 4]\n",
    "product = 1\n",
    "for num in list_num_2:\n",
    "    product *= num\n",
    "print(\"The product is:\", product)"
   ]
  },
  {
   "cell_type": "markdown",
   "id": "96a3d95c",
   "metadata": {},
   "source": [
    "**15- Remove Duplicates: Remove duplicate elements from the list [1, 2, 2, 3, 4, 4, 5] and print the updated list.**"
   ]
  },
  {
   "cell_type": "code",
   "execution_count": 21,
   "id": "d48fb700",
   "metadata": {},
   "outputs": [
    {
     "name": "stdout",
     "output_type": "stream",
     "text": [
      "The list after removing duplicates is: [1, 2, 3, 4, 5]\n"
     ]
    }
   ],
   "source": [
    "list_num = [1, 2, 2, 3, 4, 5]\n",
    "unique_list = list(set(list_num))\n",
    "print(\"The list after removing duplicates is:\", unique_list)"
   ]
  },
  {
   "cell_type": "markdown",
   "id": "ed3efc1e",
   "metadata": {},
   "source": [
    "**16-List of Even Numbers: Create a list of even numbers from the given list [1, 2, 3, 4, 5, 6, 7, 8, 9, 10] and print it.**"
   ]
  },
  {
   "cell_type": "code",
   "execution_count": 22,
   "id": "0aa60ab3",
   "metadata": {},
   "outputs": [
    {
     "name": "stdout",
     "output_type": "stream",
     "text": [
      "The list of even numbers is: [2, 4, 6, 8, 10]\n"
     ]
    }
   ],
   "source": [
    "num_list = [1,2,3,4,5,6,7,8,9,10]\n",
    "even_numbers = [num for num in num_list if num % 2 == 0]\n",
    "print(\"The list of even numbers is:\", even_numbers)"
   ]
  },
  {
   "cell_type": "markdown",
   "id": "db8aa61b",
   "metadata": {},
   "source": [
    "**17-List to String: Convert the list of characters [&#39;H&#39;, &#39;e&#39;, &#39;l&#39;, &#39;l&#39;, &#39;o&#39;] to a string and print it.**"
   ]
  },
  {
   "cell_type": "code",
   "execution_count": 23,
   "id": "61d698a0",
   "metadata": {},
   "outputs": [
    {
     "name": "stdout",
     "output_type": "stream",
     "text": [
      "The string is: Hello\n"
     ]
    }
   ],
   "source": [
    "character_list = ['H', 'e', 'l', 'l', 'o']\n",
    "string = ''.join(character_list)\n",
    "print(\"The string is:\", string)"
   ]
  },
  {
   "cell_type": "markdown",
   "id": "4f6a419b",
   "metadata": {},
   "source": [
    "**18-String to List: Convert the string &quot;Hello&quot; to a list of characters and print it.**"
   ]
  },
  {
   "cell_type": "code",
   "execution_count": 24,
   "id": "f65d4bc3",
   "metadata": {},
   "outputs": [
    {
     "name": "stdout",
     "output_type": "stream",
     "text": [
      "The list of characters is: ['H', 'e', 'l', 'l', 'o']\n"
     ]
    }
   ],
   "source": [
    "charac = \"Hello\"\n",
    "char_list = list(charac)\n",
    "print(\"The list of characters is:\", char_list)"
   ]
  },
  {
   "cell_type": "markdown",
   "id": "d81ca3a6",
   "metadata": {},
   "source": [
    "___"
   ]
  },
  {
   "cell_type": "markdown",
   "id": "ccd6607e",
   "metadata": {},
   "source": [
    "#   Tuples"
   ]
  },
  {
   "cell_type": "markdown",
   "id": "d3ae69e9",
   "metadata": {},
   "source": [
    "**19- Create a Tuple: Create a tuple with different data types (e.g., integer, float, string) and print it.**"
   ]
  },
  {
   "cell_type": "code",
   "execution_count": 1,
   "id": "7ae5d5c0",
   "metadata": {},
   "outputs": [
    {
     "name": "stdout",
     "output_type": "stream",
     "text": [
      "The tuple is: (258, 25.56, 'Python', True)\n"
     ]
    }
   ],
   "source": [
    "diff_tupl = (258, 25.56, \"Python\", True)\n",
    "print(\"The tuple is:\", diff_tupl)"
   ]
  },
  {
   "cell_type": "markdown",
   "id": "482fa8a7",
   "metadata": {},
   "source": [
    "**20-Access Tuple Elements: Given a tuple (&#39;a&#39;, &#39;b&#39;, &#39;c&#39;, &#39;d&#39;), access and print the second element.**"
   ]
  },
  {
   "cell_type": "code",
   "execution_count": 2,
   "id": "c3395a8d",
   "metadata": {},
   "outputs": [
    {
     "name": "stdout",
     "output_type": "stream",
     "text": [
      "The second element is: b\n"
     ]
    }
   ],
   "source": [
    "alpha_tupl = ('a', 'b', 'c', 'd')\n",
    "print(\"The second element is:\", alpha_tupl[1])"
   ]
  },
  {
   "cell_type": "markdown",
   "id": "312745b6",
   "metadata": {},
   "source": [
    "**21- Unpack Tuple: Unpack the tuple (1, 2, 3) into three variables and print them.**"
   ]
  },
  {
   "cell_type": "code",
   "execution_count": 3,
   "id": "f0339aa6",
   "metadata": {},
   "outputs": [
    {
     "name": "stdout",
     "output_type": "stream",
     "text": [
      "a = 1\n",
      "b = 2\n",
      "c = 3\n"
     ]
    }
   ],
   "source": [
    "unpack_tupl = (1, 2, 3)\n",
    "a, b, c = unpack_tupl\n",
    "print(\"a =\", a)\n",
    "print(\"b =\", b)\n",
    "print(\"c =\", c)"
   ]
  },
  {
   "cell_type": "markdown",
   "id": "d6adde5e",
   "metadata": {},
   "source": [
    "**22- Concatenate Tuples: Concatenate the tuples (1, 2) and (3, 4) and print the result.**"
   ]
  },
  {
   "cell_type": "code",
   "execution_count": 4,
   "id": "c95d9267",
   "metadata": {},
   "outputs": [
    {
     "name": "stdout",
     "output_type": "stream",
     "text": [
      "The concatenated tuple is: (1, 2, 3, 4)\n"
     ]
    }
   ],
   "source": [
    "con_tupl = (1, 2) + (3, 4)\n",
    "print(\"The concatenated tuple is:\", con_tupl)"
   ]
  },
  {
   "cell_type": "markdown",
   "id": "4bfad20d",
   "metadata": {},
   "source": [
    "**23- Repeat Tuple: Repeat the tuple (1, 2, 3) three times and print the result.**"
   ]
  },
  {
   "cell_type": "code",
   "execution_count": 5,
   "id": "7c81a788",
   "metadata": {},
   "outputs": [
    {
     "name": "stdout",
     "output_type": "stream",
     "text": [
      "The repeated tuple is: (1, 2, 3, 1, 2, 3, 1, 2, 3)\n"
     ]
    }
   ],
   "source": [
    "repeat_tupl = (1, 2, 3) * 3\n",
    "print(\"The repeated tuple is:\", repeat_tupl)"
   ]
  },
  {
   "cell_type": "markdown",
   "id": "f3b2ad86",
   "metadata": {},
   "source": [
    "**24- Tuple Slicing: Slice the tuple (1, 2, 3, 4, 5) to get the last three elements and print them.**"
   ]
  },
  {
   "cell_type": "code",
   "execution_count": 6,
   "id": "d43a31f0",
   "metadata": {},
   "outputs": [
    {
     "name": "stdout",
     "output_type": "stream",
     "text": [
      "The last three elements are: (3, 4, 5)\n"
     ]
    }
   ],
   "source": [
    "slice_tupl = (1, 2, 3, 4, 5)\n",
    "last_three = slice_tupl[-3:]\n",
    "print(\"The last three elements are:\", last_three)"
   ]
  },
  {
   "cell_type": "markdown",
   "id": "ca9e9a6f",
   "metadata": {},
   "source": [
    "**25-Check Element in Tuple: Check if the element &#39;b&#39; exists in the tuple (&#39;a&#39;, &#39;b&#39;, &#39;c&#39;) and print the result.**"
   ]
  },
  {
   "cell_type": "code",
   "execution_count": 7,
   "id": "8aa227cb",
   "metadata": {},
   "outputs": [
    {
     "name": "stdout",
     "output_type": "stream",
     "text": [
      "The element 'b' exists in the tuple: True\n"
     ]
    }
   ],
   "source": [
    "element_tupl = ('a', 'b', 'c')\n",
    "exists = 'b' in element_tupl\n",
    "print(\"The element 'b' exists in the tuple:\", exists)"
   ]
  },
  {
   "cell_type": "markdown",
   "id": "68f8b966",
   "metadata": {},
   "source": [
    "**26-Count Tuple Elements: Count the occurrences of the element 2 in the tuple (1, 2, 2, 3, 4) and print the result.**"
   ]
  },
  {
   "cell_type": "code",
   "execution_count": 9,
   "id": "eaf20b45",
   "metadata": {},
   "outputs": [
    {
     "name": "stdout",
     "output_type": "stream",
     "text": [
      "The number of occurrences of 2 is: 2\n"
     ]
    }
   ],
   "source": [
    "count_tupl = (1, 2, 2, 3, 4)\n",
    "#count the occurrences of element 2 in tuple\n",
    "count_2 = count_tupl.count(2)\n",
    "print(\"The number of occurrences of 2 is:\", count_2)"
   ]
  },
  {
   "cell_type": "markdown",
   "id": "58842f7a",
   "metadata": {},
   "source": [
    "**27- Index of Element in Tuple: Find the index of the element &#39;c&#39; in the tuple (&#39;a&#39;, &#39;b&#39;, &#39;c&#39;, &#39;d&#39;) and print it.**"
   ]
  },
  {
   "cell_type": "code",
   "execution_count": 10,
   "id": "eb1651c5",
   "metadata": {},
   "outputs": [
    {
     "name": "stdout",
     "output_type": "stream",
     "text": [
      "The index of 'c' is: 2\n"
     ]
    }
   ],
   "source": [
    "ind_tupl = ('a', 'b', 'c', 'd')\n",
    "index_c = ind_tupl.index('c')\n",
    "print(\"The index of 'c' is:\", index_c)"
   ]
  },
  {
   "cell_type": "markdown",
   "id": "ebccb11a",
   "metadata": {},
   "source": [
    "**28-Convert Tuple to List: Convert the tuple (1, 2, 3) to a list and print it.**"
   ]
  },
  {
   "cell_type": "code",
   "execution_count": 11,
   "id": "b9a881ee",
   "metadata": {},
   "outputs": [
    {
     "name": "stdout",
     "output_type": "stream",
     "text": [
      "The converted list is: [1, 2, 3]\n"
     ]
    }
   ],
   "source": [
    "tup_tolist = (1, 2, 3)\n",
    "list_converted = list(tup_tolist)\n",
    "print(\"The converted list is:\", list_converted)"
   ]
  },
  {
   "cell_type": "markdown",
   "id": "93267813",
   "metadata": {},
   "source": [
    "**29-Convert List to Tuple: Convert the list [1, 2, 3] to a tuple and print it.**"
   ]
  },
  {
   "cell_type": "code",
   "execution_count": 12,
   "id": "cae71796",
   "metadata": {},
   "outputs": [
    {
     "name": "stdout",
     "output_type": "stream",
     "text": [
      "The converted tuple is: (1, 2, 3)\n"
     ]
    }
   ],
   "source": [
    "list_to_tup = [1, 2, 3]\n",
    "tuple_converted = tuple(list_to_tup)\n",
    "print(\"The converted tuple is:\", tuple_converted)"
   ]
  },
  {
   "cell_type": "markdown",
   "id": "11102d09",
   "metadata": {},
   "source": [
    "**30-Nested Tuples: Create a nested tuple ((1, 2), (3, 4), (5, 6)) and print the first element of the second tuple.**"
   ]
  },
  {
   "cell_type": "code",
   "execution_count": 13,
   "id": "bc44d679",
   "metadata": {},
   "outputs": [
    {
     "name": "stdout",
     "output_type": "stream",
     "text": [
      "The first element of the second tuple is: 3\n"
     ]
    }
   ],
   "source": [
    "nested_tupl = ((1, 2), (3, 4), (5, 6))\n",
    "first_element_second_tuple = nested_tupl[1][0]\n",
    "print(\"The first element of the second tuple is:\", first_element_second_tuple)"
   ]
  }
 ],
 "metadata": {
  "kernelspec": {
   "display_name": "ml_env",
   "language": "python",
   "name": "python3"
  },
  "language_info": {
   "codemirror_mode": {
    "name": "ipython",
    "version": 3
   },
   "file_extension": ".py",
   "mimetype": "text/x-python",
   "name": "python",
   "nbconvert_exporter": "python",
   "pygments_lexer": "ipython3",
   "version": "3.13.1"
  }
 },
 "nbformat": 4,
 "nbformat_minor": 5
}
