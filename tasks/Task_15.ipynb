{
 "cells": [
  {
   "cell_type": "markdown",
   "id": "0dcd8df5",
   "metadata": {},
   "source": [
    "**Name:** Muhammad Umer\n",
    "\n",
    "**Email** umerhayat282@gmail.com\n",
    "\n",
    "**Date** October 02, 2025\n",
    "\n",
    "\n",
    "\n",
    "____"
   ]
  },
  {
   "cell_type": "markdown",
   "id": "c262ab55",
   "metadata": {},
   "source": [
    "##  Method Overloading Tasks"
   ]
  },
  {
   "cell_type": "markdown",
   "id": "b239b41f",
   "metadata": {},
   "source": [
    "**1. Calculator Class:** \n",
    "\n",
    "Create a class Calculator with a method multiply that can handle\n",
    "multiplication of one, two, or three numbers using default arguments or variable-\n",
    "length arguments."
   ]
  },
  {
   "cell_type": "code",
   "execution_count": 36,
   "id": "f2655302",
   "metadata": {},
   "outputs": [
    {
     "name": "stdout",
     "output_type": "stream",
     "text": [
      "24\n",
      "12\n",
      "4\n"
     ]
    }
   ],
   "source": [
    "class Calculator:\n",
    "    def multiply(self, a, b=1, c=2):\n",
    "        return a * b * c\n",
    "\n",
    "calc = Calculator()\n",
    "print(calc.multiply(2, 3, 4))  \n",
    "\n",
    "\n",
    "print(calc.multiply(2, 3)) \n",
    "\n",
    "print(calc.multiply(2)) "
   ]
  },
  {
   "cell_type": "markdown",
   "id": "a5a3cccf",
   "metadata": {},
   "source": [
    "**2. Shape Area Calculator:** \n",
    "\n",
    "Design a class Shape with a method area that calculates the\n",
    "area based on input parameters (e.g., radius for a circle, length and width for a\n",
    "rectangle) using conditional logic."
   ]
  },
  {
   "cell_type": "code",
   "execution_count": 37,
   "id": "199a63b2",
   "metadata": {},
   "outputs": [
    {
     "name": "stdout",
     "output_type": "stream",
     "text": [
      "Circle Area: 37.68\n",
      "Rectangle Area: 875\n"
     ]
    }
   ],
   "source": [
    "class Shape:\n",
    "    def area(self, *args):\n",
    "        if len(args) == 1:\n",
    "            radius = args[0]\n",
    "            return 2 * 3.14 * radius\n",
    "        \n",
    "        elif len(args) == 2:\n",
    "            length , width = args\n",
    "            return length * width\n",
    "        else:\n",
    "            raise ValueError(\"Enter valid Parameter for area\")\n",
    "        \n",
    "sh = Shape()\n",
    "print(f\"Circle Area: {sh.area(6)}\")\n",
    "print(f\"Rectangle Area: {sh.area(25,35)}\")\n",
    "\n"
   ]
  },
  {
   "cell_type": "markdown",
   "id": "66a417bc",
   "metadata": {},
   "source": [
    "**3. Printer Class:** \n",
    "\n",
    "Implement a class Printer with a method print_message that accepts a\n",
    "string message and an optional repeat count, printing the message multiple times if\n",
    "specified."
   ]
  },
  {
   "cell_type": "code",
   "execution_count": 38,
   "id": "0fe1a495",
   "metadata": {},
   "outputs": [
    {
     "name": "stdout",
     "output_type": "stream",
     "text": [
      "Theory of Relativity\n",
      "With Repeat:\n",
      "Theory of Relativity\n",
      "Theory of Relativity\n",
      "Theory of Relativity\n",
      "Theory of Relativity\n",
      "Theory of Relativity\n"
     ]
    }
   ],
   "source": [
    "class Printer:\n",
    "    def print_message(self, message, repeat=1):\n",
    "        for _ in range(repeat):\n",
    "            print(message)\n",
    "\n",
    "\n",
    "p = Printer()\n",
    "p.print_message(\"Theory of Relativity\")  \n",
    "\n",
    "print(\"With Repeat:\")\n",
    "p.print_message(\"Theory of Relativity\", 5)"
   ]
  },
  {
   "cell_type": "markdown",
   "id": "a577a303",
   "metadata": {},
   "source": [
    "**4. Student Grade Calculator:** Create a class Student with a method calculate_grade\n",
    "that accepts either a single score or a list of scores and returns the average or a single\n",
    "grade."
   ]
  },
  {
   "cell_type": "code",
   "execution_count": 39,
   "id": "fe3fbdaa",
   "metadata": {},
   "outputs": [
    {
     "name": "stdout",
     "output_type": "stream",
     "text": [
      "Single Score: 92\n",
      "Average Score: 85.25\n"
     ]
    }
   ],
   "source": [
    "from statistics import mean\n",
    "\n",
    "class Student:\n",
    "    def calculate_grade(self, scores):\n",
    "        if isinstance(scores, (int, float)):\n",
    "            return scores  \n",
    "        \n",
    "        elif isinstance(scores, list) and all(isinstance(score, (int, float)) for score in scores):\n",
    "            return mean(scores)  \n",
    "        \n",
    "        else:\n",
    "            raise ValueError(\"Please provide a valid score or list of scores.\")\n",
    "\n",
    "\n",
    "s = Student()\n",
    "print(\"Single Score:\", s.calculate_grade(92))\n",
    "print(\"Average Score:\", s.calculate_grade([85, 90, 78, 88]))"
   ]
  },
  {
   "cell_type": "markdown",
   "id": "20bdcae2",
   "metadata": {},
   "source": [
    "**5. Formatter Class:** Design a class Formatter with a method format_data that formats\n",
    "input data differently based on whether it receives a string, integer, or list."
   ]
  },
  {
   "cell_type": "code",
   "execution_count": 40,
   "id": "f8194cc8",
   "metadata": {},
   "outputs": [
    {
     "name": "stdout",
     "output_type": "stream",
     "text": [
      "Formatted String: UMER\n",
      "Formatted Integer: 1,234,567\n",
      "Formatted List: AI, ML, DL\n"
     ]
    }
   ],
   "source": [
    "class Formatter:\n",
    "    def format_data(self, data):\n",
    "        if isinstance(data, str):\n",
    "            return data.upper() \n",
    "        \n",
    "        elif isinstance(data, int):\n",
    "            return f\"{data:,}\"  \n",
    "        \n",
    "        elif isinstance(data, list):\n",
    "            return \", \".join(str(item) for item in data)  \n",
    "        \n",
    "        else:\n",
    "            raise TypeError(\"Unsupported data type\")\n",
    "\n",
    "        \n",
    "f = Formatter()\n",
    "print(\"Formatted String:\", f.format_data(\"umer\"))\n",
    "print(\"Formatted Integer:\", f.format_data(1234567))\n",
    "print(\"Formatted List:\", f.format_data([\"AI\", \"ML\", \"DL\"]))\n",
    "\n"
   ]
  },
  {
   "cell_type": "markdown",
   "id": "b39143a7",
   "metadata": {},
   "source": [
    "___"
   ]
  },
  {
   "cell_type": "markdown",
   "id": "f139a2ac",
   "metadata": {},
   "source": [
    "##  Method Overriding Tasks"
   ]
  },
  {
   "cell_type": "markdown",
   "id": "0d584876",
   "metadata": {},
   "source": [
    "**1. Vehicle and Motorcycle:** \n",
    "\n",
    "Create a class Vehicle with a method start_engine that\n",
    "prints a generic message. Create a subclass Motorcycle that overrides start_engine to\n",
    "include a specific sound for motorcycles."
   ]
  },
  {
   "cell_type": "code",
   "execution_count": 41,
   "id": "71e6d83f",
   "metadata": {},
   "outputs": [
    {
     "name": "stdout",
     "output_type": "stream",
     "text": [
      "Vehicle engine started...\n",
      "Motorcycle engine started with a roar!\n"
     ]
    }
   ],
   "source": [
    "class Vehicle:\n",
    "    def start_engine(self):\n",
    "        print(f\"Vehicle engine started...\")\n",
    "\n",
    "\n",
    "class Motorcycle(Vehicle):\n",
    "    def start_engine(self):\n",
    "        print(f\"Motorcycle engine started with a roar!\")\n",
    "\n",
    "\n",
    "\n",
    "v = Vehicle()\n",
    "v.start_engine()  \n",
    "\n",
    "m = Motorcycle()\n",
    "m.start_engine()\n",
    "\n"
   ]
  },
  {
   "cell_type": "markdown",
   "id": "4eedd55a",
   "metadata": {},
   "source": [
    "**2. Animal and Dog:** \n",
    "\n",
    "Design a class Animal with a method make_sound that prints a\n",
    "generic sound. Create a subclass Dog that overrides make_sound to print &quot;Woof!&quot;."
   ]
  },
  {
   "cell_type": "code",
   "execution_count": 42,
   "id": "857bf6ac",
   "metadata": {},
   "outputs": [
    {
     "name": "stdout",
     "output_type": "stream",
     "text": [
      "Some generic animal sound\n",
      "Woof!\n"
     ]
    }
   ],
   "source": [
    "class Animal:\n",
    "    def make_sound(self):\n",
    "        print(f\"Some generic animal sound\")\n",
    "\n",
    "\n",
    "class Dog(Animal):\n",
    "    def make_sound(self):\n",
    "        print(f\"Woof!\")\n",
    "\n",
    "\n",
    "a = Animal()\n",
    "a.make_sound()\n",
    "\n",
    "m = Dog()\n",
    "m.make_sound()\n"
   ]
  },
  {
   "cell_type": "markdown",
   "id": "6106d9db",
   "metadata": {},
   "source": [
    "**3. Employee and Manager:** \n",
    "\n",
    "Implement a class Employee with a method\n",
    "calculate_salary that returns a base salary. Create a subclass Manager that overrides\n",
    "calculate_salary to include a bonus."
   ]
  },
  {
   "cell_type": "code",
   "execution_count": 43,
   "id": "5b74d030",
   "metadata": {},
   "outputs": [
    {
     "name": "stdout",
     "output_type": "stream",
     "text": [
      "With Employee Class: 5000\n",
      "With Manager Class: 5200\n",
      "Manager Without Bonus: 5000\n"
     ]
    }
   ],
   "source": [
    "class Employee:\n",
    "    def calculate_salary(self, base_salary):\n",
    "        return base_salary\n",
    "    \n",
    "\n",
    "\n",
    "class Manager(Employee):\n",
    "    def calculate_salary(self, base_salary, bonus=0):\n",
    "        return super().calculate_salary(base_salary) + bonus\n",
    "    \n",
    "\n",
    "emp = Employee()\n",
    "print(f\"With Employee Class: {emp.calculate_salary(5000)}\")  \n",
    "\n",
    "man = Manager()\n",
    "print(f\"With Manager Class: {man.calculate_salary(5000, 200)}\")  \n",
    "print(f\"Manager Without Bonus: {man.calculate_salary(5000)}\") \n"
   ]
  },
  {
   "cell_type": "markdown",
   "id": "e3a93cc6",
   "metadata": {},
   "source": [
    "\n",
    "**4. Shape and Triangle:** \n",
    "\n",
    "Create a class Shape with a method draw that prints a generic\n",
    "drawing message. Create a subclass Triangle that overrides draw to describe drawing\n",
    "a triangle."
   ]
  },
  {
   "cell_type": "code",
   "execution_count": 44,
   "id": "e2463d1f",
   "metadata": {},
   "outputs": [
    {
     "name": "stdout",
     "output_type": "stream",
     "text": [
      "Drawing a generic shape...\n",
      "Drawing a triangle with 3 sides and 3 angles.\n"
     ]
    }
   ],
   "source": [
    "class Shape:\n",
    "    def draw(self):\n",
    "        print(\"Drawing a generic shape...\")\n",
    "\n",
    "class Triangle(Shape):\n",
    "    def draw(self):\n",
    "        print(\"Drawing a triangle with 3 sides and 3 angles.\")\n",
    "\n",
    "\n",
    "s = Shape()\n",
    "s.draw()        \n",
    "\n",
    "t = Triangle()\n",
    "t.draw()   \n",
    "\n"
   ]
  },
  {
   "cell_type": "markdown",
   "id": "0d4bfe14",
   "metadata": {},
   "source": [
    "**5. Product and Electronics:** \n",
    "\n",
    "Design a class Product with a method get_description that\n",
    "returns a basic product description. Create a subclass Electronics that overrides\n",
    "get_description to include warranty details."
   ]
  },
  {
   "cell_type": "code",
   "execution_count": 45,
   "id": "e4836409",
   "metadata": {},
   "outputs": [
    {
     "name": "stdout",
     "output_type": "stream",
     "text": [
      "Product Description: Generic office chair\n",
      "Product Description: Smartphone with OLED display\n",
      "Warranty: 2 years manufacturer warranty\n"
     ]
    }
   ],
   "source": [
    "class Product:\n",
    "    def __init__(self, description):\n",
    "        self.description = description\n",
    "\n",
    "    def get_description(self):\n",
    "        return f\"Product Description: {self.description}\"\n",
    "\n",
    "class Electronics(Product):\n",
    "    def __init__(self, description, warranty_details):\n",
    "        super().__init__(description)\n",
    "        self.warranty_details = warranty_details\n",
    "\n",
    "    def get_description(self):\n",
    "        base_desc = super().get_description()\n",
    "        return f\"{base_desc}\\nWarranty: {self.warranty_details}\"\n",
    "\n",
    "\n",
    "p = Product(\"Generic office chair\")\n",
    "print(p.get_description())\n",
    "\n",
    "e = Electronics(\"Smartphone with OLED display\", \"2 years manufacturer warranty\")\n",
    "print(e.get_description())\n"
   ]
  },
  {
   "cell_type": "markdown",
   "id": "ff6fea14",
   "metadata": {},
   "source": [
    "___"
   ]
  }
 ],
 "metadata": {
  "kernelspec": {
   "display_name": "tf_env",
   "language": "python",
   "name": "python3"
  },
  "language_info": {
   "codemirror_mode": {
    "name": "ipython",
    "version": 3
   },
   "file_extension": ".py",
   "mimetype": "text/x-python",
   "name": "python",
   "nbconvert_exporter": "python",
   "pygments_lexer": "ipython3",
   "version": "3.11.11"
  }
 },
 "nbformat": 4,
 "nbformat_minor": 5
}
