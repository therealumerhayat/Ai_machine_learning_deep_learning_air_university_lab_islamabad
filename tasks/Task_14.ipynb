{
 "cells": [
  {
   "cell_type": "markdown",
   "id": "9e406c55",
   "metadata": {},
   "source": [
    "**Name:** Muhammad Umer\n",
    "\n",
    "**Email** umerhayat282@gmail.com\n",
    "\n",
    "**Date** October 01, 2025\n",
    "\n",
    "\n",
    "\n",
    "____"
   ]
  },
  {
   "cell_type": "markdown",
   "id": "0c9da6f9",
   "metadata": {},
   "source": [
    "**1. Single Inheritance**\n",
    "\n",
    "**Task:**\n",
    "\n",
    "Design a class Vehicle with attributes make and model, and a method describe() that prints\n",
    "&quot;This is a [make] [model].&quot; Create a subclass Car that inherits from Vehicle, adds an attribute\n",
    "number_of_doors, and overrides describe() to include the number of doors."
   ]
  },
  {
   "cell_type": "code",
   "execution_count": 1,
   "id": "536a74f9",
   "metadata": {},
   "outputs": [
    {
     "name": "stdout",
     "output_type": "stream",
     "text": [
      "This is a Toyota Corolla\n",
      "This is a Toyota Corolla with 5 doors.\n"
     ]
    }
   ],
   "source": [
    "class Vehicle:\n",
    "    def __init__(self, make, model):\n",
    "        self.make = make \n",
    "        self.model = model \n",
    "\n",
    "    def describe(self):\n",
    "        print(f\"This is a {self.make} {self.model}\")\n",
    "\n",
    "class Car(Vehicle):\n",
    "    def __init__(self, make, model, number_of_doors):\n",
    "        super().__init__(make, model)\n",
    "        self.number_of_doors = number_of_doors\n",
    "\n",
    "    def describe(self):\n",
    "        print(f\"This is a {self.make} {self.model} with {self.number_of_doors} doors.\")\n",
    "\n",
    "\n",
    "\n",
    "vh = Vehicle(\"Toyota\", \"Corolla\")\n",
    "vh.describe()\n",
    "\n",
    "\n",
    "cr = Car(\"Toyota\", \"Corolla\", 5)\n",
    "cr.describe()\n",
    "        "
   ]
  },
  {
   "cell_type": "markdown",
   "id": "36471a93",
   "metadata": {},
   "source": [
    "**2. Multiple Inheritance**\n",
    "\n",
    "**Task:**\n",
    "\n",
    "Create two classes: Artist with a method create_art() and Musician with a method\n",
    "play_music(). Then, create a class PerformingArtist that inherits from both Artist and\n",
    "Musician. Implement a method perform() in PerformingArtist that calls both create_art()\n",
    "and play_music()."
   ]
  },
  {
   "cell_type": "code",
   "execution_count": 2,
   "id": "def9b517",
   "metadata": {},
   "outputs": [
    {
     "name": "stdout",
     "output_type": "stream",
     "text": [
      "Creating a beautiful piece of art.\n",
      "Playing soulful music.\n"
     ]
    }
   ],
   "source": [
    "\n",
    "class Artist:\n",
    "    def create_art(self):\n",
    "        print(\"Creating a beautiful piece of art.\")\n",
    "\n",
    "class Musician:\n",
    "    def play_music(self):\n",
    "        print(\"Playing soulful music.\")\n",
    "\n",
    "class PerformingArtist(Artist, Musician):\n",
    "    def perform(self):\n",
    "        self.create_art()\n",
    "        self.play_music()\n",
    "\n",
    "\n",
    "pr = PerformingArtist()\n",
    "pr.perform()"
   ]
  },
  {
   "cell_type": "markdown",
   "id": "ea0835ce",
   "metadata": {},
   "source": [
    "**3. Multilevel Inheritance**\n",
    "\n",
    "**Task:**\n",
    "\n",
    "Implement a class hierarchy where Grandparent has an attribute family_name. Create a\n",
    "subclass Parent that inherits from Grandparent and adds an attribute occupation. Then, create\n",
    "a subclass Child that inherits from Parent and adds an attribute age. Implement methods in\n",
    "each class to display the respective attributes."
   ]
  },
  {
   "cell_type": "code",
   "execution_count": 9,
   "id": "8c5245e0",
   "metadata": {},
   "outputs": [
    {
     "name": "stdout",
     "output_type": "stream",
     "text": [
      "Family Name: Khan\n",
      "Occupation: Engineer\n",
      "Age: 45\n"
     ]
    }
   ],
   "source": [
    "class Grandparent:\n",
    "    def __init__(self, family_name):\n",
    "        self.family_name = family_name\n",
    "\n",
    "    def show_family_name(self):\n",
    "        print(f\"Family Name: {self.family_name}\")\n",
    "\n",
    "\n",
    "class Parent(Grandparent):\n",
    "    def __init__(self, family_name, occupation):\n",
    "        super().__init__(family_name)\n",
    "        self.occupation = occupation\n",
    "\n",
    "    def show_occupation(self):\n",
    "        print(f\"Occupation: {self.occupation}\")\n",
    "\n",
    "class Child(Parent):\n",
    "    def __init__(self, family_name, occupation, age):\n",
    "        super().__init__(family_name, occupation)\n",
    "        self.age = age\n",
    "\n",
    "    def show_age(self):\n",
    "        print(f\"Age: {self.age}\")\n",
    "\n",
    "\n",
    "\n",
    "c = Child(\"Khan\", \"Engineer\", 45)\n",
    "c.show_family_name()   \n",
    "c.show_occupation()    \n",
    "c.show_age()           "
   ]
  },
  {
   "cell_type": "markdown",
   "id": "ee8d9954",
   "metadata": {},
   "source": [
    "**4. Hierarchical Inheritance**\n",
    "\n",
    "**Task:**\n",
    "\n",
    "Design a base class Employee with attributes name and employee_id. Create two subclasses,\n",
    "Manager and Developer, both inheriting from Employee. Add specific attributes to each\n",
    "subclass (e.g., department for Manager and programming_language for Developer).\n",
    "Implement methods to display details for each subclass."
   ]
  },
  {
   "cell_type": "code",
   "execution_count": 10,
   "id": "096e5312",
   "metadata": {},
   "outputs": [
    {
     "name": "stdout",
     "output_type": "stream",
     "text": [
      "Name: Mujtaba, Employee_ID: ID25494894, Department: IT\n",
      "Name: Umer, Employee_ID: ID24626824, Programming_Language: Data Science\n"
     ]
    }
   ],
   "source": [
    "class Employee:\n",
    "    def __init__(self, name, employee_id):\n",
    "        self.name = name \n",
    "        self.employee_id = employee_id\n",
    "\n",
    "    def show_emp_details(self):\n",
    "        print(f\"Name: {self.name}, Employee_ID: {self.employee_id}\")\n",
    "\n",
    "\n",
    "\n",
    "class Manager(Employee):\n",
    "    def __init__(self, name, employee_id, department):\n",
    "        super().__init__(name, employee_id)\n",
    "        self.department = department\n",
    "\n",
    "    def show_manager_details(self):\n",
    "        print(f\"Name: {self.name}, Employee_ID: {self.employee_id}, Department: {self.department}\")\n",
    "\n",
    "\n",
    "class Developer(Employee):\n",
    "    def __init__(self, name, employee_id, programming_language):\n",
    "        super().__init__(name, employee_id)\n",
    "        self.programming_language = programming_language\n",
    "\n",
    "    def show_developer_details(self):\n",
    "        print(f\"Name: {self.name}, Employee_ID: {self.employee_id}, Programming_Language: {self.programming_language}\")\n",
    "\n",
    "\n",
    "\n",
    "mn1 = Manager(\"Mujtaba\", \"ID25494894\", \"IT\")\n",
    "mn1.show_manager_details()\n",
    "\n",
    "dv1 = Developer(\"Umer\", \"ID24626824\", \"Data Science\")\n",
    "dv1.show_developer_details()\n",
    "        "
   ]
  },
  {
   "cell_type": "markdown",
   "id": "260b63f8",
   "metadata": {},
   "source": [
    "\n",
    "\n",
    "**5. Hybrid Inheritance**\n",
    "\n",
    "**Task:**\n",
    "\n",
    "Create a base class Person with attributes name and age. Create two subclasses, Student (with\n",
    "attributes student_id and major) and Employee (with attributes employee_id and\n",
    "department). Then, create another class GraduateStudent that inherits from both Student and\n",
    "Employee. Implement methods to display the attributes of GraduateStudent and resolve\n",
    "potential issues with multiple inheritance."
   ]
  },
  {
   "cell_type": "code",
   "execution_count": null,
   "id": "f1e0582d",
   "metadata": {},
   "outputs": [
    {
     "name": "stdout",
     "output_type": "stream",
     "text": [
      "Name: Umer, Age: 24\n",
      "Student ID: ST123, Major: AI & ML\n",
      "Employee ID: EMP456, Department: Research\n"
     ]
    }
   ],
   "source": [
    "class Person:\n",
    "    def __init__(self, name, age):\n",
    "        self.name = name\n",
    "        self.age = age\n",
    "    \n",
    "    def show_person_details(self):\n",
    "        print(f\"Name: {self.name}, Age: {self.age}\")\n",
    "\n",
    "\n",
    "class Student(Person):\n",
    "    def __init__(self, name, age, student_id, major, **kwargs):\n",
    "        super().__init__(name, age, **kwargs)\n",
    "        self.student_id = student_id\n",
    "        self.major = major\n",
    "    \n",
    "    def show_student_details(self):\n",
    "        print(f\"Student ID: {self.student_id}, Major: {self.major}\")\n",
    "\n",
    "\n",
    "class Employee(Person):\n",
    "    def __init__(self, name, age, employee_id, department, **kwargs):\n",
    "        super().__init__(name, age, **kwargs)\n",
    "        self.employee_id = employee_id\n",
    "        self.department = department\n",
    "    \n",
    "    def show_employee_details(self):\n",
    "        print(f\"Employee ID: {self.employee_id}, Department: {self.department}\")\n",
    "\n",
    "\n",
    "class GraduateStudent(Student, Employee):\n",
    "    def __init__(self, name, age, student_id, major, employee_id, department):\n",
    "        super().__init__(name=name, age=age, \n",
    "                         student_id=student_id, major=major, \n",
    "                         employee_id=employee_id, department=department)\n",
    "    \n",
    "    def show_graduate_details(self):\n",
    "        self.show_person_details()\n",
    "        self.show_student_details()\n",
    "        self.show_employee_details()\n",
    "\n",
    "\n",
    "\n",
    "gs = GraduateStudent(\"Umer\", 24, \"ST123\", \"AI & ML\", \"EMP456\", \"Research\")\n",
    "gs.show_graduate_details()\n"
   ]
  },
  {
   "cell_type": "markdown",
   "id": "f7e86cd4",
   "metadata": {},
   "source": [
    "___"
   ]
  }
 ],
 "metadata": {
  "kernelspec": {
   "display_name": "tf_env",
   "language": "python",
   "name": "python3"
  },
  "language_info": {
   "codemirror_mode": {
    "name": "ipython",
    "version": 3
   },
   "file_extension": ".py",
   "mimetype": "text/x-python",
   "name": "python",
   "nbconvert_exporter": "python",
   "pygments_lexer": "ipython3",
   "version": "3.11.11"
  }
 },
 "nbformat": 4,
 "nbformat_minor": 5
}
