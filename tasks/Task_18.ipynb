{
 "cells": [
  {
   "cell_type": "markdown",
   "id": "1a7948ad",
   "metadata": {},
   "source": [
    "**Name:** Muhammad Umer\n",
    "\n",
    "**Email** umerhayat282@gmail.com\n",
    "\n",
    "**Date** October 07, 2025\n",
    "\n",
    "____"
   ]
  },
  {
   "cell_type": "markdown",
   "id": "fccdb1eb",
   "metadata": {},
   "source": [
    "**Array Creation**\n",
    "\n",
    "- Create a 1D NumPy array with elements ranging from 0 to 9.\n",
    "- Create a 3x3 NumPy array filled with the value 7."
   ]
  },
  {
   "cell_type": "code",
   "execution_count": 2,
   "id": "4761d8a3",
   "metadata": {},
   "outputs": [],
   "source": [
    "import numpy as np"
   ]
  },
  {
   "cell_type": "code",
   "execution_count": 4,
   "id": "65bcfcaa",
   "metadata": {},
   "outputs": [
    {
     "data": {
      "text/plain": [
       "1"
      ]
     },
     "execution_count": 4,
     "metadata": {},
     "output_type": "execute_result"
    }
   ],
   "source": [
    "a = np.arange(10)\n",
    "a.ndim"
   ]
  },
  {
   "cell_type": "code",
   "execution_count": 8,
   "id": "37d16bbc",
   "metadata": {},
   "outputs": [
    {
     "data": {
      "text/plain": [
       "array([[7, 7, 7],\n",
       "       [7, 7, 7],\n",
       "       [7, 7, 7]])"
      ]
     },
     "execution_count": 8,
     "metadata": {},
     "output_type": "execute_result"
    }
   ],
   "source": [
    "ar = np.full((3,3), 7)\n",
    "ar"
   ]
  },
  {
   "cell_type": "markdown",
   "id": "555c209e",
   "metadata": {},
   "source": [
    "**Array Operations**\n",
    "\n",
    "- Create two 2D arrays of shape (3, 3) and perform element-wise addition and\n",
    "multiplication.\n",
    "- Create a 4x4 array of random integers between 10 and 50. Find the maximum and\n",
    "minimum values in the array."
   ]
  },
  {
   "cell_type": "code",
   "execution_count": 16,
   "id": "22714d41",
   "metadata": {},
   "outputs": [
    {
     "name": "stdout",
     "output_type": "stream",
     "text": [
      "[[ 4  4  4]\n",
      " [10 10 10]\n",
      " [16 16 16]]\n",
      "[[ 3  4  3]\n",
      " [24 25 24]\n",
      " [63 64 63]]\n"
     ]
    }
   ],
   "source": [
    "a_1 = np.array([[1,2,3],[4,5,6],[7,8,9]])\n",
    "a_2 = np.array([[3,2,1],[6,5,4],[9,8,7]])\n",
    "\n",
    "ad = a_1 + a_2 \n",
    "print(ad)\n",
    "\n",
    "mul = a_1 * a_2 \n",
    "print(mul)\n"
   ]
  },
  {
   "cell_type": "code",
   "execution_count": 18,
   "id": "8b06e60a",
   "metadata": {},
   "outputs": [],
   "source": [
    "import random"
   ]
  },
  {
   "cell_type": "code",
   "execution_count": 25,
   "id": "c2da0e38",
   "metadata": {},
   "outputs": [
    {
     "name": "stdout",
     "output_type": "stream",
     "text": [
      "[[15 19 18 28]\n",
      " [11 31 15 25]\n",
      " [41 18 32 12]\n",
      " [34 24 41 22]]\n",
      "41\n",
      "11\n"
     ]
    }
   ],
   "source": [
    "arr = np.random.randint(10, 51, size=(4, 4))\n",
    "print(arr)\n",
    "\n",
    "\n",
    "print(arr.max())\n",
    "\n",
    "print(arr.min())"
   ]
  },
  {
   "cell_type": "markdown",
   "id": "7c778635",
   "metadata": {},
   "source": [
    "**Indexing and Slicing**\n",
    "\n",
    "- Create a 5x5 array of sequential numbers starting from 1. Extract the middle 3x3 sub-\n",
    "array.\n",
    "- Given a 2D array of shape (4, 4), set all elements in the first row to 0."
   ]
  },
  {
   "cell_type": "code",
   "execution_count": 28,
   "id": "4d35c10d",
   "metadata": {},
   "outputs": [
    {
     "name": "stdout",
     "output_type": "stream",
     "text": [
      "[[ 1  2  3  4  5]\n",
      " [ 6  7  8  9 10]\n",
      " [11 12 13 14 15]\n",
      " [16 17 18 19 20]\n",
      " [21 22 23 24 25]]\n",
      "[[ 7  8  9]\n",
      " [12 13 14]\n",
      " [17 18 19]]\n"
     ]
    }
   ],
   "source": [
    "arr = np.arange(1,26).reshape(5,5)\n",
    "print(arr)\n",
    "middle_array = arr[1:4,1:4]\n",
    "print(middle_array)\n"
   ]
  },
  {
   "cell_type": "code",
   "execution_count": 32,
   "id": "aedc31d5",
   "metadata": {},
   "outputs": [
    {
     "name": "stdout",
     "output_type": "stream",
     "text": [
      "Original Array:\n",
      " [[4 9 7 6]\n",
      " [9 3 3 4]\n",
      " [4 8 3 9]\n",
      " [1 5 4 6]]\n",
      "Modified Array:\n",
      " [[0 0 0 0]\n",
      " [9 3 3 4]\n",
      " [4 8 3 9]\n",
      " [1 5 4 6]]\n"
     ]
    }
   ],
   "source": [
    "arr = np.random.randint(1,10, size=(4,4))\n",
    "print(f\"Original Array:\\n {arr}\")\n",
    "\n",
    "arr[0,:] = 0\n",
    "\n",
    "print(f\"Modified Array:\\n {arr}\")"
   ]
  },
  {
   "cell_type": "markdown",
   "id": "1e556e4a",
   "metadata": {},
   "source": [
    "**Mathematical Operations**\n",
    "\n",
    "- Compute the mean, median, and standard deviation of a randomly generated array of\n",
    "1000 elements.\n",
    "- Perform a dot product of two 1D arrays of length 4."
   ]
  },
  {
   "cell_type": "code",
   "execution_count": 39,
   "id": "12abb4cf",
   "metadata": {},
   "outputs": [
    {
     "name": "stdout",
     "output_type": "stream",
     "text": [
      "374.0\n",
      "374.0\n",
      "216.21748310439654\n"
     ]
    }
   ],
   "source": [
    "arr = np.arange(np.random.randint(1000))\n",
    "print(arr.mean())\n",
    "print(np.median(arr))\n",
    "print(arr.std()) "
   ]
  },
  {
   "cell_type": "code",
   "execution_count": 49,
   "id": "ad0d3e5d",
   "metadata": {},
   "outputs": [
    {
     "name": "stdout",
     "output_type": "stream",
     "text": [
      "Array 1: [1 2 3 4]\n",
      "Array 2: [5 6 7 8]\n",
      "Dot Product: 70\n"
     ]
    }
   ],
   "source": [
    "arr1 = np.array([1, 2, 3, 4])\n",
    "arr2 = np.array([5, 6, 7, 8])\n",
    "\n",
    "\n",
    "dot_product = np.dot(arr1, arr2)\n",
    "\n",
    "print(\"Array 1:\", arr1)\n",
    "print(\"Array 2:\", arr2)\n",
    "print(\"Dot Product:\", dot_product)"
   ]
  },
  {
   "cell_type": "markdown",
   "id": "f33ae4fc",
   "metadata": {},
   "source": [
    "**Broadcasting**\n",
    "\n",
    "- Create a 5x5 array of zeros and add a 1D array of shape (5,) to each row of the 2D array\n",
    "using broadcasting.\n",
    "- Create a 3x3 array and subtract a scalar value from it."
   ]
  },
  {
   "cell_type": "code",
   "execution_count": 18,
   "id": "d7dfa87e",
   "metadata": {},
   "outputs": [
    {
     "name": "stdout",
     "output_type": "stream",
     "text": [
      "Array one of Zeros:\n",
      " [[0. 0. 0. 0. 0.]\n",
      " [0. 0. 0. 0. 0.]\n",
      " [0. 0. 0. 0. 0.]\n",
      " [0. 0. 0. 0. 0.]\n",
      " [0. 0. 0. 0. 0.]]\n",
      "------------------------------\n",
      "1D array of shape 5:\n",
      " [1 2 3 4 5]\n",
      "------------------------------\n",
      "[[1. 2. 3. 4. 5.]\n",
      " [1. 2. 3. 4. 5.]\n",
      " [1. 2. 3. 4. 5.]\n",
      " [1. 2. 3. 4. 5.]\n",
      " [1. 2. 3. 4. 5.]]\n"
     ]
    }
   ],
   "source": [
    "arr = np.zeros((5,5))\n",
    "arr2 = np.array([1, 2, 3, 4, 5])\n",
    "\n",
    "result = arr + arr2\n",
    "print(f\"Array one of Zeros:\\n {arr}\")\n",
    "print(\"--\"*15)\n",
    "print(f\"1D array of shape 5:\\n {arr2}\")\n",
    "print(\"--\"*15)\n",
    "print(result)\n"
   ]
  },
  {
   "cell_type": "code",
   "execution_count": 24,
   "id": "7997a813",
   "metadata": {},
   "outputs": [
    {
     "name": "stdout",
     "output_type": "stream",
     "text": [
      "3x3 Array of random Value:\n",
      " [[6 7 5]\n",
      " [2 6 4]\n",
      " [1 7 6]]\n",
      "Result after Subtraction:\n",
      " [[ 4  5  3]\n",
      " [ 0  4  2]\n",
      " [-1  5  4]]\n"
     ]
    }
   ],
   "source": [
    "arr = np.random.randint(1,9, size=(3,3))\n",
    "print(f\"3x3 Array of random Value:\\n {arr}\")\n",
    "\n",
    "scaler_value = 2\n",
    "\n",
    "result = arr - scaler_value\n",
    "print(f\"Result after Subtraction:\\n {result}\")"
   ]
  },
  {
   "cell_type": "markdown",
   "id": "fcb049ef",
   "metadata": {},
   "source": [
    "**Aggregations**\n",
    "\n",
    "- Calculate the sum of all elements in a 6x6 array with random values between 1 and 10.\n",
    "- Find the index of the maximum value in a 1D array of 50 random values."
   ]
  },
  {
   "cell_type": "code",
   "execution_count": 30,
   "id": "c11bed44",
   "metadata": {},
   "outputs": [
    {
     "name": "stdout",
     "output_type": "stream",
     "text": [
      "6x6 Array of Random value from 1 to 10:\n",
      " [[8 2 5 3 7 6]\n",
      " [1 6 8 3 7 7]\n",
      " [3 2 3 7 5 6]\n",
      " [3 5 1 2 2 8]\n",
      " [9 5 1 1 7 8]\n",
      " [7 2 8 9 2 9]]\n",
      "Shape:\n",
      " (6, 6)\n",
      "Dimension:\n",
      " 2\n",
      "The sum of an array:\n",
      " [31 22 26 25 30 44]\n"
     ]
    }
   ],
   "source": [
    "arr = np.random.randint(1,10, size=(6,6))\n",
    "print(f\"6x6 Array of Random value from 1 to 10:\\n {arr}\")\n",
    "print(f\"Shape:\\n {arr.shape}\")\n",
    "print(f\"Dimension:\\n {arr.ndim}\")\n",
    "\n",
    "\n",
    "print(f\"The sum of an array:\\n {sum(arr)}\")"
   ]
  },
  {
   "cell_type": "code",
   "execution_count": 37,
   "id": "b7fc7994",
   "metadata": {},
   "outputs": [
    {
     "name": "stdout",
     "output_type": "stream",
     "text": [
      "Random Array: \n",
      "[0.35932294 0.48434832 0.32364167 0.26708742 0.57966331 0.98359675\n",
      " 0.57497292 0.31334428 0.99408765 0.40445058 0.72660265 0.11439685\n",
      " 0.36200973 0.19560402 0.27772473 0.40084852 0.49086683 0.97595054\n",
      " 0.27370268 0.94655475 0.22753455 0.07916287 0.63418861 0.09589776\n",
      " 0.96974552 0.64448457 0.63509868 0.34766884 0.48339645 0.54293256\n",
      " 0.89865173 0.81890441 0.23039131 0.166448   0.71495989 0.60419249\n",
      " 0.89008816 0.35815129 0.42774764 0.74308531 0.62828445 0.04084428\n",
      " 0.49272698 0.25710882 0.52886385 0.20042613 0.49970174 0.29900808\n",
      " 0.40297598 0.01320176]\n",
      "Maximum Index: \n",
      " 8\n"
     ]
    }
   ],
   "source": [
    "arr = np.random.rand(50)\n",
    "print(f\"Random Array: \\n{arr}\")\n",
    "\n",
    "index = np.argmax(arr)\n",
    "print(f\"Maximum Index: \\n {index}\")"
   ]
  },
  {
   "cell_type": "markdown",
   "id": "e61f6657",
   "metadata": {},
   "source": [
    "**Reshaping and Flattening**\n",
    "\n",
    "- Reshape a 1D array of 12 elements into a 3x4 array.\n",
    "- Flatten a 4x4 array into a 1D array."
   ]
  },
  {
   "cell_type": "code",
   "execution_count": 43,
   "id": "86fa8784",
   "metadata": {},
   "outputs": [
    {
     "name": "stdout",
     "output_type": "stream",
     "text": [
      "1D Array of 12 elements: \n",
      " [0.15840722 0.03365622 0.43382316 0.35738577 0.74769281 0.43245408\n",
      " 0.27968043 0.68733469 0.43403947 0.25331816 0.20260076 0.77675945]\n",
      "After Reshaping: \n",
      " [[0.15840722 0.03365622 0.43382316 0.35738577]\n",
      " [0.74769281 0.43245408 0.27968043 0.68733469]\n",
      " [0.43403947 0.25331816 0.20260076 0.77675945]]\n",
      "Shape: \n",
      " (3, 4)\n"
     ]
    }
   ],
   "source": [
    "arr = np.random.rand(12)\n",
    "print(f\"1D Array of 12 elements: \\n {arr}\")\n",
    "arr2 = arr.reshape(3,4)\n",
    "print(f\"After Reshaping: \\n {arr2}\")\n",
    "print(f\"Shape: \\n {arr2.shape}\")"
   ]
  },
  {
   "cell_type": "code",
   "execution_count": 49,
   "id": "f3ac7675",
   "metadata": {},
   "outputs": [
    {
     "name": "stdout",
     "output_type": "stream",
     "text": [
      "4x4 Array: \n",
      " [[11  4  9 11]\n",
      " [12 12  4  2]\n",
      " [17 17 17 19]\n",
      " [11 11 14  5]]\n",
      "Shape of 4x4 Array: \n",
      " (4, 4)\n",
      "Dimension of 4x4 Array: \n",
      " 2\n",
      "------------------------------\n",
      "4x4 Array after flatten: \n",
      " [11  4  9 11 12 12  4  2 17 17 17 19 11 11 14  5]\n",
      "Shape of 4x4 Array after flatten: \n",
      " (16,)\n",
      "Dimension of 4x4 Array after flatten: \n",
      " 1\n"
     ]
    }
   ],
   "source": [
    "arr = np.random.randint(1,20, size=(4,4))\n",
    "print(f\"4x4 Array: \\n {arr}\")\n",
    "print(f\"Shape of 4x4 Array: \\n {arr.shape}\")\n",
    "print(f\"Dimension of 4x4 Array: \\n {arr.ndim}\")\n",
    "print(\"--\"*15)\n",
    "\n",
    "arr2 = arr.flatten()\n",
    "print(f\"4x4 Array after flatten: \\n {arr2}\")\n",
    "print(f\"Shape of 4x4 Array after flatten: \\n {arr2.shape}\")\n",
    "print(f\"Dimension of 4x4 Array after flatten: \\n {arr2.ndim}\")\n"
   ]
  },
  {
   "cell_type": "markdown",
   "id": "182723c0",
   "metadata": {},
   "source": [
    "**Linear Algebra**\n",
    "\n",
    "- Solve a system of linear equations represented by a 2x2 matrix and a 2x1 vector.\n",
    "- Compute the inverse of a 3x3 matrix (if it is invertible)."
   ]
  },
  {
   "cell_type": "code",
   "execution_count": 53,
   "id": "3380704c",
   "metadata": {},
   "outputs": [
    {
     "name": "stdout",
     "output_type": "stream",
     "text": [
      "Shape of Matrix A: \n",
      " (2, 2)\n",
      "Shape of Vector b: \n",
      " (2,)\n",
      "Solution vector x: [2.2 3.6]\n"
     ]
    }
   ],
   "source": [
    "A = np.array([[2, 1],\n",
    "              [1, 3]])\n",
    "\n",
    "b = np.array([8, 13])\n",
    "print(f\"Shape of Matrix A: \\n {A.shape}\")\n",
    "print(f\"Shape of Vector b: \\n {b.shape}\")\n",
    "\n",
    "x = np.linalg.solve(A, b)\n",
    "\n",
    "print(\"Solution vector x:\", x)\n"
   ]
  },
  {
   "cell_type": "code",
   "execution_count": 55,
   "id": "fa5e8e1f",
   "metadata": {},
   "outputs": [
    {
     "name": "stdout",
     "output_type": "stream",
     "text": [
      "Inverse of the Matrix:\n",
      " [[-24.  18.   5.]\n",
      " [ 20. -15.  -4.]\n",
      " [ -5.   4.   1.]]\n"
     ]
    }
   ],
   "source": [
    "M = np.array([[1, 2, 3],\n",
    "              [0, 1, 4],\n",
    "              [5, 6, 0]])\n",
    "\n",
    "deter = np.linalg.det(M)\n",
    "\n",
    "if deter != 0:\n",
    "    print(f\"Inverse of the Matrix:\\n {np.linalg.inv(M)}\")\n",
    "else:\n",
    "    print(f\"Matrix is not invertible (determinant = 0)\")"
   ]
  },
  {
   "cell_type": "markdown",
   "id": "9f7cbf75",
   "metadata": {},
   "source": [
    "\n",
    "**Statistical Analysis**\n",
    "\n",
    "- Create a 100x100 array of random numbers and calculate the correlation coefficient\n",
    "matrix.\n",
    "- Compute the cumulative sum of a 1D array of 20 elements."
   ]
  },
  {
   "cell_type": "code",
   "execution_count": 63,
   "id": "15819023",
   "metadata": {},
   "outputs": [
    {
     "name": "stdout",
     "output_type": "stream",
     "text": [
      "100x100 Array of Random Numbers: \n",
      " [[20 20 16 ...  5 30 39]\n",
      " [42  5 24 ... 22 48 22]\n",
      " [24  9 27 ...  3  8 10]\n",
      " ...\n",
      " [44  5 35 ... 25  9  8]\n",
      " [14  8 12 ... 24 41 16]\n",
      " [ 8 34 48 ... 32  3 43]]\n",
      "----------------------------------------\n",
      "Shape of 100x100 Array of Random Numbers: \n",
      " (100, 100)\n",
      "----------------------------------------\n",
      "Correlation Coeficient: \n",
      " [[20 20 16 ...  5 30 39]\n",
      " [42  5 24 ... 22 48 22]\n",
      " [24  9 27 ...  3  8 10]\n",
      " ...\n",
      " [44  5 35 ... 25  9  8]\n",
      " [14  8 12 ... 24 41 16]\n",
      " [ 8 34 48 ... 32  3 43]]\n"
     ]
    }
   ],
   "source": [
    "arr = np.random.randint(1,50, size=(100,100))\n",
    "print(f\"100x100 Array of Random Numbers: \\n {arr}\")\n",
    "print(\"--\"*20)\n",
    "print(f\"Shape of 100x100 Array of Random Numbers: \\n {arr.shape}\")\n",
    "print(\"--\"*20)\n",
    "\n",
    "corr = np.corrcoef(arr)\n",
    "print(f\"Correlation Coeficient: \\n {arr}\")"
   ]
  },
  {
   "cell_type": "code",
   "execution_count": 68,
   "id": "1db10e24",
   "metadata": {},
   "outputs": [
    {
     "name": "stdout",
     "output_type": "stream",
     "text": [
      "1D Array of 20 Different Element: \n",
      " [ 0  1  2  3  4  5  6  7  8  9 10 11 12 13 14 15 16 17 18 19] \n",
      " Shape:\n",
      " (20,) \n",
      " Dimension: \n",
      " 1\n",
      "Cummulative Sum: \n",
      " [  0   1   3   6  10  15  21  28  36  45  55  66  78  91 105 120 136 153\n",
      " 171 190]\n"
     ]
    }
   ],
   "source": [
    "arr = np.arange(20)\n",
    "print(f\"1D Array of 20 Different Element: \\n {arr} \\n Shape:\\n {arr.shape} \\n Dimension: \\n {arr.ndim}\")\n",
    "\n",
    "arr2 = np.cumsum(arr)\n",
    "print(f\"Cummulative Sum: \\n {arr2}\")"
   ]
  },
  {
   "cell_type": "markdown",
   "id": "35fc0039",
   "metadata": {},
   "source": [
    "**Advanced Indexing**\n",
    "\n",
    "- Create a 4x4 matrix and use boolean indexing to set all elements greater than 5 to -1.\n",
    "- Generate a 2D array of shape (5, 5) and use advanced indexing to extract specific rows\n",
    "and columns based on conditions."
   ]
  },
  {
   "cell_type": "code",
   "execution_count": 70,
   "id": "3dcf1d1c",
   "metadata": {},
   "outputs": [
    {
     "name": "stdout",
     "output_type": "stream",
     "text": [
      "Original array:\n",
      " [[8 1 9 1]\n",
      " [6 9 6 2]\n",
      " [7 4 1 6]\n",
      " [9 4 7 9]]\n",
      "\n",
      "Modified array:\n",
      " [[-1  1 -1  1]\n",
      " [-1 -1 -1  2]\n",
      " [-1  4  1 -1]\n",
      " [-1  4 -1 -1]]\n"
     ]
    }
   ],
   "source": [
    "arr = np.random.randint(1, 10, size=(4, 4))\n",
    "print(\"Original array:\\n\", arr)\n",
    "\n",
    "arr[arr > 5] = -1\n",
    "print(\"\\nModified array:\\n\", arr)\n",
    "\n",
    "\n"
   ]
  },
  {
   "cell_type": "code",
   "execution_count": 72,
   "id": "90ff4387",
   "metadata": {},
   "outputs": [
    {
     "name": "stdout",
     "output_type": "stream",
     "text": [
      "Original 5x5 array:\n",
      " [[ 0  1  2  3  4]\n",
      " [ 5  6  7  8  9]\n",
      " [10 11 12 13 14]\n",
      " [15 16 17 18 19]\n",
      " [20 21 22 23 24]]\n",
      "\n",
      "Rows where first column > 10:\n",
      " [[15 16 17 18 19]\n",
      " [20 21 22 23 24]]\n",
      "\n",
      "Columns 1 and 3:\n",
      " [[ 1  3]\n",
      " [ 6  8]\n",
      " [11 13]\n",
      " [16 18]\n",
      " [21 23]]\n"
     ]
    }
   ],
   "source": [
    "data = np.arange(25).reshape(5, 5)\n",
    "print(\"Original 5x5 array:\\n\", data)\n",
    "\n",
    "\n",
    "# Example: extract rows where the first column > 10\n",
    "rows = data[data[:, 0] > 10]\n",
    "\n",
    "# Example: extract specific columns (say 1 and 3)\n",
    "cols = data[:, [1, 3]]\n",
    "\n",
    "\n",
    "print(\"\\nRows where first column > 10:\\n\", rows)\n",
    "print(\"\\nColumns 1 and 3:\\n\", cols)"
   ]
  },
  {
   "cell_type": "markdown",
   "id": "6908ad5e",
   "metadata": {},
   "source": [
    "___"
   ]
  }
 ],
 "metadata": {
  "kernelspec": {
   "display_name": "tf_env",
   "language": "python",
   "name": "python3"
  },
  "language_info": {
   "codemirror_mode": {
    "name": "ipython",
    "version": 3
   },
   "file_extension": ".py",
   "mimetype": "text/x-python",
   "name": "python",
   "nbconvert_exporter": "python",
   "pygments_lexer": "ipython3",
   "version": "3.11.11"
  }
 },
 "nbformat": 4,
 "nbformat_minor": 5
}
