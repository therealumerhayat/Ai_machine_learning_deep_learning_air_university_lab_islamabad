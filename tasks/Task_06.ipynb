{
 "cells": [
  {
   "cell_type": "markdown",
   "id": "045ffcb0",
   "metadata": {},
   "source": [
    "**Name:** Muhammad Umer\n",
    "\n",
    "**Email** umerhayat282@gmail.com\n",
    "\n",
    "**Date** September 17, 2025\n",
    "\n",
    "\n",
    "\n",
    "____"
   ]
  },
  {
   "cell_type": "markdown",
   "id": "7ba65fc0",
   "metadata": {},
   "source": [
    "##   Functions"
   ]
  },
  {
   "cell_type": "markdown",
   "id": "e171b7f8",
   "metadata": {},
   "source": [
    "**1. Calculate Factorial: Write a function factorial(n) that takes a non-negative integer n and returns its factorial (n!). Return an error message for negative inputs. Example: factorial(5) → 120, factorial(0) → 1, factorial(-3) → \"Factorial not defined for negative numbers\".**"
   ]
  },
  {
   "cell_type": "code",
   "execution_count": 14,
   "id": "a0859ccd",
   "metadata": {},
   "outputs": [
    {
     "name": "stdout",
     "output_type": "stream",
     "text": [
      "120\n",
      "--------------------------------------------------\n",
      "The number is negative we cant calculate factoria\n"
     ]
    }
   ],
   "source": [
    "def factorial(n):\n",
    "    if n < 0:\n",
    "        return \"The number is negative we cant calculate factoria\"\n",
    "    fact = 1\n",
    "    for i in range(1, n+1):\n",
    "        fact *= i \n",
    "    return fact\n",
    "\n",
    "\n",
    "print(factorial(5))\n",
    "print(\"--\"*25)\n",
    "print(factorial(-5))"
   ]
  },
  {
   "cell_type": "markdown",
   "id": "36af269e",
   "metadata": {},
   "source": [
    "**2. Check Prime Number: Write a function is_prime(num) that checks if a number is prime (greater than 1 and divisible only by 1 and itself). Return True if prime, False otherwise. Example: is_prime(7) → True, is_prime(4) → False.**"
   ]
  },
  {
   "cell_type": "code",
   "execution_count": null,
   "id": "73071ea8",
   "metadata": {},
   "outputs": [
    {
     "data": {
      "text/plain": [
       "True"
      ]
     },
     "execution_count": 37,
     "metadata": {},
     "output_type": "execute_result"
    }
   ],
   "source": [
    "def is_prime(num):\n",
    "    if num > 1:\n",
    "        for i in range(2, int(num**0.5) + 1):\n",
    "            if (num % i) == 0:\n",
    "                return False\n",
    "        return True\n",
    "    else:\n",
    "        return False \n",
    "\n",
    "\n",
    "print(is_prime(7))\n"
   ]
  },
  {
   "cell_type": "markdown",
   "id": "d232f637",
   "metadata": {},
   "source": [
    "**3. Reverse a String: Write a function reverse_string(s) that takes a string s and returns the string reversed. Example: reverse_string(\"hello\") → \"olleh\", reverse_string(\"\") →\"\".**"
   ]
  },
  {
   "cell_type": "code",
   "execution_count": 38,
   "id": "46b6dfd9",
   "metadata": {},
   "outputs": [],
   "source": [
    "def revsersed_string(s):\n",
    "    return s[::-1]"
   ]
  },
  {
   "cell_type": "code",
   "execution_count": 40,
   "id": "1238a985",
   "metadata": {},
   "outputs": [
    {
     "data": {
      "text/plain": [
       "'remu'"
      ]
     },
     "execution_count": 40,
     "metadata": {},
     "output_type": "execute_result"
    }
   ],
   "source": [
    "revsersed_string(\"umer\")"
   ]
  },
  {
   "cell_type": "markdown",
   "id": "c9201f8c",
   "metadata": {},
   "source": [
    "**4. Sum of Even Numbers: Write a function sum_even_numbers(numbers) that takes a list of integers and returns the sum of all even numbers in the list. Return 0 for an empty list. Example: sum_even_numbers([1, 2, 3, 4, 5, 6]) → 12, sum_even_numbers([]) → 0.**"
   ]
  },
  {
   "cell_type": "code",
   "execution_count": 50,
   "id": "0a6c0cc4",
   "metadata": {},
   "outputs": [],
   "source": [
    "\n",
    "def sum_even_numbers(a):\n",
    "    return sum(num for num in a if num%2 == 0)"
   ]
  },
  {
   "cell_type": "code",
   "execution_count": 51,
   "id": "c3bc4407",
   "metadata": {},
   "outputs": [
    {
     "data": {
      "text/plain": [
       "114"
      ]
     },
     "execution_count": 51,
     "metadata": {},
     "output_type": "execute_result"
    }
   ],
   "source": [
    "list_of_number = [2,34,76,5,9,2,9]\n",
    "sum_even_numbers(list_of_number)"
   ]
  },
  {
   "cell_type": "markdown",
   "id": "8138455a",
   "metadata": {},
   "source": [
    "**5. Count Vowels: Write a function count_vowels(s) that takes a string s and returns the number of vowels (a, e, i, o, u, case-insensitive) in it. Example: count_vowels(\"Hello World\") → 3, count_vowels(\"rhythm\") → 0.**"
   ]
  },
  {
   "cell_type": "code",
   "execution_count": 74,
   "id": "a4932e29",
   "metadata": {},
   "outputs": [],
   "source": [
    "vowels = (\"a\",\"e\",\"i\",\"o\",\"u\")\n",
    "def count_vowels(a):\n",
    "    counter = 0\n",
    "    for i in a.lower():\n",
    "        if i in vowels:\n",
    "            counter +=1\n",
    "    return counter"
   ]
  },
  {
   "cell_type": "code",
   "execution_count": 75,
   "id": "03947772",
   "metadata": {},
   "outputs": [
    {
     "data": {
      "text/plain": [
       "2"
      ]
     },
     "execution_count": 75,
     "metadata": {},
     "output_type": "execute_result"
    }
   ],
   "source": [
    "a = \"Umer\"\n",
    "count_vowels(a)\n"
   ]
  },
  {
   "cell_type": "markdown",
   "id": "2656dedf",
   "metadata": {},
   "source": [
    "____"
   ]
  }
 ],
 "metadata": {
  "kernelspec": {
   "display_name": "tf_env",
   "language": "python",
   "name": "python3"
  },
  "language_info": {
   "codemirror_mode": {
    "name": "ipython",
    "version": 3
   },
   "file_extension": ".py",
   "mimetype": "text/x-python",
   "name": "python",
   "nbconvert_exporter": "python",
   "pygments_lexer": "ipython3",
   "version": "3.11.11"
  }
 },
 "nbformat": 4,
 "nbformat_minor": 5
}
