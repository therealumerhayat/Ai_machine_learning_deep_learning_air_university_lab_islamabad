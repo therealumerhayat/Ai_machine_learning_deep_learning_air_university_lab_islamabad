{
 "cells": [
  {
   "cell_type": "markdown",
   "id": "90d7ece2",
   "metadata": {},
   "source": [
    "**Name:** Muhammad Umer\n",
    "\n",
    "**Email** umerhayat282@gmail.com\n",
    "\n",
    "**Date** October 06, 2025\n",
    "\n",
    "\n",
    "\n",
    "____"
   ]
  },
  {
   "cell_type": "markdown",
   "id": "33714355",
   "metadata": {},
   "source": [
    "##  Abstract classes and Interfaces"
   ]
  },
  {
   "cell_type": "markdown",
   "id": "56e181a6",
   "metadata": {},
   "source": [
    "**Basic Shape Drawing:**\n",
    "\n",
    "You need to create a program where different shapes (Circle, Square, Triangle) need to\n",
    "be drawn. Each shape should have a method to calculate its area. How would you use an\n",
    "abstract class to define a common method for calculating the area for all shapes?"
   ]
  },
  {
   "cell_type": "code",
   "execution_count": 88,
   "id": "db422316",
   "metadata": {},
   "outputs": [],
   "source": [
    "from abc import ABC, abstractmethod"
   ]
  },
  {
   "cell_type": "code",
   "execution_count": 89,
   "id": "b6c0c4ed",
   "metadata": {},
   "outputs": [],
   "source": [
    "class Shape(ABC):\n",
    "    @abstractmethod\n",
    "    def area(self):\n",
    "        pass\n",
    "\n",
    "\n",
    "class Circle(Shape):\n",
    "    def __init__(self, radius):\n",
    "        self.radius = radius\n",
    "        \n",
    "\n",
    "    def area(self):\n",
    "        return 3.14 * self.radius * self.radius\n",
    "\n",
    "\n",
    "class Square(Shape):\n",
    "    def __init__(self, side):\n",
    "        self.side = side \n",
    "        \n",
    "\n",
    "    def area(self):\n",
    "        return self.side * self.side \n",
    "\n",
    "\n",
    "class Triangle(Shape):\n",
    "    def __init__(self, base, height):\n",
    "        self.base = base \n",
    "        self.height = height \n",
    "\n",
    "\n",
    "    def area(self):\n",
    "        return 0.5 * self.base * self.height\n",
    "    \n"
   ]
  },
  {
   "cell_type": "code",
   "execution_count": 90,
   "id": "b79c9008",
   "metadata": {},
   "outputs": [
    {
     "name": "stdout",
     "output_type": "stream",
     "text": [
      "Circle, Area: 78.5:.2f\n",
      "Square, Area: 64:.2f\n",
      "Triangle, Area: 812.5:.2f\n"
     ]
    }
   ],
   "source": [
    "shapes = [\n",
    "    Circle(5),\n",
    "    Square(8),\n",
    "    Triangle(25,65)\n",
    "]\n",
    "\n",
    "for shape in shapes:\n",
    "    print(f\"{shape.__class__.__name__}, Area: {shape.area()}:.2f\")"
   ]
  },
  {
   "cell_type": "markdown",
   "id": "1e6d212d",
   "metadata": {},
   "source": [
    "**Simple Notification System:**\n",
    "\n",
    "You want to implement a notification system where notifications can be sent via Email or\n",
    "SMS. Each notification type needs a method to send the notification. How would you\n",
    "design an abstract class or interface to define a common send method for all notification\n",
    "types?"
   ]
  },
  {
   "cell_type": "code",
   "execution_count": 91,
   "id": "5e7c2530",
   "metadata": {},
   "outputs": [],
   "source": [
    "class Notification(ABC):\n",
    "    @abstractmethod\n",
    "    def send(self, message):\n",
    "        pass\n",
    "\n",
    "\n",
    "class Email(Notification):\n",
    "    def __init__(self, email_address):\n",
    "        self.email_address = email_address\n",
    "\n",
    "    def send(self, message):\n",
    "        return f\"Sending Email to {self.email_address}: {message}\"\n",
    "\n",
    "\n",
    "class SMS(Notification):\n",
    "    def __init__(self, phone_number):\n",
    "        self.phone_number = phone_number\n",
    "\n",
    "    def send(self, message):\n",
    "        return f\"Sending SMS to {self.phone_number}: {message}\""
   ]
  },
  {
   "cell_type": "code",
   "execution_count": 92,
   "id": "9fd45c82",
   "metadata": {},
   "outputs": [
    {
     "name": "stdout",
     "output_type": "stream",
     "text": [
      "Sending Email to umerhayat282@gmail.com: Your order has been shipped!\n",
      "Sending SMS to +92-360-75118440: Your order has been shipped!\n"
     ]
    }
   ],
   "source": [
    "notifications = [\n",
    "    Email(\"umerhayat282@gmail.com\"),\n",
    "    SMS(\"+92-360-75118440\")\n",
    "]\n",
    "\n",
    "for n in notifications:\n",
    "    print(n.send(\"Your order has been shipped!\"))"
   ]
  },
  {
   "cell_type": "markdown",
   "id": "a655a491",
   "metadata": {},
   "source": [
    "\n",
    "**Vehicle Movement:**\n",
    "\n",
    "Imagine you are designing a system to handle different types of vehicles (Car, Bicycle,\n",
    "Boat). Each vehicle should have a method to start and stop. How would you use an\n",
    "abstract class to define these common methods for all vehicles?"
   ]
  },
  {
   "cell_type": "code",
   "execution_count": 93,
   "id": "0bfb65b1",
   "metadata": {},
   "outputs": [],
   "source": [
    "class Vehicle(ABC):\n",
    "    @abstractmethod\n",
    "    def start(self):\n",
    "        pass\n",
    "\n",
    "    @abstractmethod\n",
    "    def stop(self):\n",
    "        pass\n",
    "\n",
    "\n",
    "class Car(Vehicle):\n",
    "    def start(self):\n",
    "        return \"Car engine started.\"\n",
    "    \n",
    "    def stop(self):\n",
    "        return \"Car engine stopped.\"\n",
    "\n",
    "\n",
    "class Bicycle(Vehicle):\n",
    "    def start(self):\n",
    "        return \"Started pedaling the bicycle.\"\n",
    "    \n",
    "    def stop(self):\n",
    "        return \"Applied brakes on the bicycle.\"\n",
    "\n",
    "\n",
    "class Boat(Vehicle):\n",
    "    def start(self):\n",
    "        return \"Boat is moving on water.\"\n",
    "    \n",
    "    def stop(self):\n",
    "        return \"Boat has anchored.\""
   ]
  },
  {
   "cell_type": "code",
   "execution_count": 94,
   "id": "1d1cc5ec",
   "metadata": {},
   "outputs": [
    {
     "name": "stdout",
     "output_type": "stream",
     "text": [
      "Car, Start: Car engine started.\n",
      "Bicycle, Start: Started pedaling the bicycle.\n",
      "Boat, Start: Boat is moving on water.\n",
      "----------------------------------------\n",
      "Car, Stop: Car engine stopped.\n",
      "Bicycle, Stop: Applied brakes on the bicycle.\n",
      "Boat, Stop: Boat has anchored.\n"
     ]
    }
   ],
   "source": [
    "veh = [\n",
    "    Car(),\n",
    "    Bicycle(),\n",
    "    Boat()\n",
    "]\n",
    "\n",
    "for v in veh:\n",
    "    print(f\"{v.__class__.__name__}, Start: {v.start()}\")\n",
    "\n",
    "print(\"--\"*20)\n",
    "\n",
    "for v in veh:\n",
    "    print(f\"{v.__class__.__name__}, Stop: {v.stop()}\")"
   ]
  },
  {
   "cell_type": "markdown",
   "id": "564d9d5f",
   "metadata": {},
   "source": [
    "**Simple Payment Processor:**\n",
    "\n",
    "You need to handle different payment methods like CreditCard and PayPal. Each\n",
    "payment method should have a method to process the payment. How would you use an\n",
    "abstract class or interface to define a common process_payment method for all payment\n",
    "methods?"
   ]
  },
  {
   "cell_type": "code",
   "execution_count": 95,
   "id": "9ebe9a3f",
   "metadata": {},
   "outputs": [],
   "source": [
    "class Payment(ABC):\n",
    "    @abstractmethod\n",
    "    def process_payment(self, amount):\n",
    "        pass\n",
    "\n",
    "\n",
    "class CreditCard(Payment):\n",
    "    def process_payment(self, amount):\n",
    "        return f\"Payment of ${amount} via Credit Card has been successfully processed.\"\n",
    "\n",
    "\n",
    "class PayPal(Payment):\n",
    "    def process_payment(self, amount):\n",
    "        return f\"Payment of ${amount} via PayPal has been successfully processed.\"\n"
   ]
  },
  {
   "cell_type": "code",
   "execution_count": 96,
   "id": "e9521060",
   "metadata": {},
   "outputs": [
    {
     "name": "stdout",
     "output_type": "stream",
     "text": [
      "Payment of $100 via Credit Card has been successfully processed.\n",
      "Payment of $100 via PayPal has been successfully processed.\n"
     ]
    }
   ],
   "source": [
    "pay = [\n",
    "    CreditCard(),\n",
    "    PayPal()\n",
    "]\n",
    "\n",
    "for p in pay:\n",
    "    print(p.process_payment(100))"
   ]
  },
  {
   "cell_type": "markdown",
   "id": "a424f2a8",
   "metadata": {},
   "source": [
    "**Animal Sounds:**\n",
    "\n",
    "You are creating a program where different animals (Dog, Cat, Cow) need to make a\n",
    "sound. Each animal should have a method to produce its sound. How would you use an\n",
    "abstract class to define a common method for making sounds for all animals?"
   ]
  },
  {
   "cell_type": "code",
   "execution_count": 97,
   "id": "2d91ad56",
   "metadata": {},
   "outputs": [],
   "source": [
    "class Animal(ABC):\n",
    "    @abstractmethod\n",
    "    def sound(self):\n",
    "        pass\n",
    "\n",
    "\n",
    "class Dog(Animal):\n",
    "    def sound(self):\n",
    "        return \"The Dog barks: Waow Waow!\"\n",
    "\n",
    "\n",
    "class Cat(Animal):\n",
    "    def sound(self):\n",
    "        return \"The Cat meows: Meow Meow!\"\n",
    "\n",
    "\n",
    "class Cow(Animal):\n",
    "    def sound(self):\n",
    "        return \"The Cow moos: Mooo!\""
   ]
  },
  {
   "cell_type": "code",
   "execution_count": 98,
   "id": "9c58ffc5",
   "metadata": {},
   "outputs": [
    {
     "name": "stdout",
     "output_type": "stream",
     "text": [
      "The Dog barks: Waow Waow!\n",
      "The Cat meows: Meow Meow!\n",
      "The Cow moos: Mooo!\n"
     ]
    }
   ],
   "source": [
    "ani = [\n",
    "    Dog(),\n",
    "    Cat(),\n",
    "    Cow()\n",
    "]\n",
    "\n",
    "for a in ani:\n",
    "    print(a.sound())"
   ]
  },
  {
   "cell_type": "markdown",
   "id": "912e33da",
   "metadata": {},
   "source": [
    "**Basic User Authentication:**\n",
    "\n",
    "You need a system where users can log in using either a Username/Password or a\n",
    "Biometric system. Each authentication method should have a common way to verify the\n",
    "user. How would you design an abstract class or interface to define a common\n",
    "authenticate method for all authentication methods?"
   ]
  },
  {
   "cell_type": "code",
   "execution_count": 99,
   "id": "b6feb1d6",
   "metadata": {},
   "outputs": [],
   "source": [
    "class Authentication(ABC):\n",
    "    @abstractmethod\n",
    "    def authenticate(self, credentials):\n",
    "        pass\n",
    "\n",
    "\n",
    "class UsernamePassword(Authentication):\n",
    "    def authenticate(self, credentials):\n",
    "        username, password = credentials\n",
    "        return f\"User '{username}' logged in via Username/Password authentication.\"\n",
    "\n",
    "class Biometric(Authentication):\n",
    "    def authenticate(self, credentials):\n",
    "        fingerprint = credentials\n",
    "        return f\"User authenticated via Biometric (Fingerprint ID: {fingerprint}).\""
   ]
  },
  {
   "cell_type": "code",
   "execution_count": 100,
   "id": "876d4050",
   "metadata": {},
   "outputs": [
    {
     "name": "stdout",
     "output_type": "stream",
     "text": [
      "User 'Umer' logged in via Username/Password authentication.\n",
      "User authenticated via Biometric (Fingerprint ID: umer_finger_123).\n"
     ]
    }
   ],
   "source": [
    "auth = [\n",
    "    UsernamePassword(),\n",
    "    Biometric()\n",
    "]\n",
    "\n",
    "print(auth[0].authenticate((\"Umer\", \"12345677\")))\n",
    "print(auth[1].authenticate(\"umer_finger_123\"))"
   ]
  },
  {
   "cell_type": "markdown",
   "id": "f02b2b9c",
   "metadata": {},
   "source": [
    "**Simple Alarm System:**\n",
    "\n",
    "You are designing an alarm system that can be triggered by either a DoorSensor or a\n",
    "MotionSensor. Each sensor needs a method to activate the alarm. How would you use an\n",
    "abstract class to define a common method for activating the alarm for all sensors?"
   ]
  },
  {
   "cell_type": "code",
   "execution_count": 101,
   "id": "8f5956f1",
   "metadata": {},
   "outputs": [],
   "source": [
    "class AlarmSystem(ABC):\n",
    "    @abstractmethod\n",
    "    def activate_alarm(self):\n",
    "        pass\n",
    "\n",
    "\n",
    "class DoorSensor(AlarmSystem):\n",
    "    def activate_alarm(self):\n",
    "        return \"Alarm Activated by Door Sensor!\"\n",
    "\n",
    "\n",
    "class MotionSensor(AlarmSystem):\n",
    "    def activate_alarm(self):\n",
    "        return \"Alarm Activated by Motion Sensor!\""
   ]
  },
  {
   "cell_type": "code",
   "execution_count": 102,
   "id": "7997575a",
   "metadata": {},
   "outputs": [
    {
     "name": "stdout",
     "output_type": "stream",
     "text": [
      "Alarm Activated by Door Sensor!\n",
      "Alarm Activated by Motion Sensor!\n"
     ]
    }
   ],
   "source": [
    "sensors = [DoorSensor(), MotionSensor()]\n",
    "\n",
    "for sensor in sensors:\n",
    "    print(sensor.activate_alarm())"
   ]
  },
  {
   "cell_type": "markdown",
   "id": "57c7766e",
   "metadata": {},
   "source": [
    "\n",
    "**Basic Report Generation:**\n",
    "\n",
    "You need to generate reports in different formats like PDF and CSV. Each report format\n",
    "should have a method to generate the report. How would you use an abstract class or\n",
    "interface to define a common generate_report method for all report formats?"
   ]
  },
  {
   "cell_type": "code",
   "execution_count": 103,
   "id": "964e5e97",
   "metadata": {},
   "outputs": [],
   "source": [
    "class Report(ABC):\n",
    "    @abstractmethod\n",
    "    def generate_report(self, data):\n",
    "        pass\n",
    "\n",
    "\n",
    "class PDFReport(Report):\n",
    "    def generate_report(self, data):\n",
    "        return f\"PDF Report Generated with data: {data}\"\n",
    "\n",
    "\n",
    "class CSVReport(Report):\n",
    "    def generate_report(self, data):\n",
    "        return f\"CSV Report Generated with data: {data}\""
   ]
  },
  {
   "cell_type": "code",
   "execution_count": 104,
   "id": "53807ef1",
   "metadata": {},
   "outputs": [
    {
     "name": "stdout",
     "output_type": "stream",
     "text": [
      "PDF Report Generated with data: Sales Data for Q1\n",
      "CSV Report Generated with data: Sales Data for Q1\n"
     ]
    }
   ],
   "source": [
    "reports = [\n",
    "    PDFReport(),\n",
    "    CSVReport()\n",
    "]\n",
    "\n",
    "for r in reports:\n",
    "    print(r.generate_report(\"Sales Data for Q1\"))"
   ]
  },
  {
   "cell_type": "markdown",
   "id": "c69601bc",
   "metadata": {},
   "source": [
    "**Basic Calculator Operations:**\n",
    "\n",
    "You want to build a calculator that can perform different operations such as Addition and\n",
    "Subtraction. Each operation should have a method to execute the calculation. How would\n",
    "you use an abstract class to define a common method for performing calculations for all\n",
    "operations?"
   ]
  },
  {
   "cell_type": "code",
   "execution_count": 105,
   "id": "b90e5df6",
   "metadata": {},
   "outputs": [],
   "source": [
    "class Calculator(ABC):\n",
    "    @abstractmethod\n",
    "    def calculate(self, a, b):\n",
    "        pass\n",
    "\n",
    "\n",
    "class Addition(Calculator):\n",
    "    def calculate(self, a, b):\n",
    "        return a + b\n",
    "\n",
    "\n",
    "class Subtraction(Calculator):\n",
    "    def calculate(self, a, b):\n",
    "        return a - b\n",
    "    "
   ]
  },
  {
   "cell_type": "code",
   "execution_count": 106,
   "id": "82421cd8",
   "metadata": {},
   "outputs": [
    {
     "name": "stdout",
     "output_type": "stream",
     "text": [
      "Addition: 15\n",
      "Subtraction: 5\n"
     ]
    }
   ],
   "source": [
    "operations = [\n",
    "    Addition(),\n",
    "    Subtraction()\n",
    "]\n",
    "\n",
    "for op in operations:\n",
    "    print(f\"{op.__class__.__name__}: {op.calculate(10, 5)}\")"
   ]
  },
  {
   "cell_type": "markdown",
   "id": "8fc4797a",
   "metadata": {},
   "source": [
    "\n",
    "**Simple Food Preparation:**\n",
    "\n",
    "Imagine you are creating a kitchen system where different food items (Pasta, Salad,\n",
    "Soup) need to be prepared. Each food item should have a method to prepare it. How\n",
    "would you use an abstract class or interface to define a common prepare method for all\n",
    "food items?"
   ]
  },
  {
   "cell_type": "code",
   "execution_count": 107,
   "id": "4711dd86",
   "metadata": {},
   "outputs": [],
   "source": [
    "class Kitchen(ABC):\n",
    "    @abstractmethod\n",
    "    def prepare(self):\n",
    "        pass\n",
    "\n",
    "\n",
    "class Pasta(Kitchen):\n",
    "    def prepare(self):\n",
    "        return \"Pasta has been prepared.\"\n",
    "\n",
    "\n",
    "class Salad(Kitchen):\n",
    "    def prepare(self):\n",
    "        return \"Salad has been prepared.\"\n",
    "\n",
    "\n",
    "class Soup(Kitchen):\n",
    "    def prepare(self):\n",
    "        return \"Soup has been prepared.\"\n"
   ]
  },
  {
   "cell_type": "code",
   "execution_count": 108,
   "id": "e522207e",
   "metadata": {},
   "outputs": [
    {
     "name": "stdout",
     "output_type": "stream",
     "text": [
      "Pasta has been prepared.\n",
      "Salad has been prepared.\n",
      "Soup has been prepared.\n"
     ]
    }
   ],
   "source": [
    "menu = [Pasta(), Salad(), Soup()]\n",
    "\n",
    "for item in menu:\n",
    "    print(item.prepare())"
   ]
  },
  {
   "cell_type": "markdown",
   "id": "c2b4545c",
   "metadata": {},
   "source": [
    "**Animal Movement:**\n",
    "\n",
    "You are designing a zoo simulation where different animals (Elephant, Giraffe, Penguin)\n",
    "need to move. Each animal should have a method to move in its own way. How would\n",
    "you use an abstract class to define a common method for moving for all animals?"
   ]
  },
  {
   "cell_type": "code",
   "execution_count": 109,
   "id": "4b4bff2a",
   "metadata": {},
   "outputs": [],
   "source": [
    "class Animal(ABC):\n",
    "    @abstractmethod\n",
    "    def move(self):\n",
    "        pass\n",
    "\n",
    "\n",
    "class Elephant(Animal):\n",
    "    def move(self):\n",
    "        return \"Elephant walks slowly.\"\n",
    "\n",
    "\n",
    "class Giraffe(Animal):\n",
    "    def move(self):\n",
    "        return \"Giraffe strides gracefully.\"\n",
    "\n",
    "\n",
    "class Penguin(Animal):\n",
    "    def move(self):\n",
    "        return \"Penguin waddles and swims.\""
   ]
  },
  {
   "cell_type": "code",
   "execution_count": 110,
   "id": "09064690",
   "metadata": {},
   "outputs": [
    {
     "name": "stdout",
     "output_type": "stream",
     "text": [
      "Elephant walks slowly.\n",
      "Giraffe strides gracefully.\n",
      "Penguin waddles and swims.\n"
     ]
    }
   ],
   "source": [
    "animals = [Elephant(), Giraffe(), Penguin()]\n",
    "\n",
    "for a in animals:\n",
    "    print(a.move())"
   ]
  },
  {
   "cell_type": "markdown",
   "id": "b3444363",
   "metadata": {},
   "source": [
    "\n",
    "**Simple Light Control:**\n",
    "\n",
    "You need to control different types of lights (LED, Incandescent, Fluorescent). Each light\n",
    "type should have a method to turn on and off. How would you use an abstract class or\n",
    "interface to define a common control method for all light types?"
   ]
  },
  {
   "cell_type": "code",
   "execution_count": 111,
   "id": "fa020776",
   "metadata": {},
   "outputs": [],
   "source": [
    "class Light(ABC):\n",
    "    @abstractmethod\n",
    "    def turn_on(self):\n",
    "        pass\n",
    "\n",
    "    @abstractmethod\n",
    "    def turn_off(self):\n",
    "        pass\n",
    "\n",
    "\n",
    "class LED(Light):\n",
    "    def turn_on(self):\n",
    "        return \"LED Light turned ON.\"\n",
    "    \n",
    "    def turn_off(self):\n",
    "        return \"LED Light turned OFF.\"\n",
    "\n",
    "\n",
    "class Incandescent(Light):\n",
    "    def turn_on(self):\n",
    "        return \"Incandescent Light turned ON.\"\n",
    "    \n",
    "    def turn_off(self):\n",
    "        return \"Incandescent Light turned OFF.\"\n",
    "\n",
    "\n",
    "class Fluorescent(Light):\n",
    "    def turn_on(self):\n",
    "        return \"Fluorescent Light turned ON.\"\n",
    "    \n",
    "    def turn_off(self):\n",
    "        return \"Fluorescent Light turned OFF.\""
   ]
  },
  {
   "cell_type": "code",
   "execution_count": 112,
   "id": "8bcfa5f1",
   "metadata": {},
   "outputs": [
    {
     "name": "stdout",
     "output_type": "stream",
     "text": [
      "LED Light turned ON.\n",
      "LED Light turned OFF.\n",
      "----\n",
      "Incandescent Light turned ON.\n",
      "Incandescent Light turned OFF.\n",
      "----\n",
      "Fluorescent Light turned ON.\n",
      "Fluorescent Light turned OFF.\n",
      "----\n"
     ]
    }
   ],
   "source": [
    "lights = [LED(), Incandescent(), Fluorescent()]\n",
    "\n",
    "for light in lights:\n",
    "    print(light.turn_on())\n",
    "    print(light.turn_off())\n",
    "    print(\"----\")"
   ]
  },
  {
   "cell_type": "markdown",
   "id": "39651ed2",
   "metadata": {},
   "source": [
    "**Basic Payment Receipt:**\n",
    "\n",
    "You are building a payment system that can generate receipts for different payment\n",
    "methods like Cash and CreditCard. Each payment method should have a method to\n",
    "generate a receipt. How would you use an abstract class or interface to define a common\n",
    "generate_receipt method for all payment methods?"
   ]
  },
  {
   "cell_type": "code",
   "execution_count": 113,
   "id": "7b6843cc",
   "metadata": {},
   "outputs": [],
   "source": [
    "class PaymentSystem(ABC):\n",
    "    @abstractmethod\n",
    "    def generate_receipt(self):\n",
    "        pass\n",
    "\n",
    "\n",
    "class Cash(PaymentSystem):\n",
    "    def generate_receipt(self, amount, tax=0):\n",
    "        return f\"Cash receipt generated for ${amount} with {tax}% tax.\"\n",
    "\n",
    "class CreditCard(PaymentSystem):\n",
    "    def generate_receipt(self, amount):\n",
    "        return f\"Credit Card receipt generated for ${amount} (tax free).\"\n",
    "    "
   ]
  },
  {
   "cell_type": "code",
   "execution_count": 114,
   "id": "c46b3f62",
   "metadata": {},
   "outputs": [
    {
     "name": "stdout",
     "output_type": "stream",
     "text": [
      "Cash receipt generated for $100 with 5% tax.\n",
      "Credit Card receipt generated for $200 (tax free).\n"
     ]
    }
   ],
   "source": [
    "payments = [\n",
    "    Cash(),\n",
    "    CreditCard()\n",
    "]\n",
    "\n",
    "print(payments[0].generate_receipt(100, 5))\n",
    "print(payments[1].generate_receipt(200))"
   ]
  },
  {
   "cell_type": "markdown",
   "id": "2be3a8a3",
   "metadata": {},
   "source": [
    "\n",
    "**Simple Task Management:**\n",
    "\n",
    "You are creating a task management system where tasks can be categorized as WorkTask\n",
    "or PersonalTask. Each task type should have a method to mark it as complete. How\n",
    "would you use an abstract class to define a common method for completing tasks?"
   ]
  },
  {
   "cell_type": "code",
   "execution_count": 115,
   "id": "f4265130",
   "metadata": {},
   "outputs": [],
   "source": [
    "class Task(ABC):\n",
    "    @abstractmethod\n",
    "    def complete_task(self):\n",
    "        pass\n",
    "\n",
    "\n",
    "class WorkTask(Task):\n",
    "    def complete_task(self):\n",
    "        return \"Work task has been completed.\"\n",
    "\n",
    "\n",
    "class PersonalTask(Task):\n",
    "    def complete_task(self):\n",
    "        return \"Personal task has been completed.\""
   ]
  },
  {
   "cell_type": "code",
   "execution_count": 116,
   "id": "fffec3b3",
   "metadata": {},
   "outputs": [
    {
     "name": "stdout",
     "output_type": "stream",
     "text": [
      "Work task has been completed.\n",
      "Personal task has been completed.\n"
     ]
    }
   ],
   "source": [
    "tasks = [WorkTask(), PersonalTask()]\n",
    "\n",
    "for t in tasks:\n",
    "    print(t.complete_task())"
   ]
  },
  {
   "cell_type": "markdown",
   "id": "72778f25",
   "metadata": {},
   "source": [
    "**Basic User Profile:**\n",
    "\n",
    "You need to handle user profiles for different types of users (Admin, Guest,\n",
    "RegisteredUser). Each user type should have a method to display their profile\n",
    "information. How would you use an abstract class to define a common method for\n",
    "displaying profile information for all user types?\n"
   ]
  },
  {
   "cell_type": "code",
   "execution_count": 117,
   "id": "1b19d531",
   "metadata": {},
   "outputs": [],
   "source": [
    "class Profile(ABC):\n",
    "    @abstractmethod\n",
    "    def display_profile(self):\n",
    "        pass\n",
    "\n",
    "\n",
    "class Admin(Profile):\n",
    "    def __init__(self, username, permissions):\n",
    "        self.username = username\n",
    "        self.permissions = permissions\n",
    "\n",
    "    def display_profile(self):\n",
    "        return f\"Admin: {self.username}, Permissions: {', '.join(self.permissions)}\"\n",
    "\n",
    "\n",
    "class Guest(Profile):\n",
    "    def __init__(self, visitor_id):\n",
    "        self.visitor_id = visitor_id\n",
    "\n",
    "    def display_profile(self):\n",
    "        return f\"Guest User: Visitor ID {self.visitor_id}\"\n",
    "\n",
    "\n",
    "class RegisteredUser(Profile):\n",
    "    def __init__(self, username, email):\n",
    "        self.username = username\n",
    "        self.email = email\n",
    "\n",
    "    def display_profile(self):\n",
    "        return f\"Registered User: {self.username}, Email: {self.email}\""
   ]
  },
  {
   "cell_type": "code",
   "execution_count": 118,
   "id": "c3abc0c5",
   "metadata": {},
   "outputs": [
    {
     "name": "stdout",
     "output_type": "stream",
     "text": [
      "Admin: admin_01, Permissions: add_user, delete_user, edit_content\n",
      "Guest User: Visitor ID V12345\n",
      "Registered User: umer, Email: umerhayat282@gmail.com\n"
     ]
    }
   ],
   "source": [
    "users = [\n",
    "    Admin(\"admin_01\", [\"add_user\", \"delete_user\", \"edit_content\"]),\n",
    "    Guest(\"V12345\"),\n",
    "    RegisteredUser(\"umer\", \"umerhayat282@gmail.com\")\n",
    "]\n",
    "\n",
    "for user in users:\n",
    "    print(user.display_profile())"
   ]
  },
  {
   "cell_type": "markdown",
   "id": "f295cba6",
   "metadata": {},
   "source": [
    "**Simple Temperature Sensors:**\n",
    "\n",
    "You are working with different temperature sensors (Thermometer, Thermocouple). Each\n",
    "sensor type should have a method to read the current temperature. How would you use an\n",
    "abstract class or interface to define a common read_temperature method for all sensor\n",
    "types?"
   ]
  },
  {
   "cell_type": "code",
   "execution_count": 119,
   "id": "ddc86551",
   "metadata": {},
   "outputs": [],
   "source": [
    "import random"
   ]
  },
  {
   "cell_type": "code",
   "execution_count": 120,
   "id": "10974b39",
   "metadata": {},
   "outputs": [],
   "source": [
    "class Sensor(ABC):\n",
    "    @abstractmethod\n",
    "    def read_temperature(self):\n",
    "        pass\n",
    "\n",
    "\n",
    "class Thermometer(Sensor):\n",
    "    def read_temperature(self):\n",
    "        return f\"Thermometer reading: {round(random.uniform(20.0, 25.0), 2)} °C\"\n",
    "\n",
    "\n",
    "class Thermocouple(Sensor):\n",
    "    def read_temperature(self):\n",
    "        return f\"Thermocouple reading: {round(random.uniform(200.0, 400.0), 2)} °C\""
   ]
  },
  {
   "cell_type": "code",
   "execution_count": 121,
   "id": "9194b7aa",
   "metadata": {},
   "outputs": [
    {
     "name": "stdout",
     "output_type": "stream",
     "text": [
      "Thermometer reading: 24.97 °C\n",
      "Thermocouple reading: 250.78 °C\n"
     ]
    }
   ],
   "source": [
    "sensors = [Thermometer(), Thermocouple()]\n",
    "\n",
    "for sensor in sensors:\n",
    "    print(sensor.read_temperature())"
   ]
  },
  {
   "cell_type": "markdown",
   "id": "8f55fca3",
   "metadata": {},
   "source": [
    "\n",
    "**Basic Calculator Functions:**\n",
    "\n",
    "You want to build a simple calculator that supports different functions like Addition and\n",
    "Multiplication. Each function should have a method to compute the result. How would\n",
    "you use an abstract class to define a common method for computing results for all\n",
    "functions?"
   ]
  },
  {
   "cell_type": "code",
   "execution_count": 122,
   "id": "609224dc",
   "metadata": {},
   "outputs": [],
   "source": [
    "class Calculator(ABC):\n",
    "    @abstractmethod\n",
    "    def calculate(self, a, b):\n",
    "        pass\n",
    "\n",
    "\n",
    "class Addition(Calculator):\n",
    "    def calculate(self, a, b):\n",
    "        return a + b\n",
    "\n",
    "\n",
    "class Multiplication(Calculator):\n",
    "    def calculate(self, a, b):\n",
    "        return a * b"
   ]
  },
  {
   "cell_type": "code",
   "execution_count": 123,
   "id": "7da7950e",
   "metadata": {},
   "outputs": [
    {
     "name": "stdout",
     "output_type": "stream",
     "text": [
      "Addition: Result = 10\n",
      "Multiplication: Result = 24\n"
     ]
    }
   ],
   "source": [
    "calc_operations = [Addition(), Multiplication()]\n",
    "\n",
    "for op in calc_operations:\n",
    "    print(f\"{op.__class__.__name__}: Result = {op.calculate(4, 6)}\")"
   ]
  },
  {
   "cell_type": "markdown",
   "id": "53121f2c",
   "metadata": {},
   "source": [
    "**Simple File Operations:**\n",
    "\n",
    "You are working on a file management system where files can be of different types\n",
    "(TextFile, BinaryFile). Each file type should have methods for opening and closing the\n",
    "file. How would you use an abstract class or interface to define these common methods\n",
    "for all file types?"
   ]
  },
  {
   "cell_type": "code",
   "execution_count": 124,
   "id": "e530ed4f",
   "metadata": {},
   "outputs": [],
   "source": [
    "class File(ABC):\n",
    "    @abstractmethod\n",
    "    def file_open(self):\n",
    "        pass\n",
    "\n",
    "    @abstractmethod\n",
    "    def file_close(self):\n",
    "        pass\n",
    "\n",
    "\n",
    "class TextFile(File):\n",
    "    def __init__(self, filename):\n",
    "        self.filename = filename\n",
    "\n",
    "    def file_open(self):\n",
    "        return f\"Text file '{self.filename}' opened.\"\n",
    "\n",
    "    def file_close(self):\n",
    "        return f\"Text file '{self.filename}' closed.\"\n",
    "\n",
    "\n",
    "class BinaryFile(File):\n",
    "    def __init__(self, filename):\n",
    "        self.filename = filename\n",
    "\n",
    "    def file_open(self):\n",
    "        return f\"Binary file '{self.filename}' opened.\"\n",
    "\n",
    "    def file_close(self):\n",
    "        return f\"Binary file '{self.filename}' closed.\""
   ]
  },
  {
   "cell_type": "code",
   "execution_count": 125,
   "id": "4d261086",
   "metadata": {},
   "outputs": [
    {
     "name": "stdout",
     "output_type": "stream",
     "text": [
      "Text file 'notes.txt' opened.\n",
      "Text file 'notes.txt' closed.\n",
      "----------------------------------------\n",
      "Binary file 'data.bin' opened.\n",
      "Binary file 'data.bin' closed.\n",
      "----------------------------------------\n"
     ]
    }
   ],
   "source": [
    "files = [\n",
    "    TextFile(\"notes.txt\"),\n",
    "    BinaryFile(\"data.bin\")\n",
    "]\n",
    "\n",
    "for f in files:\n",
    "    print(f.file_open())\n",
    "    print(f.file_close())\n",
    "    print(\"--\"*20)"
   ]
  },
  {
   "cell_type": "markdown",
   "id": "53073440",
   "metadata": {},
   "source": [
    "\n",
    "\n",
    "\n",
    "**Basic Vehicle Maintenance:**\n",
    "\n",
    "You need to manage maintenance tasks for different types of vehicles (Car, Motorcycle,\n",
    "Truck). Each vehicle type should have a method to perform a maintenance check. How\n",
    "would you use an abstract class to define a common method for performing maintenance\n",
    "checks for all vehicles?"
   ]
  },
  {
   "cell_type": "code",
   "execution_count": 126,
   "id": "479dbacf",
   "metadata": {},
   "outputs": [],
   "source": [
    "class Vehicle(ABC):\n",
    "    @abstractmethod\n",
    "    def maintenance_check(self):\n",
    "        pass\n",
    "\n",
    "\n",
    "class Car(Vehicle):\n",
    "    def maintenance_check(self):\n",
    "        return \"Car maintenance check completed: Oil, Tires, Brakes inspected.\"\n",
    "\n",
    "class Motorcycle(Vehicle):\n",
    "    def maintenance_check(self):\n",
    "        return \"Motorcycle maintenance check completed: Chain, Tires, Engine inspected.\"\n",
    "\n",
    "class Truck(Vehicle):\n",
    "    def maintenance_check(self):\n",
    "        return \"Truck maintenance check completed: Engine, Tires, Load capacity inspected.\"\n"
   ]
  },
  {
   "cell_type": "code",
   "execution_count": 127,
   "id": "07969146",
   "metadata": {},
   "outputs": [
    {
     "name": "stdout",
     "output_type": "stream",
     "text": [
      "Car maintenance check completed: Oil, Tires, Brakes inspected.\n",
      "Motorcycle maintenance check completed: Chain, Tires, Engine inspected.\n",
      "Truck maintenance check completed: Engine, Tires, Load capacity inspected.\n"
     ]
    }
   ],
   "source": [
    "vehicles = [Car(), Motorcycle(), Truck()]\n",
    "\n",
    "for v in vehicles:\n",
    "    print(v.maintenance_check())"
   ]
  },
  {
   "cell_type": "markdown",
   "id": "dcbcdd72",
   "metadata": {},
   "source": [
    "\n",
    "\n",
    "\n",
    "___\n",
    "\n",
    "\n",
    "\n",
    "\n",
    "\n"
   ]
  },
  {
   "cell_type": "code",
   "execution_count": 128,
   "id": "ef550289",
   "metadata": {},
   "outputs": [
    {
     "name": "stdout",
     "output_type": "stream",
     "text": [
      "Current date and time: 2025-10-04 17:11:38.069178\n"
     ]
    }
   ],
   "source": [
    "from datetime import datetime\n",
    "now = datetime.now()\n",
    "print(\"Current date and time:\", now)\n"
   ]
  }
 ],
 "metadata": {
  "kernelspec": {
   "display_name": "tf_env",
   "language": "python",
   "name": "python3"
  },
  "language_info": {
   "codemirror_mode": {
    "name": "ipython",
    "version": 3
   },
   "file_extension": ".py",
   "mimetype": "text/x-python",
   "name": "python",
   "nbconvert_exporter": "python",
   "pygments_lexer": "ipython3",
   "version": "3.11.11"
  }
 },
 "nbformat": 4,
 "nbformat_minor": 5
}
