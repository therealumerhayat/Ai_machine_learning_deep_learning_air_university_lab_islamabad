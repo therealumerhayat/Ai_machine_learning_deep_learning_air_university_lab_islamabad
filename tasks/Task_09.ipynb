{
 "cells": [
  {
   "cell_type": "markdown",
   "id": "84bb3db6",
   "metadata": {},
   "source": [
    "**Name:** Muhammad Umer\n",
    "\n",
    "**Email** umerhayat282@gmail.com\n",
    "\n",
    "**Date** September 24, 2025\n",
    "\n",
    "\n",
    "\n",
    "____"
   ]
  },
  {
   "cell_type": "markdown",
   "id": "ded9df93",
   "metadata": {},
   "source": [
    "##  SELF VS  CLS"
   ]
  },
  {
   "cell_type": "markdown",
   "id": "c7b32679",
   "metadata": {},
   "source": [
    "**Task 1: Using self for Instance Method**\n",
    "\n",
    "Create a Laptop class with attributes brand and price. Define an instance method\n",
    "display_specs using self that prints the laptop’s brand and price in the format: &quot;Laptop:\n",
    "[brand], Price: $[price]&quot;. Create a Laptop object with brand = &quot;Dell&quot; and price = 800, then\n",
    "call display_specs to display the details."
   ]
  },
  {
   "cell_type": "code",
   "execution_count": 33,
   "id": "b1ee0ba8",
   "metadata": {},
   "outputs": [
    {
     "name": "stdout",
     "output_type": "stream",
     "text": [
      "Laptop: Dell, Price: $800\n"
     ]
    }
   ],
   "source": [
    "class Laptop:\n",
    "    def __init__(self, brand, price):\n",
    "        self.brand = brand\n",
    "        self.price = price\n",
    "\n",
    "    def display_specs(self):\n",
    "        print(f\"Laptop: {self.brand}, Price: ${self.price}\")\n",
    "\n",
    "\n",
    "brand = Laptop(brand=\"Dell\", price=800)\n",
    "brand.display_specs()\n",
    "        "
   ]
  },
  {
   "cell_type": "markdown",
   "id": "fda2be7c",
   "metadata": {},
   "source": [
    "**Task 2: Constructor with self for Initialization**\n",
    "\n",
    "Write a BankAccount class with a constructor that takes account_holder and balance as\n",
    "parameters and initializes them using self. Define an instance method deposit that takes an\n",
    "amount, adds it to the balance using self, and returns the new balance. Create a BankAccount\n",
    "object with account_holder = &quot;Sarah&quot; and balance = 1000, then deposit $200 and print the\n",
    "updated balance."
   ]
  },
  {
   "cell_type": "code",
   "execution_count": 9,
   "id": "b24025c8",
   "metadata": {},
   "outputs": [
    {
     "name": "stdout",
     "output_type": "stream",
     "text": [
      "Initial Balance: $1000\n",
      "Amount to Deposit: $200\n"
     ]
    },
    {
     "data": {
      "text/plain": [
       "'Updated Balance:  $1200'"
      ]
     },
     "execution_count": 9,
     "metadata": {},
     "output_type": "execute_result"
    }
   ],
   "source": [
    "class BankAccount:\n",
    "    def __init__(self, account_holder, balance):\n",
    "        self.account_holder = account_holder\n",
    "        self.balance = balance\n",
    "    \n",
    "    def deposit(self,amount):\n",
    "        print(f\"Initial Balance: ${self.balance}\")\n",
    "        print(f\"Amount to Deposit: ${amount}\")\n",
    "        new_balance = self.balance + amount\n",
    "        return (f\"Updated Balance:  ${new_balance}\")\n",
    "    \n",
    "ba = BankAccount(account_holder=\"Sarah\", balance=1000)\n",
    "ba.deposit(amount=200)\n",
    "        "
   ]
  },
  {
   "cell_type": "markdown",
   "id": "07c8eed9",
   "metadata": {},
   "source": [
    "\n",
    "**Task 3: Using cls in a Class Method**\n",
    "\n",
    "Create a Product class with instance attributes name and price. Add a class variable\n",
    "total_products initialized to 0. Define a class method get_total_products using cls that returns\n",
    "the value of total_products. Increment total_products in the constructor using cls. Create three\n",
    "Product objects (e.g., name = &quot;Mouse&quot;, price = 25, name = &quot;Keyboard&quot;, price = 45, name =\n",
    "&quot;Monitor&quot;, price = 200), then call get_total_products to print the total number of products\n",
    "created.\n"
   ]
  },
  {
   "cell_type": "code",
   "execution_count": 10,
   "id": "3ef5a5ed",
   "metadata": {},
   "outputs": [
    {
     "name": "stdout",
     "output_type": "stream",
     "text": [
      "Total Products: 3\n"
     ]
    }
   ],
   "source": [
    "class Product:\n",
    "    total_products = 0\n",
    "    def __init__(self, name, price):\n",
    "        self.name = name\n",
    "        self.price = price\n",
    "        Product.total_products += 1\n",
    "\n",
    "    @classmethod\n",
    "    def get_total_product(cls):\n",
    "        return cls.total_products\n",
    "    \n",
    "p1 = Product(name=\"Mouse\", price=25)\n",
    "p2 = Product(name=\"keyboard\", price=45)\n",
    "p3 = Product(name=\"Monitor\", price=200)\n",
    "\n",
    "print(f\"Total Products: {Product.get_total_product()}\")\n",
    "        "
   ]
  },
  {
   "cell_type": "markdown",
   "id": "8e2a374f",
   "metadata": {},
   "source": [
    "**Task 4: Combining self and cls in a Class**\n",
    "\n",
    "Write a Library class with instance attributes book_title and copies (number of copies\n",
    "available). Define a class variable total_books initialized to 0 to track the total number of\n",
    "book copies across all instances. Use a class method add_book_copies with cls to increment\n",
    "total_books when a new book is added (in the constructor). Define an instance method\n",
    "borrow_book using self that decreases copies by 1 if available and returns a message like\n",
    "&quot;Book borrowed!&quot; or &quot;No copies available!&quot;. Create two Library objects with book_title =\n",
    "&quot;1984&quot;, copies = 3 and book_title = &quot;Brave New World&quot;, copies = 2. Borrow one copy of\n",
    "each book and print the remaining copies for each, then print the total number of book copies\n",
    "using the class method."
   ]
  },
  {
   "cell_type": "code",
   "execution_count": null,
   "id": "0a0d38bb",
   "metadata": {},
   "outputs": [
    {
     "name": "stdout",
     "output_type": "stream",
     "text": [
      "Book borrowed from '1984'!\n",
      "Book borrowed from 'Brave New World'!\n",
      "Remaining copies of '1984': 2\n",
      "Remaining copies of 'Brave New World': 1\n",
      "Total book copies in library: 3\n"
     ]
    }
   ],
   "source": [
    "class Library:\n",
    "    total_books = 0\n",
    "    def __init__(self, book_title, copies):\n",
    "        self.book_title = book_title\n",
    "        self.copies = copies\n",
    "        self.add_book_copies(copies)\n",
    "\n",
    "    @classmethod\n",
    "    def add_book_copies(cls, new_copies):\n",
    "        cls.total_books += new_copies\n",
    "    \n",
    "    def borrow_book(self):\n",
    "        if self.copies > 0:\n",
    "            self.copies -= 1\n",
    "            Library.total_books -= 1\n",
    "            return f\"Book borrowed from '{self.book_title}'!\"\n",
    "        else:\n",
    "            return f\"No copies available for '{self.book_title}'!\"\n",
    "    @classmethod\n",
    "    def get_total_books(cls):\n",
    "        return cls.total_books\n",
    "\n",
    "\n",
    "\n",
    "# Create two books\n",
    "l1 = Library(\"1984\", 3)\n",
    "l2 = Library(\"Brave New World\", 2)\n",
    "\n",
    "# Borrow one copy from each\n",
    "print(l1.borrow_book())\n",
    "print(l2.borrow_book())\n",
    "\n",
    "# Print remaining copies\n",
    "print(f\"Remaining copies of '{l1.book_title}': {l1.copies}\")\n",
    "print(f\"Remaining copies of '{l2.book_title}': {l2.copies}\")\n",
    "\n",
    "# Print total number of book copies\n",
    "print(f\"Total book copies in library: {Library.get_total_books()}\")\n",
    "\n",
    "\n",
    "    \n",
    "        "
   ]
  },
  {
   "cell_type": "markdown",
   "id": "bdbfa003",
   "metadata": {},
   "source": [
    "**Task 5: Instance and Class Methods with self and cls**\n",
    "\n",
    "Create a Employee class with instance attributes name and salary. Define a class variable\n",
    "company_name set to &quot;TechCorp&quot;. Define an instance method get_employee_info using self\n",
    "to return a string in the format: &quot;[name] works at [company_name] with salary $[salary]&quot;.\n",
    "Define a class method update_company_name using cls to change the company_name for all\n",
    "instances. Create two Employee objects with name = &quot;Mike&quot;, salary = 50000 and name =\n",
    "&quot;Lisa&quot;, salary = 60000. Print their info, then use the class method to change company_name\n",
    "to &quot;InnovateTech&quot; and print their info again to reflect the change."
   ]
  },
  {
   "cell_type": "code",
   "execution_count": 20,
   "id": "93dd8319",
   "metadata": {},
   "outputs": [
    {
     "name": "stdout",
     "output_type": "stream",
     "text": [
      "Mike works at TechCorp with salary $50000\n",
      "Lisa works at TechCorp with salary $60000\n",
      "Mike works at InnovateTech with salary $50000\n",
      "Lisa works at InnovateTech with salary $60000\n"
     ]
    }
   ],
   "source": [
    "class Employee:\n",
    "    company_name = \"TechCorp\"\n",
    "    def __init__(self, name, salary):\n",
    "        self.name = name\n",
    "        self.salary = salary\n",
    "    \n",
    "    def get_employee_info(self):\n",
    "        return f\"{self.name} works at {Employee.company_name} with salary ${self.salary}\"\n",
    "    \n",
    "    @classmethod\n",
    "    def update_company_name(cls, new_name):\n",
    "        cls.company_name = new_name\n",
    "\n",
    "\n",
    "# Create two employees\n",
    "e1 = Employee(\"Mike\", 50000)\n",
    "e2 = Employee(\"Lisa\", 60000)\n",
    "\n",
    "# Print initial info\n",
    "print(e1.get_employee_info())\n",
    "print(e2.get_employee_info())\n",
    "\n",
    "# Update company name using class method\n",
    "Employee.update_company_name(\"InnovateTech\")\n",
    "\n",
    "# Print updated info\n",
    "print(e1.get_employee_info())\n",
    "print(e2.get_employee_info())\n",
    "        "
   ]
  },
  {
   "cell_type": "markdown",
   "id": "8476eaff",
   "metadata": {},
   "source": [
    "**Task 6: Instance Method with self for State Modification**\n",
    "\n",
    "Create a Thermostat class with instance attributes temperature and is_on. Define a\n",
    "constructor that initializes temperature and sets is_on to False. Define an instance method\n",
    "toggle_on_off using self that toggles the is_on state (True to False or vice versa) and prints\n",
    "&quot;Thermostat is ON&quot; or &quot;Thermostat is OFF&quot;. Define another instance method set_temperature\n",
    "using self that updates the temperature only if the thermostat is on, returning a message like\n",
    "&quot;Temperature set to X&quot; or &quot;Thermostat is OFF, cannot set temperature&quot;. Create a Thermostat\n",
    "object with temperature = 20, toggle it on, set the temperature to 25, and print the results."
   ]
  },
  {
   "cell_type": "code",
   "execution_count": 22,
   "id": "382e6ade",
   "metadata": {},
   "outputs": [
    {
     "name": "stdout",
     "output_type": "stream",
     "text": [
      "Thermostat is ON\n",
      "Temperature set to 25\n"
     ]
    }
   ],
   "source": [
    "class Thermostat:\n",
    "    def __init__(self, temperature):\n",
    "        self.temperature = temperature  \n",
    "        self.is_on = False              \n",
    "\n",
    "    def toggle_on_off(self):\n",
    "        self.is_on = not self.is_on  \n",
    "        if self.is_on:\n",
    "            print(\"Thermostat is ON\")\n",
    "        else:\n",
    "            print(\"Thermostat is OFF\")\n",
    "\n",
    "    def set_temperature(self, new_temp):\n",
    "        if self.is_on:\n",
    "            self.temperature = new_temp\n",
    "            return f\"Temperature set to {self.temperature}\"\n",
    "        else:\n",
    "            return \"Thermostat is OFF, cannot set temperature\"\n",
    "\n",
    "\n",
    "\n",
    "        \n",
    "# Create thermostat object with initial temperature\n",
    "t1 = Thermostat(temperature=20)\n",
    "\n",
    "# Toggle it ON\n",
    "t1.toggle_on_off()\n",
    "\n",
    "# Set temperature to 25\n",
    "result = t1.set_temperature(25)\n",
    "print(result)"
   ]
  },
  {
   "cell_type": "markdown",
   "id": "cfd255e1",
   "metadata": {},
   "source": [
    "**Task 7: Class Method with cls for Shared Resource Tracking**\n",
    "\n",
    "Write a CarRental class with instance attributes car_id and is_rented. Define a class variable\n",
    "available_cars initialized to 0. In the constructor, increment available_cars using cls when a\n",
    "new car is created with is_rented = False. Define a class method get_available_cars using cls\n",
    "to return the current value of available_cars. Define an instance method rent_car using self\n",
    "that sets is_rented to True and decrements available_cars if the car is not already rented,\n",
    "returning &quot;Car rented!&quot; or &quot;Car already rented!&quot;. Create three CarRental objects with car_id =\n",
    "&quot;C1&quot;, C2, C3 (all initially not rented). Rent &quot;C1&quot; and &quot;C2&quot;, then print the number of available\n",
    "cars using the class method."
   ]
  },
  {
   "cell_type": "code",
   "execution_count": 27,
   "id": "b4dd49d9",
   "metadata": {},
   "outputs": [
    {
     "name": "stdout",
     "output_type": "stream",
     "text": [
      "Car Rented!\n",
      "Car Rented!\n",
      "Available cars: 1\n"
     ]
    }
   ],
   "source": [
    "class CarRental:\n",
    "    available_cars = 0\n",
    "    def __init__(self, car_id, is_rented=False):\n",
    "        self.car_id = car_id\n",
    "        self.is_rented = is_rented\n",
    "\n",
    "        if not self.is_rented:\n",
    "            CarRental.available_cars += 1\n",
    "        \n",
    "\n",
    "    @classmethod\n",
    "    def get_available_cars(cls):\n",
    "        return cls.available_cars\n",
    "    \n",
    "    def rent_car(self):\n",
    "        if not self.is_rented:\n",
    "            self.is_rented = True\n",
    "            CarRental.available_cars -= 1\n",
    "            return \"Car Rented!\"\n",
    "        else:\n",
    "            return \"Car already rented!\"\n",
    "\n",
    "# Create three cars (all not rented)\n",
    "car1 = CarRental(\"C1\")\n",
    "car2 = CarRental(\"C2\")\n",
    "car3 = CarRental(\"C3\")\n",
    "\n",
    "# Rent C1 and C2\n",
    "print(car1.rent_car())  \n",
    "print(car2.rent_car())  \n",
    "\n",
    "# Check available cars\n",
    "print(f\"Available cars: {CarRental.get_available_cars()}\") \n",
    "\n",
    "\n",
    "    \n",
    "        "
   ]
  },
  {
   "cell_type": "markdown",
   "id": "dd1799e4",
   "metadata": {},
   "source": [
    "**Task 8: Using self for Chained Method Calls**\n",
    "\n",
    "Create a ShoppingCart class with instance attributes items (a dictionary of item names and\n",
    "quantities) and total_price. Define a constructor that initializes items as an empty dictionary\n",
    "and total_price as 0. Define an instance method add_item using self that takes an item name,\n",
    "quantity, and price per unit, adds the item to items, updates total_price, and returns self for\n",
    "method chaining. Define another instance method display_cart using self to print all items\n",
    "and the total price. Create a ShoppingCart object, chain calls to add two items (e.g., &quot;Apple&quot;,\n",
    "quantity=3, price=2 and &quot;Banana&quot;, quantity=2, price=3), then call display_cart to show the\n",
    "cart contents and total price."
   ]
  },
  {
   "cell_type": "code",
   "execution_count": 28,
   "id": "33a9579a",
   "metadata": {},
   "outputs": [
    {
     "name": "stdout",
     "output_type": "stream",
     "text": [
      "All Items in Cart:\n",
      "- Apple: 3\n",
      "- Banana: 2\n",
      "Total Price: $12\n"
     ]
    }
   ],
   "source": [
    "class ShoppingCart:\n",
    "    def __init__(self):\n",
    "        self.items = {}          \n",
    "        self.total_price = 0      \n",
    "\n",
    "    def add_item(self, item_name, quantity, price_per_unit):\n",
    "\n",
    "        if item_name in self.items:\n",
    "            self.items[item_name] += quantity\n",
    "        else:\n",
    "            self.items[item_name] = quantity\n",
    "\n",
    "        self.total_price += quantity * price_per_unit\n",
    "\n",
    "        return self  # for method chaining\n",
    "\n",
    "    def display_cart(self):\n",
    "        print(\"All Items in Cart:\")\n",
    "        for item, qty in self.items.items():\n",
    "            print(f\"- {item}: {qty}\")\n",
    "        print(f\"Total Price: ${self.total_price}\")\n",
    "\n",
    "\n",
    "cart = ShoppingCart()\n",
    "cart.add_item(\"Apple\", 3, 2).add_item(\"Banana\", 2, 3)\n",
    "cart.display_cart()"
   ]
  },
  {
   "cell_type": "markdown",
   "id": "1c5c3ae8",
   "metadata": {},
   "source": [
    "\n",
    "**Task 9: Combining self and cls for Inventory Management**\n",
    "\n",
    "Write an Inventory class with instance attributes product_name and quantity. Define a class\n",
    "variable total_inventory_value initialized to 0. In the constructor, take product_name,\n",
    "quantity, and unit_price, and update total_inventory_value using cls by adding quantity *\n",
    "unit_price. Define a class method get_total_value using cls to return total_inventory_value.\n",
    "Define an instance method sell_product using self that reduces quantity by a given amount (if\n",
    "sufficient stock exists) and updates total_inventory_value using cls. Create two Inventory\n",
    "objects with product_name = &quot;Laptop&quot;, quantity = 10, unit_price = 1000 and product_name =\n",
    "&quot;Phone&quot;, quantity = 20, unit_price = 500. Sell 5 laptops and 10 phones, then print the\n",
    "remaining quantities for each and the total inventory value using the class method."
   ]
  },
  {
   "cell_type": "code",
   "execution_count": 29,
   "id": "a591c1b3",
   "metadata": {},
   "outputs": [
    {
     "name": "stdout",
     "output_type": "stream",
     "text": [
      "Sold 5 units of Laptop\n",
      "Sold 10 units of Phone\n",
      "Remaining Laptops: 5\n",
      "Remaining Phones: 10\n",
      "Total Inventory Value: $10000\n"
     ]
    }
   ],
   "source": [
    "class Inventory:\n",
    "    total_inventory_value = 0\n",
    "    def __init__(self, product_name, quantity, unit_price):\n",
    "        self.product_name = product_name\n",
    "        self.quantity = quantity\n",
    "        self.unit_price = unit_price\n",
    "\n",
    "        Inventory.total_inventory_value += quantity * unit_price\n",
    "\n",
    "    @classmethod\n",
    "    def get_total_value(cls):\n",
    "        return cls.total_inventory_value\n",
    "    \n",
    "    def sell_product(self, amount):\n",
    "        if self.quantity >= amount:\n",
    "            self.quantity -= amount\n",
    "            Inventory.total_inventory_value -= amount * self.unit_price\n",
    "            return f\"Sold {amount} units of {self.product_name}\"\n",
    "        else:\n",
    "            return f\"Not enough stock to sell {amount} units of {self.product_name}\"\n",
    "\n",
    "\n",
    "# Create inventory objects\n",
    "laptop = Inventory(\"Laptop\", 10, 1000)\n",
    "phone = Inventory(\"Phone\", 20, 500)\n",
    "\n",
    "# Sell products\n",
    "print(laptop.sell_product(5))  # Sell 5 laptops\n",
    "print(phone.sell_product(10))  # Sell 10 phones\n",
    "\n",
    "# Print remaining quantities\n",
    "print(f\"Remaining Laptops: {laptop.quantity}\")\n",
    "print(f\"Remaining Phones: {phone.quantity}\")\n",
    "\n",
    "# Print total inventory value\n",
    "print(f\"Total Inventory Value: ${Inventory.get_total_value()}\")\n"
   ]
  },
  {
   "cell_type": "markdown",
   "id": "34d40775",
   "metadata": {},
   "source": [
    "**Task 10: Advanced Use of self and cls with Validation**\n",
    "\n",
    "Create a User class with instance attributes username and email. Define a class variable\n",
    "registered_users as a list to store all usernames. In the constructor, take username and email,\n",
    "validate that the email contains &quot;@&quot; using self, and append the username to registered_users\n",
    "using cls. If the email is invalid, raise a ValueError. Define an instance method update_email\n",
    "using self that updates the email after validating it. Define a class method get_user_count\n",
    "using cls to return the number of registered users. Create two User objects with username =\n",
    "&quot;Alice&quot;, email = &quot;alice@example.com&quot; and username = &quot;Bob&quot;, email =\n",
    "&quot;bob@example.com&quot;. Update Bob’s email to &quot;bob.new@example.com&quot;, then print the user\n",
    "count using the class method and each user’s details."
   ]
  },
  {
   "cell_type": "code",
   "execution_count": null,
   "id": "eaf09eec",
   "metadata": {},
   "outputs": [
    {
     "name": "stdout",
     "output_type": "stream",
     "text": [
      "Alice → alice@example.com\n",
      "Bob → bob.new@example.com\n"
     ]
    }
   ],
   "source": [
    "class User:\n",
    "    registered_users = []  \n",
    "\n",
    "    def __init__(self, username, email):\n",
    "        self.username = username\n",
    "        self.email = email\n",
    "\n",
    "        if \"@\" in self.email:\n",
    "            User.registered_users.append(self.username) \n",
    "        else:\n",
    "            raise ValueError(f\"Invalid email for user '{self.username}'\")\n",
    "\n",
    "    def update_email(self, new_email):\n",
    "        if \"@\" in new_email:\n",
    "            self.email = new_email\n",
    "        else:\n",
    "            raise ValueError(f\"Invalid email update for user '{self.username}'\")\n",
    "\n",
    "    @classmethod\n",
    "    def get_user_count(cls):\n",
    "        return len(cls.registered_users)\n",
    "    \n",
    "\n",
    "# Create two users\n",
    "alice = User(\"Alice\", \"alice@example.com\")\n",
    "bob = User(\"Bob\", \"bob@example.com\")\n",
    "\n",
    "\n",
    "# Update Bob's email\n",
    "bob.update_email(\"bob.new@example.com\")\n",
    "\n",
    "\n",
    "# Print user details\n",
    "print(f\"{alice.username} → {alice.email}\")\n",
    "print(f\"{bob.username} → {bob.email}\")\n",
    "\n"
   ]
  },
  {
   "cell_type": "markdown",
   "id": "709eb4df",
   "metadata": {},
   "source": [
    "___________"
   ]
  }
 ],
 "metadata": {
  "kernelspec": {
   "display_name": "tf_env",
   "language": "python",
   "name": "python3"
  },
  "language_info": {
   "codemirror_mode": {
    "name": "ipython",
    "version": 3
   },
   "file_extension": ".py",
   "mimetype": "text/x-python",
   "name": "python",
   "nbconvert_exporter": "python",
   "pygments_lexer": "ipython3",
   "version": "3.11.11"
  }
 },
 "nbformat": 4,
 "nbformat_minor": 5
}
