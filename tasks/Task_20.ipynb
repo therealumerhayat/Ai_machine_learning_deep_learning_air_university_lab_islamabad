{
 "cells": [
  {
   "cell_type": "markdown",
   "id": "fc3e63de",
   "metadata": {},
   "source": [
    "**Name:** Muhammad Umer\n",
    "\n",
    "**Email** umerhayat282@gmail.com\n",
    "\n",
    "**Date** October 09, 2025\n",
    "\n",
    "____"
   ]
  },
  {
   "cell_type": "markdown",
   "id": "9a957cb3",
   "metadata": {},
   "source": [
    "##   NumPy Tasks:"
   ]
  },
  {
   "cell_type": "markdown",
   "id": "d0c458fc",
   "metadata": {},
   "source": [
    "\n",
    "**1. Create a NumPy Array:** Create a 2D NumPy array with the shape (3, 4), filled with\n",
    "random integers between 1 and 100."
   ]
  },
  {
   "cell_type": "code",
   "execution_count": 58,
   "id": "1082b6d0",
   "metadata": {},
   "outputs": [],
   "source": [
    "import numpy as np\n",
    "\n"
   ]
  },
  {
   "cell_type": "code",
   "execution_count": 59,
   "id": "022df1a2",
   "metadata": {},
   "outputs": [
    {
     "name": "stdout",
     "output_type": "stream",
     "text": [
      "[[93 99 45 71]\n",
      " [58  6 69 71]\n",
      " [11  2 57 72]]\n"
     ]
    },
    {
     "data": {
      "text/plain": [
       "(3, 4)"
      ]
     },
     "execution_count": 59,
     "metadata": {},
     "output_type": "execute_result"
    }
   ],
   "source": [
    "array = np.random.randint(1,100, size=(3,4))\n",
    "print(array)\n",
    "array.shape"
   ]
  },
  {
   "cell_type": "markdown",
   "id": "d1d889ca",
   "metadata": {},
   "source": [
    "**2. Array Operations:** Perform element-wise addition and subtraction between two\n",
    "NumPy arrays of shape (3, 4), where the first array contains even numbers and the\n",
    "second contains odd numbers."
   ]
  },
  {
   "cell_type": "code",
   "execution_count": 60,
   "id": "bf0db125",
   "metadata": {},
   "outputs": [
    {
     "name": "stdout",
     "output_type": "stream",
     "text": [
      "[[42 16 82 56]\n",
      " [94 62 80 56]\n",
      " [96 14 46 16]]\n",
      "--------------------\n",
      "[[67 51 21 75]\n",
      " [ 1 95 15  7]\n",
      " [83 51 73 45]]\n",
      "====================\n",
      "[[109  67 103 131]\n",
      " [ 95 157  95  63]\n",
      " [179  65 119  61]]\n",
      "--------------------\n",
      "[[ 25  35 -61  19]\n",
      " [-93  33 -65 -49]\n",
      " [-13  37  27  29]]\n"
     ]
    }
   ],
   "source": [
    "array1 = np.random.choice(np.arange(0,100,2), size=(3,4))\n",
    "array2 = np.random.choice(np.arange(1,100,2), size=(3,4))\n",
    "print(array1)\n",
    "print(\"--\"*10)\n",
    "print(array2)\n",
    "addition = array1 + array2\n",
    "subtraction = array2 - array1\n",
    "print(\"==\"*10)\n",
    "print(addition)\n",
    "print(\"--\"*10)\n",
    "print(subtraction)"
   ]
  },
  {
   "cell_type": "markdown",
   "id": "8a3ef786",
   "metadata": {},
   "source": [
    "\n",
    "**3. Find Maximum and Minimum:** Find the maximum and minimum values in a 1D\n",
    "NumPy array of 20 random integers between 1 and 50."
   ]
  },
  {
   "cell_type": "code",
   "execution_count": 61,
   "id": "28c15b21",
   "metadata": {},
   "outputs": [
    {
     "name": "stdout",
     "output_type": "stream",
     "text": [
      "Array: \n",
      " [25  6 31  4 17 49  8 35 11 27 15 22 20  2 11 42  7  5 12 26]\n",
      "Dimensions: 1\n",
      "Maximum Value: 49\n",
      "Minimum Value: 2\n"
     ]
    }
   ],
   "source": [
    "array = np.random.randint(1,50, size=(20))\n",
    "print(f\"Array: \\n {array}\")\n",
    "print(f\"Dimensions: {array.ndim}\")\n",
    "print(f\"Maximum Value: {array.max()}\")\n",
    "print(f\"Minimum Value: {array.min()}\")\n",
    "\n"
   ]
  },
  {
   "cell_type": "markdown",
   "id": "2bae20d3",
   "metadata": {},
   "source": [
    "**4. Matrix Multiplication:** Create two 3x3 NumPy arrays and multiply them using the\n",
    "dot product."
   ]
  },
  {
   "cell_type": "code",
   "execution_count": 62,
   "id": "af5d6ab5",
   "metadata": {},
   "outputs": [
    {
     "name": "stdout",
     "output_type": "stream",
     "text": [
      "[[2 9 1]\n",
      " [9 4 8]\n",
      " [4 1 4]]\n",
      "--------------------\n",
      "[[3 3 6]\n",
      " [9 7 5]\n",
      " [2 7 8]]\n",
      "--------------------\n",
      "[[ 89  76  65]\n",
      " [ 79 111 138]\n",
      " [ 29  47  61]]\n"
     ]
    }
   ],
   "source": [
    "array1 = np.random.randint(1,10, size=(3,3))\n",
    "array2 = np.random.randint(1,10, size=(3,3))\n",
    "print(array1)\n",
    "print(\"--\"*10)\n",
    "print(array2)\n",
    "print(\"--\"*10)\n",
    "dot_product = np.dot(array1, array2)\n",
    "print(dot_product)"
   ]
  },
  {
   "cell_type": "markdown",
   "id": "1e55e419",
   "metadata": {},
   "source": [
    "\n",
    "**5. Transpose of a Matrix:** Create a 3x3 matrix and compute its transpose using NumPy."
   ]
  },
  {
   "cell_type": "code",
   "execution_count": 63,
   "id": "ccf4b20f",
   "metadata": {},
   "outputs": [
    {
     "name": "stdout",
     "output_type": "stream",
     "text": [
      "[[2 4 6]\n",
      " [4 6 3]\n",
      " [8 3 1]]\n",
      "--------------------\n",
      "[[2 4 8]\n",
      " [4 6 3]\n",
      " [6 3 1]]\n"
     ]
    }
   ],
   "source": [
    "matrix = np.random.randint(1,10, size=(3,3))\n",
    "print(matrix)\n",
    "transpose = np.transpose(matrix)\n",
    "print(\"--\"*10)\n",
    "print(transpose)"
   ]
  },
  {
   "cell_type": "markdown",
   "id": "c2d57916",
   "metadata": {},
   "source": [
    "**6. Array Reshaping:** Take a 1D NumPy array of length 12 and reshape it into a 3x4 2D\n",
    "array."
   ]
  },
  {
   "cell_type": "code",
   "execution_count": 64,
   "id": "24edfd90",
   "metadata": {},
   "outputs": [
    {
     "name": "stdout",
     "output_type": "stream",
     "text": [
      "[45 32 42 52 40 68 62  8 15 40 23 14]\n",
      "--------------------\n",
      "[[45 32 42 52]\n",
      " [40 68 62  8]\n",
      " [15 40 23 14]]\n"
     ]
    }
   ],
   "source": [
    "array = np.random.randint(1,100, size=(12))\n",
    "reshaped_array = array.reshape(3,4)\n",
    "print(array)\n",
    "print(\"--\"*10)\n",
    "print(reshaped_array)"
   ]
  },
  {
   "cell_type": "markdown",
   "id": "cfe795a0",
   "metadata": {},
   "source": [
    "**7. Boolean Indexing:** Given a 1D NumPy array of integers, filter and return only the\n",
    "elements greater than 25."
   ]
  },
  {
   "cell_type": "code",
   "execution_count": 65,
   "id": "30f7691a",
   "metadata": {},
   "outputs": [
    {
     "name": "stdout",
     "output_type": "stream",
     "text": [
      "Original Array: \n",
      " [28 85 45 13 37 37 42 87 34 45 94 40 63 96 43 46 44 94  6 28]\n",
      "--------------------\n",
      "Filtered Array: \n",
      " [28 85 45 37 37 42 87 34 45 94 40 63 96 43 46 44 94 28]\n"
     ]
    }
   ],
   "source": [
    "array = np.random.randint(1,100, size=(20))\n",
    "filtered_array = array[array > 25]\n",
    "print(f\"Original Array: \\n {array}\")\n",
    "print(\"--\"*10)\n",
    "print(f\"Filtered Array: \\n {filtered_array}\")"
   ]
  },
  {
   "cell_type": "markdown",
   "id": "81f896be",
   "metadata": {},
   "source": [
    "**8. Array Broadcasting:** Use broadcasting to add a 1D NumPy array of shape (1, 4) to a\n",
    "2D NumPy array of shape (3, 4)."
   ]
  },
  {
   "cell_type": "code",
   "execution_count": 66,
   "id": "d48b8bb3",
   "metadata": {},
   "outputs": [
    {
     "name": "stdout",
     "output_type": "stream",
     "text": [
      "[[8 9 7 5]]\n",
      "--------------------\n",
      "[[9 2 9 1]\n",
      " [8 2 2 2]\n",
      " [6 8 7 3]]\n",
      "--------------------\n",
      "[[17 11 16  6]\n",
      " [16 11  9  7]\n",
      " [14 17 14  8]]\n"
     ]
    }
   ],
   "source": [
    "array1 = np.random.randint(1,10, size=(1,4))\n",
    "array2 = np.random.randint(1,10, size=(3,4))\n",
    "print(array1)\n",
    "print(\"--\"*10)\n",
    "print(array2)\n",
    "print(\"--\"*10)\n",
    "addition = array1 + array2\n",
    "print(addition)"
   ]
  },
  {
   "cell_type": "markdown",
   "metadata": {},
   "source": [
    "**9. Standard Deviation:** Compute the standard deviation of a 1D NumPy array\n",
    "containing 50 random values between 0 and 100."
   ]
  },
  {
   "cell_type": "code",
   "execution_count": 67,
   "id": "a60fa5ea",
   "metadata": {},
   "outputs": [
    {
     "name": "stdout",
     "output_type": "stream",
     "text": [
      "Array: \n",
      " [31 68 33 71 10 38 96 57 79 57 98 58 53 56 80 28 39 99 55 99 91 47 48 16\n",
      " 41 70  7 73 67 99 93 14 44 46 82  8 89 48 20 83 55 92 87 14 62 33 39 74\n",
      " 52 24]\n",
      "Standard Deviation: 27.21559111979749\n"
     ]
    }
   ],
   "source": [
    "array = np.random.randint(0,100, size=(50))\n",
    "print(f\"Array: \\n {array}\")\n",
    "std_dev = np.std(array)\n",
    "print(f\"Standard Deviation: {std_dev}\")"
   ]
  },
  {
   "cell_type": "markdown",
   "metadata": {},
   "source": [
    "___"
   ]
  },
  {
   "cell_type": "markdown",
   "id": "a3f72e7f",
   "metadata": {},
   "source": [
    "##  Pandas DataFrame Tasks:"
   ]
  },
  {
   "cell_type": "code",
   "execution_count": 68,
   "id": "43367cff",
   "metadata": {},
   "outputs": [],
   "source": [
    "import pandas as pd"
   ]
  },
  {
   "cell_type": "markdown",
   "id": "e7e151d7",
   "metadata": {},
   "source": [
    "\n",
    "**1. Create a DataFrame:** Create a Pandas DataFrame with columns Name, Age,\n",
    "Department and fill it with data for 5 employees."
   ]
  },
  {
   "cell_type": "code",
   "execution_count": 69,
   "id": "de0fefa6",
   "metadata": {},
   "outputs": [
    {
     "data": {
      "text/html": [
       "<div>\n",
       "<style scoped>\n",
       "    .dataframe tbody tr th:only-of-type {\n",
       "        vertical-align: middle;\n",
       "    }\n",
       "\n",
       "    .dataframe tbody tr th {\n",
       "        vertical-align: top;\n",
       "    }\n",
       "\n",
       "    .dataframe thead th {\n",
       "        text-align: right;\n",
       "    }\n",
       "</style>\n",
       "<table border=\"1\" class=\"dataframe\">\n",
       "  <thead>\n",
       "    <tr style=\"text-align: right;\">\n",
       "      <th></th>\n",
       "      <th>Name</th>\n",
       "      <th>Age</th>\n",
       "      <th>Department</th>\n",
       "    </tr>\n",
       "  </thead>\n",
       "  <tbody>\n",
       "    <tr>\n",
       "      <th>0</th>\n",
       "      <td>Alice</td>\n",
       "      <td>25</td>\n",
       "      <td>HR</td>\n",
       "    </tr>\n",
       "    <tr>\n",
       "      <th>1</th>\n",
       "      <td>Bob</td>\n",
       "      <td>30</td>\n",
       "      <td>Finance</td>\n",
       "    </tr>\n",
       "    <tr>\n",
       "      <th>2</th>\n",
       "      <td>Charlie</td>\n",
       "      <td>35</td>\n",
       "      <td>IT</td>\n",
       "    </tr>\n",
       "    <tr>\n",
       "      <th>3</th>\n",
       "      <td>David</td>\n",
       "      <td>40</td>\n",
       "      <td>Marketing</td>\n",
       "    </tr>\n",
       "    <tr>\n",
       "      <th>4</th>\n",
       "      <td>Eva</td>\n",
       "      <td>45</td>\n",
       "      <td>Sales</td>\n",
       "    </tr>\n",
       "  </tbody>\n",
       "</table>\n",
       "</div>"
      ],
      "text/plain": [
       "      Name  Age Department\n",
       "0    Alice   25         HR\n",
       "1      Bob   30    Finance\n",
       "2  Charlie   35         IT\n",
       "3    David   40  Marketing\n",
       "4      Eva   45      Sales"
      ]
     },
     "execution_count": 69,
     "metadata": {},
     "output_type": "execute_result"
    }
   ],
   "source": [
    "data = {\n",
    "    \"Name\": [\"Alice\", \"Bob\", \"Charlie\", \"David\", \"Eva\"],\n",
    "    \"Age\": [25, 30, 35, 40, 45],\n",
    "    \"Department\": [\"HR\", \"Finance\", \"IT\", \"Marketing\", \"Sales\"]\n",
    "}\n",
    "\n",
    "df = pd.DataFrame(data)\n",
    "df"
   ]
  },
  {
   "cell_type": "markdown",
   "id": "7df6ae86",
   "metadata": {},
   "source": [
    "**2. Filter Rows:** From a DataFrame containing employee data, filter and return all\n",
    "employees who are older than 30 years."
   ]
  },
  {
   "cell_type": "code",
   "execution_count": 70,
   "id": "d991a65a",
   "metadata": {},
   "outputs": [
    {
     "data": {
      "text/html": [
       "<div>\n",
       "<style scoped>\n",
       "    .dataframe tbody tr th:only-of-type {\n",
       "        vertical-align: middle;\n",
       "    }\n",
       "\n",
       "    .dataframe tbody tr th {\n",
       "        vertical-align: top;\n",
       "    }\n",
       "\n",
       "    .dataframe thead th {\n",
       "        text-align: right;\n",
       "    }\n",
       "</style>\n",
       "<table border=\"1\" class=\"dataframe\">\n",
       "  <thead>\n",
       "    <tr style=\"text-align: right;\">\n",
       "      <th></th>\n",
       "      <th>Name</th>\n",
       "      <th>Age</th>\n",
       "      <th>Department</th>\n",
       "    </tr>\n",
       "  </thead>\n",
       "  <tbody>\n",
       "    <tr>\n",
       "      <th>2</th>\n",
       "      <td>Charlie</td>\n",
       "      <td>35</td>\n",
       "      <td>IT</td>\n",
       "    </tr>\n",
       "    <tr>\n",
       "      <th>3</th>\n",
       "      <td>David</td>\n",
       "      <td>40</td>\n",
       "      <td>Marketing</td>\n",
       "    </tr>\n",
       "    <tr>\n",
       "      <th>4</th>\n",
       "      <td>Eva</td>\n",
       "      <td>45</td>\n",
       "      <td>Sales</td>\n",
       "    </tr>\n",
       "  </tbody>\n",
       "</table>\n",
       "</div>"
      ],
      "text/plain": [
       "      Name  Age Department\n",
       "2  Charlie   35         IT\n",
       "3    David   40  Marketing\n",
       "4      Eva   45      Sales"
      ]
     },
     "execution_count": 70,
     "metadata": {},
     "output_type": "execute_result"
    }
   ],
   "source": [
    "older_than_30 = df[df['Age'] > 30]\n",
    "older_than_30"
   ]
  },
  {
   "cell_type": "markdown",
   "id": "40955812",
   "metadata": {},
   "source": [
    "\n",
    "**3. Update Column:** Update the Age column of a DataFrame to add 2 years to each\n",
    "employee’s age."
   ]
  },
  {
   "cell_type": "code",
   "execution_count": 71,
   "id": "609661d4",
   "metadata": {},
   "outputs": [
    {
     "data": {
      "text/html": [
       "<div>\n",
       "<style scoped>\n",
       "    .dataframe tbody tr th:only-of-type {\n",
       "        vertical-align: middle;\n",
       "    }\n",
       "\n",
       "    .dataframe tbody tr th {\n",
       "        vertical-align: top;\n",
       "    }\n",
       "\n",
       "    .dataframe thead th {\n",
       "        text-align: right;\n",
       "    }\n",
       "</style>\n",
       "<table border=\"1\" class=\"dataframe\">\n",
       "  <thead>\n",
       "    <tr style=\"text-align: right;\">\n",
       "      <th></th>\n",
       "      <th>Name</th>\n",
       "      <th>Age</th>\n",
       "      <th>Department</th>\n",
       "    </tr>\n",
       "  </thead>\n",
       "  <tbody>\n",
       "    <tr>\n",
       "      <th>0</th>\n",
       "      <td>Alice</td>\n",
       "      <td>27</td>\n",
       "      <td>HR</td>\n",
       "    </tr>\n",
       "    <tr>\n",
       "      <th>1</th>\n",
       "      <td>Bob</td>\n",
       "      <td>32</td>\n",
       "      <td>Finance</td>\n",
       "    </tr>\n",
       "    <tr>\n",
       "      <th>2</th>\n",
       "      <td>Charlie</td>\n",
       "      <td>37</td>\n",
       "      <td>IT</td>\n",
       "    </tr>\n",
       "    <tr>\n",
       "      <th>3</th>\n",
       "      <td>David</td>\n",
       "      <td>42</td>\n",
       "      <td>Marketing</td>\n",
       "    </tr>\n",
       "    <tr>\n",
       "      <th>4</th>\n",
       "      <td>Eva</td>\n",
       "      <td>47</td>\n",
       "      <td>Sales</td>\n",
       "    </tr>\n",
       "  </tbody>\n",
       "</table>\n",
       "</div>"
      ],
      "text/plain": [
       "      Name  Age Department\n",
       "0    Alice   27         HR\n",
       "1      Bob   32    Finance\n",
       "2  Charlie   37         IT\n",
       "3    David   42  Marketing\n",
       "4      Eva   47      Sales"
      ]
     },
     "execution_count": 71,
     "metadata": {},
     "output_type": "execute_result"
    }
   ],
   "source": [
    "df['Age'] = df['Age'] + 2\n",
    "df"
   ]
  },
  {
   "cell_type": "markdown",
   "id": "3f112a36",
   "metadata": {},
   "source": [
    "\n",
    "\n",
    "**4. Drop Columns:** Remove the Department column from the DataFrame of employees."
   ]
  },
  {
   "cell_type": "code",
   "execution_count": 73,
   "id": "80030fe6",
   "metadata": {},
   "outputs": [
    {
     "data": {
      "text/html": [
       "<div>\n",
       "<style scoped>\n",
       "    .dataframe tbody tr th:only-of-type {\n",
       "        vertical-align: middle;\n",
       "    }\n",
       "\n",
       "    .dataframe tbody tr th {\n",
       "        vertical-align: top;\n",
       "    }\n",
       "\n",
       "    .dataframe thead th {\n",
       "        text-align: right;\n",
       "    }\n",
       "</style>\n",
       "<table border=\"1\" class=\"dataframe\">\n",
       "  <thead>\n",
       "    <tr style=\"text-align: right;\">\n",
       "      <th></th>\n",
       "      <th>Name</th>\n",
       "      <th>Age</th>\n",
       "    </tr>\n",
       "  </thead>\n",
       "  <tbody>\n",
       "    <tr>\n",
       "      <th>0</th>\n",
       "      <td>Alice</td>\n",
       "      <td>27</td>\n",
       "    </tr>\n",
       "    <tr>\n",
       "      <th>1</th>\n",
       "      <td>Bob</td>\n",
       "      <td>32</td>\n",
       "    </tr>\n",
       "    <tr>\n",
       "      <th>2</th>\n",
       "      <td>Charlie</td>\n",
       "      <td>37</td>\n",
       "    </tr>\n",
       "    <tr>\n",
       "      <th>3</th>\n",
       "      <td>David</td>\n",
       "      <td>42</td>\n",
       "    </tr>\n",
       "    <tr>\n",
       "      <th>4</th>\n",
       "      <td>Eva</td>\n",
       "      <td>47</td>\n",
       "    </tr>\n",
       "  </tbody>\n",
       "</table>\n",
       "</div>"
      ],
      "text/plain": [
       "      Name  Age\n",
       "0    Alice   27\n",
       "1      Bob   32\n",
       "2  Charlie   37\n",
       "3    David   42\n",
       "4      Eva   47"
      ]
     },
     "execution_count": 73,
     "metadata": {},
     "output_type": "execute_result"
    }
   ],
   "source": [
    "df.drop('Department', axis=1)"
   ]
  },
  {
   "cell_type": "markdown",
   "id": "3107417e",
   "metadata": {},
   "source": [
    "\n",
    "**5. Group By and Count:** Given a DataFrame with employee data, group by\n",
    "Department and count the number of employees in each department."
   ]
  },
  {
   "cell_type": "code",
   "execution_count": 75,
   "id": "f502a9dc",
   "metadata": {},
   "outputs": [
    {
     "data": {
      "text/plain": [
       "Department\n",
       "Finance      1\n",
       "HR           1\n",
       "IT           1\n",
       "Marketing    1\n",
       "Sales        1\n",
       "Name: Name, dtype: int64"
      ]
     },
     "execution_count": 75,
     "metadata": {},
     "output_type": "execute_result"
    }
   ],
   "source": [
    "df.groupby('Department')[\"Name\"].count()"
   ]
  },
  {
   "cell_type": "markdown",
   "id": "92808687",
   "metadata": {},
   "source": [
    "\n",
    "**6. Merge DataFrames:** Merge two DataFrames, one containing employee data and the\n",
    "other containing salary data, based on a common ID column."
   ]
  },
  {
   "cell_type": "code",
   "execution_count": 78,
   "id": "4eb97e14",
   "metadata": {},
   "outputs": [],
   "source": [
    "employee_data = {\n",
    "    \"ID\": [1, 2, 3, 4, 5],\n",
    "    \"Name\": [\"Alice\", \"Bob\", \"Charlie\", \"David\", \"Eva\"],\n",
    "    \"Age\": [25, 30, 35, 40, 45]\n",
    "}\n",
    "\n",
    "salary_data = {\n",
    "    \"ID\": [1, 2, 3, 4, 5],\n",
    "    \"Salary\": [50000, 60000, 70000, 80000, 90000]\n",
    "}\n",
    "\n",
    "employee_df = pd.DataFrame(employee_data)\n",
    "salary_df = pd.DataFrame(salary_data)"
   ]
  },
  {
   "cell_type": "code",
   "execution_count": 79,
   "id": "5456ac20",
   "metadata": {},
   "outputs": [
    {
     "name": "stdout",
     "output_type": "stream",
     "text": [
      "   ID     Name  Age\n",
      "0   1    Alice   25\n",
      "1   2      Bob   30\n",
      "2   3  Charlie   35\n",
      "3   4    David   40\n",
      "4   5      Eva   45\n",
      "   ID  Salary\n",
      "0   1   50000\n",
      "1   2   60000\n",
      "2   3   70000\n",
      "3   4   80000\n",
      "4   5   90000\n"
     ]
    }
   ],
   "source": [
    "print(employee_df)\n",
    "print(salary_df)"
   ]
  },
  {
   "cell_type": "code",
   "execution_count": 81,
   "id": "74d5249a",
   "metadata": {},
   "outputs": [
    {
     "data": {
      "text/html": [
       "<div>\n",
       "<style scoped>\n",
       "    .dataframe tbody tr th:only-of-type {\n",
       "        vertical-align: middle;\n",
       "    }\n",
       "\n",
       "    .dataframe tbody tr th {\n",
       "        vertical-align: top;\n",
       "    }\n",
       "\n",
       "    .dataframe thead th {\n",
       "        text-align: right;\n",
       "    }\n",
       "</style>\n",
       "<table border=\"1\" class=\"dataframe\">\n",
       "  <thead>\n",
       "    <tr style=\"text-align: right;\">\n",
       "      <th></th>\n",
       "      <th>ID</th>\n",
       "      <th>Name</th>\n",
       "      <th>Age</th>\n",
       "      <th>Salary</th>\n",
       "    </tr>\n",
       "  </thead>\n",
       "  <tbody>\n",
       "    <tr>\n",
       "      <th>0</th>\n",
       "      <td>1</td>\n",
       "      <td>Alice</td>\n",
       "      <td>25</td>\n",
       "      <td>50000</td>\n",
       "    </tr>\n",
       "    <tr>\n",
       "      <th>1</th>\n",
       "      <td>2</td>\n",
       "      <td>Bob</td>\n",
       "      <td>30</td>\n",
       "      <td>60000</td>\n",
       "    </tr>\n",
       "    <tr>\n",
       "      <th>2</th>\n",
       "      <td>3</td>\n",
       "      <td>Charlie</td>\n",
       "      <td>35</td>\n",
       "      <td>70000</td>\n",
       "    </tr>\n",
       "    <tr>\n",
       "      <th>3</th>\n",
       "      <td>4</td>\n",
       "      <td>David</td>\n",
       "      <td>40</td>\n",
       "      <td>80000</td>\n",
       "    </tr>\n",
       "    <tr>\n",
       "      <th>4</th>\n",
       "      <td>5</td>\n",
       "      <td>Eva</td>\n",
       "      <td>45</td>\n",
       "      <td>90000</td>\n",
       "    </tr>\n",
       "  </tbody>\n",
       "</table>\n",
       "</div>"
      ],
      "text/plain": [
       "   ID     Name  Age  Salary\n",
       "0   1    Alice   25   50000\n",
       "1   2      Bob   30   60000\n",
       "2   3  Charlie   35   70000\n",
       "3   4    David   40   80000\n",
       "4   5      Eva   45   90000"
      ]
     },
     "execution_count": 81,
     "metadata": {},
     "output_type": "execute_result"
    }
   ],
   "source": [
    "merged_df = pd.merge(employee_df, salary_df, on=\"ID\")\n",
    "merged_df\n"
   ]
  },
  {
   "cell_type": "markdown",
   "id": "97533209",
   "metadata": {},
   "source": [
    "___"
   ]
  }
 ],
 "metadata": {
  "kernelspec": {
   "display_name": "tf_env",
   "language": "python",
   "name": "python3"
  },
  "language_info": {
   "codemirror_mode": {
    "name": "ipython",
    "version": 3
   },
   "file_extension": ".py",
   "mimetype": "text/x-python",
   "name": "python",
   "nbconvert_exporter": "python",
   "pygments_lexer": "ipython3",
   "version": "3.11.11"
  }
 },
 "nbformat": 4,
 "nbformat_minor": 5
}
