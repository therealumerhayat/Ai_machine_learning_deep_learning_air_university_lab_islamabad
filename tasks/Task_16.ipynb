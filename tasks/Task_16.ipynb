{
 "cells": [
  {
   "cell_type": "markdown",
   "id": "965c7ac2",
   "metadata": {},
   "source": [
    "**Name:** Muhammad Umer\n",
    "\n",
    "**Email** umerhayat282@gmail.com\n",
    "\n",
    "**Date** October 03, 2025\n",
    "\n",
    "\n",
    "\n",
    "____"
   ]
  },
  {
   "cell_type": "markdown",
   "id": "95bbc8a8",
   "metadata": {},
   "source": [
    "**1. Basic Abstract Class**\n",
    "\n",
    "**Task:**\n",
    "\n",
    "Create an abstract class Shape with an abstract method area(). Then, implement two\n",
    "subclasses Circle and Square that provide their own implementation of area()."
   ]
  },
  {
   "cell_type": "code",
   "execution_count": 1,
   "id": "fcbc4320",
   "metadata": {},
   "outputs": [],
   "source": [
    "from abc import ABC, abstractmethod"
   ]
  },
  {
   "cell_type": "code",
   "execution_count": 4,
   "id": "9ce96d3b",
   "metadata": {},
   "outputs": [],
   "source": [
    "class Shape(ABC):\n",
    "    @abstractmethod\n",
    "    def area(self):\n",
    "        pass\n",
    "\n",
    "class Circle(Shape):\n",
    "    def __init__(self, radius):\n",
    "        self.radius = radius\n",
    "\n",
    "    def area(self):\n",
    "        return 3.14 * self.radius ** 2\n",
    "\n",
    "class Square(Shape):\n",
    "    def __init__(self, side):\n",
    "        self.side = side\n",
    "\n",
    "    def area(self):\n",
    "        return self.side ** 2"
   ]
  },
  {
   "cell_type": "code",
   "execution_count": 5,
   "id": "0d631955",
   "metadata": {},
   "outputs": [
    {
     "name": "stdout",
     "output_type": "stream",
     "text": [
      "Circle area: 78.5\n",
      "Square area: 16\n"
     ]
    }
   ],
   "source": [
    "c = Circle(5)\n",
    "print(\"Circle area:\", c.area())  \n",
    "\n",
    "s = Square(4)\n",
    "print(\"Square area:\", s.area())  \n"
   ]
  },
  {
   "cell_type": "markdown",
   "id": "3d824975",
   "metadata": {},
   "source": [
    "**2. Abstract Class with Constructor**\n",
    "\n",
    "**Task:**\n",
    "\n",
    "Define an abstract class Employee with a constructor to initialize name and id, and an\n",
    "abstract method calculate_salary(). Create a subclass FullTimeEmployee that\n",
    "implements calculate_salary()."
   ]
  },
  {
   "cell_type": "code",
   "execution_count": 8,
   "id": "10259d4a",
   "metadata": {},
   "outputs": [],
   "source": [
    "class Employee(ABC):\n",
    "    def __init__(self, name, id):\n",
    "        self.name = name \n",
    "        self.id = id \n",
    "\n",
    "    @abstractmethod\n",
    "    def calculate_salary(self):\n",
    "        pass \n",
    "\n",
    "class FullTimeEmployee(Employee):\n",
    "    def __init__(self, name, id, salary):\n",
    "        super().__init__(name, id)\n",
    "        self.salary = salary \n",
    "\n",
    "    def calculate_salary(self):\n",
    "        print(f\"Name: {self.name}, ID: {self.id}, Salary: {self.salary}\")\n",
    "\n",
    "        "
   ]
  },
  {
   "cell_type": "code",
   "execution_count": 9,
   "id": "e732a4c9",
   "metadata": {},
   "outputs": [
    {
     "name": "stdout",
     "output_type": "stream",
     "text": [
      "Name: Umer, ID: ID26454g84v, Salary: 850000\n"
     ]
    }
   ],
   "source": [
    "fte = FullTimeEmployee(\"Umer\", \"ID26454g84v\", 850000)\n",
    "fte.calculate_salary()"
   ]
  },
  {
   "cell_type": "markdown",
   "id": "f2426300",
   "metadata": {},
   "source": [
    "\n",
    "**3. Abstract Class with Multiple Methods**\n",
    "\n",
    "**Task:**\n",
    "\n",
    "Create an abstract class Appliance with abstract methods turn_on() and turn_off().\n",
    "Then, define subclasses WashingMachine and Microwave that implement these methods\n",
    "differently."
   ]
  },
  {
   "cell_type": "code",
   "execution_count": 14,
   "id": "349713bb",
   "metadata": {},
   "outputs": [
    {
     "name": "stdout",
     "output_type": "stream",
     "text": [
      "Microwave is now ON\n",
      "Microwave is now OFF\n",
      "Washing Machine is now ON\n",
      "Washing Machine is now OFF\n"
     ]
    }
   ],
   "source": [
    "class Appliance(ABC):\n",
    "    @abstractmethod\n",
    "    def turn_on(self):\n",
    "        pass\n",
    "\n",
    "    @abstractmethod\n",
    "    def turn_off(self):\n",
    "        pass\n",
    "\n",
    "class WashingMachine(Appliance):\n",
    "    def turn_on(self):\n",
    "        return \"Washing Machine is now ON\"\n",
    "\n",
    "    def turn_off(self):\n",
    "        return \"Washing Machine is now OFF\"\n",
    "\n",
    "class Microwave(Appliance):\n",
    "    def turn_on(self):\n",
    "        return \"Microwave is now ON\"\n",
    "\n",
    "    def turn_off(self):\n",
    "        return \"Microwave is now OFF\"\n",
    "\n",
    "\n",
    "mv = Microwave()\n",
    "print(mv.turn_on())  \n",
    "print(mv.turn_off())  \n",
    "\n",
    "wm = WashingMachine()\n",
    "print(wm.turn_on())   \n",
    "print(wm.turn_off())  "
   ]
  },
  {
   "cell_type": "markdown",
   "id": "2886171a",
   "metadata": {},
   "source": [
    "**4. Abstract Class with Properties**\n",
    "\n",
    "**Task:**\n",
    "\n",
    "Design an abstract class Document with an abstract property content and abstract method\n",
    "display(). Implement it in a subclass PDFDocument."
   ]
  },
  {
   "cell_type": "code",
   "execution_count": 44,
   "id": "929d4536",
   "metadata": {},
   "outputs": [
    {
     "name": "stdout",
     "output_type": "stream",
     "text": [
      "Area: 1400, Location: Islamabad\n"
     ]
    }
   ],
   "source": [
    "from abc import ABC, abstractmethod\n",
    "\n",
    "class Document(ABC):\n",
    "    @property\n",
    "    @abstractmethod\n",
    "    def content(self):\n",
    "        pass\n",
    "\n",
    "    @abstractmethod\n",
    "    def display(self):\n",
    "        pass\n",
    "\n",
    "class PDFDocument(Document):\n",
    "    def __init__(self, area, location):\n",
    "        self._area = area\n",
    "        self._location = location\n",
    "\n",
    "    @property\n",
    "    def content(self):\n",
    "        return f\"Area: {self._area}, Location: {self._location}\"\n",
    "\n",
    "    def display(self):\n",
    "        print(self.content)\n",
    "\n",
    "\n",
    "docpdf = PDFDocument(1400, \"Islamabad\")\n",
    "docpdf.display()"
   ]
  },
  {
   "cell_type": "markdown",
   "id": "0f261d1e",
   "metadata": {},
   "source": [
    "\n",
    "**5. Inheriting from Abstract Class without Implementing Methods**\n",
    "\n",
    "**Task:**\n",
    "\n",
    "Create an abstract class Transport with an abstract method move(). Then, try creating a\n",
    "subclass Bike without implementing move(), and observe the behavior when trying to\n",
    "instantiate it."
   ]
  },
  {
   "cell_type": "code",
   "execution_count": 24,
   "id": "f106b3b6",
   "metadata": {},
   "outputs": [
    {
     "ename": "TypeError",
     "evalue": "Can't instantiate abstract class Bike with abstract method move",
     "output_type": "error",
     "traceback": [
      "\u001b[1;31m---------------------------------------------------------------------------\u001b[0m",
      "\u001b[1;31mTypeError\u001b[0m                                 Traceback (most recent call last)",
      "Cell \u001b[1;32mIn[24], line 11\u001b[0m\n\u001b[0;32m      7\u001b[0m \u001b[38;5;28;01mclass\u001b[39;00m\u001b[38;5;250m \u001b[39m\u001b[38;5;21;01mBike\u001b[39;00m(Transport):\n\u001b[0;32m      8\u001b[0m     \u001b[38;5;28;01mpass\u001b[39;00m\n\u001b[1;32m---> 11\u001b[0m bike \u001b[38;5;241m=\u001b[39m \u001b[43mBike\u001b[49m\u001b[43m(\u001b[49m\u001b[43m)\u001b[49m  \n",
      "\u001b[1;31mTypeError\u001b[0m: Can't instantiate abstract class Bike with abstract method move"
     ]
    }
   ],
   "source": [
    "class Transport(ABC):\n",
    "    @abstractmethod\n",
    "    def move(self):\n",
    "        pass\n",
    "\n",
    "\n",
    "class Bike(Transport):\n",
    "    pass\n",
    "\n",
    "\n",
    "bike = Bike()  "
   ]
  },
  {
   "cell_type": "markdown",
   "id": "e2905d06",
   "metadata": {},
   "source": [
    "> **🔍 Observation:**  \n",
    "> When a subclass inherits from an abstract class but does not implement all its abstract methods, Python prevents instantiation of that subclass. This enforces strict adherence to the abstract contract, ensuring that essential behaviors are defined before objects can be created."
   ]
  },
  {
   "cell_type": "markdown",
   "id": "f8c2f44a",
   "metadata": {},
   "source": [
    "\n",
    "**6. Abstract Class with Class Method**\n",
    "\n",
    "**Task:**\n",
    "\n",
    "Create an abstract class Logger with an abstract class method log_message(cls, msg).\n",
    "Implement it in a subclass FileLogger."
   ]
  },
  {
   "cell_type": "code",
   "execution_count": 25,
   "id": "6d3b57e9",
   "metadata": {},
   "outputs": [
    {
     "name": "stdout",
     "output_type": "stream",
     "text": [
      "System started | Logged as: Hello Peter\n"
     ]
    }
   ],
   "source": [
    "from abc import ABC, abstractmethod\n",
    "\n",
    "class Logger(ABC):\n",
    "    msg = \"Hello Peter\"\n",
    "\n",
    "    @classmethod\n",
    "    @abstractmethod\n",
    "    def log_message(cls, msg):\n",
    "        pass\n",
    "\n",
    "class FileLogger(Logger):\n",
    "    @classmethod\n",
    "    def log_message(cls, msg):\n",
    "        return f\"{msg} | Logged as: {cls.msg}\"\n",
    "\n",
    "\n",
    "print(FileLogger.log_message(\"System started\"))\n"
   ]
  },
  {
   "cell_type": "markdown",
   "id": "56f45232",
   "metadata": {},
   "source": [
    "**7. Interface-style Abstract Class**\n",
    "\n",
    "**Task:**\n",
    "\n",
    "Simulate an interface using an abstract class Playable with abstract methods play() and\n",
    "pause(). Implement these in a class VideoPlayer."
   ]
  },
  {
   "cell_type": "code",
   "execution_count": 29,
   "id": "1554ca57",
   "metadata": {},
   "outputs": [
    {
     "name": "stdout",
     "output_type": "stream",
     "text": [
      "Video is now playing\n",
      "Video is paused\n"
     ]
    }
   ],
   "source": [
    "\n",
    "class Playable(ABC):\n",
    "    @abstractmethod\n",
    "    def play(self):\n",
    "        pass\n",
    "\n",
    "    @abstractmethod\n",
    "    def pause(self):\n",
    "        pass\n",
    "\n",
    "class VideoPlayer(Playable):\n",
    "    def play(self):\n",
    "        return \"Video is now playing\"\n",
    "\n",
    "    def pause(self):\n",
    "        return \"Video is paused\"\n",
    "\n",
    "\n",
    "vp = VideoPlayer()\n",
    "print(vp.play())   \n",
    "print(vp.pause())  "
   ]
  },
  {
   "cell_type": "markdown",
   "id": "043de12b",
   "metadata": {},
   "source": [
    "**8. Abstract Base Class for Different Payment Methods**\n",
    "\n",
    "**Task:**\n",
    "\n",
    "Create an abstract class PaymentMethod with an abstract method\n",
    "process_payment(amount). Implement subclasses CreditCard and PayPal that simulate\n",
    "payment processing."
   ]
  },
  {
   "cell_type": "code",
   "execution_count": 37,
   "id": "010db9a5",
   "metadata": {},
   "outputs": [
    {
     "name": "stdout",
     "output_type": "stream",
     "text": [
      "PayPal processed payment of Rs.50000\n",
      "Processed Amount: Rs.50000\n",
      "----------------------------------------\n",
      "CreditCard processed payment of Rs.25000\n",
      "Processed Amount: Rs.25000\n"
     ]
    }
   ],
   "source": [
    "class PaymentMethod(ABC):\n",
    "    @abstractmethod\n",
    "    def process_payment(self, amount):\n",
    "        pass\n",
    "\n",
    "class CreditCard(PaymentMethod):\n",
    "    def process_payment(self, amount):\n",
    "        self.amount = amount\n",
    "        print(f\"CreditCard processed payment of Rs.{self.amount}\")\n",
    "\n",
    "    def show_amount(self):\n",
    "        print(f\"Processed Amount: Rs.{self.amount}\")\n",
    "\n",
    "class PayPal(PaymentMethod):\n",
    "    def process_payment(self, amount):\n",
    "        self.amount = amount\n",
    "        print(f\"PayPal processed payment of Rs.{self.amount}\")\n",
    "\n",
    "    def show_amount(self):\n",
    "        print(f\"Processed Amount: Rs.{self.amount}\")\n",
    "\n",
    "\n",
    "pp = PayPal()\n",
    "pp.process_payment(50000)\n",
    "pp.show_amount()\n",
    "print(\"--\"*20)\n",
    "cc = CreditCard()\n",
    "cc.process_payment(25000)\n",
    "cc.show_amount()"
   ]
  },
  {
   "cell_type": "markdown",
   "id": "e9a40342",
   "metadata": {},
   "source": [
    "\n",
    "**9. Abstract Class with Static Method**\n",
    "\n",
    "**Task:**\n",
    "\n",
    "Define an abstract class MathOperation with an abstract static method operate(a, b).\n",
    "Implement this in subclasses AddOperation and MultiplyOperation."
   ]
  },
  {
   "cell_type": "code",
   "execution_count": 42,
   "id": "a53535d7",
   "metadata": {},
   "outputs": [
    {
     "name": "stdout",
     "output_type": "stream",
     "text": [
      "30\n",
      "28\n"
     ]
    }
   ],
   "source": [
    "class MathOperation(ABC):\n",
    "\n",
    "    @staticmethod\n",
    "    @abstractmethod\n",
    "    def operate(a,b):\n",
    "        pass \n",
    "\n",
    "class AddOperation(MathOperation):\n",
    "    @staticmethod\n",
    "    def operate(a, b):\n",
    "        return a+b\n",
    "\n",
    "class MultiplyOperation(MathOperation):\n",
    "    @staticmethod\n",
    "    def operate(a, b):\n",
    "        return a * b \n",
    "    \n",
    "\n",
    "mo=MultiplyOperation()\n",
    "print(mo.operate(5,6))\n",
    "\n",
    "\n",
    "ao = AddOperation()\n",
    "print(ao.operate(5,23))\n"
   ]
  },
  {
   "cell_type": "markdown",
   "id": "ff2aed73",
   "metadata": {},
   "source": [
    "**10. Abstract Class with Mixed Methods**\n",
    "\n",
    "**Task:**\n",
    "\n",
    "Create an abstract class Animal with a concrete method sleep() and an abstract method\n",
    "make_sound(). Implement it in subclasses Dog and Cat."
   ]
  },
  {
   "cell_type": "code",
   "execution_count": 43,
   "id": "52595fae",
   "metadata": {},
   "outputs": [
    {
     "name": "stdout",
     "output_type": "stream",
     "text": [
      "Animal is sleeping\n",
      "Dog says: Woof!\n",
      "Animal is sleeping\n",
      "Cat says: Meow!\n"
     ]
    }
   ],
   "source": [
    "\n",
    "class Animal(ABC):\n",
    "    def sleep(self):\n",
    "        return \"Animal is sleeping\"\n",
    "\n",
    "    @abstractmethod\n",
    "    def make_sound(self):\n",
    "        pass\n",
    "\n",
    "class Dog(Animal):\n",
    "    def make_sound(self):\n",
    "        return \"Dog says: Woof!\"\n",
    "\n",
    "class Cat(Animal):\n",
    "    def make_sound(self):\n",
    "        return \"Cat says: Meow!\"\n",
    "\n",
    "\n",
    "dog = Dog()\n",
    "print(dog.sleep())        \n",
    "print(dog.make_sound())   \n",
    "\n",
    "cat = Cat()\n",
    "print(cat.sleep())        \n",
    "print(cat.make_sound())   "
   ]
  },
  {
   "cell_type": "markdown",
   "id": "78628ca1",
   "metadata": {},
   "source": [
    "___"
   ]
  }
 ],
 "metadata": {
  "kernelspec": {
   "display_name": "tf_env",
   "language": "python",
   "name": "python3"
  },
  "language_info": {
   "codemirror_mode": {
    "name": "ipython",
    "version": 3
   },
   "file_extension": ".py",
   "mimetype": "text/x-python",
   "name": "python",
   "nbconvert_exporter": "python",
   "pygments_lexer": "ipython3",
   "version": "3.11.11"
  }
 },
 "nbformat": 4,
 "nbformat_minor": 5
}
