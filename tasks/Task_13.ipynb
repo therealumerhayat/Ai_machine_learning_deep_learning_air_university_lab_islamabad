{
 "cells": [
  {
   "cell_type": "markdown",
   "id": "221947fc",
   "metadata": {},
   "source": [
    "**Name:** Muhammad Umer\n",
    "\n",
    "**Email** umerhayat282@gmail.com\n",
    "\n",
    "**Date** September 30, 2025\n",
    "\n",
    "\n",
    "\n",
    "____"
   ]
  },
  {
   "cell_type": "markdown",
   "id": "145a881d",
   "metadata": {},
   "source": [
    "##  Updated Basic Class Tasks"
   ]
  },
  {
   "cell_type": "markdown",
   "id": "ed66cacc",
   "metadata": {},
   "source": [
    "**1. Basic Class with Method**\n",
    "\n",
    "- Create a Pen class with attributes color and price.\n",
    "- Add a method write() that prints &quot;Writing with a &lt;color&gt; pen&quot;.\n",
    "- Create two objects and call the method.\n"
   ]
  },
  {
   "cell_type": "code",
   "execution_count": 4,
   "id": "02d7ecc2",
   "metadata": {},
   "outputs": [
    {
     "name": "stdout",
     "output_type": "stream",
     "text": [
      "Writing with a blue pen\n",
      "The price of red pen is 9800\n"
     ]
    }
   ],
   "source": [
    "class Pen:\n",
    "    def __init__(self, color, price):\n",
    "        self.color = color\n",
    "        self.price = price\n",
    "    def write(self):\n",
    "        print(f\"Writing with a {self.color} pen\")\n",
    "\n",
    "    def show_price(self):\n",
    "        print(f\"The price of {self.color} pen is {self.price}\")\n",
    "\n",
    "obj = Pen(\"blue\", 9000)\n",
    "obj.write()\n",
    "\n",
    "obj2 = Pen(\"red\", 9800)\n",
    "obj2.show_price()"
   ]
  },
  {
   "cell_type": "markdown",
   "id": "0a460a81",
   "metadata": {},
   "source": [
    "**2. Constructor &amp; Display Method**\n",
    "\n",
    "- Create a Movie class with attributes title, year, and rating.\n",
    "- Add a method show_info() to print all details.\n",
    "- Create two movie objects and display their info."
   ]
  },
  {
   "cell_type": "code",
   "execution_count": 6,
   "id": "a0f7d563",
   "metadata": {},
   "outputs": [
    {
     "name": "stdout",
     "output_type": "stream",
     "text": [
      "Title: Intersteller, Year Released: 2012, Ratings: 5.0\n",
      "Title: Tenet, Year Released: 2014, Ratings: 5.0\n"
     ]
    }
   ],
   "source": [
    "class Movie:\n",
    "    def __init__(self, title, year, rating):\n",
    "        self.title = title \n",
    "        self.year = year\n",
    "        self.rating = rating\n",
    "\n",
    "    def show_details(self):\n",
    "        print(f\"Title: {self.title}, Year Released: {self.year}, Ratings: {self.rating}\")\n",
    "\n",
    "obj1= Movie(\"Intersteller\", 2012, 5.0)\n",
    "obj1.show_details()\n",
    "\n",
    "obj2= Movie(\"Tenet\", 2014, 5.0)\n",
    "obj2.show_details()"
   ]
  },
  {
   "cell_type": "markdown",
   "id": "5dd26845",
   "metadata": {},
   "source": [
    "___"
   ]
  },
  {
   "cell_type": "markdown",
   "id": "838c7b6e",
   "metadata": {},
   "source": [
    "##  Simple Inheritance Tasks"
   ]
  },
  {
   "cell_type": "markdown",
   "id": "41caab4c",
   "metadata": {},
   "source": [
    "**3. Basic Inheritance**\n",
    "\n",
    "- Create a Person class with name and age.\n",
    "- Create a Student class that inherits from Person and adds student_id."
   ]
  },
  {
   "cell_type": "code",
   "execution_count": 9,
   "id": "8ab6af76",
   "metadata": {},
   "outputs": [
    {
     "name": "stdout",
     "output_type": "stream",
     "text": [
      "Name: Umer, Age: 15\n",
      "Student ID: AU52365\n"
     ]
    }
   ],
   "source": [
    "class Person:\n",
    "    def __init__(self, name, age):\n",
    "        self.name = name \n",
    "        self.age = age\n",
    "\n",
    "    def show_info(self):\n",
    "        print(f\"Name: {self.name}, Age: {self.age}\")\n",
    "\n",
    "class Student(Person):\n",
    "    def __init__(self, name, age, student_id):\n",
    "        super().__init__(name, age)\n",
    "        self.student_id = student_id\n",
    "\n",
    "    def show_student(self):\n",
    "        self.show_info()\n",
    "        print(f\"Student ID: {self.student_id}\")\n",
    "\n",
    "\n",
    "\n",
    "obj1 = Student(name=\"Umer\", age=15, student_id=\"AU52365\")\n",
    "obj1.show_student()\n",
    "\n",
    "\n",
    "    "
   ]
  },
  {
   "cell_type": "markdown",
   "id": "753eb068",
   "metadata": {},
   "source": [
    "**4. Parent + Child Attributes**\n",
    "\n",
    "- Create a Vehicle class with brand.\n",
    "- Create a Car class that inherits from Vehicle and adds seats."
   ]
  },
  {
   "cell_type": "code",
   "execution_count": 14,
   "id": "f4ff59f0",
   "metadata": {},
   "outputs": [
    {
     "name": "stdout",
     "output_type": "stream",
     "text": [
      "Brand: Mercedes\n",
      "Seats: 5\n"
     ]
    }
   ],
   "source": [
    "class Vehicle:\n",
    "    def __init__(self, brand):\n",
    "        self.brand = brand\n",
    "\n",
    "    def show_info(self):\n",
    "        print(f\"Brand: {self.brand}\")\n",
    "\n",
    "\n",
    "class Car(Vehicle):\n",
    "    def __init__(self, brand, seats):\n",
    "        super().__init__(brand)\n",
    "        self.seats = seats \n",
    "\n",
    "    def print_info(self):\n",
    "        self.show_info()\n",
    "        print(f\"Seats: {self.seats}\")\n",
    "\n",
    "\n",
    "\n",
    "car1 = Car(\"Mercedes\", 5)\n",
    "car1.print_info()\n"
   ]
  },
  {
   "cell_type": "markdown",
   "id": "35b4784f",
   "metadata": {},
   "source": [
    "**5. Child Adds Method**\n",
    "\n",
    "- Create an Employee class with name and salary.\n",
    "- Create a Manager class inheriting from Employee that adds a method show_team_size()."
   ]
  },
  {
   "cell_type": "code",
   "execution_count": 15,
   "id": "1a88f94c",
   "metadata": {},
   "outputs": [
    {
     "name": "stdout",
     "output_type": "stream",
     "text": [
      "Umer manages the team of 25\n"
     ]
    }
   ],
   "source": [
    "class Employee:\n",
    "    def __init__(self, name, salary):\n",
    "        self.name = name \n",
    "        self.salary = salary\n",
    "\n",
    "    def show_details(self):\n",
    "        print(f\"Name: {self.name}, Salary: {self.salary}\")\n",
    "\n",
    "class Manager(Employee):\n",
    "    def __init__(self, name, salary, team_size):\n",
    "        super().__init__(name, salary)\n",
    "        self.team_size = team_size\n",
    "\n",
    "    def show_team_size(self):\n",
    "        print(f\"{self.name} manages the team of {self.team_size}\")\n",
    "\n",
    "\n",
    "mn1 = Manager(\"Umer\", 5000000, 25)\n",
    "mn1.show_team_size()\n"
   ]
  },
  {
   "cell_type": "markdown",
   "id": "c2a224dc",
   "metadata": {},
   "source": [
    "**6. Child Adds Extra Attribute**\n",
    "\n",
    "- Create a Teacher class with name and subject.\n",
    "- Create a HeadTeacher class inheriting from Teacher and add department."
   ]
  },
  {
   "cell_type": "code",
   "execution_count": 16,
   "id": "27792e17",
   "metadata": {},
   "outputs": [
    {
     "name": "stdout",
     "output_type": "stream",
     "text": [
      "Name: Adnan Sahab, Subject: Artificial Intelligence, Department: CPD\n"
     ]
    }
   ],
   "source": [
    "class Teacher:\n",
    "    def __init__(self, name, subject):\n",
    "        self.name = name \n",
    "        self.subject = subject\n",
    "\n",
    "    def show_details(self):\n",
    "        print(f\"Name: {self.name}, Subject: {self.subject}\")\n",
    "\n",
    "\n",
    "class HeadTeacher(Teacher):\n",
    "    def __init__(self, name, subject, department):\n",
    "        super().__init__(name, subject)\n",
    "        self.department = department\n",
    "\n",
    "    def details(self):\n",
    "        print(f\"Name: {self.name}, Subject: {self.subject}, Department: {self.department}\")\n",
    "\n",
    "\n",
    "ht = HeadTeacher(\"Adnan Sahab\", \"Artificial Intelligence\", \"CPD\")\n",
    "ht.details()"
   ]
  },
  {
   "cell_type": "markdown",
   "id": "1f91057f",
   "metadata": {},
   "source": [
    "**7. Simple Student-Teacher Example**\n",
    "\n",
    "- Create a Person class.\n",
    "- Create Teacher class that inherits Person and adds subject."
   ]
  },
  {
   "cell_type": "code",
   "execution_count": 17,
   "id": "4758066f",
   "metadata": {},
   "outputs": [
    {
     "name": "stdout",
     "output_type": "stream",
     "text": [
      "Name: Umer, Age: 25, Subject: Artificial Intelligence\n"
     ]
    }
   ],
   "source": [
    "class Person:\n",
    "    def __init__(self, name, age):\n",
    "        self.name = name \n",
    "        self.age = age \n",
    "\n",
    "    def show(self):\n",
    "        print(f\"Name: {self.name}, Age: {self.age}\")\n",
    "\n",
    "\n",
    "class Teacher(Person):\n",
    "    def __init__(self, name, age, subject):\n",
    "        super().__init__(name, age)\n",
    "        self.subject = subject\n",
    "\n",
    "    def show_details(self):\n",
    "        print(f\"Name: {self.name}, Age: {self.age}, Subject: {self.subject}\")\n",
    "\n",
    "\n",
    "\n",
    "tea = Teacher(\"Umer\", 25, \"Artificial Intelligence\")\n",
    "tea.show_details()"
   ]
  },
  {
   "cell_type": "markdown",
   "id": "aff20a11",
   "metadata": {},
   "source": [
    "**8. Real-Life Example**\n",
    "\n",
    "- Create a Device class with brand.\n",
    "- Create a Mobile class inheriting from Device and add network_type."
   ]
  },
  {
   "cell_type": "code",
   "execution_count": 18,
   "id": "d4372ec3",
   "metadata": {},
   "outputs": [
    {
     "name": "stdout",
     "output_type": "stream",
     "text": [
      "Device Brand: Nokia, Network Type: Jazz\n"
     ]
    }
   ],
   "source": [
    "class Device:\n",
    "    def __init__(self, brand):\n",
    "        self.brand = brand\n",
    "\n",
    "\n",
    "    def show_details(self):\n",
    "        print(f\"Device Brand: {self.brand}\")\n",
    "\n",
    "class Mobile(Device):\n",
    "    def __init__(self, brand, network_type):\n",
    "        super().__init__(brand)\n",
    "        self.network_type = network_type\n",
    "\n",
    "    def show_d(self):\n",
    "        print(f\"Device Brand: {self.brand}, Network Type: {self.network_type}\")\n",
    "\n",
    "mb = Mobile(\"Nokia\", \"Jazz\")\n",
    "mb.show_d()"
   ]
  },
  {
   "cell_type": "markdown",
   "id": "6e117019",
   "metadata": {},
   "source": [
    "**9. Inheritance with Method**\n",
    "\n",
    "- Create an Animal class with method eat().\n",
    "- Create a Dog class inheriting from Animal and add method bark()."
   ]
  },
  {
   "cell_type": "code",
   "execution_count": 24,
   "id": "17e6d302",
   "metadata": {},
   "outputs": [
    {
     "name": "stdout",
     "output_type": "stream",
     "text": [
      "The dog is barking.\n",
      "This animal is eating.\n"
     ]
    }
   ],
   "source": [
    "class Animal:\n",
    "    def eat(self):\n",
    "        print(\"This animal is eating.\")\n",
    "\n",
    "\n",
    "class Dog(Animal):\n",
    "    def bark(self):\n",
    "        print(\"The dog is barking.\")\n",
    "\n",
    "\n",
    "\n",
    "\n",
    "dog  = Dog()\n",
    "dog.bark()\n",
    "\n",
    "dog.eat()\n",
    "\n",
    "        "
   ]
  },
  {
   "cell_type": "markdown",
   "id": "bc471fda",
   "metadata": {},
   "source": [
    "\n",
    "**10.  Bank Example**\n",
    "   \n",
    "- Create a base Account class with account_number.\n",
    "- Create SavingAccount class inheriting from Account with interest_rate."
   ]
  },
  {
   "cell_type": "code",
   "execution_count": 25,
   "id": "111f11a9",
   "metadata": {},
   "outputs": [
    {
     "name": "stdout",
     "output_type": "stream",
     "text": [
      "The Account Number is: PKLI778926542656527962298 and the interest rate is 10%\n"
     ]
    }
   ],
   "source": [
    "class Base:\n",
    "    def __init__(self, account_number):\n",
    "        self.account_number = account_number\n",
    "\n",
    "\n",
    "    \n",
    "class SavingAccount(Base):\n",
    "    def __init__(self, account_number, interest_rate):\n",
    "        super().__init__(account_number)\n",
    "\n",
    "        self.interest_rate = interest_rate\n",
    "\n",
    "    def show_details(self):\n",
    "        print(f\"The Account Number is: {self.account_number} and the interest rate is {self.interest_rate}%\")\n",
    "\n",
    "\n",
    "sa = SavingAccount(\"PKLI778926542656527962298\", 10)\n",
    "sa.show_details()"
   ]
  },
  {
   "cell_type": "markdown",
   "id": "69b2b433",
   "metadata": {},
   "source": [
    "**11.  Company Example**\n",
    "\n",
    "- Create a Company class with name.\n",
    "- Create an Employee class inheriting from Company with employee_id."
   ]
  },
  {
   "cell_type": "code",
   "execution_count": 26,
   "id": "e916add0",
   "metadata": {},
   "outputs": [
    {
     "name": "stdout",
     "output_type": "stream",
     "text": [
      "Company Name: Umer, Employee Id: 16766565\n"
     ]
    }
   ],
   "source": [
    "class Company:\n",
    "    def __init__(self, name):\n",
    "        self.name = name\n",
    "\n",
    "    def print_details(self):\n",
    "        print(f\"Company name: {self.name}\")\n",
    "\n",
    "class Employee(Company):\n",
    "    def __init__(self, name, employee_id):\n",
    "        super().__init__(name)\n",
    "        self.employee_id = employee_id\n",
    "\n",
    "    def show_details(self):\n",
    "        print(f\"Company Name: {self.name}, Employee Id: {self.employee_id}\")\n",
    "\n",
    "\n",
    "emp = Employee(\"Umer\", \"16766565\")\n",
    "emp.show_details()"
   ]
  },
  {
   "cell_type": "markdown",
   "id": "2159e703",
   "metadata": {},
   "source": [
    "**12.  Product Example**\n",
    "\n",
    "- Create a Product class with name and price.\n",
    "- Create a Book class inheriting from Product with author."
   ]
  },
  {
   "cell_type": "code",
   "execution_count": 27,
   "id": "9fdacd8e",
   "metadata": {},
   "outputs": [
    {
     "name": "stdout",
     "output_type": "stream",
     "text": [
      "Name: Sapiens, Price: 2000Rs, Author: Yuval Noah harari\n"
     ]
    }
   ],
   "source": [
    "class Product:\n",
    "    def __init__(self, name, price):\n",
    "        self.name = name  \n",
    "        self.price = price \n",
    "\n",
    "class Book(Product):\n",
    "    def __init__(self, name, price, author):\n",
    "        super().__init__(name, price)\n",
    "        self.author = author \n",
    "\n",
    "    def show_details(self):\n",
    "        print(f\"Name: {self.name}, Price: {self.price}Rs, Author: {self.author}\")\n",
    "\n",
    "\n",
    "\n",
    "bk = Book(\"Sapiens\", 2000, \"Yuval Noah harari\")\n",
    "bk.show_details()\n"
   ]
  },
  {
   "cell_type": "markdown",
   "id": "a6c8e89e",
   "metadata": {},
   "source": [
    "________"
   ]
  }
 ],
 "metadata": {
  "kernelspec": {
   "display_name": "tf_env",
   "language": "python",
   "name": "python3"
  },
  "language_info": {
   "codemirror_mode": {
    "name": "ipython",
    "version": 3
   },
   "file_extension": ".py",
   "mimetype": "text/x-python",
   "name": "python",
   "nbconvert_exporter": "python",
   "pygments_lexer": "ipython3",
   "version": "3.11.11"
  }
 },
 "nbformat": 4,
 "nbformat_minor": 5
}
