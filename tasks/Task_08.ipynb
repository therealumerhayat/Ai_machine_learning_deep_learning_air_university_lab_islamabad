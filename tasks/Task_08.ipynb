{
 "cells": [
  {
   "cell_type": "markdown",
   "id": "bc85f587",
   "metadata": {},
   "source": [
    "**Name:** Muhammad Umer\n",
    "\n",
    "**Email** umerhayat282@gmail.com\n",
    "\n",
    "**Date** September 23, 2025\n",
    "\n",
    "\n",
    "\n",
    "____"
   ]
  },
  {
   "cell_type": "markdown",
   "id": "d98dc4f0",
   "metadata": {},
   "source": [
    "**Basic Class and Object Creation**\n",
    "- Create a Car class with attributes make and model. Define a method display_info that prints the car&#39;s details. Create an object of the class and call the method to display the details. Example: make = &quot;Toyota&quot;, model = &quot;Camry&quot;."
   ]
  },
  {
   "cell_type": "code",
   "execution_count": null,
   "id": "a3bf5007",
   "metadata": {},
   "outputs": [],
   "source": []
  },
  {
   "cell_type": "markdown",
   "id": "4c418e8b",
   "metadata": {},
   "source": [
    "**Constructor with Parameters**\n",
    "- Write a Student class with a constructor that takes name and roll_no as parameters and initializes them as instance variables. Add a method introduce to print the student’s name and roll number. Create a Student object with name = &quot;Alice&quot; and roll_no = 101 and call the introduce method."
   ]
  },
  {
   "cell_type": "code",
   "execution_count": null,
   "id": "31a80e25",
   "metadata": {},
   "outputs": [],
   "source": []
  },
  {
   "cell_type": "markdown",
   "id": "a95a5342",
   "metadata": {},
   "source": [
    "**Using the self Keyword**\n",
    "- Create a Rectangle class with attributes length and width. Define a method area that uses self to calculate and return the area of the rectangle. Create an object with length = 5 and width = 3, and print the area."
   ]
  },
  {
   "cell_type": "code",
   "execution_count": null,
   "id": "d2b686b2",
   "metadata": {},
   "outputs": [],
   "source": []
  },
  {
   "cell_type": "markdown",
   "id": "8849c9ad",
   "metadata": {},
   "source": [
    "**Method with Return Value**\n",
    "- Write a Book class with attributes title and price. Define a method apply_discount that takes a discount percentage as a parameter, calculates the discounted price, and returns it. Create a Book object with title = &quot;Python Guide&quot;, price = 50 and apply a 10% discount, then print the discounted price."
   ]
  },
  {
   "cell_type": "code",
   "execution_count": null,
   "id": "7bf2c624",
   "metadata": {},
   "outputs": [],
   "source": []
  },
  {
   "cell_type": "markdown",
   "id": "1ca5cc5d",
   "metadata": {},
   "source": [
    "**Multiple Objects**\n",
    "- Create a Person class with attributes name and age initialized via a constructor. Define a method is_adult that returns True if the person’s age is 18 or more, otherwise False. Create two objects with name = &quot;John&quot;, age = 20 and name = &quot;Emma&quot;, age = 16, then print whether each is an adult."
   ]
  },
  {
   "cell_type": "code",
   "execution_count": null,
   "id": "677b6271",
   "metadata": {},
   "outputs": [],
   "source": []
  },
  {
   "cell_type": "markdown",
   "id": "4754a189",
   "metadata": {},
   "source": [
    "**Passing Data Between Methods**\n",
    "- Write a BankAccount class with an attribute balance initialized in the constructor. Define two methods: deposit to add an amount to the balance and get_balance to return the current balance. Create an object with an initial balance of 1000, deposit 500, and print the updated balance."
   ]
  },
  {
   "cell_type": "code",
   "execution_count": null,
   "id": "ba9c70a7",
   "metadata": {},
   "outputs": [],
   "source": []
  },
  {
   "cell_type": "markdown",
   "id": "509a6a75",
   "metadata": {},
   "source": [
    "**Default Constructor Parameters**\n",
    "- Create a Product class with a constructor that takes name and price (with a default price of 10). Define a method display to print the product details. Create two objects: one with name = &quot;Pen&quot;, price = 5 and another with only name = &quot;Notebook&quot;. Call display for both."
   ]
  },
  {
   "cell_type": "code",
   "execution_count": null,
   "id": "4f2edf5e",
   "metadata": {},
   "outputs": [],
   "source": []
  },
  {
   "cell_type": "markdown",
   "id": "d7761c6e",
   "metadata": {},
   "source": [
    "**Class with Multiple Methods**\n",
    "\n",
    "- Write a Circle class with an attribute radius initialized via a constructor. Define two methods: circumference to return the circumference (use 3.14 for π) and area to return the area. Create a Circle object with radius = 4 and print both the circumference and area."
   ]
  },
  {
   "cell_type": "code",
   "execution_count": null,
   "id": "32aca1d0",
   "metadata": {},
   "outputs": [],
   "source": []
  },
  {
   "cell_type": "markdown",
   "id": "07c39ee7",
   "metadata": {},
   "source": [
    "**Updating Attributes via Methods**\n",
    "- Create an Employee class with attributes name and salary initialized in the constructor. Define a method give_raise that takes a percentage as input and updates the salary accordingly. Create an object with name = &quot;Sarah&quot;, salary = 50000, give a 10% raise, and print the new salary."
   ]
  },
  {
   "cell_type": "code",
   "execution_count": null,
   "id": "d2450aed",
   "metadata": {},
   "outputs": [],
   "source": []
  },
  {
   "cell_type": "markdown",
   "id": "ff4065cc",
   "metadata": {},
   "source": [
    "**Class with Conditional Logic**\n",
    "- Write a TrafficLight class with an attribute color initialized via a constructor. Define a method action that returns &quot;Go&quot; if the color is &quot;green&quot;, &quot;Stop&quot; if the color is &quot;red&quot;, and &quot;Caution&quot; if the color is &quot;yellow&quot;. Create three objects with colors &quot;green&quot;, &quot;red&quot;, and &quot;yellow&quot;, and print the action for each."
   ]
  },
  {
   "cell_type": "code",
   "execution_count": null,
   "id": "cbba8716",
   "metadata": {},
   "outputs": [],
   "source": []
  },
  {
   "cell_type": "markdown",
   "id": "1182d561",
   "metadata": {},
   "source": [
    "____"
   ]
  },
  {
   "cell_type": "markdown",
   "id": "431ecabc",
   "metadata": {},
   "source": [
    "##  SELF Exploration Tasks"
   ]
  },
  {
   "cell_type": "markdown",
   "id": "bc38d2f0",
   "metadata": {},
   "source": [
    "**Instance Method vs Class Method**\n",
    "- Create a Library class with a class variable total_books initialized to 0. Define a constructor that takes book_name as a parameter and increments total_books using self. Add an instance method add_book that prints the book_name using self. Define a class method get_total_books using @classmethod and cls to return the value of total_books. Create two Library objects with book_name = &quot;Python Basics&quot; and book_name = &quot;Data Science&quot;, call add_book for each, and then use the class method to print the total number of books."
   ]
  },
  {
   "cell_type": "code",
   "execution_count": null,
   "id": "3b9028f4",
   "metadata": {},
   "outputs": [],
   "source": []
  },
  {
   "cell_type": "markdown",
   "id": "4c9eeda0",
   "metadata": {},
   "source": [
    "\n",
    "\n",
    "**Class Method to Create Objects**\n",
    "- Write a Person class with instance attributes name and age initialized via a constructor. Add a class method from_string using @classmethod and cls that takes a string in the format &quot;name,age&quot; (e.g., &quot;Alice,25&quot;), splits it, and returns a new Person object using cls. Define an instance method display using self to print the person’s details. Create one object directly with name = &quot;Bob&quot;, age = 30 and another using the class method with the string &quot;Alice,25&quot;. Call display for both objects."
   ]
  },
  {
   "cell_type": "code",
   "execution_count": null,
   "id": "e01a7c85",
   "metadata": {},
   "outputs": [],
   "source": []
  }
 ],
 "metadata": {
  "language_info": {
   "name": "python"
  }
 },
 "nbformat": 4,
 "nbformat_minor": 5
}
