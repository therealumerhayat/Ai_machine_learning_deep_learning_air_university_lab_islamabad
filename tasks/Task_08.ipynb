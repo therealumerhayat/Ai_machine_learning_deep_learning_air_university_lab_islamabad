{
 "cells": [
  {
   "cell_type": "markdown",
   "id": "bc85f587",
   "metadata": {},
   "source": [
    "**Name:** Muhammad Umer\n",
    "\n",
    "**Email** umerhayat282@gmail.com\n",
    "\n",
    "**Date** September 23, 2025\n",
    "\n",
    "\n",
    "\n",
    "____"
   ]
  },
  {
   "cell_type": "markdown",
   "id": "d98dc4f0",
   "metadata": {},
   "source": [
    "**Basic Class and Object Creation**\n",
    "- Create a Car class with attributes make and model. Define a method display_info that prints the car&#39;s details. Create an object of the class and call the method to display the details. Example: make = &quot;Toyota&quot;, model = &quot;Camry&quot;."
   ]
  },
  {
   "cell_type": "code",
   "execution_count": 3,
   "id": "a3bf5007",
   "metadata": {},
   "outputs": [
    {
     "name": "stdout",
     "output_type": "stream",
     "text": [
      "Car Make: Toyota, Model: Camry\n"
     ]
    }
   ],
   "source": [
    "class car:\n",
    "    def __init__(self, make, model):\n",
    "        self.make = make\n",
    "        self.model= model\n",
    "    \n",
    "    def display_info(self):\n",
    "        print(f\"Car Make: {self.make}, Model: {self.model}\")\n",
    "\n",
    "carobj = car(make=\"Toyota\", model=\"Camry\")\n",
    "carobj.display_info()\n",
    "    "
   ]
  },
  {
   "cell_type": "markdown",
   "id": "4c418e8b",
   "metadata": {},
   "source": [
    "**Constructor with Parameters**\n",
    "- Write a Student class with a constructor that takes name and roll_no as parameters and initializes them as instance variables. Add a method introduce to print the student’s name and roll number. Create a Student object with name = &quot;Alice&quot; and roll_no = 101 and call the introduce method."
   ]
  },
  {
   "cell_type": "code",
   "execution_count": 4,
   "id": "31a80e25",
   "metadata": {},
   "outputs": [
    {
     "name": "stdout",
     "output_type": "stream",
     "text": [
      "Name: Alice, Roll Number: 101\n"
     ]
    }
   ],
   "source": [
    "class student:\n",
    "    def __init__(self, name, roll_number):\n",
    "        self.name = name\n",
    "        self.roll_number = roll_number\n",
    "\n",
    "    def display(self):\n",
    "        print(f\"Name: {self.name}, Roll Number: {self.roll_number}\")\n",
    "\n",
    "st = student(name=\"Alice\", roll_number=101)\n",
    "st.display()\n"
   ]
  },
  {
   "cell_type": "markdown",
   "id": "a95a5342",
   "metadata": {},
   "source": [
    "**Using the self Keyword**\n",
    "- Create a Rectangle class with attributes length and width. Define a method area that uses self to calculate and return the area of the rectangle. Create an object with length = 5 and width = 3, and print the area."
   ]
  },
  {
   "cell_type": "code",
   "execution_count": 48,
   "id": "d2b686b2",
   "metadata": {},
   "outputs": [
    {
     "name": "stdout",
     "output_type": "stream",
     "text": [
      "Area of Rectangle is : 900\n"
     ]
    }
   ],
   "source": [
    "class Rectangle:\n",
    "    def area(self,length,width):\n",
    "        ar = length * width\n",
    "        print(f\"Area of Rectangle is : {ar}\")\n",
    "\n",
    "rect = Rectangle()\n",
    "rect.area(25,36)"
   ]
  },
  {
   "cell_type": "markdown",
   "id": "8849c9ad",
   "metadata": {},
   "source": [
    "**Method with Return Value**\n",
    "- Write a Book class with attributes title and price. Define a method apply_discount that takes a discount percentage as a parameter, calculates the discounted price, and returns it. Create a Book object with title = &quot;Python Guide&quot;, price = 50 and apply a 10% discount, then print the discounted price."
   ]
  },
  {
   "cell_type": "code",
   "execution_count": 8,
   "id": "7bf2c624",
   "metadata": {},
   "outputs": [
    {
     "data": {
      "text/plain": [
       "45.0"
      ]
     },
     "execution_count": 8,
     "metadata": {},
     "output_type": "execute_result"
    }
   ],
   "source": [
    "class Book:\n",
    "    def __init__(self, title, price):\n",
    "        self.title = title\n",
    "        self.price = price\n",
    "    def apply_discount(self,discount_percent):\n",
    "        discount_amount = self.price * (discount_percent / 100)\n",
    "        discount_price = self.price - discount_amount\n",
    "        return discount_price\n",
    "    \n",
    "b = Book(title=\"Python Guide\", price=50)\n",
    "b.apply_discount(10)\n",
    "\n",
    "        "
   ]
  },
  {
   "cell_type": "markdown",
   "id": "1ca5cc5d",
   "metadata": {},
   "source": [
    "**Multiple Objects**\n",
    "- Create a Person class with attributes name and age initialized via a constructor. Define a method is_adult that returns True if the person’s age is 18 or more, otherwise False. Create two objects with name = &quot;John&quot;, age = 20 and name = &quot;Emma&quot;, age = 16, then print whether each is an adult."
   ]
  },
  {
   "cell_type": "code",
   "execution_count": 10,
   "id": "677b6271",
   "metadata": {},
   "outputs": [
    {
     "name": "stdout",
     "output_type": "stream",
     "text": [
      "John is adult: True\n",
      "Emma is adult: False\n"
     ]
    }
   ],
   "source": [
    "class Person:\n",
    "    def __init__(self, name, age):\n",
    "        self.name = name\n",
    "        self.age = age\n",
    "    def is_adult(self):\n",
    "        if self.age >= 18:\n",
    "            return True\n",
    "        else:\n",
    "            return False \n",
    "        \n",
    "pr = Person(name=\"John\", age=20)\n",
    "pr2 = Person(name=\"Emma\", age=16)\n",
    "\n",
    "print(f\"John is adult: {pr.is_adult()}\")\n",
    "print(f\"Emma is adult: {pr2.is_adult()}\")"
   ]
  },
  {
   "cell_type": "markdown",
   "id": "4754a189",
   "metadata": {},
   "source": [
    "**Passing Data Between Methods**\n",
    "- Write a BankAccount class with an attribute balance initialized in the constructor. Define two methods: deposit to add an amount to the balance and get_balance to return the current balance. Create an object with an initial balance of 1000, deposit 500, and print the updated balance."
   ]
  },
  {
   "cell_type": "code",
   "execution_count": 19,
   "id": "ba9c70a7",
   "metadata": {},
   "outputs": [
    {
     "name": "stdout",
     "output_type": "stream",
     "text": [
      "Amount Deposited Succesfully: True\n",
      "Check Balance After deposit: 1850 \n"
     ]
    }
   ],
   "source": [
    "class BankAccount:\n",
    "    def __init__(self,balance):\n",
    "        self.balance = balance\n",
    "    def deposit(self, amount):\n",
    "        self.balance += amount\n",
    "        return True\n",
    "    def get_balance(self):\n",
    "        return self.balance\n",
    "\n",
    "\n",
    "bk = BankAccount(balance=1000)\n",
    "print(f\"Amount Deposited Succesfully: {bk.deposit(amount=850)}\")\n",
    "print(f\"Check Balance After deposit: {bk.get_balance()} \")\n",
    "\n",
    "\n",
    "        "
   ]
  },
  {
   "cell_type": "markdown",
   "id": "509a6a75",
   "metadata": {},
   "source": [
    "**Default Constructor Parameters**\n",
    "- Create a Product class with a constructor that takes name and price (with a default price of 10). Define a method display to print the product details. Create two objects: one with name = &quot;Pen&quot;, price = 5 and another with only name = &quot;Notebook&quot;. Call display for both."
   ]
  },
  {
   "cell_type": "code",
   "execution_count": 27,
   "id": "4f2edf5e",
   "metadata": {},
   "outputs": [
    {
     "name": "stdout",
     "output_type": "stream",
     "text": [
      "Product Name: Pen, Price: 5\n",
      "Product Name: Notebook, Price: 10\n"
     ]
    }
   ],
   "source": [
    "class Product:\n",
    "    def __init__(self, name, price=10): \n",
    "        self.name = name\n",
    "        self.price = price\n",
    "\n",
    "    def display(self):\n",
    "        print(f\"Product Name: {self.name}, Price: {self.price}\")\n",
    "\n",
    "\n",
    "pr1 = Product(name=\"Pen\", price=5)\n",
    "pr2 = Product(name=\"Notebook\")\n",
    "\n",
    "pr1.display()\n",
    "pr2.display()\n",
    "        "
   ]
  },
  {
   "cell_type": "markdown",
   "id": "d7761c6e",
   "metadata": {},
   "source": [
    "**Class with Multiple Methods**\n",
    "\n",
    "- Write a Circle class with an attribute radius initialized via a constructor. Define two methods: circumference to return the circumference (use 3.14 for π) and area to return the area. Create a Circle object with radius = 4 and print both the circumference and area."
   ]
  },
  {
   "cell_type": "code",
   "execution_count": 32,
   "id": "32aca1d0",
   "metadata": {},
   "outputs": [
    {
     "name": "stdout",
     "output_type": "stream",
     "text": [
      "Circumference: 25.12\n",
      "Area: 100.48\n"
     ]
    }
   ],
   "source": [
    "class Circle:\n",
    "    def __init__(self, radius):\n",
    "        self.radius = radius\n",
    "\n",
    "    def circumference(self):\n",
    "        cir = 2*3.14*self.radius\n",
    "        return cir\n",
    "    def area(self):\n",
    "        ar = self.radius * self.circumference()\n",
    "        return ar\n",
    "    \n",
    "c = Circle(radius=4)\n",
    "print(\"Circumference:\", c.circumference())\n",
    "print(\"Area:\", c.area())\n",
    "\n",
    "        "
   ]
  },
  {
   "cell_type": "markdown",
   "id": "07c39ee7",
   "metadata": {},
   "source": [
    "**Updating Attributes via Methods**\n",
    "- Create an Employee class with attributes name and salary initialized in the constructor. Define a method give_raise that takes a percentage as input and updates the salary accordingly. Create an object with name = &quot;Sarah&quot;, salary = 50000, give a 10% raise, and print the new salary."
   ]
  },
  {
   "cell_type": "code",
   "execution_count": 36,
   "id": "d2450aed",
   "metadata": {},
   "outputs": [
    {
     "name": "stdout",
     "output_type": "stream",
     "text": [
      "Updated Salary: 1320000.0\n"
     ]
    }
   ],
   "source": [
    "class Employee:\n",
    "    def __init__(self, name, salary):\n",
    "        self.name = name\n",
    "        self.salary = salary\n",
    "\n",
    "    def give_raise(self, percentage):\n",
    "        raise_amount = self.salary * (percentage / 100)\n",
    "        new_salary = self.salary + raise_amount\n",
    "        return new_salary\n",
    "\n",
    "emp = Employee(name=\"Umer\", salary=1200000)\n",
    "print(\"Updated Salary:\", emp.give_raise(10))\n",
    "\n",
    "        "
   ]
  },
  {
   "cell_type": "markdown",
   "id": "ff4065cc",
   "metadata": {},
   "source": [
    "**Class with Conditional Logic**\n",
    "- Write a TrafficLight class with an attribute color initialized via a constructor. Define a method action that returns &quot;Go&quot; if the color is &quot;green&quot;, &quot;Stop&quot; if the color is &quot;red&quot;, and &quot;Caution&quot; if the color is &quot;yellow&quot;. Create three objects with colors &quot;green&quot;, &quot;red&quot;, and &quot;yellow&quot;, and print the action for each."
   ]
  },
  {
   "cell_type": "code",
   "execution_count": 41,
   "id": "cbba8716",
   "metadata": {},
   "outputs": [
    {
     "name": "stdout",
     "output_type": "stream",
     "text": [
      "GO\n",
      "STOP\n",
      "Caution\n"
     ]
    }
   ],
   "source": [
    "class TrafficLight:\n",
    "    def __init__(self, color):\n",
    "        self.color = color\n",
    "\n",
    "    def signal(self):\n",
    "        if self.color == \"green\":\n",
    "            return \"GO\"\n",
    "        elif self.color == \"red\":\n",
    "            return \"STOP\"\n",
    "        elif self.color == \"yellow\":\n",
    "            return \"Caution\"\n",
    "        else: \n",
    "            return \"Kindly enter valid input\"\n",
    "\n",
    "obj1 = TrafficLight(color=\"green\")\n",
    "obj2 = TrafficLight(color=\"red\")\n",
    "obj3 = TrafficLight(color=\"yellow\")\n",
    "\n",
    "print(obj1.signal())  # GO\n",
    "print(obj2.signal())  # STOP\n",
    "print(obj3.signal())  # Caution"
   ]
  },
  {
   "cell_type": "markdown",
   "id": "1182d561",
   "metadata": {},
   "source": [
    "____"
   ]
  },
  {
   "cell_type": "markdown",
   "id": "431ecabc",
   "metadata": {},
   "source": [
    "##  SELF Exploration Tasks"
   ]
  },
  {
   "cell_type": "markdown",
   "id": "bc38d2f0",
   "metadata": {},
   "source": [
    "**Instance Method vs Class Method**\n",
    "- Create a Library class with a class variable total_books initialized to 0. Define a constructor that takes book_name as a parameter and increments total_books using self. Add an instance method add_book that prints the book_name using self. Define a class method get_total_books using @classmethod and cls to return the value of total_books. Create two Library objects with book_name = &quot;Python Basics&quot; and book_name = &quot;Data Science&quot;, call add_book for each, and then use the class method to print the total number of books."
   ]
  },
  {
   "cell_type": "code",
   "execution_count": 44,
   "id": "3b9028f4",
   "metadata": {},
   "outputs": [
    {
     "name": "stdout",
     "output_type": "stream",
     "text": [
      "Book Name: Python Basics\n",
      "Book Name: Data Science\n",
      "Total Books: 2\n"
     ]
    }
   ],
   "source": [
    "class Library:\n",
    "    total_books = 0\n",
    "    def __init__(self, book_name):\n",
    "        self.book_name = book_name\n",
    "        Library.total_books += 1\n",
    "\n",
    "    def add_book(self):\n",
    "        print(f\"Book Name: {self.book_name}\")\n",
    "\n",
    "    @classmethod\n",
    "    def get_total_books(cls):\n",
    "        return cls.total_books\n",
    "    \n",
    "\n",
    "l1 = Library(book_name=\"Python Basics\")\n",
    "l2 = Library(book_name=\"Data Science\")\n",
    "\n",
    "l1.add_book()\n",
    "l2.add_book()\n",
    "\n",
    "print(f\"Total Books: {Library.get_total_books()}\")\n"
   ]
  },
  {
   "cell_type": "markdown",
   "id": "4c9eeda0",
   "metadata": {},
   "source": [
    "\n",
    "\n",
    "**Class Method to Create Objects**\n",
    "- Write a Person class with instance attributes name and age initialized via a constructor. Add a class method from_string using @classmethod and cls that takes a string in the format &quot;name,age&quot; (e.g., &quot;Alice,25&quot;), splits it, and returns a new Person object using cls. Define an instance method display using self to print the person’s details. Create one object directly with name = &quot;Bob&quot;, age = 30 and another using the class method with the string &quot;Alice,25&quot;. Call display for both objects."
   ]
  },
  {
   "cell_type": "code",
   "execution_count": 47,
   "id": "e01a7c85",
   "metadata": {},
   "outputs": [
    {
     "name": "stdout",
     "output_type": "stream",
     "text": [
      "Name: Umer, Age: 25\n",
      "Name: Hayat, Age: 24\n"
     ]
    }
   ],
   "source": [
    "class Person:\n",
    "    def __init__(self, name, age):\n",
    "        self.name = name \n",
    "        self.age = age\n",
    "\n",
    "    @classmethod\n",
    "    def from_string(cls, data_string):\n",
    "        name, age = data_string.split(\",\")\n",
    "        return cls(name, int(age))\n",
    "        \n",
    "    def display(self):\n",
    "        print(f\"Name: {self.name}, Age: {self.age}\")\n",
    "\n",
    "#obj directly\n",
    "pr1 = Person(name=\"Umer\", age=25)\n",
    "#create obj using method directly\n",
    "pr2 = Person.from_string(\"Hayat,24\")\n",
    "\n",
    "\n",
    "pr1.display()\n",
    "pr2.display()\n",
    "    "
   ]
  },
  {
   "cell_type": "markdown",
   "id": "a96fdc18",
   "metadata": {},
   "source": [
    "___"
   ]
  }
 ],
 "metadata": {
  "kernelspec": {
   "display_name": "tf_env",
   "language": "python",
   "name": "python3"
  },
  "language_info": {
   "codemirror_mode": {
    "name": "ipython",
    "version": 3
   },
   "file_extension": ".py",
   "mimetype": "text/x-python",
   "name": "python",
   "nbconvert_exporter": "python",
   "pygments_lexer": "ipython3",
   "version": "3.11.11"
  }
 },
 "nbformat": 4,
 "nbformat_minor": 5
}
