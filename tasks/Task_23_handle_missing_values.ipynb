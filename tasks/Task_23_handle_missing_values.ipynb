{
 "cells": [
  {
   "cell_type": "markdown",
   "id": "69a7fc86",
   "metadata": {},
   "source": [
    "**Name:** Muhammad Umer\n",
    "\n",
    "**Email** umerhayat282@gmail.com\n",
    "\n",
    "**Date** October 21, 2025\n",
    "\n",
    "____"
   ]
  },
  {
   "cell_type": "markdown",
   "id": "7713ddcc",
   "metadata": {},
   "source": [
    "# Data Cleaning and Preprocessing\n",
    "\n",
    "This notebook focuses on handling missing values and duplicate records in the provided datasets.\n",
    "\n",
    "Objectives:\n",
    "\n",
    "- Identify and manage missing data using appropriate strategies (e.g., removal, imputation, or replacement).\n",
    "- Detect and remove duplicate entries to ensure data integrity and consistency.\n",
    "- Visualize data distributions and missing value patterns to gain deeper insights into data quality."
   ]
  },
  {
   "cell_type": "markdown",
   "id": "a396218e",
   "metadata": {},
   "source": [
    "___"
   ]
  },
  {
   "cell_type": "markdown",
   "id": "f409b8ef",
   "metadata": {},
   "source": [
    "## 📑 Table of Contents\n",
    "\n",
    "1. **Data Cleaning and Preprocessing**\n",
    "   - 1.1 [Titanic Dataset](#1.1--titanic-dataset)\n",
    "     - Overview  \n",
    "     - Observations — Missing Values in Titanic Dataset  \n",
    "       - A — Embarked (≈0.2% missing)  \n",
    "       - B — Cabin (≈77% missing)  \n",
    "       - C — Encode categorical columns  \n",
    "       - D — Age (≈20% missing)  \n",
    "       - E — Verification  \n",
    "     - Outlier Detection and Handling  \n",
    "     - Summary of Approach  \n",
    "     - Detailed Explanation  \n",
    "     - Check Duplicate Values  \n",
    "   - 1.2 [Salary Dataset](#1.2--salary-dataset)\n",
    "     - Overview  \n",
    "     - Outlier Detection and Handling — Salary Dataset  \n",
    "   - 1.3 [Employee Dataset](#1.3--employee-dataset)\n",
    "     - Overview  \n",
    "     - Outlier Detection and Handling — Employee Dataset  \n",
    "       - A — Fill categorical columns with mode  \n",
    "       - B — Temporary encoding for KNNImputer  \n",
    "       - C — Apply KNN Imputation on numeric columns (Age, Salary)  \n",
    "       - D — Replace imputed values back into original DataFrame  \n",
    "       - E — Verify results  \n",
    "     - Missing Value Handling Strategy\n"
   ]
  },
  {
   "cell_type": "markdown",
   "id": "ee81415e",
   "metadata": {},
   "source": [
    "___"
   ]
  },
  {
   "cell_type": "code",
   "execution_count": 80,
   "id": "e9f7f71f",
   "metadata": {},
   "outputs": [],
   "source": [
    "#importing liabraries\n",
    "import pandas as pd\n",
    "import numpy as np\n",
    "import matplotlib.pyplot as plt\n",
    "import seaborn as sns\n",
    "\n",
    "from sklearn.impute import KNNImputer\n",
    "from sklearn.preprocessing import LabelEncoder\n",
    "\n",
    "\n",
    "\n",
    "\n",
    "import warnings\n",
    "warnings.filterwarnings('ignore')"
   ]
  },
  {
   "cell_type": "code",
   "execution_count": 81,
   "id": "0761f3b6",
   "metadata": {},
   "outputs": [],
   "source": [
    "# Load dataset\n",
    "df_titanic = pd.read_csv(r'D:\\Ai_machine_learning_deep_learning_air_university_lab_islamabad\\data\\titanic.csv') #i use r to avoid unicode decode error\n",
    "df_salary = pd.read_csv('D:\\Ai_machine_learning_deep_learning_air_university_lab_islamabad\\data\\Salaries.csv')\n",
    "df_employee = pd.read_csv('D:\\Ai_machine_learning_deep_learning_air_university_lab_islamabad\\data\\Employee.csv')"
   ]
  },
  {
   "cell_type": "markdown",
   "id": "3d7aab54",
   "metadata": {},
   "source": [
    "## 1.1 — Titanic Dataset\n",
    "\n",
    "### Overview"
   ]
  },
  {
   "cell_type": "code",
   "execution_count": 82,
   "id": "24f05ca9",
   "metadata": {},
   "outputs": [
    {
     "data": {
      "text/html": [
       "<div>\n",
       "<style scoped>\n",
       "    .dataframe tbody tr th:only-of-type {\n",
       "        vertical-align: middle;\n",
       "    }\n",
       "\n",
       "    .dataframe tbody tr th {\n",
       "        vertical-align: top;\n",
       "    }\n",
       "\n",
       "    .dataframe thead th {\n",
       "        text-align: right;\n",
       "    }\n",
       "</style>\n",
       "<table border=\"1\" class=\"dataframe\">\n",
       "  <thead>\n",
       "    <tr style=\"text-align: right;\">\n",
       "      <th></th>\n",
       "      <th>PassengerId</th>\n",
       "      <th>Survived</th>\n",
       "      <th>Pclass</th>\n",
       "      <th>Name</th>\n",
       "      <th>Sex</th>\n",
       "      <th>Age</th>\n",
       "      <th>SibSp</th>\n",
       "      <th>Parch</th>\n",
       "      <th>Ticket</th>\n",
       "      <th>Fare</th>\n",
       "      <th>Cabin</th>\n",
       "      <th>Embarked</th>\n",
       "    </tr>\n",
       "  </thead>\n",
       "  <tbody>\n",
       "    <tr>\n",
       "      <th>0</th>\n",
       "      <td>1</td>\n",
       "      <td>0</td>\n",
       "      <td>3</td>\n",
       "      <td>Braund, Mr. Owen Harris</td>\n",
       "      <td>male</td>\n",
       "      <td>22.0</td>\n",
       "      <td>1</td>\n",
       "      <td>0</td>\n",
       "      <td>A/5 21171</td>\n",
       "      <td>7.2500</td>\n",
       "      <td>NaN</td>\n",
       "      <td>S</td>\n",
       "    </tr>\n",
       "    <tr>\n",
       "      <th>1</th>\n",
       "      <td>2</td>\n",
       "      <td>1</td>\n",
       "      <td>1</td>\n",
       "      <td>Cumings, Mrs. John Bradley (Florence Briggs Th...</td>\n",
       "      <td>female</td>\n",
       "      <td>38.0</td>\n",
       "      <td>1</td>\n",
       "      <td>0</td>\n",
       "      <td>PC 17599</td>\n",
       "      <td>71.2833</td>\n",
       "      <td>C85</td>\n",
       "      <td>C</td>\n",
       "    </tr>\n",
       "    <tr>\n",
       "      <th>2</th>\n",
       "      <td>3</td>\n",
       "      <td>1</td>\n",
       "      <td>3</td>\n",
       "      <td>Heikkinen, Miss. Laina</td>\n",
       "      <td>female</td>\n",
       "      <td>26.0</td>\n",
       "      <td>0</td>\n",
       "      <td>0</td>\n",
       "      <td>STON/O2. 3101282</td>\n",
       "      <td>7.9250</td>\n",
       "      <td>NaN</td>\n",
       "      <td>S</td>\n",
       "    </tr>\n",
       "    <tr>\n",
       "      <th>3</th>\n",
       "      <td>4</td>\n",
       "      <td>1</td>\n",
       "      <td>1</td>\n",
       "      <td>Futrelle, Mrs. Jacques Heath (Lily May Peel)</td>\n",
       "      <td>female</td>\n",
       "      <td>35.0</td>\n",
       "      <td>1</td>\n",
       "      <td>0</td>\n",
       "      <td>113803</td>\n",
       "      <td>53.1000</td>\n",
       "      <td>C123</td>\n",
       "      <td>S</td>\n",
       "    </tr>\n",
       "    <tr>\n",
       "      <th>4</th>\n",
       "      <td>5</td>\n",
       "      <td>0</td>\n",
       "      <td>3</td>\n",
       "      <td>Allen, Mr. William Henry</td>\n",
       "      <td>male</td>\n",
       "      <td>35.0</td>\n",
       "      <td>0</td>\n",
       "      <td>0</td>\n",
       "      <td>373450</td>\n",
       "      <td>8.0500</td>\n",
       "      <td>NaN</td>\n",
       "      <td>S</td>\n",
       "    </tr>\n",
       "  </tbody>\n",
       "</table>\n",
       "</div>"
      ],
      "text/plain": [
       "   PassengerId  Survived  Pclass  \\\n",
       "0            1         0       3   \n",
       "1            2         1       1   \n",
       "2            3         1       3   \n",
       "3            4         1       1   \n",
       "4            5         0       3   \n",
       "\n",
       "                                                Name     Sex   Age  SibSp  \\\n",
       "0                            Braund, Mr. Owen Harris    male  22.0      1   \n",
       "1  Cumings, Mrs. John Bradley (Florence Briggs Th...  female  38.0      1   \n",
       "2                             Heikkinen, Miss. Laina  female  26.0      0   \n",
       "3       Futrelle, Mrs. Jacques Heath (Lily May Peel)  female  35.0      1   \n",
       "4                           Allen, Mr. William Henry    male  35.0      0   \n",
       "\n",
       "   Parch            Ticket     Fare Cabin Embarked  \n",
       "0      0         A/5 21171   7.2500   NaN        S  \n",
       "1      0          PC 17599  71.2833   C85        C  \n",
       "2      0  STON/O2. 3101282   7.9250   NaN        S  \n",
       "3      0            113803  53.1000  C123        S  \n",
       "4      0            373450   8.0500   NaN        S  "
      ]
     },
     "execution_count": 82,
     "metadata": {},
     "output_type": "execute_result"
    }
   ],
   "source": [
    "df_titanic.head()"
   ]
  },
  {
   "cell_type": "code",
   "execution_count": 83,
   "id": "9a602b60",
   "metadata": {},
   "outputs": [
    {
     "data": {
      "text/plain": [
       "PassengerId     0.000000\n",
       "Survived        0.000000\n",
       "Pclass          0.000000\n",
       "Name            0.000000\n",
       "Sex             0.000000\n",
       "Age            19.865320\n",
       "SibSp           0.000000\n",
       "Parch           0.000000\n",
       "Ticket          0.000000\n",
       "Fare            0.000000\n",
       "Cabin          77.104377\n",
       "Embarked        0.224467\n",
       "dtype: float64"
      ]
     },
     "execution_count": 83,
     "metadata": {},
     "output_type": "execute_result"
    }
   ],
   "source": [
    "df_titanic.isnull().sum() / len(df_titanic) * 100"
   ]
  },
  {
   "cell_type": "markdown",
   "id": "478b7f38",
   "metadata": {},
   "source": [
    "### Observations — Missing Values in Titanic Dataset\n",
    "\n",
    "- The `Age` column has approximately 19.87% missing values, which may impact analyses involving age-related insights.\n",
    "- The `Cabin` column has the highest proportion of missing data (~77.10%), indicating cabin info is largely absent.\n",
    "- The `Embarked` column has a very small percentage of missing values (~0.22%), which can be easily managed.\n",
    "- All other columns (`PassengerId`, `Survived`, `Pclass`, `Name`, `Sex`, `SibSp`, `Parch`, `Ticket`, `Fare`) have complete data."
   ]
  },
  {
   "cell_type": "code",
   "execution_count": 84,
   "id": "0fd5570e",
   "metadata": {},
   "outputs": [
    {
     "data": {
      "image/png": "[encoded data removed]",
      "text/plain": [
       "<Figure size 1000x600 with 1 Axes>"
      ]
     },
     "metadata": {},
     "output_type": "display_data"
    }
   ],
   "source": [
    "#lets visualize the missing values in the titanic dataset\n",
    "plt.figure(figsize=(10,6))\n",
    "sns.heatmap(df_titanic.isnull(),yticklabels=False,cbar=False,cmap='viridis')\n",
    "plt.title('Missing Values in Titanic Dataset')\n",
    "plt.show()"
   ]
  },
  {
   "cell_type": "markdown",
   "id": "4c137e25",
   "metadata": {},
   "source": [
    "#### A — Embarked (≈0.2% missing)\n",
    "\n",
    "Mode imputation"
   ]
  },
  {
   "cell_type": "code",
   "execution_count": 85,
   "id": "e188e797",
   "metadata": {},
   "outputs": [],
   "source": [
    "df_titanic['Embarked'].fillna(df_titanic['Embarked'].mode()[0],inplace=True)"
   ]
  },
  {
   "cell_type": "markdown",
   "id": "66bcb309",
   "metadata": {},
   "source": [
    "#### B — Cabin (≈77% missing)\n",
    "\n",
    "Extract deck letter and drop the original `Cabin` column to salvage useful information."
   ]
  },
  {
   "cell_type": "code",
   "execution_count": 86,
   "id": "bf9be859",
   "metadata": {},
   "outputs": [],
   "source": [
    "df_titanic['Deck'] = df_titanic['Cabin'].apply(lambda x: x[0] if pd.notna(x) else np.nan)\n",
    "df_titanic.drop(columns=['Cabin'], inplace=True)"
   ]
  },
  {
   "cell_type": "markdown",
   "id": "effbbc27",
   "metadata": {},
   "source": [
    "#### C — Encode categorical columns\n",
    "\n",
    "(Temporary label encoding — required because KNNImputer needs numeric input)"
   ]
  },
  {
   "cell_type": "code",
   "execution_count": 87,
   "id": "486f9dfc",
   "metadata": {},
   "outputs": [],
   "source": [
    "label_cols = ['Sex','Embarked','Deck']\n",
    "label_encoders = {}\n",
    "\n",
    "for col in label_cols:\n",
    "    le = LabelEncoder()\n",
    "    df_titanic[col] = df_titanic[col].astype(str)  # Ensure all data is string type\n",
    "    df_titanic[col] = le.fit_transform(df_titanic[col])\n",
    "    label_encoders[col] = le"
   ]
  },
  {
   "cell_type": "markdown",
   "id": "c341f5ec",
   "metadata": {},
   "source": [
    "#### D — Age (≈20% missing)\n",
    "\n",
    "KNN Imputation using similar passengers"
   ]
  },
  {
   "cell_type": "code",
   "execution_count": 88,
   "id": "8db1a1ed",
   "metadata": {},
   "outputs": [],
   "source": [
    "#select numeric features for relevant for prediction\n",
    "impute_features = ['Age', 'Pclass', 'Sex', 'SibSp', 'Parch', 'Fare']\n",
    "imputer = KNNImputer(n_neighbors=5)\n",
    "df_titanic[impute_features] = imputer.fit_transform(df_titanic[impute_features])"
   ]
  },
  {
   "cell_type": "markdown",
   "id": "a500f544",
   "metadata": {},
   "source": [
    "#### E — Verification\n",
    "\n",
    "Verify no remaining missing values and visualize the result."
   ]
  },
  {
   "cell_type": "code",
   "execution_count": 89,
   "id": "f9295d2f",
   "metadata": {},
   "outputs": [
    {
     "name": "stdout",
     "output_type": "stream",
     "text": [
      "\n",
      "✅ Missing values after handling:\n",
      " PassengerId    0.0\n",
      "Survived       0.0\n",
      "Pclass         0.0\n",
      "Name           0.0\n",
      "Sex            0.0\n",
      "Age            0.0\n",
      "SibSp          0.0\n",
      "Parch          0.0\n",
      "Ticket         0.0\n",
      "Fare           0.0\n",
      "Embarked       0.0\n",
      "Deck           0.0\n",
      "dtype: float64\n"
     ]
    }
   ],
   "source": [
    "#lets verify if there are any missing values left\n",
    "print(\"\\n✅ Missing values after handling:\\n\", df_titanic.isnull().mean() * 100)"
   ]
  },
  {
   "cell_type": "code",
   "execution_count": 90,
   "id": "0429e324",
   "metadata": {},
   "outputs": [
    {
     "data": {
      "image/png": "[encoded data removed]",
      "text/plain": [
       "<Figure size 1000x600 with 1 Axes>"
      ]
     },
     "metadata": {},
     "output_type": "display_data"
    }
   ],
   "source": [
    "#lets visualize missing values\n",
    "plt.figure(figsize=(10,6))\n",
    "sns.heatmap(df_titanic.isnull(),yticklabels=False,cbar=False,cmap='viridis')\n",
    "plt.title('Missing Values in Titanic Dataset')\n",
    "plt.show()"
   ]
  },
  {
   "cell_type": "markdown",
   "id": "ab706929",
   "metadata": {},
   "source": [
    "### Outlier Detection and Handling\n",
    "\n",
    "Overview:\n",
    "\n",
    "- Detect outliers in numerical features (Age, Fare) using the IQR method.\n",
    "- Handle outliers by capping (winsorizing) to IQR bounds to preserve dataset rows.\n",
    "- Visualize before/after and report counts of affected values."
   ]
  },
  {
   "cell_type": "code",
   "execution_count": 118,
   "id": "f3d3d0a3",
   "metadata": {},
   "outputs": [
    {
     "data": {
      "image/png": "[encoded data removed]",
      "text/plain": [
       "<Figure size 800x300 with 1 Axes>"
      ]
     },
     "metadata": {},
     "output_type": "display_data"
    },
    {
     "name": "stdout",
     "output_type": "stream",
     "text": [
      "Age: lower=-0.500, upper=59.500, outliers=26\n",
      "Age: capped 26 values\n",
      "\n"
     ]
    },
    {
     "data": {
      "image/png": "[encoded data removed]",
      "text/plain": [
       "<Figure size 800x300 with 1 Axes>"
      ]
     },
     "metadata": {},
     "output_type": "display_data"
    },
    {
     "data": {
      "image/png": "[encoded data removed]",
      "text/plain": [
       "<Figure size 800x300 with 1 Axes>"
      ]
     },
     "metadata": {},
     "output_type": "display_data"
    },
    {
     "name": "stdout",
     "output_type": "stream",
     "text": [
      "Fare: lower=-26.724, upper=65.634, outliers=116\n",
      "Fare: capped 116 values\n",
      "\n"
     ]
    },
    {
     "data": {
      "image/png": "[encoded data removed]",
      "text/plain": [
       "<Figure size 800x300 with 1 Axes>"
      ]
     },
     "metadata": {},
     "output_type": "display_data"
    },
    {
     "name": "stdout",
     "output_type": "stream",
     "text": [
      "\n",
      "✅ Outlier handling completed for Age and Fare (IQR capping applied).\n"
     ]
    }
   ],
   "source": [
    "# Outlier detection and handling for 'Age' and 'Fare' using IQR capping\n",
    "cols = ['Age', 'Fare']\n",
    "\n",
    "for col in cols:\n",
    "    # visualize before handling\n",
    "    plt.figure(figsize=(8,3))\n",
    "    sns.boxplot(x=df_titanic[col])\n",
    "    plt.title(f'Boxplot of {col} (before handling)')\n",
    "    plt.show()\n",
    "\n",
    "    # compute IQR bounds\n",
    "    Q1 = df_titanic[col].quantile(0.25)\n",
    "    Q3 = df_titanic[col].quantile(0.75)\n",
    "    IQR = Q3 - Q1\n",
    "    lower = Q1 - 1.5 * IQR\n",
    "    upper = Q3 + 1.5 * IQR\n",
    "\n",
    "    # report number of outliers\n",
    "    outliers_count = ((df_titanic[col] < lower) | (df_titanic[col] > upper)).sum()\n",
    "    print(f\"{col}: lower={lower:.3f}, upper={upper:.3f}, outliers={outliers_count}\")\n",
    "\n",
    "    # cap values to bounds (winsorize) and keep a copy for comparison\n",
    "    capped_col = col + '_capped'\n",
    "    df_titanic[capped_col] = df_titanic[col].clip(lower, upper)\n",
    "\n",
    "    # report how many values were changed (capped)\n",
    "    capped_count = (df_titanic[col] != df_titanic[capped_col]).sum()\n",
    "    print(f\"{col}: capped {capped_count} values\\n\")\n",
    "\n",
    "    # visualize after handling\n",
    "    plt.figure(figsize=(8,3))\n",
    "    sns.boxplot(x=df_titanic[capped_col])\n",
    "    plt.title(f'Boxplot of {col} (after capping)')\n",
    "    plt.show()\n",
    "\n",
    "# Replace original columns with capped versions to finalize handling\n",
    "df_titanic[cols] = df_titanic[[c + '_capped' for c in cols]]\n",
    "# drop the auxiliary capped columns (they were copied back, so safe to drop if present)\n",
    "for c in cols:\n",
    "    cap = c + '_capped'\n",
    "    if cap in df_titanic.columns:\n",
    "        df_titanic.drop(columns=[cap], inplace=True)\n",
    "\n",
    "print('\\n✅ Outlier handling completed for Age and Fare (IQR capping applied).')"
   ]
  },
  {
   "cell_type": "markdown",
   "id": "065ade97",
   "metadata": {},
   "source": [
    "### Summary of Approach\n",
    "\n",
    "- Low missing % (<5%) → Mode/Mean imputation.\n",
    "- Moderate missing % (5–30%) → Use KNN or ML-based imputation.\n",
    "- High missing % (>60%) → Drop or extract useful sub-features."
   ]
  },
  {
   "cell_type": "markdown",
   "id": "680e0454",
   "metadata": {},
   "source": [
    "### Detailed Explanation\n",
    "\n",
    "| Step | Feature | Technique | Why |\n",
    "|------|----------|-----------|-----|\n",
    "| A | Embarked | Mode imputation | <1% missing, safe simple fill |\n",
    "| B | Cabin | Extract deck letter | 77% missing — salvage useful info |\n",
    "| C | Categorical encoding | LabelEncoder | KNN needs numeric input |\n",
    "| D | Age | KNNImputer (k=5) | Preserves relationships between passengers | \n",
    "| E | Verification | Check missing % | Ensures no nulls remain |"
   ]
  },
  {
   "cell_type": "markdown",
   "id": "2c55c43f",
   "metadata": {},
   "source": [
    "### Check Duplicate Values"
   ]
  },
  {
   "cell_type": "code",
   "execution_count": 91,
   "id": "bae20b9c",
   "metadata": {},
   "outputs": [
    {
     "name": "stdout",
     "output_type": "stream",
     "text": [
      "Number of duplicate values in Titanic dataset: 0\n"
     ]
    }
   ],
   "source": [
    "#lets check duplicate values\n",
    "duplicate_titanic = df_titanic.duplicated().sum()\n",
    "print(f\"Number of duplicate values in Titanic dataset: {duplicate_titanic}\")"
   ]
  },
  {
   "cell_type": "markdown",
   "id": "c7299ae7",
   "metadata": {},
   "source": [
    "___"
   ]
  },
  {
   "cell_type": "markdown",
   "id": "a4eb4c6e",
   "metadata": {},
   "source": [
    "## 1.2 — Salary Dataset\n",
    "\n",
    "### Overview"
   ]
  },
  {
   "cell_type": "code",
   "execution_count": 92,
   "id": "bb9b2591",
   "metadata": {},
   "outputs": [
    {
     "data": {
      "text/html": [
       "<div>\n",
       "<style scoped>\n",
       "    .dataframe tbody tr th:only-of-type {\n",
       "        vertical-align: middle;\n",
       "    }\n",
       "\n",
       "    .dataframe tbody tr th {\n",
       "        vertical-align: top;\n",
       "    }\n",
       "\n",
       "    .dataframe thead th {\n",
       "        text-align: right;\n",
       "    }\n",
       "</style>\n",
       "<table border=\"1\" class=\"dataframe\">\n",
       "  <thead>\n",
       "    <tr style=\"text-align: right;\">\n",
       "      <th></th>\n",
       "      <th>rank</th>\n",
       "      <th>discipline</th>\n",
       "      <th>phd</th>\n",
       "      <th>service</th>\n",
       "      <th>sex</th>\n",
       "      <th>salary</th>\n",
       "    </tr>\n",
       "  </thead>\n",
       "  <tbody>\n",
       "    <tr>\n",
       "      <th>0</th>\n",
       "      <td>Prof</td>\n",
       "      <td>B</td>\n",
       "      <td>56</td>\n",
       "      <td>49</td>\n",
       "      <td>Male</td>\n",
       "      <td>186960</td>\n",
       "    </tr>\n",
       "    <tr>\n",
       "      <th>1</th>\n",
       "      <td>Prof</td>\n",
       "      <td>A</td>\n",
       "      <td>12</td>\n",
       "      <td>6</td>\n",
       "      <td>Male</td>\n",
       "      <td>93000</td>\n",
       "    </tr>\n",
       "    <tr>\n",
       "      <th>2</th>\n",
       "      <td>Prof</td>\n",
       "      <td>A</td>\n",
       "      <td>23</td>\n",
       "      <td>20</td>\n",
       "      <td>Male</td>\n",
       "      <td>110515</td>\n",
       "    </tr>\n",
       "    <tr>\n",
       "      <th>3</th>\n",
       "      <td>Prof</td>\n",
       "      <td>A</td>\n",
       "      <td>40</td>\n",
       "      <td>31</td>\n",
       "      <td>Male</td>\n",
       "      <td>131205</td>\n",
       "    </tr>\n",
       "    <tr>\n",
       "      <th>4</th>\n",
       "      <td>Prof</td>\n",
       "      <td>B</td>\n",
       "      <td>20</td>\n",
       "      <td>18</td>\n",
       "      <td>Male</td>\n",
       "      <td>104800</td>\n",
       "    </tr>\n",
       "  </tbody>\n",
       "</table>\n",
       "</div>"
      ],
      "text/plain": [
       "   rank discipline  phd  service   sex  salary\n",
       "0  Prof          B   56       49  Male  186960\n",
       "1  Prof          A   12        6  Male   93000\n",
       "2  Prof          A   23       20  Male  110515\n",
       "3  Prof          A   40       31  Male  131205\n",
       "4  Prof          B   20       18  Male  104800"
      ]
     },
     "execution_count": 92,
     "metadata": {},
     "output_type": "execute_result"
    }
   ],
   "source": [
    "df_salary.head()"
   ]
  },
  {
   "cell_type": "code",
   "execution_count": 93,
   "id": "cc650a1d",
   "metadata": {},
   "outputs": [
    {
     "data": {
      "text/plain": [
       "rank          0.0\n",
       "discipline    0.0\n",
       "phd           0.0\n",
       "service       0.0\n",
       "sex           0.0\n",
       "salary        0.0\n",
       "dtype: float64"
      ]
     },
     "execution_count": 93,
     "metadata": {},
     "output_type": "execute_result"
    }
   ],
   "source": [
    "#checking missing values in salary dataset\n",
    "df_salary.isnull().sum() / len(df_salary) * 100"
   ]
  },
  {
   "cell_type": "code",
   "execution_count": 94,
   "id": "e2588892",
   "metadata": {},
   "outputs": [
    {
     "name": "stdout",
     "output_type": "stream",
     "text": [
      "Number of duplicate values in Salary dataset: 0\n"
     ]
    }
   ],
   "source": [
    "#checking duplicate values in salary dataset\n",
    "duplicate_salary = df_salary.duplicated().sum()\n",
    "print(f\"Number of duplicate values in Salary dataset: {duplicate_salary}\")"
   ]
  },
  {
   "cell_type": "code",
   "execution_count": 111,
   "id": "0fc69694",
   "metadata": {},
   "outputs": [
    {
     "data": {
      "text/html": [
       "<div>\n",
       "<style scoped>\n",
       "    .dataframe tbody tr th:only-of-type {\n",
       "        vertical-align: middle;\n",
       "    }\n",
       "\n",
       "    .dataframe tbody tr th {\n",
       "        vertical-align: top;\n",
       "    }\n",
       "\n",
       "    .dataframe thead th {\n",
       "        text-align: right;\n",
       "    }\n",
       "</style>\n",
       "<table border=\"1\" class=\"dataframe\">\n",
       "  <thead>\n",
       "    <tr style=\"text-align: right;\">\n",
       "      <th></th>\n",
       "      <th>rank</th>\n",
       "      <th>discipline</th>\n",
       "      <th>phd</th>\n",
       "      <th>service</th>\n",
       "      <th>sex</th>\n",
       "      <th>salary</th>\n",
       "    </tr>\n",
       "  </thead>\n",
       "  <tbody>\n",
       "    <tr>\n",
       "      <th>0</th>\n",
       "      <td>Prof</td>\n",
       "      <td>B</td>\n",
       "      <td>56</td>\n",
       "      <td>49</td>\n",
       "      <td>Male</td>\n",
       "      <td>186960</td>\n",
       "    </tr>\n",
       "    <tr>\n",
       "      <th>1</th>\n",
       "      <td>Prof</td>\n",
       "      <td>A</td>\n",
       "      <td>12</td>\n",
       "      <td>6</td>\n",
       "      <td>Male</td>\n",
       "      <td>93000</td>\n",
       "    </tr>\n",
       "    <tr>\n",
       "      <th>2</th>\n",
       "      <td>Prof</td>\n",
       "      <td>A</td>\n",
       "      <td>23</td>\n",
       "      <td>20</td>\n",
       "      <td>Male</td>\n",
       "      <td>110515</td>\n",
       "    </tr>\n",
       "    <tr>\n",
       "      <th>3</th>\n",
       "      <td>Prof</td>\n",
       "      <td>A</td>\n",
       "      <td>40</td>\n",
       "      <td>31</td>\n",
       "      <td>Male</td>\n",
       "      <td>131205</td>\n",
       "    </tr>\n",
       "    <tr>\n",
       "      <th>4</th>\n",
       "      <td>Prof</td>\n",
       "      <td>B</td>\n",
       "      <td>20</td>\n",
       "      <td>18</td>\n",
       "      <td>Male</td>\n",
       "      <td>104800</td>\n",
       "    </tr>\n",
       "  </tbody>\n",
       "</table>\n",
       "</div>"
      ],
      "text/plain": [
       "   rank discipline  phd  service   sex  salary\n",
       "0  Prof          B   56       49  Male  186960\n",
       "1  Prof          A   12        6  Male   93000\n",
       "2  Prof          A   23       20  Male  110515\n",
       "3  Prof          A   40       31  Male  131205\n",
       "4  Prof          B   20       18  Male  104800"
      ]
     },
     "execution_count": 111,
     "metadata": {},
     "output_type": "execute_result"
    }
   ],
   "source": [
    "df_salary.head()"
   ]
  },
  {
   "cell_type": "code",
   "execution_count": 116,
   "id": "e28c5417",
   "metadata": {},
   "outputs": [
    {
     "name": "stdout",
     "output_type": "stream",
     "text": [
      "Unique values in column 'rank': ['Prof' 'AssocProf' 'AsstProf']\n",
      "\n",
      "--------------------------------------------------\n",
      "Unique values in column 'discipline': ['B' 'A']\n",
      "\n",
      "--------------------------------------------------\n",
      "Unique values in column 'sex': ['Male' 'Female']\n",
      "\n",
      "--------------------------------------------------\n"
     ]
    }
   ],
   "source": [
    "#checking inconsistency in the salary dataset by checking unique values in each column but onnly categorical columns\n",
    "for col in df_salary.select_dtypes(include=['object']).columns:\n",
    "    unique_values = df_salary[col].unique()\n",
    "    print(f\"Unique values in column '{col}': {unique_values}\\n\")\n",
    "    print(\"--------------------------------------------------\")\n"
   ]
  },
  {
   "cell_type": "markdown",
   "id": "eb6cc826",
   "metadata": {},
   "source": [
    "### Outlier Detection and Handling — Salary Dataset\n",
    "\n",
    "Overview:\n",
    "- Detect outliers in numeric salary-related features using the IQR method.\n",
    "- Handle outliers by capping (winsorizing) to IQR bounds to preserve rows.\n",
    "- Visualize before/after and report counts of affected values."
   ]
  },
  {
   "cell_type": "code",
   "execution_count": 119,
   "id": "30010b7d",
   "metadata": {},
   "outputs": [
    {
     "name": "stdout",
     "output_type": "stream",
     "text": [
      "Numeric columns detected for outlier handling: ['phd', 'service', 'salary']\n"
     ]
    },
    {
     "data": {
      "image/png": "[encoded data removed]",
      "text/plain": [
       "<Figure size 800x300 with 1 Axes>"
      ]
     },
     "metadata": {},
     "output_type": "display_data"
    },
    {
     "name": "stdout",
     "output_type": "stream",
     "text": [
      "phd: lower=-16.000, upper=54.000, outliers=1\n",
      "phd: capped 1 values\n",
      "\n"
     ]
    },
    {
     "data": {
      "image/png": "[encoded data removed]",
      "text/plain": [
       "<Figure size 800x300 with 1 Axes>"
      ]
     },
     "metadata": {},
     "output_type": "display_data"
    },
    {
     "data": {
      "image/png": "[encoded data removed]",
      "text/plain": [
       "<Figure size 800x300 with 1 Axes>"
      ]
     },
     "metadata": {},
     "output_type": "display_data"
    },
    {
     "name": "stdout",
     "output_type": "stream",
     "text": [
      "service: lower=-18.000, upper=44.000, outliers=3\n",
      "service: capped 3 values\n",
      "\n"
     ]
    },
    {
     "data": {
      "image/png": "[encoded data removed]",
      "text/plain": [
       "<Figure size 800x300 with 1 Axes>"
      ]
     },
     "metadata": {},
     "output_type": "display_data"
    },
    {
     "data": {
      "image/png": "[encoded data removed]",
      "text/plain": [
       "<Figure size 800x300 with 1 Axes>"
      ]
     },
     "metadata": {},
     "output_type": "display_data"
    },
    {
     "name": "stdout",
     "output_type": "stream",
     "text": [
      "salary: lower=31369.125, upper=184018.125, outliers=1\n",
      "salary: capped 1 values\n",
      "\n"
     ]
    },
    {
     "data": {
      "image/png": "[encoded data removed]",
      "text/plain": [
       "<Figure size 800x300 with 1 Axes>"
      ]
     },
     "metadata": {},
     "output_type": "display_data"
    },
    {
     "name": "stdout",
     "output_type": "stream",
     "text": [
      "\n",
      "✅ Outlier handling completed for numeric columns in Salary dataset (IQR capping applied).\n"
     ]
    }
   ],
   "source": [
    "# Outlier detection and handling for numeric columns in df_salary using IQR capping\n",
    "num_cols = df_salary.select_dtypes(include=[np.number]).columns.tolist()\n",
    "print('Numeric columns detected for outlier handling:', num_cols)\n",
    "\n",
    "capped_cols = []\n",
    "for col in num_cols:\n",
    "    # Visualize before handling\n",
    "    plt.figure(figsize=(8,3))\n",
    "    sns.boxplot(x=df_salary[col].dropna())\n",
    "    plt.title(f'Boxplot of {col} (before handling)')\n",
    "    plt.show()\n",
    "\n",
    "    # Compute IQR bounds\n",
    "    Q1 = df_salary[col].quantile(0.25)\n",
    "    Q3 = df_salary[col].quantile(0.75)\n",
    "    IQR = Q3 - Q1\n",
    "    lower = Q1 - 1.5 * IQR\n",
    "    upper = Q3 + 1.5 * IQR\n",
    "\n",
    "    # Count outliers\n",
    "    outliers_count = ((df_salary[col] < lower) | (df_salary[col] > upper)).sum()\n",
    "    print(f\"{col}: lower={lower:.3f}, upper={upper:.3f}, outliers={outliers_count}\")\n",
    "\n",
    "    # Cap (winsorize) values to bounds and store capped column\n",
    "    capped_col = col + '_capped'\n",
    "    df_salary[capped_col] = df_salary[col].clip(lower, upper)\n",
    "    capped_cols.append(capped_col)\n",
    "\n",
    "    # Report how many values were changed (capped)\n",
    "    capped_count = (df_salary[col] != df_salary[capped_col]).sum()\n",
    "    print(f\"{col}: capped {capped_count} values\\n\")\n",
    "\n",
    "    # Visualize after handling\n",
    "    plt.figure(figsize=(8,3))\n",
    "    sns.boxplot(x=df_salary[capped_col].dropna())\n",
    "    plt.title(f'Boxplot of {col} (after capping)')\n",
    "    plt.show()\n",
    "\n",
    "# Replace original numeric columns with capped versions\n",
    "for orig, cap in zip(num_cols, capped_cols):\n",
    "    df_salary[orig] = df_salary[cap]\n",
    "    df_salary.drop(columns=[cap], inplace=True)\n",
    "\n",
    "print('\\n✅ Outlier handling completed for numeric columns in Salary dataset (IQR capping applied).')"
   ]
  },
  {
   "cell_type": "markdown",
   "id": "228ee7ab",
   "metadata": {},
   "source": [
    "___"
   ]
  },
  {
   "cell_type": "markdown",
   "id": "fca4fd3c",
   "metadata": {},
   "source": [
    "## 1.3 — Employee Dataset\n",
    "\n",
    "### Overview"
   ]
  },
  {
   "cell_type": "code",
   "execution_count": 95,
   "id": "b9735eb4",
   "metadata": {},
   "outputs": [
    {
     "data": {
      "text/html": [
       "<div>\n",
       "<style scoped>\n",
       "    .dataframe tbody tr th:only-of-type {\n",
       "        vertical-align: middle;\n",
       "    }\n",
       "\n",
       "    .dataframe tbody tr th {\n",
       "        vertical-align: top;\n",
       "    }\n",
       "\n",
       "    .dataframe thead th {\n",
       "        text-align: right;\n",
       "    }\n",
       "</style>\n",
       "<table border=\"1\" class=\"dataframe\">\n",
       "  <thead>\n",
       "    <tr style=\"text-align: right;\">\n",
       "      <th></th>\n",
       "      <th>Company</th>\n",
       "      <th>Age</th>\n",
       "      <th>Salary</th>\n",
       "      <th>Place</th>\n",
       "      <th>Country</th>\n",
       "      <th>Gender</th>\n",
       "    </tr>\n",
       "  </thead>\n",
       "  <tbody>\n",
       "    <tr>\n",
       "      <th>0</th>\n",
       "      <td>TCS</td>\n",
       "      <td>20.0</td>\n",
       "      <td>NaN</td>\n",
       "      <td>Chennai</td>\n",
       "      <td>India</td>\n",
       "      <td>0</td>\n",
       "    </tr>\n",
       "    <tr>\n",
       "      <th>1</th>\n",
       "      <td>Infosys</td>\n",
       "      <td>30.0</td>\n",
       "      <td>NaN</td>\n",
       "      <td>Mumbai</td>\n",
       "      <td>India</td>\n",
       "      <td>0</td>\n",
       "    </tr>\n",
       "    <tr>\n",
       "      <th>2</th>\n",
       "      <td>TCS</td>\n",
       "      <td>35.0</td>\n",
       "      <td>2300.0</td>\n",
       "      <td>Calcutta</td>\n",
       "      <td>India</td>\n",
       "      <td>0</td>\n",
       "    </tr>\n",
       "    <tr>\n",
       "      <th>3</th>\n",
       "      <td>Infosys</td>\n",
       "      <td>40.0</td>\n",
       "      <td>3000.0</td>\n",
       "      <td>Delhi</td>\n",
       "      <td>India</td>\n",
       "      <td>0</td>\n",
       "    </tr>\n",
       "    <tr>\n",
       "      <th>4</th>\n",
       "      <td>TCS</td>\n",
       "      <td>23.0</td>\n",
       "      <td>4000.0</td>\n",
       "      <td>Mumbai</td>\n",
       "      <td>India</td>\n",
       "      <td>0</td>\n",
       "    </tr>\n",
       "  </tbody>\n",
       "</table>\n",
       "</div>"
      ],
      "text/plain": [
       "   Company   Age  Salary     Place Country  Gender\n",
       "0      TCS  20.0     NaN   Chennai   India       0\n",
       "1  Infosys  30.0     NaN    Mumbai   India       0\n",
       "2      TCS  35.0  2300.0  Calcutta   India       0\n",
       "3  Infosys  40.0  3000.0     Delhi   India       0\n",
       "4      TCS  23.0  4000.0    Mumbai   India       0"
      ]
     },
     "execution_count": 95,
     "metadata": {},
     "output_type": "execute_result"
    }
   ],
   "source": [
    "df_employee.head()"
   ]
  },
  {
   "cell_type": "code",
   "execution_count": 96,
   "id": "59056df8",
   "metadata": {},
   "outputs": [
    {
     "name": "stdout",
     "output_type": "stream",
     "text": [
      "\n",
      "✅ Missing values in Salary Dataset:\n",
      " rank          0.0\n",
      "discipline    0.0\n",
      "phd           0.0\n",
      "service       0.0\n",
      "sex           0.0\n",
      "salary        0.0\n",
      "dtype: float64\n"
     ]
    }
   ],
   "source": [
    "#checking missing values in salary dataset\n",
    "print(\"\\n✅ Missing values in Salary Dataset:\\n\", df_salary.isnull().mean() * 100)"
   ]
  },
  {
   "cell_type": "code",
   "execution_count": 97,
   "id": "28f63901",
   "metadata": {},
   "outputs": [
    {
     "name": "stdout",
     "output_type": "stream",
     "text": [
      "Number of duplicate values in Employee dataset: 4\n"
     ]
    }
   ],
   "source": [
    "#checking duplicate values\n",
    "duplicate_employee = df_employee.duplicated().sum()\n",
    "print(f\"Number of duplicate values in Employee dataset: {duplicate_employee}\")"
   ]
  },
  {
   "cell_type": "code",
   "execution_count": 98,
   "id": "b925f9c4",
   "metadata": {},
   "outputs": [
    {
     "data": {
      "image/png": "[encoded data removed]",
      "text/plain": [
       "<Figure size 1000x600 with 1 Axes>"
      ]
     },
     "metadata": {},
     "output_type": "display_data"
    }
   ],
   "source": [
    "plt.figure(figsize=(10,6))\n",
    "sns.heatmap(df_employee[df_employee.duplicated(keep=False)].isnull(), \n",
    "            cbar=False, cmap='viridis')\n",
    "plt.title('Visualization of Duplicate Rows (All Columns)')\n",
    "plt.show()\n"
   ]
  },
  {
   "cell_type": "code",
   "execution_count": 99,
   "id": "ed047343",
   "metadata": {},
   "outputs": [
    {
     "name": "stdout",
     "output_type": "stream",
     "text": [
      "Number of duplicate values in Employee dataset: 0\n"
     ]
    }
   ],
   "source": [
    "#remove duplicates\n",
    "df_employee_cleaned = df_employee.drop_duplicates()\n",
    "print(f\"Number of duplicate values in Employee dataset: {df_employee_cleaned.duplicated().sum()}\")"
   ]
  },
  {
   "cell_type": "code",
   "execution_count": 100,
   "id": "808fbf88",
   "metadata": {},
   "outputs": [
    {
     "name": "stdout",
     "output_type": "stream",
     "text": [
      "\n",
      "✅ Missing values in Employee Dataset after removing duplicates:\n",
      " Company     5.555556\n",
      "Age        11.805556\n",
      "Salary     15.972222\n",
      "Place       9.722222\n",
      "Country     0.000000\n",
      "Gender      0.000000\n",
      "dtype: float64\n"
     ]
    }
   ],
   "source": [
    "#verify missing values after removing duplicates\n",
    "print(\"\\n✅ Missing values in Employee Dataset after removing duplicates:\\n\", df_employee_cleaned.isnull().mean() * 100)"
   ]
  },
  {
   "cell_type": "markdown",
   "id": "06cf9089",
   "metadata": {},
   "source": [
    "### Outlier Detection and Handling — Employee Dataset\n",
    "\n",
    "Overview:\n",
    "- Detect outliers in numeric employee-related features (e.g., Age, Salary) using the IQR method.\n",
    "- Handle outliers by capping (winsorizing) to IQR bounds to preserve rows.\n",
    "- Visualize before/after and report counts of affected values."
   ]
  },
  {
   "cell_type": "code",
   "execution_count": 121,
   "id": "c617a4af",
   "metadata": {},
   "outputs": [
    {
     "name": "stdout",
     "output_type": "stream",
     "text": [
      "Numeric columns detected (all): ['Age', 'Salary', 'Gender']\n",
      "Numeric columns considered for outlier handling (nunique>10): ['Age', 'Salary']\n"
     ]
    },
    {
     "data": {
      "image/png": "[encoded data removed]",
      "text/plain": [
       "<Figure size 800x300 with 1 Axes>"
      ]
     },
     "metadata": {},
     "output_type": "display_data"
    },
    {
     "name": "stdout",
     "output_type": "stream",
     "text": [
      "Age: lower=3.500, upper=55.500, outliers=0\n",
      "Age: capped 0 values\n",
      "\n"
     ]
    },
    {
     "data": {
      "image/png": "[encoded data removed]",
      "text/plain": [
       "<Figure size 800x300 with 1 Axes>"
      ]
     },
     "metadata": {},
     "output_type": "display_data"
    },
    {
     "data": {
      "image/png": "[encoded data removed]",
      "text/plain": [
       "<Figure size 800x300 with 1 Axes>"
      ]
     },
     "metadata": {},
     "output_type": "display_data"
    },
    {
     "name": "stdout",
     "output_type": "stream",
     "text": [
      "Salary: lower=-3469.575, upper=14180.625, outliers=0\n",
      "Salary: capped 0 values\n",
      "\n"
     ]
    },
    {
     "data": {
      "image/png": "[encoded data removed]",
      "text/plain": [
       "<Figure size 800x300 with 1 Axes>"
      ]
     },
     "metadata": {},
     "output_type": "display_data"
    },
    {
     "name": "stdout",
     "output_type": "stream",
     "text": [
      "\n",
      "✅ Outlier handling completed for numeric columns in Employee dataset (IQR capping applied).\n"
     ]
    }
   ],
   "source": [
    "# Outlier detection and handling for numeric columns in df_employee using IQR capping\n",
    "numeric_cols = df_employee.select_dtypes(include=[np.number]).columns.tolist()\n",
    "# Exclude numeric columns that are likely categorical/binary (low cardinality) — adjust threshold if needed\n",
    "num_cols = [c for c in numeric_cols if df_employee[c].nunique(dropna=True) > 10]\n",
    "print('Numeric columns detected (all):', numeric_cols)\n",
    "print('Numeric columns considered for outlier handling (nunique>10):', num_cols)\n",
    "\n",
    "if not num_cols:\n",
    "    print('No suitable numeric columns found for outlier detection. Lower the nunique threshold if needed.')\n",
    "else:\n",
    "    capped_cols = []\n",
    "    for col in num_cols:\n",
    "        # Visualize before handling (skip if all NaN)\n",
    "        if df_employee[col].dropna().empty:\n",
    "            print(f\"{col}: no non-null values to analyze. Skipping.\")\n",
    "            continue\n",
    "\n",
    "        plt.figure(figsize=(8,3))\n",
    "        sns.boxplot(x=df_employee[col].dropna())\n",
    "        plt.title(f'Boxplot of {col} (before handling)')\n",
    "        plt.show()\n",
    "\n",
    "        # Compute IQR bounds\n",
    "        Q1 = df_employee[col].quantile(0.25)\n",
    "        Q3 = df_employee[col].quantile(0.75)\n",
    "        IQR = Q3 - Q1\n",
    "        lower = Q1 - 1.5 * IQR\n",
    "        upper = Q3 + 1.5 * IQR\n",
    "\n",
    "        # Count outliers\n",
    "        outliers_count = ((df_employee[col] < lower) | (df_employee[col] > upper)).sum()\n",
    "        print(f\"{col}: lower={lower:.3f}, upper={upper:.3f}, outliers={outliers_count}\")\n",
    "\n",
    "        # Cap (winsorize) values to bounds and store capped column\n",
    "        capped_col = col + '_capped'\n",
    "        df_employee[capped_col] = df_employee[col].clip(lower, upper)\n",
    "        capped_cols.append(capped_col)\n",
    "\n",
    "        # Report how many values were changed (capped)\n",
    "        capped_count = (df_employee[col] != df_employee[capped_col]).sum()\n",
    "        print(f\"{col}: capped {capped_count} values\\n\")\n",
    "\n",
    "        # Visualize after handling\n",
    "        plt.figure(figsize=(8,3))\n",
    "        sns.boxplot(x=df_employee[capped_col].dropna())\n",
    "        plt.title(f'Boxplot of {col} (after capping)')\n",
    "        plt.show()\n",
    "\n",
    "    # Replace original numeric columns with capped versions (only those processed)\n",
    "    for orig, cap in zip(num_cols, capped_cols):\n",
    "        df_employee[orig] = df_employee[cap]\n",
    "        df_employee.drop(columns=[cap], inplace=True)\n",
    "\n",
    "    print('\\n✅ Outlier handling completed for numeric columns in Employee dataset (IQR capping applied).')"
   ]
  },
  {
   "cell_type": "markdown",
   "id": "4b061e4c",
   "metadata": {},
   "source": [
    "#### A — Fill categorical columns with mode"
   ]
  },
  {
   "cell_type": "code",
   "execution_count": 101,
   "id": "aa461a87",
   "metadata": {},
   "outputs": [],
   "source": [
    "df_employee['Company'].fillna(df_employee['Company'].mode()[0], inplace=True)\n",
    "df_employee['Place'].fillna(df_employee['Place'].mode()[0], inplace=True)"
   ]
  },
  {
   "cell_type": "markdown",
   "id": "e0b35ced",
   "metadata": {},
   "source": [
    "#### B — Temporary encoding for KNNImputer"
   ]
  },
  {
   "cell_type": "code",
   "execution_count": 102,
   "id": "b0e1b1bd",
   "metadata": {},
   "outputs": [],
   "source": [
    "df_encoded = df_employee.copy()\n",
    "df_encoded['Company'] = df_encoded['Company'].astype('category').cat.codes\n",
    "df_encoded['Place'] = df_encoded['Place'].astype('category').cat.codes\n",
    "df_encoded['Gender'] = df_encoded['Gender'].astype('category').cat.codes\n",
    "df_encoded['Country'] = df_encoded['Country'].astype('category').cat.codes"
   ]
  },
  {
   "cell_type": "markdown",
   "id": "4fcb5523",
   "metadata": {},
   "source": [
    "#### C — Apply KNN Imputation on numeric columns (Age, Salary)"
   ]
  },
  {
   "cell_type": "code",
   "execution_count": 103,
   "id": "07c13544",
   "metadata": {},
   "outputs": [],
   "source": [
    "imputer = KNNImputer(n_neighbors=5)\n",
    "df_encoded[['Age', 'Salary']] = imputer.fit_transform(df_encoded[['Age', 'Salary']])"
   ]
  },
  {
   "cell_type": "markdown",
   "id": "e717d1f1",
   "metadata": {},
   "source": [
    "#### D — Replace imputed values back into original DataFrame"
   ]
  },
  {
   "cell_type": "code",
   "execution_count": 104,
   "id": "c64c867a",
   "metadata": {},
   "outputs": [],
   "source": [
    "df_employee['Age'] = df_encoded['Age']\n",
    "df_employee['Salary'] = df_encoded['Salary']"
   ]
  },
  {
   "cell_type": "markdown",
   "id": "e3656ba7",
   "metadata": {},
   "source": [
    "#### E — Verify results"
   ]
  },
  {
   "cell_type": "code",
   "execution_count": 105,
   "id": "2c68a83b",
   "metadata": {},
   "outputs": [
    {
     "name": "stdout",
     "output_type": "stream",
     "text": [
      "✅ Missing values after imputation:\n",
      "Company    0.0\n",
      "Age        0.0\n",
      "Salary     0.0\n",
      "Place      0.0\n",
      "Country    0.0\n",
      "Gender     0.0\n",
      "dtype: float64\n"
     ]
    }
   ],
   "source": [
    "print(\"✅ Missing values after imputation:\")\n",
    "print(df_employee.isnull().mean() * 100)"
   ]
  },
  {
   "cell_type": "code",
   "execution_count": 106,
   "id": "a507768b",
   "metadata": {},
   "outputs": [
    {
     "data": {
      "image/png": "[encoded data removed]",
      "text/plain": [
       "<Figure size 800x400 with 1 Axes>"
      ]
     },
     "metadata": {},
     "output_type": "display_data"
    }
   ],
   "source": [
    "\n",
    "# After imputation\n",
    "plt.figure(figsize=(8,4))\n",
    "sns.heatmap(df_employee.isnull(), cbar=False, cmap='Greens')\n",
    "plt.title(\"After Handling Missing Values\")\n",
    "plt.show()"
   ]
  },
  {
   "cell_type": "markdown",
   "id": "743c6a16",
   "metadata": {},
   "source": [
    "### Missing Value Handling Strategy\n",
    "\n",
    "| **Column** | **Missing %** | **Data Type** | **Handling Technique** | **Reason / Explanation** |\n",
    "|-------------|----------------|----------------|-------------------------|----------------------------|\n",
    "| Company | 5.56% | Categorical | Filled with **mode (most frequent)** | Few missing values, simple mode preserves data consistency. |\n",
    "| Age | 11.81% | Numerical | **KNN Imputer (k=5)** | Predicts missing ages using similarity between employees (more accurate than mean/median). |\n",
    "| Salary | 15.97% | Numerical | **KNN Imputer (k=5)** | Estimates missing salaries using related features (Age, Company, Place). |\n",
    "| Place | 9.72% | Categorical | Filled with **mode (most frequent)** | Limited missing data, mode imputation maintains category balance. |\n",
    "| Country | 0.00% | Categorical | No action needed | No missing values present. |\n",
    "| Gender | 0.00% | Categorical | No action needed | Complete data, no imputation required. |\n",
    "\n",
    "---\n",
    "\n",
    "✅ **Summary:**  \n",
    "Numeric columns with moderate missingness were imputed using **KNN Imputer (k=5)** to retain natural relationships,  \n",
    "while categorical columns with low missing percentages were filled using the **most frequent category** to maintain data integrity.\n"
   ]
  },
  {
   "cell_type": "markdown",
   "id": "3c4e6204",
   "metadata": {},
   "source": [
    "___"
   ]
  }
 ],
 "metadata": {
  "kernelspec": {
   "display_name": "tf_env",
   "language": "python",
   "name": "python3"
  },
  "language_info": {
   "codemirror_mode": {
    "name": "ipython",
    "version": 3
   },
   "file_extension": ".py",
   "mimetype": "text/x-python",
   "name": "python",
   "nbconvert_exporter": "python",
   "pygments_lexer": "ipython3",
   "version": "3.11.11"
  }
 },
 "nbformat": 4,
 "nbformat_minor": 5
}
