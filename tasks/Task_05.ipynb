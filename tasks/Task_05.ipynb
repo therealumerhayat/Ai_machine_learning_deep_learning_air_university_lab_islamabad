{
 "cells": [
  {
   "cell_type": "markdown",
   "id": "ff5397ee",
   "metadata": {},
   "source": [
    "**Name:** Muhammad Umer\n",
    "\n",
    "**Email** umerhayat282@gmail.com\n",
    "\n",
    "**Date** September 17, 2025\n",
    "\n",
    "\n",
    "\n",
    "____"
   ]
  },
  {
   "cell_type": "markdown",
   "id": "91b1fcb6",
   "metadata": {},
   "source": [
    "##  Dictionary Exercises\n"
   ]
  },
  {
   "cell_type": "markdown",
   "id": "d525aeb3",
   "metadata": {},
   "source": [
    "**1. Create a Dictionary:**\n",
    "\n",
    "- Create a dictionary to store the names and ages of five people. Print the\n",
    "dictionary.\n",
    "\n",
    "\n"
   ]
  },
  {
   "cell_type": "code",
   "execution_count": 5,
   "id": "2e33e091",
   "metadata": {},
   "outputs": [
    {
     "name": "stdout",
     "output_type": "stream",
     "text": [
      "People with their Ages: {'Umer': 25, 'Tayyab': 30, 'Ghazia': 23, 'Mujtaba': 29, 'adnan': 90}\n"
     ]
    }
   ],
   "source": [
    "people = {}\n",
    "\n",
    "for i in range(5):\n",
    "    name = input(\"Enter your name: \")\n",
    "    age = int(input(\"Enter your age\"))\n",
    "    people[name] = age\n",
    "\n",
    "print(f\"People with their Ages: {people}\")"
   ]
  },
  {
   "cell_type": "markdown",
   "id": "1d28f79e",
   "metadata": {},
   "source": [
    "**2. Accessing Values:**\n",
    "\n",
    "- Given a dictionary with student names as keys and their grades as values, print the grade of the student named &quot;Alice&quot;: \n",
    "- students_grades = {&quot;John&quot;: &quot;A&quot;, &quot;Alice&quot;: &quot;B&quot;, &quot;Bob&quot;: &quot;C&quot;, &quot;Diana&quot;: &quot;A&quot;}\n"
   ]
  },
  {
   "cell_type": "code",
   "execution_count": 8,
   "id": "d84e6f0c",
   "metadata": {},
   "outputs": [
    {
     "data": {
      "text/plain": [
       "'B'"
      ]
     },
     "execution_count": 8,
     "metadata": {},
     "output_type": "execute_result"
    }
   ],
   "source": [
    "student_grades = {\"John\": \"A\", \"Alice\": \"B\", \"Bob\":\"C\", \"Diana\":\"A\"}\n",
    "student_grades[\"Alice\"]"
   ]
  },
  {
   "cell_type": "markdown",
   "id": "0dce21bc",
   "metadata": {},
   "source": [
    "**3. Update a Dictionary:**\n",
    "\n",
    "- Update the age of one person in the dictionary you created in Exercise 1. Print the\n",
    "updated dictionary.\n"
   ]
  },
  {
   "cell_type": "code",
   "execution_count": 10,
   "id": "ae08fa19",
   "metadata": {},
   "outputs": [
    {
     "name": "stdout",
     "output_type": "stream",
     "text": [
      "{'Umer': 25, 'Tayyab': 30, 'Ghazia': 23, 'Mujtaba': 29, 'adnan': 19}\n"
     ]
    }
   ],
   "source": [
    "people = {'Umer': 25, 'Tayyab': 30, 'Ghazia': 23, 'Mujtaba': 29, 'adnan': 90}\n",
    "\n",
    "people['adnan'] = 19\n",
    "\n",
    "print(people)"
   ]
  },
  {
   "cell_type": "markdown",
   "id": "1b7bed5a",
   "metadata": {},
   "source": [
    "**4. Add New Key-Value Pairs:**\n",
    "- Add a new person to the dictionary created in Exercise 1. Print the updated\n",
    "dictionary.\n"
   ]
  },
  {
   "cell_type": "code",
   "execution_count": 11,
   "id": "5a5c7180",
   "metadata": {},
   "outputs": [
    {
     "name": "stdout",
     "output_type": "stream",
     "text": [
      "{'Umer': 25, 'Tayyab': 30, 'Ghazia': 23, 'Mujtaba': 29, 'adnan': 90, 'bilal': 54}\n"
     ]
    }
   ],
   "source": [
    "people = {'Umer': 25, 'Tayyab': 30, 'Ghazia': 23, 'Mujtaba': 29, 'adnan': 90}\n",
    "\n",
    "people[\"bilal\"] = 54\n",
    "\n",
    "print(people)"
   ]
  },
  {
   "cell_type": "markdown",
   "id": "68dcaa9c",
   "metadata": {},
   "source": [
    "**5. Delete a Key-Value Pair:**\n",
    "- Remove one person from the dictionary created in Exercise 1. Print the updated\n",
    "dictionary.\n"
   ]
  },
  {
   "cell_type": "code",
   "execution_count": 12,
   "id": "0828ec5e",
   "metadata": {},
   "outputs": [
    {
     "name": "stdout",
     "output_type": "stream",
     "text": [
      "{'Umer': 25, 'Tayyab': 30, 'Mujtaba': 29, 'adnan': 90, 'bilal': 54}\n"
     ]
    }
   ],
   "source": [
    "del people[\"Ghazia\"]\n",
    "\n",
    "print(people)"
   ]
  },
  {
   "cell_type": "markdown",
   "id": "b2d07b04",
   "metadata": {},
   "source": [
    "**6. Check for Key Existence:**\n",
    "- Check if a specific key (name) exists in the dictionary from Exercise 1. Print an\n",
    "appropriate message based on whether the key exists or not.\n",
    "\n"
   ]
  },
  {
   "cell_type": "code",
   "execution_count": 180,
   "id": "14aa9aaf",
   "metadata": {},
   "outputs": [
    {
     "name": "stdout",
     "output_type": "stream",
     "text": [
      "Yes Umer is in dictionary\n"
     ]
    }
   ],
   "source": [
    "search_query = \"Umer\"\n",
    "\n",
    "found = False\n",
    "for key, value in people.items():\n",
    "    if search_query == key:\n",
    "        print(f\"Yes Umer is in dictionary\")\n",
    "        found = True\n",
    "if not found:\n",
    "    print(f\"Not found! Kindly enter valid name\")"
   ]
  },
  {
   "cell_type": "markdown",
   "id": "29d89e33",
   "metadata": {},
   "source": [
    "**7. Iterate Through a Dictionary:**\n",
    "- Iterate through the dictionary from Exercise 1 and print each key-value pair.\n"
   ]
  },
  {
   "cell_type": "code",
   "execution_count": 19,
   "id": "955b2918",
   "metadata": {},
   "outputs": [
    {
     "name": "stdout",
     "output_type": "stream",
     "text": [
      "Keys: Umer. Values: 25\n",
      "Keys: Tayyab. Values: 30\n",
      "Keys: Mujtaba. Values: 29\n",
      "Keys: adnan. Values: 90\n",
      "Keys: bilal. Values: 54\n"
     ]
    }
   ],
   "source": [
    "for key, values in people.items():\n",
    "    print(f\"Keys: {key}. Values: {values}\")"
   ]
  },
  {
   "cell_type": "markdown",
   "id": "e929d8bc",
   "metadata": {},
   "source": [
    "**8. Dictionary Length:**\n",
    "- Find and print the number of key-value pairs in the dictionary from Exercise 1.\n"
   ]
  },
  {
   "cell_type": "code",
   "execution_count": 23,
   "id": "49cd9f44",
   "metadata": {},
   "outputs": [
    {
     "name": "stdout",
     "output_type": "stream",
     "text": [
      "The number of keys are 5\n",
      "The number of values are 5\n"
     ]
    }
   ],
   "source": [
    "print(f\"The number of keys are {len(people.keys())}\")\n",
    "print(f\"The number of values are {len(people.values())}\")"
   ]
  },
  {
   "cell_type": "markdown",
   "id": "2c9a561c",
   "metadata": {},
   "source": [
    "**9. Copy a Dictionary:**\n",
    "- Create a copy of the dictionary from Exercise 1. Modify the copy and print both\n",
    "the original and the modified copy.\n",
    "\n"
   ]
  },
  {
   "cell_type": "code",
   "execution_count": 28,
   "id": "9853df87",
   "metadata": {},
   "outputs": [
    {
     "name": "stdout",
     "output_type": "stream",
     "text": [
      "{'Umer': 25, 'Tayyab': 30, 'Mujtaba': 29, 'adnan': 90, 'bilal': 54}\n",
      "------------------------------------------------------------------------------------------------------------------------\n",
      "This one is the modified dictionary {'Umer': 25, 'Tayyab': 30, 'Mujtaba': 29, 'adnan': 90, 'bilal': 54, 'jaffar': 54}\n"
     ]
    }
   ],
   "source": [
    "new_people = people.copy()\n",
    "print(new_people)\n",
    "\n",
    "\n",
    "print(\"----\"*30)\n",
    "\n",
    "new_people[\"jaffar\"] = 54\n",
    "\n",
    "print(f\"This one is the modified dictionary {new_people}\")"
   ]
  },
  {
   "cell_type": "markdown",
   "id": "f0485205",
   "metadata": {},
   "source": [
    "**10. Nested Dictionary:**\n",
    "- Create a dictionary that stores the information of three people. Each person should\n",
    "have a nested dictionary containing their age, address, and phone number. Print\n",
    "the nested dictionary.\n"
   ]
  },
  {
   "cell_type": "code",
   "execution_count": 30,
   "id": "bbecb333",
   "metadata": {},
   "outputs": [
    {
     "name": "stdout",
     "output_type": "stream",
     "text": [
      "{'umer': {'age': 25, 'address': 'malick shabbir akhtar street', 'phone': 123123123}, 'hayat': {'age': 24, 'address': 'near school 645 zip code', 'phone': 9876543211}, 'nabeel': {'age': 21, 'address': 'near highway 510 zip code', 'phone': 5426646526}}\n"
     ]
    }
   ],
   "source": [
    "information = {\n",
    "    \"umer\":{\"age\":25,\"address\":\"malick shabbir akhtar street\",\"phone\":123123123},\n",
    "    \"hayat\":{\"age\":24,\"address\":\"near school 645 zip code\",\"phone\":9876543211},\n",
    "    \"nabeel\": {\"age\":21, \"address\": \"near highway 510 zip code\", \"phone\": 5426646526}\n",
    "}\n",
    "\n",
    "print(information)"
   ]
  },
  {
   "cell_type": "markdown",
   "id": "37b4c6f9",
   "metadata": {},
   "source": [
    "**11. Merge Dictionaries:**\n",
    "- Merge two dictionaries into one. Print the result.\n"
   ]
  },
  {
   "cell_type": "code",
   "execution_count": 32,
   "id": "ca8f62c9",
   "metadata": {},
   "outputs": [
    {
     "name": "stdout",
     "output_type": "stream",
     "text": [
      "{'umer': 25, 'tayyab': 30, 'ghazia': 23, 'mujtaba': 29, 'adnan': 90, 'bilal': 54, 'jaffar': 60, 'hamza': 20, 'ali': 25, 'hassan': 30}\n"
     ]
    }
   ],
   "source": [
    "dict_1 = {\"umer\": 25, \"tayyab\": 30, \"ghazia\": 23, \"mujtaba\": 29, \"adnan\": 90}\n",
    "dict_2 = {\"bilal\": 54, \"jaffar\": 60, \"hamza\": 20, \"ali\": 25, \"hassan\": 30}\n",
    "\n",
    "#merge two dictionaries\n",
    "dict_1.update(dict_2)\n",
    "\n",
    "print(dict_1)"
   ]
  },
  {
   "cell_type": "markdown",
   "id": "a6c84117",
   "metadata": {},
   "source": [
    "**12. Dictionary of Lists:**\n",
    "- Create a dictionary where the keys are the names of students and the values are\n",
    "lists of their grades. Print the dictionary.\n",
    "\n"
   ]
  },
  {
   "cell_type": "code",
   "execution_count": 182,
   "id": "74334145",
   "metadata": {},
   "outputs": [
    {
     "name": "stdout",
     "output_type": "stream",
     "text": [
      "{'Umer': ['A'], 'Nabeel': ['B'], 'kaleem': ['C'], 'Najaf': ['D'], 'Noon': ['F']}\n"
     ]
    }
   ],
   "source": [
    "student_grades = {\n",
    "    \"Umer\": [\"A\"],\n",
    "    \"Nabeel\": [\"B\"],\n",
    "    \"kaleem\": [\"C\"],\n",
    "    \"Najaf\": [\"D\"],\n",
    "    \"Noon\": [\"F\"]       \n",
    "}\n",
    "\n",
    "print(student_grades)"
   ]
  },
  {
   "cell_type": "markdown",
   "id": "74f4a843",
   "metadata": {},
   "source": [
    "**13. Dictionary Comprehension:**\n",
    "- Use dictionary comprehension to create a dictionary where the keys are numbers\n",
    "from 1 to 10 and the values are the squares of these numbers.\n",
    "\n"
   ]
  },
  {
   "cell_type": "code",
   "execution_count": 42,
   "id": "710f4dc9",
   "metadata": {},
   "outputs": [
    {
     "name": "stdout",
     "output_type": "stream",
     "text": [
      "{1: 1, 2: 4, 3: 9, 4: 16, 5: 25, 6: 36, 7: 49, 8: 64, 9: 81, 10: 100}\n",
      "<class 'dict'>\n"
     ]
    }
   ],
   "source": [
    "square_dict = {x: x**2 for x in range(1,11)}\n",
    "print(square_dict)\n",
    "print(type(square_dict))"
   ]
  },
  {
   "cell_type": "markdown",
   "id": "3e7104a2",
   "metadata": {},
   "source": [
    "**14. From User Input:**\n",
    "- Write a script to create a dictionary by taking name and age as input from the user\n",
    "for five people. Print the dictionary.\n",
    "\n"
   ]
  },
  {
   "cell_type": "code",
   "execution_count": 40,
   "id": "d4e3ba72",
   "metadata": {},
   "outputs": [
    {
     "name": "stdout",
     "output_type": "stream",
     "text": [
      "{'umer': 18, 'adnan': 71, 'huma': 17, 'mujtaba': 81, 'mustafa': 54}\n",
      "<class 'dict'>\n"
     ]
    }
   ],
   "source": [
    "information_dict = {}\n",
    "for i in range(5):\n",
    "    name = input(\"Enter your name: \")\n",
    "    age = int(input(\"Enter your age\"))\n",
    "    information_dict[name] = age\n",
    "\n",
    "print(information_dict)\n",
    "print(type(information_dict))"
   ]
  },
  {
   "cell_type": "markdown",
   "id": "3724e558",
   "metadata": {},
   "source": [
    "**15. Count Occurrences:**\n",
    "\n",
    "- Given a string, count the occurrences of each character using a dictionary. Print\n",
    "the dictionary.\n"
   ]
  },
  {
   "cell_type": "code",
   "execution_count": 50,
   "id": "1b25e0c0",
   "metadata": {},
   "outputs": [
    {
     "name": "stdout",
     "output_type": "stream",
     "text": [
      "{'G': 1, 'i': 8, 'v': 1, 'e': 7, 'n': 8, ' ': 14, 'a': 7, 's': 3, 't': 8, 'r': 8, 'g': 2, ',': 1, 'c': 9, 'o': 5, 'u': 3, 'h': 4, 'f': 1, 'd': 2, 'y': 2, '.': 1, 'P': 1}\n"
     ]
    }
   ],
   "source": [
    "string = \"Given a string, count the occurrences of each character using a dictionary. Print the dictionary\"\n",
    "frequency_count = {}\n",
    "\n",
    "for char in string:\n",
    "    if char in frequency_count:\n",
    "        frequency_count[char] += 1\n",
    "    else:\n",
    "        frequency_count[char] = 1\n",
    "\n",
    "print(frequency_count)"
   ]
  },
  {
   "cell_type": "markdown",
   "id": "0ee32087",
   "metadata": {},
   "source": [
    "**16. Reverse Lookup:**\n",
    "- Given a dictionary of names and ages, write a script to find and print the names of\n",
    "people with a specific age.\n",
    "\n"
   ]
  },
  {
   "cell_type": "code",
   "execution_count": 66,
   "id": "bcd8e014",
   "metadata": {},
   "outputs": [
    {
     "name": "stdout",
     "output_type": "stream",
     "text": [
      "ali: 25\n"
     ]
    }
   ],
   "source": [
    "dict_2 = {\"bilal\": 54, \"jaffar\": 60, \"hamza\": 20, \"ali\": 25, \"hassan\": 30}\n",
    "particular_age = 25\n",
    "found = False\n",
    "\n",
    "\n",
    "for key, value in dict_2.items():\n",
    "    if value == particular_age:\n",
    "        print(f\"{key}: {value}\")\n",
    "        found = True\n",
    "\n",
    "if not found:\n",
    "    print(f\"Record of this particular age {particular_age} not found\")\n"
   ]
  },
  {
   "cell_type": "markdown",
   "id": "b3c35a93",
   "metadata": {},
   "source": [
    "**17. Sum Values:**\n",
    "- Given a dictionary with numerical values, calculate and print the sum of the\n",
    "values.\n"
   ]
  },
  {
   "cell_type": "code",
   "execution_count": 71,
   "id": "6adea6d0",
   "metadata": {},
   "outputs": [
    {
     "name": "stdout",
     "output_type": "stream",
     "text": [
      "189\n"
     ]
    }
   ],
   "source": [
    "dict_2 = {\"bilal\": 54, \"jaffar\": 60, \"hamza\": 20, \"ali\": 25, \"hassan\": 30}\n",
    "\n",
    "dict_value_sum = sum(dict_2.values())\n",
    "\n",
    "print(dict_value_sum)"
   ]
  },
  {
   "cell_type": "markdown",
   "id": "172c3567",
   "metadata": {},
   "source": [
    "**18. Top Student:**\n",
    "- Given a dictionary of student names and their grades, find and print the name of\n",
    "the student with the highest grade.\n",
    "\n"
   ]
  },
  {
   "cell_type": "code",
   "execution_count": 85,
   "id": "9aaf97b2",
   "metadata": {},
   "outputs": [
    {
     "name": "stdout",
     "output_type": "stream",
     "text": [
      "Noon\n"
     ]
    }
   ],
   "source": [
    "#create a dictionary of students and their grades, find and print the name of the student with highes grade\n",
    "student_grades = {\n",
    "    \"Umer\": 85,\n",
    "    \"Nabeel\": 92,\n",
    "    \"Kaleem\": 78,\n",
    "    \"Najaf\": 88,\n",
    "    \"Noon\": 95\n",
    "}\n",
    "student_with_maximum_grades = max(student_grades, key = student_grades.get)\n",
    "print(student_with_maximum_grades)"
   ]
  },
  {
   "cell_type": "markdown",
   "id": "c202faaf",
   "metadata": {},
   "source": [
    "**19. Unique Values:**\n",
    "- Write a script to print all unique values in a dictionary.\n"
   ]
  },
  {
   "cell_type": "code",
   "execution_count": 88,
   "id": "031701ba",
   "metadata": {},
   "outputs": [
    {
     "name": "stdout",
     "output_type": "stream",
     "text": [
      "{78, 85, 88, 92, 95}\n"
     ]
    }
   ],
   "source": [
    "unique_value = set(student_grades.values())\n",
    "print(unique_value)"
   ]
  },
  {
   "cell_type": "markdown",
   "id": "d606b8ae",
   "metadata": {},
   "source": [
    "**20. Default Dictionary:**\n",
    "- Use collections.defaultdict to create a dictionary that automatically assigns\n",
    "a default value of 0 to any key that does not exist. Add some values and print the\n",
    "dictionary.\n",
    "\n"
   ]
  },
  {
   "cell_type": "code",
   "execution_count": 101,
   "id": "6f951b4e",
   "metadata": {},
   "outputs": [
    {
     "name": "stdout",
     "output_type": "stream",
     "text": [
      "defaultdict(<class 'int'>, {'a': 1, 'b': 2, 'c': 3})\n",
      "{'a': 1, 'b': 2, 'c': 3}\n"
     ]
    }
   ],
   "source": [
    "from collections import defaultdict\n",
    "\n",
    "auto_dict = defaultdict(int)\n",
    "auto_dict[\"a\"] += 1\n",
    "auto_dict[\"b\"] += 2\n",
    "auto_dict[\"c\"] += 3\n",
    "print(auto_dict)\n",
    "print(dict(auto_dict))\n",
    "\n"
   ]
  },
  {
   "cell_type": "markdown",
   "id": "ce27d6a0",
   "metadata": {},
   "source": [
    "**21. Dictionary from Two Lists:**\n",
    "- Create a dictionary from two lists: one containing keys and the other containing\n",
    "values. Print the dictionary.\n",
    "\n"
   ]
  },
  {
   "cell_type": "code",
   "execution_count": 104,
   "id": "23bb4d92",
   "metadata": {},
   "outputs": [
    {
     "name": "stdout",
     "output_type": "stream",
     "text": [
      "{'umer': 25, 'nabeel': 23, 'kaleem': 21, 'Najaf': 19}\n",
      "<class 'dict'>\n"
     ]
    }
   ],
   "source": [
    "list1 = [\"umer\",\"nabeel\",\"kaleem\",\"Najaf\"]\n",
    "list2 = [25,23,21,19]\n",
    "\n",
    "new_dict = {}\n",
    "\n",
    "for key, value in zip(list1, list2):\n",
    "    new_dict[key] = value\n",
    "\n",
    "print(new_dict)\n",
    "print(type(new_dict))\n",
    "\n"
   ]
  },
  {
   "cell_type": "markdown",
   "id": "1d55e6b0",
   "metadata": {},
   "source": [
    "**22. Group by Category:**\n",
    "- Given a list of products, each with a name and category, group the products by\n",
    "category in a dictionary and print it.\n",
    "\n"
   ]
  },
  {
   "cell_type": "code",
   "execution_count": 107,
   "id": "d56f5df8",
   "metadata": {},
   "outputs": [
    {
     "name": "stdout",
     "output_type": "stream",
     "text": [
      "{'Electronics': ['Laptop', 'Smartphone'], 'Clothing': ['Shirt', 'Pants'], 'Home Appliances': ['Blender']}\n"
     ]
    }
   ],
   "source": [
    "#given a list of porducts, each with a name and category, group the products by category in a dictionary and print it.\n",
    "products = [\n",
    "    {\"name\": \"Laptop\", \"category\": \"Electronics\"},\n",
    "    {\"name\": \"Shirt\", \"category\": \"Clothing\"},\n",
    "    {\"name\": \"Smartphone\", \"category\": \"Electronics\"},\n",
    "    {\"name\": \"Pants\", \"category\": \"Clothing\"},\n",
    "    {\"name\": \"Blender\", \"category\": \"Home Appliances\"}\n",
    "]\n",
    "\n",
    "product_dict = {}\n",
    "\n",
    "for product in products:\n",
    "    cat = product[\"category\"]\n",
    "    name = product[\"name\"]\n",
    "\n",
    "    if cat not in product_dict:\n",
    "        product_dict[cat] = []\n",
    "\n",
    "    product_dict[cat].append(name)\n",
    "\n",
    "print(product_dict)"
   ]
  },
  {
   "cell_type": "markdown",
   "id": "062efa9a",
   "metadata": {},
   "source": [
    "**23. Dictionary to List:**\n",
    "- Convert a dictionary into two lists: one for keys and one for values. Print both\n",
    "lists.\n"
   ]
  },
  {
   "cell_type": "code",
   "execution_count": 108,
   "id": "0a77fca1",
   "metadata": {},
   "outputs": [
    {
     "name": "stdout",
     "output_type": "stream",
     "text": [
      "['umer', 'nabeel', 'kaleem', 'Najaf']\n",
      "[25, 23, 21, 19]\n"
     ]
    }
   ],
   "source": [
    "dict_new = {'umer': 25, 'nabeel': 23, 'kaleem': 21, 'Najaf': 19}\n",
    "\n",
    "name_list = []\n",
    "age_list = []\n",
    "\n",
    "for key, value in dict_new.items():\n",
    "    name_list.append(key)\n",
    "    age_list.append(value)\n",
    "\n",
    "\n",
    "print(name_list)\n",
    "print(age_list)"
   ]
  },
  {
   "cell_type": "markdown",
   "id": "a9598355",
   "metadata": {},
   "source": [
    "**24. Filter Dictionary:**\n",
    "- Write a script to filter a dictionary by retaining only those key-value pairs where the\n",
    "value is greater than a specified threshold. Print the filtered dictionary.\n"
   ]
  },
  {
   "cell_type": "code",
   "execution_count": 111,
   "id": "56d814f2",
   "metadata": {},
   "outputs": [
    {
     "name": "stdout",
     "output_type": "stream",
     "text": [
      "{'umer': 25, 'nabeel': 23, 'kaleem': 21}\n"
     ]
    }
   ],
   "source": [
    "dict_new = {'umer': 25, 'nabeel': 23, 'kaleem': 21, 'Najaf': 19}\n",
    "#i will use dict comprehension method here\n",
    "threshold = 20\n",
    "\n",
    "filtered_dict = {k: v for k,v in dict_new.items() if v >= threshold}\n",
    "print(filtered_dict)\n"
   ]
  },
  {
   "cell_type": "markdown",
   "id": "910276b4",
   "metadata": {},
   "source": [
    "**25. Sorted Dictionary:**\n",
    "- Write a script to sort a dictionary by its keys and then by its values, and print the\n",
    "sorted dictionary."
   ]
  },
  {
   "cell_type": "code",
   "execution_count": 123,
   "id": "b12e2512",
   "metadata": {},
   "outputs": [
    {
     "name": "stdout",
     "output_type": "stream",
     "text": [
      "{'Najaf': 19, 'kaleem': 21, 'nabeel': 23, 'umer': 25}\n",
      "{'Najaf': 19, 'kaleem': 21, 'nabeel': 23, 'umer': 25}\n"
     ]
    }
   ],
   "source": [
    "dict_new = {'umer': 25, 'nabeel': 23, 'kaleem': 21, 'Najaf': 19}\n",
    "\n",
    "sort_by_keys =  dict(sorted(dict_new.items()))\n",
    "print(sort_by_keys)\n",
    "\n",
    "\n",
    "sorted_by_values = dict(sorted(dict_new.items(), key=lambda x: x[1] ))\n",
    "print(sorted_by_values)"
   ]
  },
  {
   "cell_type": "markdown",
   "id": "74ab9db4",
   "metadata": {},
   "source": [
    "___"
   ]
  },
  {
   "cell_type": "markdown",
   "id": "571fbc73",
   "metadata": {},
   "source": [
    "##  Set Exercises\n"
   ]
  },
  {
   "cell_type": "markdown",
   "id": "79802a53",
   "metadata": {},
   "source": [
    "**26. Create a Set:**\n",
    "- Create a set containing the names of five fruits. Print the set.\n"
   ]
  },
  {
   "cell_type": "code",
   "execution_count": 124,
   "id": "593044e9",
   "metadata": {},
   "outputs": [
    {
     "name": "stdout",
     "output_type": "stream",
     "text": [
      "{'strawberry', 'banana', 'cherry', 'orange', 'apple'}\n",
      "<class 'set'>\n"
     ]
    }
   ],
   "source": [
    "fruits_set = set((\"apple\",\"banana\", \"orange\",\"cherry\", \"strawberry\"))\n",
    "\n",
    "print(fruits_set)\n",
    "print(type(fruits_set))"
   ]
  },
  {
   "cell_type": "markdown",
   "id": "31a66f00",
   "metadata": {},
   "source": [
    "**27. Add an Element:**\n",
    "- Add a new fruit to the set you created in Exercise 1. Print the updated set.\n"
   ]
  },
  {
   "cell_type": "code",
   "execution_count": 130,
   "id": "b695a49c",
   "metadata": {},
   "outputs": [
    {
     "name": "stdout",
     "output_type": "stream",
     "text": [
      "New Updated set {'mangoes', 'strawberry', 'banana', 'cherry', 'orange', 'apple'}\n"
     ]
    }
   ],
   "source": [
    "fruits_set.add(\"mangoes\")\n",
    "\n",
    "print(f\"New Updated set {fruits_set}\")"
   ]
  },
  {
   "cell_type": "markdown",
   "id": "716a4ca0",
   "metadata": {},
   "source": [
    "**28. Remove an Element:**\n",
    "- Remove a fruit from the set you created in Exercise 1. Print the updated set.\n"
   ]
  },
  {
   "cell_type": "code",
   "execution_count": 133,
   "id": "569bb394",
   "metadata": {},
   "outputs": [
    {
     "name": "stdout",
     "output_type": "stream",
     "text": [
      "{'mangoes', 'strawberry', 'banana', 'orange', 'apple'}\n"
     ]
    }
   ],
   "source": [
    "fruits_set.discard(\"cherry\")\n",
    "\n",
    "print(fruits_set)"
   ]
  },
  {
   "cell_type": "markdown",
   "id": "ca9bf8e9",
   "metadata": {},
   "source": [
    "**29. Check Membership:**\n",
    "- Write a script to check if a specific fruit is in the set created in Exercise 1. Print an\n",
    "appropriate message.\n",
    "\n"
   ]
  },
  {
   "cell_type": "code",
   "execution_count": 139,
   "id": "66938c16",
   "metadata": {},
   "outputs": [
    {
     "name": "stdout",
     "output_type": "stream",
     "text": [
      "Yes banana is in set\n"
     ]
    }
   ],
   "source": [
    "search_item = \"banana\"\n",
    "\n",
    "if search_item  in fruits_set:\n",
    "    print(f\"Yes {search_item} is in set\")\n",
    "else:\n",
    "    print(f\"{search_item} is not in fruits\")"
   ]
  },
  {
   "cell_type": "markdown",
   "id": "279d5ecf",
   "metadata": {},
   "source": [
    "**30. Union of Sets:**\n",
    "- Create two sets of fruits and find their union. Print the resulting set.\n"
   ]
  },
  {
   "cell_type": "code",
   "execution_count": 142,
   "id": "22608bf7",
   "metadata": {},
   "outputs": [
    {
     "name": "stdout",
     "output_type": "stream",
     "text": [
      "This is the Union of two set {1, 2, 3, 4, 5} with 'union' method\n",
      "This is the Union of two set {1, 2, 3, 4, 5} with '|' Operator\n"
     ]
    }
   ],
   "source": [
    "set1 = {1, 2, 3}\n",
    "set2 = {3, 4, 5}\n",
    "\n",
    "\n",
    "#method\n",
    "union_1 = set1.union(set2)\n",
    "print(f\"This is the Union of two set {union_1} with 'union' method\")\n",
    "\n",
    "#with operator \n",
    "union_2 = set1 | set2\n",
    "print(f\"This is the Union of two set {union_2} with '|' Operator\")"
   ]
  },
  {
   "cell_type": "markdown",
   "id": "3d2733b4",
   "metadata": {},
   "source": [
    "**31. Intersection of Sets:**\n",
    "- Create two sets of fruits and find their intersection. Print the resulting set.\n"
   ]
  },
  {
   "cell_type": "code",
   "execution_count": null,
   "id": "42d61cdd",
   "metadata": {},
   "outputs": [
    {
     "name": "stdout",
     "output_type": "stream",
     "text": [
      "This is the Union of two set {3} with 'intersection' method\n",
      "This is the Union of two set {3} with '&' Operator\n"
     ]
    }
   ],
   "source": [
    "set1 = {1, 2, 3}\n",
    "set2 = {3, 4, 5}\n",
    "\n",
    "\n",
    "#method\n",
    "intersection_1 = set1.intersection(set2)\n",
    "print(f\"This is the intersection of two set {intersection_1} with 'intersection' method\")\n",
    "\n",
    "#with operator \n",
    "intersection_2 = set1 & set2\n",
    "print(f\"This is the intersection of two set {intersection_2} with '&' Operator\")"
   ]
  },
  {
   "cell_type": "markdown",
   "id": "cc0e71ac",
   "metadata": {},
   "source": [
    "**32. Difference of Sets:**\n",
    "- Create two sets of fruits and find the difference between them. Print the resulting\n",
    "set.\n",
    "\n"
   ]
  },
  {
   "cell_type": "code",
   "execution_count": 145,
   "id": "a14e7187",
   "metadata": {},
   "outputs": [
    {
     "name": "stdout",
     "output_type": "stream",
     "text": [
      "This is the difference {1, 2} with 'difference' method\n",
      "This is the difference {1, 2} with '-' operator\n"
     ]
    }
   ],
   "source": [
    "set1 = {1, 2, 3}\n",
    "set2 = {3, 4, 5}\n",
    "\n",
    "\n",
    "#method \n",
    "diff_1 = set1.difference(set2)\n",
    "print(f\"This is the difference {diff_1} with 'difference' method\")\n",
    "\n",
    "#with operator\n",
    "\n",
    "diff_2 = set1 - set2\n",
    "print(f\"This is the difference {diff_2} with '-' operator\")"
   ]
  },
  {
   "cell_type": "markdown",
   "id": "08db144f",
   "metadata": {},
   "source": [
    "**33. Symmetric Difference of Sets:**\n",
    "- Create two sets of fruits and find their symmetric difference. Print the resulting\n",
    "set.\n"
   ]
  },
  {
   "cell_type": "code",
   "execution_count": 148,
   "id": "af8d8fac",
   "metadata": {},
   "outputs": [
    {
     "name": "stdout",
     "output_type": "stream",
     "text": [
      "This is the symmetric difference {1, 2, 4, 5} with 'symmetric_difference' method\n",
      "This is the symmetric difference {1, 2, 4, 5} with '^' operator\n"
     ]
    }
   ],
   "source": [
    "#with method\n",
    "sym_diff_1 = set1.symmetric_difference(set2)\n",
    "print(f\"This is the symmetric difference {sym_diff_1} with 'symmetric_difference' method\")\n",
    "\n",
    "#with operator\n",
    "\n",
    "sym_diff_2 = set1 ^ set2\n",
    "print(f\"This is the symmetric difference {sym_diff_2} with '^' operator\")"
   ]
  },
  {
   "cell_type": "markdown",
   "id": "40dc78b1",
   "metadata": {},
   "source": [
    "**34. Subset Check:**\n",
    "- Write a script to check if one set is a subset of another. Print an appropriate\n",
    "message.\n"
   ]
  },
  {
   "cell_type": "code",
   "execution_count": 161,
   "id": "b26e4dba",
   "metadata": {},
   "outputs": [
    {
     "name": "stdout",
     "output_type": "stream",
     "text": [
      "\n",
      " Is set1 is subset of set2 ? \n",
      "  Answer: False\n"
     ]
    }
   ],
   "source": [
    "subset_1 = set2.issubset(set1)\n",
    "print(f\"\\n Is set1 is subset of set2 ? \\n  Answer: {subset_1}\")"
   ]
  },
  {
   "cell_type": "markdown",
   "id": "00091442",
   "metadata": {},
   "source": [
    "**35. Superset Check:**\n",
    "- Write a script to check if one set is a superset of another. Print an appropriate\n",
    "message.\n"
   ]
  },
  {
   "cell_type": "code",
   "execution_count": 162,
   "id": "a74eca97",
   "metadata": {},
   "outputs": [
    {
     "name": "stdout",
     "output_type": "stream",
     "text": [
      "\n",
      " Is set1 is superset of set2 ? \n",
      "  Answer: False\n"
     ]
    }
   ],
   "source": [
    "super_set = set1.issuperset(set2)\n",
    "print(f\"\\n Is set1 is superset of set2 ? \\n  Answer: {super_set}\")"
   ]
  },
  {
   "cell_type": "markdown",
   "id": "617a6147",
   "metadata": {},
   "source": [
    "**36. Iterate Through a Set:**\n",
    "-  Write a script to iterate through a set and print each element.\n"
   ]
  },
  {
   "cell_type": "code",
   "execution_count": 163,
   "id": "4728ca3e",
   "metadata": {},
   "outputs": [
    {
     "name": "stdout",
     "output_type": "stream",
     "text": [
      "mangoes\n",
      "strawberry\n",
      "banana\n",
      "orange\n",
      "apple\n"
     ]
    }
   ],
   "source": [
    "for i in fruits_set:\n",
    "    print(i)"
   ]
  },
  {
   "cell_type": "markdown",
   "id": "ab4df002",
   "metadata": {},
   "source": [
    "**37. Set Length:**\n",
    "- Write a script to find and print the number of elements in a set.\n"
   ]
  },
  {
   "cell_type": "code",
   "execution_count": 166,
   "id": "94aaeccf",
   "metadata": {},
   "outputs": [
    {
     "name": "stdout",
     "output_type": "stream",
     "text": [
      "\n",
      " The Number of items in the set are 5\n"
     ]
    }
   ],
   "source": [
    "print(f\"\\n The Number of items in the set are {len(fruits_set)}\")"
   ]
  },
  {
   "cell_type": "markdown",
   "id": "2698990e",
   "metadata": {},
   "source": [
    "**38. Remove Duplicates:**\n",
    "- Given a list of numbers, write a script to remove duplicates by converting the list\n",
    "to a set. Print the resulting set."
   ]
  },
  {
   "cell_type": "code",
   "execution_count": 167,
   "id": "91cc90b7",
   "metadata": {},
   "outputs": [
    {
     "name": "stdout",
     "output_type": "stream",
     "text": [
      "{1, 2, 3, 4, 5, 6, 7, 8, 9, 10}\n"
     ]
    }
   ],
   "source": [
    "#create a list of 20 numbers wih duplicates. \n",
    "numbers = [1,2,3,4,5,6,7,8,9,10,1,2,3,4,5,6,7,8,9,10]\n",
    "\n",
    "number_2 = set(numbers)\n",
    "print(number_2)"
   ]
  },
  {
   "cell_type": "markdown",
   "id": "1ddfea4b",
   "metadata": {},
   "source": [
    "____"
   ]
  }
 ],
 "metadata": {
  "kernelspec": {
   "display_name": "tf_env",
   "language": "python",
   "name": "python3"
  },
  "language_info": {
   "codemirror_mode": {
    "name": "ipython",
    "version": 3
   },
   "file_extension": ".py",
   "mimetype": "text/x-python",
   "name": "python",
   "nbconvert_exporter": "python",
   "pygments_lexer": "ipython3",
   "version": "3.11.11"
  }
 },
 "nbformat": 4,
 "nbformat_minor": 5
}
