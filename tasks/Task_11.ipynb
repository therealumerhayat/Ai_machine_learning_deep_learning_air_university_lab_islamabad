{
 "cells": [
  {
   "cell_type": "markdown",
   "id": "bc0e3872",
   "metadata": {},
   "source": [
    "**Name:** Muhammad Umer\n",
    "\n",
    "**Email** umerhayat282@gmail.com\n",
    "\n",
    "**Date** September 26, 2025\n",
    "\n",
    "\n",
    "\n",
    "____"
   ]
  },
  {
   "cell_type": "markdown",
   "id": "40977be0",
   "metadata": {},
   "source": [
    "##      Classes and Objects (Exercises)"
   ]
  },
  {
   "cell_type": "markdown",
   "id": "964e5dbc",
   "metadata": {},
   "source": [
    "**1. Basic Class and Object Creation:**\n",
    "\n",
    "- Define a class Car with attributes make and model. Create an instance of the Car\n",
    "class and print its attributes."
   ]
  },
  {
   "cell_type": "code",
   "execution_count": 2,
   "id": "c15d64dd",
   "metadata": {},
   "outputs": [
    {
     "name": "stdout",
     "output_type": "stream",
     "text": [
      "Make: Toyota, Year: 2025\n"
     ]
    }
   ],
   "source": [
    "class Car:\n",
    "    def __init__(self, make, year):\n",
    "        self.make = make\n",
    "        self.year = year\n",
    "\n",
    "    def display(self):\n",
    "        print(f\"Make: {self.make}, Year: {self.year}\")\n",
    "\n",
    "c = Car(make=\"Toyota\", year=2025)\n",
    "c.display()"
   ]
  },
  {
   "cell_type": "markdown",
   "id": "c44d07a6",
   "metadata": {},
   "source": [
    "\n",
    "**2. Constructor with Parameters:**\n",
    "\n",
    "- Define a class Book with a constructor that takes title and author as parameters\n",
    "and initializes these attributes. Create an instance of the Book class and print its\n",
    "attributes."
   ]
  },
  {
   "cell_type": "code",
   "execution_count": 4,
   "id": "9134b59e",
   "metadata": {},
   "outputs": [
    {
     "name": "stdout",
     "output_type": "stream",
     "text": [
      "Title: Sapiens, Author: Yuval Noah Harari\n"
     ]
    }
   ],
   "source": [
    "class Book:\n",
    "    def __init__(self, title, author):\n",
    "        self.title = title\n",
    "        self.author = author\n",
    "\n",
    "    def show_books(self):\n",
    "        print(f\"Title: {self.title}, Author: {self.author}\")\n",
    "\n",
    "\n",
    "b = Book(title=\"Sapiens\", author=\"Yuval Noah Harari\")\n",
    "b.show_books()"
   ]
  },
  {
   "cell_type": "markdown",
   "id": "243bb2eb",
   "metadata": {},
   "source": [
    "**3. Constructor with Default Parameters:**\n",
    "\n",
    "- Define a class Person with a constructor that takes name and age as parameters.\n",
    "Set default values for the parameters to &quot;Unknown&quot; and 0, respectively. Create\n",
    "instances of the Person class with and without passing arguments, and print their\n",
    "attributes."
   ]
  },
  {
   "cell_type": "code",
   "execution_count": 6,
   "id": "3b2e6fa4",
   "metadata": {},
   "outputs": [
    {
     "name": "stdout",
     "output_type": "stream",
     "text": [
      "Name: Unknown, Age: 0\n",
      "Name: Umer, Age: 25\n"
     ]
    }
   ],
   "source": [
    "class Person:\n",
    "    def __init__(self, name=\"Unknown\", age=0):\n",
    "        self.name = name\n",
    "        self.age = age \n",
    "    def show_info(self):\n",
    "        print(f\"Name: {self.name}, Age: {self.age}\")\n",
    "\n",
    "\n",
    "p1 = Person()\n",
    "p1.show_info()\n",
    "\n",
    "p2 = Person(name=\"Umer\", age=25)\n",
    "p2.show_info()        "
   ]
  },
  {
   "cell_type": "markdown",
   "id": "8d600641",
   "metadata": {},
   "source": [
    "**4. Instance and Class Variables:**\n",
    "\n",
    "- Define a class Employee with instance variables name and salary, and a class\n",
    "variable company_name. Create instances of the Employee class, modify the class\n",
    "variable, and observe the changes."
   ]
  },
  {
   "cell_type": "code",
   "execution_count": 12,
   "id": "2be984a7",
   "metadata": {},
   "outputs": [
    {
     "name": "stdout",
     "output_type": "stream",
     "text": [
      "Name: Umer, Salary: $5000, Company Name: VoxInt\n",
      "Name: Ali, Salary: $6000, Company Name: Netsol\n"
     ]
    }
   ],
   "source": [
    "class Employee:\n",
    "    company_name = \"VoxInt\"\n",
    "    def __init__(self, name, salary):\n",
    "        self.name = name\n",
    "        self.salary = salary\n",
    "        Employee.company_name\n",
    "\n",
    "    @classmethod\n",
    "    def modify(cls, new_name):\n",
    "        cls.company_name = new_name\n",
    "\n",
    "    def display(self):\n",
    "        print(f\"Name: {self.name}, Salary: ${self.salary}, Company Name: {Employee.company_name}\")\n",
    "\n",
    "\n",
    "emp1 = Employee(name=\"Umer\", salary=5000)\n",
    "emp1.display()\n",
    "\n",
    "#modifying class variable\n",
    "emp2 = Employee(name=\"Ali\", salary=6000)\n",
    "emp2.modify(\"Netsol\")\n",
    "emp2.display()\n",
    "        "
   ]
  },
  {
   "cell_type": "markdown",
   "id": "3b113680",
   "metadata": {},
   "source": [
    "**5. Instance Methods:**\n",
    "\n",
    "- Define a class Circle with an instance variable radius. Implement an instance\n",
    "method area that calculates and returns the area of the circle. Create an instance\n",
    "of the Circle class and call the area method."
   ]
  },
  {
   "cell_type": "code",
   "execution_count": 18,
   "id": "50244529",
   "metadata": {},
   "outputs": [
    {
     "name": "stdout",
     "output_type": "stream",
     "text": [
      "Radius: 45.0\n",
      "Area: 6358.5\n"
     ]
    }
   ],
   "source": [
    "class Circle:\n",
    "    def __init__(self, radius):\n",
    "        self.radius = float(radius)\n",
    "\n",
    "    def area(self):\n",
    "        ar = 3.14 * self.radius ** 2\n",
    "        return ar\n",
    "\n",
    "cr = Circle(45)\n",
    "print(\"Radius:\", cr.radius)\n",
    "print(\"Area:\", cr.area())"
   ]
  },
  {
   "cell_type": "markdown",
   "id": "a5257f57",
   "metadata": {},
   "source": [
    "\n",
    "**6. Class Methods:**\n",
    "\n",
    "- Define a class Student with an instance variable name and a class variable\n",
    "school_name. Implement a class method set_school_name to change the class\n",
    "variable school_name. Create instances of the Student class and use the class\n",
    "method to change the school name."
   ]
  },
  {
   "cell_type": "code",
   "execution_count": 20,
   "id": "4ef778e9",
   "metadata": {},
   "outputs": [
    {
     "name": "stdout",
     "output_type": "stream",
     "text": [
      "Name: Umer, School Name: BZU\n",
      "Name: Umer, School Name: Air University\n"
     ]
    }
   ],
   "source": [
    "class Student:\n",
    "    school_name = \"BZU\"\n",
    "    def __init__(self, name):\n",
    "        self.name = name \n",
    "        Student.school_name\n",
    "\n",
    "    @classmethod\n",
    "    def modify(cls, new_school_name):\n",
    "        cls.school_name = new_school_name\n",
    "\n",
    "    def show_info(self):\n",
    "        print(f\"Name: {self.name}, School Name: {Student.school_name}\")\n",
    "\n",
    "\n",
    "st1 = Student(name=\"Umer\")\n",
    "st1.show_info()\n",
    "\n",
    "#now modify\n",
    "\n",
    "st2 = Student(name=\"Umer\")\n",
    "st2.modify(\"Air University\")\n",
    "st2.show_info()\n",
    "        "
   ]
  },
  {
   "cell_type": "markdown",
   "id": "cbcb37dc",
   "metadata": {},
   "source": [
    "\n",
    "**7. Static Methods:**\n",
    "\n",
    "- Define a class MathUtils with a static method add that takes two numbers and\n",
    "returns their sum. Call the static method without creating an instance of the class."
   ]
  },
  {
   "cell_type": "code",
   "execution_count": 27,
   "id": "295172ea",
   "metadata": {},
   "outputs": [
    {
     "name": "stdout",
     "output_type": "stream",
     "text": [
      "Sum: 15\n"
     ]
    }
   ],
   "source": [
    "class MathUtils:\n",
    "    @staticmethod\n",
    "    def add(a, b):\n",
    "        return a + b\n",
    "\n",
    "\n",
    "result = MathUtils.add(10, 5)\n",
    "print(\"Sum:\", result)"
   ]
  },
  {
   "cell_type": "markdown",
   "id": "ab7ea092",
   "metadata": {},
   "source": [
    "\n",
    "**8. Passing Members of One Class to Another Class:**\n",
    "\n",
    "- Define a class Address with attributes street and city. Define a class Person\n",
    "with attributes name and address. Pass an instance of the Address class as an\n",
    "argument to the Person class and print the person&#39;s details."
   ]
  },
  {
   "cell_type": "code",
   "execution_count": 30,
   "id": "1cbb9a55",
   "metadata": {},
   "outputs": [
    {
     "name": "stdout",
     "output_type": "stream",
     "text": [
      "Name: Umer\n",
      "Street: G-10/4\n",
      "City: Islamabad\n"
     ]
    }
   ],
   "source": [
    "class Address:\n",
    "    def __init__(self, street, city):\n",
    "        self.street = street\n",
    "        self.city = city\n",
    "\n",
    "class Person:\n",
    "    def __init__(self, name, address):\n",
    "        self.name = name\n",
    "        self.address = address\n",
    "\n",
    "\n",
    "    def display(self):\n",
    "        print(f\"Name: {self.name}\")\n",
    "        print(f\"Street: {self.address.street}\")\n",
    "        print(f\"City: {self.address.city}\")\n",
    "\n",
    "\n",
    "\n",
    "addr = Address(\"G-10/4\", \"Islamabad\")\n",
    "\n",
    "pr = Person(\"Umer\", addr)\n",
    "pr.display()\n",
    "\n",
    "\n"
   ]
  },
  {
   "cell_type": "markdown",
   "id": "6f67f4d1",
   "metadata": {},
   "source": [
    "\n",
    "\n",
    "\n",
    "\n",
    "\n",
    "\n",
    "\n",
    "\n",
    "\n",
    "\n",
    "\n",
    "\n",
    "**9. Combination of Methods:**\n",
    "\n",
    "- Define a class BankAccount with instance variables account_number and\n",
    "balance, a class variable bank_name, an instance method deposit, a class\n",
    "method set_bank_name, and a static method interest_rate that returns a fixed\n",
    "interest rate. Create an instance of the BankAccount class and demonstrate the use\n",
    "of these methods."
   ]
  },
  {
   "cell_type": "code",
   "execution_count": 31,
   "id": "b6300474",
   "metadata": {},
   "outputs": [
    {
     "name": "stdout",
     "output_type": "stream",
     "text": [
      "Bank Name: Meezan Bank\n",
      "Deposited 500. New balance: 1500\n",
      "Interest on current balance: 225.0\n",
      "Updated Bank Name: UBL Bank\n"
     ]
    }
   ],
   "source": [
    "class BankAccount:\n",
    "    bank_name = \"Meezan Bank\"  \n",
    "\n",
    "    def __init__(self, account_number, balance):\n",
    "        self.account_number = account_number  \n",
    "        self.balance = balance  \n",
    "\n",
    "    def deposit(self, amount):\n",
    "        self.balance += amount\n",
    "        print(f\"Deposited {amount}. New balance: {self.balance}\")\n",
    "\n",
    "    @classmethod\n",
    "    def set_bank_name(cls, new_name):\n",
    "        cls.bank_name = new_name\n",
    "\n",
    "    @staticmethod\n",
    "    def interest_rate(balance):\n",
    "        return balance * 0.15  # 15% interest\n",
    "\n",
    "\n",
    "acc = BankAccount(\"PKR123456\", 1000)\n",
    "print(\"Bank Name:\", BankAccount.bank_name)\n",
    "acc.deposit(500)\n",
    "print(\"Interest on current balance:\", BankAccount.interest_rate(acc.balance))\n",
    "\n",
    "BankAccount.set_bank_name(\"UBL Bank\")\n",
    "print(\"Updated Bank Name:\", BankAccount.bank_name)"
   ]
  },
  {
   "cell_type": "markdown",
   "id": "bbbef0d0",
   "metadata": {},
   "source": [
    "___"
   ]
  }
 ],
 "metadata": {
  "kernelspec": {
   "display_name": "tf_env",
   "language": "python",
   "name": "python3"
  },
  "language_info": {
   "codemirror_mode": {
    "name": "ipython",
    "version": 3
   },
   "file_extension": ".py",
   "mimetype": "text/x-python",
   "name": "python",
   "nbconvert_exporter": "python",
   "pygments_lexer": "ipython3",
   "version": "3.11.11"
  }
 },
 "nbformat": 4,
 "nbformat_minor": 5
}
