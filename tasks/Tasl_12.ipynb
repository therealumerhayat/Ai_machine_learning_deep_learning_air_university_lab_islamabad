{
 "cells": [
  {
   "cell_type": "markdown",
   "id": "713433fd",
   "metadata": {},
   "source": [
    "**Name:** Muhammad Umer\n",
    "\n",
    "**Email** umerhayat282@gmail.com\n",
    "\n",
    "**Date** September 29, 2025\n",
    "\n",
    "\n",
    "\n",
    "____"
   ]
  },
  {
   "cell_type": "markdown",
   "id": "7624b589",
   "metadata": {},
   "source": [
    "##  Static Method Decorator (2 Programs)"
   ]
  },
  {
   "cell_type": "markdown",
   "id": "359a3fae",
   "metadata": {},
   "source": [
    "**1. Static Method for Utility Function:**\n",
    "\n",
    "Define a class MathOperations that contains a static method add_numbers which\n",
    "takes two numbers as arguments and returns their sum. Demonstrate how to use this\n",
    "static method to add two numbers without creating an instance of the class."
   ]
  },
  {
   "cell_type": "code",
   "execution_count": 1,
   "id": "0c01818a",
   "metadata": {},
   "outputs": [
    {
     "data": {
      "text/plain": [
       "13"
      ]
     },
     "execution_count": 1,
     "metadata": {},
     "output_type": "execute_result"
    }
   ],
   "source": [
    "class MathOperations:\n",
    "    @staticmethod\n",
    "    def add(a, b):\n",
    "        return a+b\n",
    "    \n",
    "MathOperations.add(5,8)"
   ]
  },
  {
   "cell_type": "markdown",
   "id": "a942b105",
   "metadata": {},
   "source": [
    "\n",
    "\n",
    "**2. Static Method for Object Creation:**\n",
    "\n",
    "Create a class Person with a static method create_person that takes name and age\n",
    "as parameters and returns an instance of Person. Use this static method to create a\n",
    "new Person object and display their details."
   ]
  },
  {
   "cell_type": "code",
   "execution_count": 6,
   "id": "35e4ee0d",
   "metadata": {},
   "outputs": [
    {
     "name": "stdout",
     "output_type": "stream",
     "text": [
      "Name: Ali, Age: 25\n"
     ]
    }
   ],
   "source": [
    "class Person:\n",
    "    def __init__(self, name, age):\n",
    "        self.name = name \n",
    "        self.age = age\n",
    "\n",
    "    @staticmethod\n",
    "    def create_person(name, age):\n",
    "        return Person(name, age)\n",
    "\n",
    "    def display_details(self):\n",
    "        print(f\"Name: {self.name}, Age: {self.age}\")    \n",
    "\n",
    "new_person = Person.create_person(\"Ali\", 25)\n",
    "new_person.display_details()\n"
   ]
  },
  {
   "cell_type": "markdown",
   "id": "9c53ba0e",
   "metadata": {},
   "source": [
    "____"
   ]
  },
  {
   "cell_type": "markdown",
   "id": "d426f7c8",
   "metadata": {},
   "source": [
    "##  Classes Data Passing (Object Passing Between Classes) (3 Programs)"
   ]
  },
  {
   "cell_type": "markdown",
   "id": "130df2bc",
   "metadata": {},
   "source": [
    "**1. Passing Object from One Class to Another:**\n",
    "\n",
    "Create two classes, Student and School. In the Student class, create an instance\n",
    "with name, age, and grade. Pass this Student object to the School class, which\n",
    "should access and print the Student details."
   ]
  },
  {
   "cell_type": "code",
   "execution_count": 11,
   "id": "22caea8a",
   "metadata": {},
   "outputs": [
    {
     "name": "stdout",
     "output_type": "stream",
     "text": [
      "Name: Umer\n",
      "Age: 25\n",
      "Grade: 10th Grade\n"
     ]
    }
   ],
   "source": [
    "class Student:\n",
    "    def __init__(self, name, age, grade):\n",
    "        self.name = name\n",
    "        self.age = age\n",
    "        self.grade = grade\n",
    "\n",
    "class School:\n",
    "    def __init__(self, student):\n",
    "        self.student = student\n",
    "\n",
    "    def show_students_details(self):\n",
    "        print(f\"Name: {self.student.name}\")\n",
    "        print(f\"Age: {self.student.age}\")\n",
    "        print(f\"Grade: {self.student.grade}\")\n",
    "\n",
    "\n",
    "\n",
    "st1 = Student(\"Umer\", 25, \"10th Grade\")\n",
    "sc1 = School(st1)\n",
    "sc1.show_students_details()"
   ]
  },
  {
   "cell_type": "markdown",
   "id": "aa4d34f3",
   "metadata": {},
   "source": [
    "\n",
    "**2. Data Passing via Constructor:**\n",
    "\n",
    "Define two classes, Author and Book. The Book class should accept an Author object\n",
    "as a parameter in its constructor. Create an Author object, pass it to a Book object,\n",
    "and print both the author&#39;s and the book&#39;s details."
   ]
  },
  {
   "cell_type": "code",
   "execution_count": 12,
   "id": "f36b10a1",
   "metadata": {},
   "outputs": [
    {
     "name": "stdout",
     "output_type": "stream",
     "text": [
      "Book Title: Exist West\n",
      "Name: Mohsin Hameed\n",
      "Nationality: Pakistani\n"
     ]
    }
   ],
   "source": [
    "class Author:\n",
    "    def __init__(self, name, nationality):\n",
    "        self.name = name \n",
    "        self.nationallity = nationality\n",
    "\n",
    "    def show_details(self):\n",
    "        print(f\"Name: {self.name}\")\n",
    "        print(f\"Nationality: {self.nationallity}\")\n",
    "\n",
    "    \n",
    "\n",
    "\n",
    "class Book:\n",
    "    def __init__(self,title, author):\n",
    "        self.title = title\n",
    "        self.author =author\n",
    "\n",
    "\n",
    "    def show_details(self):\n",
    "        print(f\"Book Title: {self.title}\")\n",
    "        self.author.show_details()\n",
    "\n",
    "\n",
    "auth1  = Author(\"Mohsin Hameed\", \"Pakistani\")\n",
    "b1 = Book(\"Exist West\", auth1)\n",
    "b1.show_details()"
   ]
  },
  {
   "cell_type": "markdown",
   "id": "0999dedc",
   "metadata": {},
   "source": [
    "\n",
    "\n",
    "**3. Passing an Object to Update Data:**\n",
    "\n",
    "Define two classes, Employee and Department. The Employee class should have\n",
    "name, salary, and position. Pass an Employee object to the Department class, and\n",
    "allow the department to update the Employee&#39;s position and salary. Print the updated\n",
    "Employee details."
   ]
  },
  {
   "cell_type": "code",
   "execution_count": 24,
   "id": "c61f2ab2",
   "metadata": {},
   "outputs": [
    {
     "name": "stdout",
     "output_type": "stream",
     "text": [
      "Name: Umer\n",
      "Salary: 2000000\n",
      "Position: AI Engineer\n",
      "----------------------------------------\n",
      "Name: Ali\n",
      "Salary: 5000000\n",
      "Position: HR Manager\n"
     ]
    }
   ],
   "source": [
    "class Employee:\n",
    "    def __init__(self, name, salary, position):\n",
    "        self.name = name \n",
    "        self.salary = salary\n",
    "        self.position = position\n",
    "\n",
    "    def show_details(self):\n",
    "        print(f\"Name: {self.name}\")\n",
    "        print(f\"Salary: {self.salary}\")\n",
    "        print(f\"Position: {self.position}\")\n",
    "\n",
    "class Department:\n",
    "    def __init__(self, department, employee):\n",
    "        self.department = department \n",
    "        self.employee = employee\n",
    "\n",
    "    def modify(self, new_name, updated_salary, new_position):\n",
    "        self.employee.name = new_name\n",
    "        self.employee.salary = updated_salary\n",
    "        self.employee.position = new_position  \n",
    "\n",
    "    def show(self):\n",
    "        self.employee.show_details()  \n",
    "\n",
    "    \n",
    "\n",
    "\n",
    "\n",
    "emp1 = Employee(\"Umer\", 2000000, \"AI Engineer\")\n",
    "emp1.show_details()\n",
    "\n",
    "\n",
    "print(\"--\"*20)\n",
    "\n",
    "wd1 = Department(\"IT\", emp1)\n",
    "wd1.modify(\"Ali\", 5000000, \"HR Manager\")\n",
    "wd1.show()\n",
    "\n",
    "\n",
    "\n"
   ]
  },
  {
   "cell_type": "markdown",
   "id": "6ee1166d",
   "metadata": {},
   "source": [
    "___"
   ]
  }
 ],
 "metadata": {
  "kernelspec": {
   "display_name": "tf_env",
   "language": "python",
   "name": "python3"
  },
  "language_info": {
   "codemirror_mode": {
    "name": "ipython",
    "version": 3
   },
   "file_extension": ".py",
   "mimetype": "text/x-python",
   "name": "python",
   "nbconvert_exporter": "python",
   "pygments_lexer": "ipython3",
   "version": "3.11.11"
  }
 },
 "nbformat": 4,
 "nbformat_minor": 5
}
