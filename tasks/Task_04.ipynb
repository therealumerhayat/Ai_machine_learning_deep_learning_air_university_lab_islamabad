{
 "cells": [
  {
   "cell_type": "markdown",
   "id": "67a7c410",
   "metadata": {},
   "source": [
    "**Name:** Muhammad Umer\n",
    "\n",
    "**Email** umerhayat282@gmail.com\n",
    "\n",
    "**Date** September 15, 2025\n",
    "\n",
    "\n",
    "\n",
    "____"
   ]
  },
  {
   "cell_type": "markdown",
   "id": "fbcd8a66",
   "metadata": {},
   "source": [
    "##  Loops\n"
   ]
  },
  {
   "cell_type": "markdown",
   "id": "bedb5550",
   "metadata": {},
   "source": [
    "**20. Count Down: Write a loop that counts down from 10 to 1 and then prints &quot;Happy New Year!&quot;**"
   ]
  },
  {
   "cell_type": "code",
   "execution_count": 12,
   "id": "84e52528",
   "metadata": {},
   "outputs": [
    {
     "name": "stdout",
     "output_type": "stream",
     "text": [
      "9\n",
      "8\n",
      "7\n",
      "6\n",
      "5\n",
      "4\n",
      "3\n",
      "2\n",
      "1\n",
      "Happy New Year!\n"
     ]
    }
   ],
   "source": [
    "num = 10\n",
    "while num > 1:\n",
    "    num = num-1\n",
    "    print(num)\n",
    "\n",
    "print(\"Happy New Year!\")"
   ]
  },
  {
   "cell_type": "markdown",
   "id": "d6f063bb",
   "metadata": {},
   "source": [
    "**21. Sum of Numbers: Write a loop that calculates the sum of numbers from 1 to 100.**"
   ]
  },
  {
   "cell_type": "code",
   "execution_count": 24,
   "id": "56f465cf",
   "metadata": {},
   "outputs": [
    {
     "name": "stdout",
     "output_type": "stream",
     "text": [
      "The sum of numbers from 1 to 100 is:  5050\n"
     ]
    }
   ],
   "source": [
    "total = 0\n",
    "for i in range(1, 101):\n",
    "    total += i \n",
    "\n",
    "print(f\"The sum of numbers from 1 to 100 is:  {total}\")\n"
   ]
  },
  {
   "cell_type": "markdown",
   "id": "ad007ed3",
   "metadata": {},
   "source": [
    "**22. Print List: Write a loop that prints each item in a list of fruits.**"
   ]
  },
  {
   "cell_type": "code",
   "execution_count": 26,
   "id": "8330127d",
   "metadata": {},
   "outputs": [
    {
     "name": "stdout",
     "output_type": "stream",
     "text": [
      "orange\n",
      "apple\n",
      "banana\n",
      "cherry\n",
      "mango\n"
     ]
    }
   ],
   "source": [
    "list_of_fruits = [\"orange\", \"apple\", \"banana\", \"cherry\",\"mango\"]\n",
    "for i in (list_of_fruits):\n",
    "    print(i)"
   ]
  },
  {
   "cell_type": "markdown",
   "id": "3d783a2e",
   "metadata": {},
   "source": [
    "**23. Factorial: Write a loop that calculates the factorial of a given number.**"
   ]
  },
  {
   "cell_type": "code",
   "execution_count": 41,
   "id": "69ec288b",
   "metadata": {},
   "outputs": [
    {
     "name": "stdout",
     "output_type": "stream",
     "text": [
      "The factorial of 3 is:     6\n"
     ]
    }
   ],
   "source": [
    "input_num = int(input(\"Enter a number to calculate factorial: \"))\n",
    "factorial = 1\n",
    "\n",
    "for i in range(1, input_num +1):\n",
    "    factorial *= i \n",
    "print(f\"The factorial of {input_num} is:     {factorial}\")"
   ]
  },
  {
   "cell_type": "markdown",
   "id": "e7da25c2",
   "metadata": {},
   "source": [
    "**24. Reverse String: Write a loop that reverses a given string.**"
   ]
  },
  {
   "cell_type": "code",
   "execution_count": 55,
   "id": "8fe4e275",
   "metadata": {},
   "outputs": [
    {
     "name": "stdout",
     "output_type": "stream",
     "text": [
      "god yzal eht revo spmuj xof nworb kciuq eht\n"
     ]
    }
   ],
   "source": [
    "st_string = \"the quick brown fox jumps over the lazy dog\"\n",
    "reverse_st = \"\" \n",
    "for char in st_string:\n",
    "    reverse_st = char + reverse_st\n",
    "print(reverse_st)"
   ]
  },
  {
   "cell_type": "markdown",
   "id": "023f74a3",
   "metadata": {},
   "source": [
    "**25. Multiplication Table: Write a loop that prints the multiplication table for a given number.**"
   ]
  },
  {
   "cell_type": "code",
   "execution_count": 63,
   "id": "33081fd3",
   "metadata": {},
   "outputs": [
    {
     "name": "stdout",
     "output_type": "stream",
     "text": [
      "5 x 1 : 5\n",
      "5 x 2 : 10\n",
      "5 x 3 : 15\n",
      "5 x 4 : 20\n",
      "5 x 5 : 25\n",
      "5 x 6 : 30\n",
      "5 x 7 : 35\n",
      "5 x 8 : 40\n",
      "5 x 9 : 45\n",
      "5 x 10 : 50\n"
     ]
    }
   ],
   "source": [
    "number = int(input(\"Enter a number: \"))\n",
    "for i in range(1,11):\n",
    "    print(f\"{number} x {i} : {i*number}\")"
   ]
  },
  {
   "cell_type": "markdown",
   "id": "0978d9d3",
   "metadata": {},
   "source": [
    "**26. Fibonacci Series: Write a loop that prints the first 10 numbers in the Fibonacci series.**"
   ]
  },
  {
   "cell_type": "code",
   "execution_count": 69,
   "id": "74e18200",
   "metadata": {},
   "outputs": [
    {
     "name": "stdout",
     "output_type": "stream",
     "text": [
      "0\n",
      "1\n",
      "1\n",
      "2\n",
      "3\n",
      "5\n",
      "8\n",
      "13\n",
      "21\n",
      "34\n"
     ]
    }
   ],
   "source": [
    "a = 0\n",
    "b = 1\n",
    "\n",
    "for _ in range(10):\n",
    "    print(a)\n",
    "    a, b = b, a + b "
   ]
  },
  {
   "cell_type": "markdown",
   "id": "fb34a6e8",
   "metadata": {},
   "source": [
    "**27. Sum of Even Numbers: Write a loop that calculates the sum of all even numbers between 1 and 50.**"
   ]
  },
  {
   "cell_type": "code",
   "execution_count": 78,
   "id": "dad71cb8",
   "metadata": {},
   "outputs": [
    {
     "name": "stdout",
     "output_type": "stream",
     "text": [
      "The sum of all even number between 1 to 50 is: 650\n"
     ]
    }
   ],
   "source": [
    "initiator = 0\n",
    "for i in range(2, 51, 2):\n",
    "    initiator += i \n",
    "\n",
    "print(f\"The sum of all even number between 1 to 50 is: {initiator}\")"
   ]
  },
  {
   "cell_type": "markdown",
   "id": "e5313c05",
   "metadata": {},
   "source": [
    "**28. Square of Numbers: Write a loop that prints the square of numbers from 1 to 10.**"
   ]
  },
  {
   "cell_type": "code",
   "execution_count": 80,
   "id": "f7a1933b",
   "metadata": {},
   "outputs": [
    {
     "name": "stdout",
     "output_type": "stream",
     "text": [
      "The square of 1 is : 1\n",
      "The square of 2 is : 4\n",
      "The square of 3 is : 9\n",
      "The square of 4 is : 16\n",
      "The square of 5 is : 25\n",
      "The square of 6 is : 36\n",
      "The square of 7 is : 49\n",
      "The square of 8 is : 64\n",
      "The square of 9 is : 81\n",
      "The square of 10 is : 100\n"
     ]
    }
   ],
   "source": [
    "for i in range(1,11):\n",
    "    print(f\"The square of {i} is : {i**2}\")"
   ]
  },
  {
   "cell_type": "markdown",
   "id": "a258db74",
   "metadata": {},
   "source": [
    "**29. Vowel Count: Write a loop that counts the number of vowels in a given string.**"
   ]
  },
  {
   "cell_type": "code",
   "execution_count": 88,
   "id": "987038ce",
   "metadata": {},
   "outputs": [
    {
     "name": "stdout",
     "output_type": "stream",
     "text": [
      "The number of vowels in the string is: 11\n"
     ]
    }
   ],
   "source": [
    "st_string = \"the quick brown fox jumps over the lazy dog\"\n",
    "vowel_count = 0\n",
    "vowel = \"aeiouAEIOU\"\n",
    "\n",
    "\n",
    "for char in st_string:\n",
    "    if char in vowel:\n",
    "        vowel_count += 1\n",
    "print(f\"The number of vowels in the string is: {vowel_count}\")\n"
   ]
  },
  {
   "cell_type": "markdown",
   "id": "789be207",
   "metadata": {},
   "source": [
    "____"
   ]
  },
  {
   "cell_type": "markdown",
   "id": "7173b778",
   "metadata": {},
   "source": [
    "## Combination of Loops and Conditional Statements"
   ]
  },
  {
   "cell_type": "markdown",
   "id": "4ebff6bf",
   "metadata": {},
   "source": [
    "**30. Prime Numbers: Write a loop that prints all prime numbers between 1 and 50.**"
   ]
  },
  {
   "cell_type": "code",
   "execution_count": 109,
   "id": "fdc367ff",
   "metadata": {},
   "outputs": [
    {
     "name": "stdout",
     "output_type": "stream",
     "text": [
      "2\n",
      "3\n",
      "5\n",
      "7\n",
      "11\n",
      "13\n",
      "17\n",
      "19\n",
      "23\n",
      "29\n",
      "31\n",
      "37\n",
      "41\n",
      "43\n",
      "47\n"
     ]
    }
   ],
   "source": [
    "for num in range(2, 51):\n",
    "    is_prime = True \n",
    "    for i in range(2, int(num ** 0.5) + 1 ):\n",
    "        if num % i == 0:\n",
    "            is_prime = False\n",
    "            break \n",
    "    if is_prime:\n",
    "        print(num)"
   ]
  },
  {
   "cell_type": "markdown",
   "id": "f1a2ee7e",
   "metadata": {},
   "source": [
    "**31. Palindrome Check: Write a loop that checks if a given string is a palindrome.**"
   ]
  },
  {
   "cell_type": "code",
   "execution_count": 128,
   "id": "fabb155d",
   "metadata": {},
   "outputs": [
    {
     "name": "stdout",
     "output_type": "stream",
     "text": [
      "tenet is a palindrome\n"
     ]
    }
   ],
   "source": [
    "given_string = \"tenet\"\n",
    "\n",
    "is_palindrome = True\n",
    "for i in range(len(given_string) // 2):\n",
    "    if given_string[i] != given_string[-(i+1)]:\n",
    "        break \n",
    "if is_palindrome:\n",
    "    print(f\"{given_string} is a palindrome\")\n",
    "else:\n",
    "    print(f\"{given_string} is not palindrome\")"
   ]
  },
  {
   "cell_type": "markdown",
   "id": "c142e31f",
   "metadata": {},
   "source": [
    "**32. Number Guessing Game: Implement a simple number guessing game using a loop and**\n",
    "\n",
    "**conditional statements:**\n",
    "\n",
    "- 1. The program picks a random number between 1 and 100.\n",
    "- 2. The user guesses the number.\n",
    "- 3. The program indicates whether the guess is too low, too high, or correct.\n",
    "- 4. The loop continues until the user guesses the correct number.\n"
   ]
  },
  {
   "cell_type": "code",
   "execution_count": null,
   "id": "bdfa26c4",
   "metadata": {},
   "outputs": [
    {
     "name": "stdout",
     "output_type": "stream",
     "text": [
      "The history saving thread hit an unexpected error (OperationalError('database or disk is full')).History will not be written to the database.\n",
      "Too Low\n",
      "Too Low\n",
      "Too Low\n",
      "Too High\n",
      "Too High\n"
     ]
    }
   ],
   "source": [
    "import random \n",
    "secret_number = random.randint(1,100)\n",
    "\n",
    "while True:\n",
    "    guess = int(input(\"Guess the number between 1 to 100: \"))\n",
    "    if guess < secret_number:\n",
    "        print(\"Too Low\")\n",
    "    elif guess > secret_number:\n",
    "        print(\"Too High\")\n",
    "    else:\n",
    "        print(\"Congratulations! You gussed the correct number\")\n",
    "        break "
   ]
  },
  {
   "cell_type": "markdown",
   "id": "8cb11b8f",
   "metadata": {},
   "source": [
    "**33. Grade Calculation: Write a loop that calculates the average grade of a list of student scores and assigns a letter grade based on the average.**"
   ]
  },
  {
   "cell_type": "code",
   "execution_count": 13,
   "id": "49c37f88",
   "metadata": {},
   "outputs": [
    {
     "name": "stdout",
     "output_type": "stream",
     "text": [
      "Average score: 80.20\n",
      "Letter grade: B\n"
     ]
    }
   ],
   "source": [
    "scores = [76,45,86,99,95]\n",
    "\n",
    "\n",
    "total = 0\n",
    "for score in scores:\n",
    "    total += score\n",
    "\n",
    "average = total / len(scores)\n",
    "\n",
    "if average >= 90:\n",
    "    grade = 'A'\n",
    "elif average >= 80 and average <= 89:\n",
    "    grade = 'B'\n",
    "elif average >= 70 and average <= 79:\n",
    "    grade = 'C'\n",
    "elif average >= 60 and average <= 69:\n",
    "    grade = 'D'\n",
    "else:\n",
    "    grade = 'F'\n",
    "\n",
    "print(f\"Average score: {average:.2f}\")\n",
    "print(f\"Letter grade: {grade}\")"
   ]
  },
  {
   "cell_type": "markdown",
   "id": "14e01b08",
   "metadata": {},
   "source": [
    "**34. List Filtering: Write a loop that filters out all odd numbers from a list of integers and prints the remaining even numbers.**"
   ]
  },
  {
   "cell_type": "code",
   "execution_count": 18,
   "id": "da70f0bd",
   "metadata": {},
   "outputs": [
    {
     "name": "stdout",
     "output_type": "stream",
     "text": [
      "86\n",
      "54\n",
      "8\n",
      "84\n",
      "546\n",
      "8\n"
     ]
    }
   ],
   "source": [
    "num_list = list((23,86,54,8,19,13,84,99,855,563,859,546,8))\n",
    "\n",
    "for i in num_list:\n",
    "    if i % 2 == 0:\n",
    "        print(i)"
   ]
  },
  {
   "cell_type": "markdown",
   "id": "54cbc47d",
   "metadata": {},
   "source": [
    "**35. Temperature Conversion: Write a loop that converts a list of temperatures from Celsius to Fahrenheit.**"
   ]
  },
  {
   "cell_type": "code",
   "execution_count": 31,
   "id": "4e681e3e",
   "metadata": {},
   "outputs": [
    {
     "name": "stdout",
     "output_type": "stream",
     "text": [
      " 24 Degree Celcius to Farenhite 75.20\n",
      " 56 Degree Celcius to Farenhite 132.80\n",
      " 42 Degree Celcius to Farenhite 107.60\n",
      " 46 Degree Celcius to Farenhite 114.80\n",
      " 36 Degree Celcius to Farenhite 96.80\n",
      " 16 Degree Celcius to Farenhite 60.80\n"
     ]
    }
   ],
   "source": [
    "list_of_temp = [24,56,42,46,36,16]\n",
    "\n",
    "for i in (list_of_temp):\n",
    "    farenhite = i * (9/5) + 32\n",
    "    print(f\" {i} Degree Celcius to Farenhite {farenhite:.2f}\")"
   ]
  },
  {
   "cell_type": "markdown",
   "id": "e896ffbd",
   "metadata": {},
   "source": [
    "**36. Count Occurrences: Write a loop that counts the occurrences of a specific element in a list.**"
   ]
  },
  {
   "cell_type": "code",
   "execution_count": 35,
   "id": "a8df8b4d",
   "metadata": {},
   "outputs": [
    {
     "name": "stdout",
     "output_type": "stream",
     "text": [
      "The element 45 appears 2 times in the list\n"
     ]
    }
   ],
   "source": [
    "rand_list = [65,83,75,64.92,84,65,8,9,45,45,1, 1, 85,84]\n",
    "\n",
    "element_to_find = 45\n",
    "counter = 0 \n",
    "\n",
    "for item in rand_list:\n",
    "    if item == element_to_find:\n",
    "        counter +=1\n",
    "print(f\"The element {element_to_find} appears {counter} times in the list\")"
   ]
  },
  {
   "cell_type": "markdown",
   "id": "a1134a7a",
   "metadata": {},
   "source": [
    "**37. Matrix Addition: Write nested loops to add two 3x3 matrices.**\n"
   ]
  },
  {
   "cell_type": "code",
   "execution_count": 40,
   "id": "01781866",
   "metadata": {},
   "outputs": [
    {
     "name": "stdout",
     "output_type": "stream",
     "text": [
      "[10, 10, 10]\n",
      "[10, 10, 10]\n",
      "[10, 10, 10]\n"
     ]
    }
   ],
   "source": [
    "matrix1 = [\n",
    "    [1, 2, 3],\n",
    "    [4, 5, 6],\n",
    "    [7, 8, 9]\n",
    "]\n",
    "\n",
    "matrix2 = [\n",
    "    [9, 8, 7],\n",
    "    [6, 5, 4],\n",
    "    [3, 2, 1]\n",
    "]\n",
    "\n",
    "\n",
    "result = []\n",
    "\n",
    "for i in range(3):\n",
    "    row = []\n",
    "    for j in range(3):\n",
    "        row.append(matrix1[i][j] + matrix2[i][j])\n",
    "    result.append(row)\n",
    "\n",
    "for row in result:\n",
    "    print(row)"
   ]
  },
  {
   "cell_type": "markdown",
   "id": "4bf1be02",
   "metadata": {},
   "source": [
    "**38. String Lengths: Write a loop that prints the length of each string in a list of strings.**"
   ]
  },
  {
   "cell_type": "code",
   "execution_count": 50,
   "id": "a9790d01",
   "metadata": {},
   "outputs": [
    {
     "name": "stdout",
     "output_type": "stream",
     "text": [
      "The length of 'navttc' is 6\n",
      "The length of 'ai&ml' is 5\n",
      "The length of 'airUniverity' is 12\n",
      "The length of 'threemonth' is 10\n",
      "The length of 'handsonskill' is 12\n"
     ]
    }
   ],
   "source": [
    "list_str = [\"navttc\",\"ai&ml\", \"airUniverity\",\"threemonth\", \"handsonskill\"]\n",
    "\n",
    "for s in list_str:\n",
    "    print(f\"The length of '{s}' is {len(s)}\")"
   ]
  },
  {
   "cell_type": "markdown",
   "id": "99c58992",
   "metadata": {},
   "source": [
    "**39. Sum of Digits: Write a loop that calculates the sum of the digits of a given number.**"
   ]
  },
  {
   "cell_type": "code",
   "execution_count": 57,
   "id": "824b7a26",
   "metadata": {},
   "outputs": [
    {
     "name": "stdout",
     "output_type": "stream",
     "text": [
      "17\n"
     ]
    }
   ],
   "source": [
    "input_str = str(input(\"Enter a number\"))\n",
    "\n",
    "digit_sum = 0\n",
    "\n",
    "for digit in input_str:\n",
    "    digit_sum += int(digit)\n",
    "\n",
    "print(digit_sum)"
   ]
  },
  {
   "cell_type": "markdown",
   "id": "63d9a57e",
   "metadata": {},
   "source": [
    "**40. Password Validation: Write a loop and conditional statements to validate a password based on these criteria:**\n",
    "\n",
    "- 1. At least 8 characters long\n",
    "- 2. Contains both uppercase and lowercase letters\n",
    "- 3. Contains at least one numerical digit\n"
   ]
  },
  {
   "cell_type": "code",
   "execution_count": 64,
   "id": "a3b62528",
   "metadata": {},
   "outputs": [
    {
     "name": "stdout",
     "output_type": "stream",
     "text": [
      "Incorrect Password: Please Enter a valid Password\n",
      "Correct Password\n"
     ]
    }
   ],
   "source": [
    "password_input = input(\"Enter Your Password: \")\n",
    "\n",
    "while True:\n",
    "    if (\n",
    "        len(password_input) >= 8 \n",
    "        and any(char.isupper() for char in password_input) \n",
    "        and any(char.islower() for char in password_input) \n",
    "        and any(char.isdigit() for char in password_input)\n",
    "    ):\n",
    "        print(\"Correct Password\")\n",
    "        break\n",
    "    else:\n",
    "        print(\"Incorrect Password: Please Enter a valid Password\")\n",
    "        password_input = input(\"Enter Your Password: \")"
   ]
  },
  {
   "cell_type": "markdown",
   "id": "de603a1f",
   "metadata": {},
   "source": [
    "**41. Capitalize Words: Write a loop that capitalizes the first letter of each word in a sentence.**"
   ]
  },
  {
   "cell_type": "code",
   "execution_count": 68,
   "id": "a5d5eac8",
   "metadata": {},
   "outputs": [
    {
     "name": "stdout",
     "output_type": "stream",
     "text": [
      "U\n",
      "M\n",
      "E\n",
      "R\n"
     ]
    }
   ],
   "source": [
    "sentence = \"umer\"\n",
    "\n",
    "for i in sentence:\n",
    "    upper_case = i.upper()\n",
    "    print(upper_case)"
   ]
  },
  {
   "cell_type": "markdown",
   "id": "5bcc81be",
   "metadata": {},
   "source": [
    "**42. Divisibility Check: Write a loop that checks if numbers from 1 to 50 are divisible by 3 and 5, and prints &quot;Fizz&quot; for 3, &quot;Buzz&quot; for 5, and &quot;FizzBuzz&quot; for both.**"
   ]
  },
  {
   "cell_type": "code",
   "execution_count": 76,
   "id": "551aaef2",
   "metadata": {},
   "outputs": [
    {
     "name": "stdout",
     "output_type": "stream",
     "text": [
      "1\n",
      "__________________________________________________\n",
      "2\n",
      "__________________________________________________\n",
      "Fizz\n",
      "__________________________________________________\n",
      "4\n",
      "__________________________________________________\n",
      "Buzz\n",
      "__________________________________________________\n",
      "Fizz\n",
      "__________________________________________________\n",
      "7\n",
      "__________________________________________________\n",
      "8\n",
      "__________________________________________________\n",
      "Fizz\n",
      "__________________________________________________\n",
      "Buzz\n",
      "__________________________________________________\n",
      "11\n",
      "__________________________________________________\n",
      "Fizz\n",
      "__________________________________________________\n",
      "13\n",
      "__________________________________________________\n",
      "14\n",
      "__________________________________________________\n",
      "FizzBuzz\n",
      "__________________________________________________\n",
      "16\n",
      "__________________________________________________\n",
      "17\n",
      "__________________________________________________\n",
      "Fizz\n",
      "__________________________________________________\n",
      "19\n",
      "__________________________________________________\n",
      "Buzz\n",
      "__________________________________________________\n",
      "Fizz\n",
      "__________________________________________________\n",
      "22\n",
      "__________________________________________________\n",
      "23\n",
      "__________________________________________________\n",
      "Fizz\n",
      "__________________________________________________\n",
      "Buzz\n",
      "__________________________________________________\n",
      "26\n",
      "__________________________________________________\n",
      "Fizz\n",
      "__________________________________________________\n",
      "28\n",
      "__________________________________________________\n",
      "29\n",
      "__________________________________________________\n",
      "FizzBuzz\n",
      "__________________________________________________\n",
      "31\n",
      "__________________________________________________\n",
      "32\n",
      "__________________________________________________\n",
      "Fizz\n",
      "__________________________________________________\n",
      "34\n",
      "__________________________________________________\n",
      "Buzz\n",
      "__________________________________________________\n",
      "Fizz\n",
      "__________________________________________________\n",
      "37\n",
      "__________________________________________________\n",
      "38\n",
      "__________________________________________________\n",
      "Fizz\n",
      "__________________________________________________\n",
      "Buzz\n",
      "__________________________________________________\n",
      "41\n",
      "__________________________________________________\n",
      "Fizz\n",
      "__________________________________________________\n",
      "43\n",
      "__________________________________________________\n",
      "44\n",
      "__________________________________________________\n",
      "FizzBuzz\n",
      "__________________________________________________\n",
      "46\n",
      "__________________________________________________\n",
      "47\n",
      "__________________________________________________\n",
      "Fizz\n",
      "__________________________________________________\n",
      "49\n",
      "__________________________________________________\n",
      "Buzz\n",
      "__________________________________________________\n"
     ]
    }
   ],
   "source": [
    "for num in range(1, 51):\n",
    "    if num % 3 == 0 and num % 5 == 0:\n",
    "        print(\"FizzBuzz\")\n",
    "        print(\"_\"*50)\n",
    "    elif num % 3 == 0:\n",
    "        print(\"Fizz\")\n",
    "        print(\"_\"*50)\n",
    "    elif num % 5 == 0:\n",
    "        print(\"Buzz\")\n",
    "        print(\"_\"*50)\n",
    "    else:\n",
    "        print(num)\n",
    "        print(\"_\"*50)"
   ]
  },
  {
   "cell_type": "markdown",
   "id": "a9ae2353",
   "metadata": {},
   "source": [
    "**43. Finding Max and Min: Write a loop that finds the maximum and minimum values in a list of numbers.**"
   ]
  },
  {
   "cell_type": "code",
   "execution_count": 86,
   "id": "4f19aa35",
   "metadata": {},
   "outputs": [
    {
     "name": "stdout",
     "output_type": "stream",
     "text": [
      "The maximum value in the list is 65234\n",
      "The minimum value in the list is 2\n"
     ]
    }
   ],
   "source": [
    "number_list = [3,5,7,2,8,2,819,634,96,73,6758,65234,974]\n",
    "\n",
    "#thats not loop problem \n",
    "\n",
    "max_value = max(number_list)\n",
    "min_value = min(number_list)\n",
    "\n",
    "print(f\"The maximum value in the list is {max_value}\")\n",
    "print(f\"The minimum value in the list is {min_value}\")"
   ]
  },
  {
   "cell_type": "markdown",
   "id": "7c985a67",
   "metadata": {},
   "source": [
    "**44. Bubble Sort: Write a loop to implement the bubble sort algorithm on a list of numbers.**"
   ]
  },
  {
   "cell_type": "code",
   "execution_count": 91,
   "id": "c5b1ed78",
   "metadata": {},
   "outputs": [
    {
     "name": "stdout",
     "output_type": "stream",
     "text": [
      "Sorted list: [2, 2, 3, 5, 7, 8, 73, 96, 634, 819, 974, 6758, 65234]\n"
     ]
    }
   ],
   "source": [
    "n = len(number_list)\n",
    "\n",
    "for i in range(n):\n",
    "    for j in range(0, n - i - 1):\n",
    "        if number_list[j] > number_list[j + 1]:\n",
    "            number_list[j], number_list[j + 1] = number_list[j + 1], number_list[j]\n",
    "\n",
    "print(\"Sorted list:\", number_list)"
   ]
  },
  {
   "cell_type": "markdown",
   "id": "8dc08364",
   "metadata": {},
   "source": [
    "___"
   ]
  },
  {
   "cell_type": "markdown",
   "id": "960a1e4b",
   "metadata": {},
   "source": [
    "##  Advanced Tasks\n",
    "\n"
   ]
  },
  {
   "cell_type": "markdown",
   "id": "78ccbb93",
   "metadata": {},
   "source": [
    "**45. Matrix Operations: Ask the user to input a 2D list (matrix) and print its transpose.**"
   ]
  },
  {
   "cell_type": "code",
   "execution_count": null,
   "id": "56e2ebd4",
   "metadata": {},
   "outputs": [
    {
     "name": "stdout",
     "output_type": "stream",
     "text": [
      "[[1, 2, 3], [1, 2, 3], [1, 2, 3]]\n",
      "Transpose of the matrix\n",
      "[1, 1, 1]\n",
      "[2, 2, 2]\n",
      "[3, 3, 3]\n"
     ]
    }
   ],
   "source": [
    "rows = int(input(\"Enter number of rows: \"))\n",
    "cols = int(input(\"Enter number of columns: \"))\n",
    "\n",
    "matrix = []\n",
    "for i in range(rows):\n",
    "    row = list(map(int, input(f\"Enter row {i+1} (space-seprated): \").split()))\n",
    "    matrix.append(row)\n",
    "\n",
    "print(matrix)\n",
    "\n",
    "transpose = []\n",
    "for j in range(cols):\n",
    "    transposed_row = []\n",
    "    for i in range(rows):\n",
    "        transposed_row.append(matrix[i][j])\n",
    "    transpose.append(transposed_row)\n",
    "\n",
    "print(\"Transpose of the matrix\")\n",
    "for row in transpose:\n",
    "    print(row)\n"
   ]
  },
  {
   "cell_type": "markdown",
   "id": "5b46388a",
   "metadata": {},
   "source": [
    "**46. Frequency of Elements: Ask the user to input a list of numbers and count the frequency of each element. Print the result.**"
   ]
  },
  {
   "cell_type": "code",
   "execution_count": 107,
   "id": "d4937b6b",
   "metadata": {},
   "outputs": [
    {
     "name": "stdout",
     "output_type": "stream",
     "text": [
      "Number 1 appears 1 times. \n",
      "Number 2 appears 3 times. \n",
      "Number 3 appears 2 times. \n",
      "Number 8 appears 2 times. \n",
      "Number 9 appears 1 times. \n",
      "Number 7 appears 1 times. \n"
     ]
    }
   ],
   "source": [
    "from collections import Counter\n",
    "user_input = input(\"Enter a list of numbers seprated by spaces:\")\n",
    "numbers_list = list(map(int, user_input.split()))\n",
    "freq = Counter(numbers_list)\n",
    "\n",
    "for num, count in freq.items():\n",
    "    print(f\"Number {num} appears {count} times. \")"
   ]
  },
  {
   "cell_type": "markdown",
   "id": "51f84f1b",
   "metadata": {},
   "source": [
    "**47. Element Pairing: Ask the user to input two lists and pair elements from both lists into a list of tuples. Print the result.**"
   ]
  },
  {
   "cell_type": "code",
   "execution_count": 109,
   "id": "c775412d",
   "metadata": {},
   "outputs": [
    {
     "name": "stdout",
     "output_type": "stream",
     "text": [
      "[('1', '6'), ('2', '5'), ('3', '4'), ('4', '3'), ('5', '2'), ('6', '1')]\n"
     ]
    }
   ],
   "source": [
    "input_1 = input(\"Enter the number (space_seprated) : \").split()\n",
    "input_2 = input(\"Enter the number (space seprated) : \").split()\n",
    "\n",
    "make_list_of_tuple = list(zip(input_1, input_2))\n",
    "print(make_list_of_tuple)"
   ]
  },
  {
   "cell_type": "markdown",
   "id": "49f5b62d",
   "metadata": {},
   "source": [
    "**48. Flatten List: Ask the user to input a nested list and flatten it into a single list. Print the result.**"
   ]
  },
  {
   "cell_type": "code",
   "execution_count": 113,
   "id": "ede6b431",
   "metadata": {},
   "outputs": [
    {
     "name": "stdout",
     "output_type": "stream",
     "text": [
      "Nested list:\n",
      "[['1', '2', '3'], ['4', '5', '6'], ['7', '8', '9']]\n",
      "Flattened list:\n",
      "['1', '2', '3', '4', '5', '6', '7', '8', '9']\n"
     ]
    }
   ],
   "source": [
    "nested_list = []\n",
    "rows = int(input(\"Enter number of rows: \"))\n",
    "for i in range(rows):\n",
    "    row = input(f\"Enter elements of row {i+1} (space-separated): \").split()\n",
    "    nested_list.append(row)\n",
    "print(\"Nested list:\")\n",
    "print(nested_list)\n",
    "\n",
    "\n",
    "flattened_list = []\n",
    "for item in nested_list:\n",
    "    flattened_list.extend(item)\n",
    "print(\"Flattened list:\")\n",
    "print(flattened_list)\n",
    "# "
   ]
  },
  {
   "cell_type": "markdown",
   "id": "9187fc56",
   "metadata": {},
   "source": [
    "**49. Palindrome Check: Ask the user to input a list of numbers and check if it forms a palindrome. Print the result.**"
   ]
  },
  {
   "cell_type": "code",
   "execution_count": 120,
   "id": "ff1a8f35",
   "metadata": {},
   "outputs": [
    {
     "name": "stdout",
     "output_type": "stream",
     "text": [
      "this list ['1', '1', '1', '1', '1'] is a palindrome\n"
     ]
    }
   ],
   "source": [
    "user_input = input(\"Enter list of number space seprated:  \").split()\n",
    "\n",
    "is_pelindrome = True\n",
    "for i in range(len(user_input)//2):\n",
    "    if user_input[i] != user_input[-(i+1)]:\n",
    "        break \n",
    "if is_pelindrome:\n",
    "    print(f\"this list {user_input} is a palindrome\")\n",
    "else:\n",
    "    print(f\"this list {user_input} is not a palindrome\")"
   ]
  }
 ],
 "metadata": {
  "kernelspec": {
   "display_name": "tf_env",
   "language": "python",
   "name": "python3"
  },
  "language_info": {
   "codemirror_mode": {
    "name": "ipython",
    "version": 3
   },
   "file_extension": ".py",
   "mimetype": "text/x-python",
   "name": "python",
   "nbconvert_exporter": "python",
   "pygments_lexer": "ipython3",
   "version": "3.11.11"
  }
 },
 "nbformat": 4,
 "nbformat_minor": 5
}
