{
 "cells": [
  {
   "cell_type": "markdown",
   "id": "4ef87eaf",
   "metadata": {},
   "source": [
    "**Name:** Muhammad Umer\n",
    "\n",
    "**Email** umerhayat282@gmail.com\n",
    "\n",
    "**Date** September 25, 2025\n",
    "\n",
    "\n",
    "\n",
    "____"
   ]
  },
  {
   "cell_type": "markdown",
   "id": "2335446e",
   "metadata": {},
   "source": [
    "**Task 1: Using self for Instance Method (Simplified)**\n",
    "\n",
    "Create a Book class with attributes title and author. Define an instance method\n",
    "display_info that prints the book’s title and author in the format: &quot;Title: [title],\n",
    "Author: [author]&quot;. Create a Book object with title = &quot;1984&quot; and author = &quot;George\n",
    "Orwell&quot;, then call display_info to display the details."
   ]
  },
  {
   "cell_type": "code",
   "execution_count": 3,
   "id": "e685a953",
   "metadata": {},
   "outputs": [
    {
     "name": "stdout",
     "output_type": "stream",
     "text": [
      "Title: 1984, Author: George Orwell\n"
     ]
    }
   ],
   "source": [
    "class Book:\n",
    "    def __init__(self, title, author):\n",
    "        self.title = title\n",
    "        self.author = author\n",
    "\n",
    "    def display_info(self):\n",
    "        print(f\"Title: {self.title}, Author: {self.author}\")\n",
    "\n",
    "\n",
    "obj = Book(title=\"1984\", author=\"George Orwell\")\n",
    "obj.display_info()"
   ]
  },
  {
   "cell_type": "markdown",
   "id": "215c5ed4",
   "metadata": {},
   "source": [
    "**Task 2: Constructor with self for Initialization (Simplified)**\n",
    "\n",
    "Write a Car class with a constructor that takes make and model as parameters and initializes\n",
    "them using self. Create a Car object with make = &quot;Toyota&quot; and model = &quot;Corolla&quot;, then\n",
    "print the details of the car."
   ]
  },
  {
   "cell_type": "code",
   "execution_count": 8,
   "id": "1fb01c95",
   "metadata": {},
   "outputs": [
    {
     "name": "stdout",
     "output_type": "stream",
     "text": [
      "Make: Toyota, Model: Corolla\n"
     ]
    }
   ],
   "source": [
    "class Car:\n",
    "    def __init__(self, make, model):\n",
    "        self.make = make\n",
    "        self.model = model\n",
    "        \n",
    "    \n",
    "\n",
    "\n",
    "car1 = Car(\"Toyota\", \"Corolla\")\n",
    "print(f\"Make: {car1.make}, Model: {car1.model}\")\n",
    "\n",
    "        "
   ]
  },
  {
   "cell_type": "markdown",
   "id": "ef36cbab",
   "metadata": {},
   "source": [
    "**Task 3: Getter and Setter (Accessor and Mutator)**\n",
    "\n",
    "Create a Person class with attributes name and age. Define a getter method for name and age\n",
    "(accessor) and setter methods for both attributes (mutator). Create a Person object and use\n",
    "the getter and setter methods to modify and access the attributes."
   ]
  },
  {
   "cell_type": "code",
   "execution_count": null,
   "id": "c93016c7",
   "metadata": {},
   "outputs": [
    {
     "name": "stdout",
     "output_type": "stream",
     "text": [
      "Name: Ali\n",
      "Age: 25\n",
      "Updated Name: Umer\n",
      "Updated Age: 26\n"
     ]
    }
   ],
   "source": [
    "class Person:\n",
    "    def __init__(self, name, age):\n",
    "        self.name = name\n",
    "        self.age = age\n",
    "\n",
    "    #accessor\n",
    "    @property\n",
    "    def get_name(self):\n",
    "        return self.name\n",
    "    @property\n",
    "    def get_age(self):\n",
    "        return self.age\n",
    "    \n",
    "    #mutator\n",
    "    @get_name.setter\n",
    "    def mutate_name(self, new_name):\n",
    "        self.name = new_name\n",
    "\n",
    "    @get_age.setter\n",
    "    def mutate_age(self, new_age):\n",
    "        self.age = new_age\n",
    "\n",
    "\n",
    "\n",
    "person1 = Person(\"Ali\", 25)\n",
    "\n",
    "# Accessing attributes like normal variables\n",
    "print(\"Name:\", person1.get_name)\n",
    "print(\"Age:\", person1.get_age)\n",
    "\n",
    "# Modifying attributes like normal variables\n",
    "person1.name = \"Umer\"\n",
    "person1.age = 26\n",
    "\n",
    "# Accessing updated values\n",
    "print(\"Updated Name:\", person1.get_name)\n",
    "print(\"Updated Age:\", person1.get_age)\n",
    "\n",
    "\n"
   ]
  },
  {
   "cell_type": "markdown",
   "id": "73043db1",
   "metadata": {},
   "source": [
    "**Task 4: Using cls Method for Class-Level Operations**\n",
    "\n",
    "Create a Student class with an attribute school_name. Define a class method\n",
    "change_school using the cls keyword that changes the school_name for all instances of the\n",
    "class. Then, create two Student objects, and call change_school to change the school name\n",
    "for both objects."
   ]
  },
  {
   "cell_type": "code",
   "execution_count": 16,
   "id": "d04ad2c3",
   "metadata": {},
   "outputs": [
    {
     "name": "stdout",
     "output_type": "stream",
     "text": [
      "Name: Umer, School: Air University\n",
      "Name: Ali, School: Air University\n",
      "Name: Umer, School: FAST University\n",
      "Name: Ali, School: FAST University\n"
     ]
    }
   ],
   "source": [
    "class Student:\n",
    "    school_name = \"Air University\"  \n",
    "\n",
    "    def __init__(self, name):\n",
    "        self.name = name\n",
    "\n",
    "    @classmethod\n",
    "    def change_school(cls, new_school):\n",
    "        cls.school_name = new_school\n",
    "\n",
    "    def display_info(self):\n",
    "        print(f\"Name: {self.name}, School: {Student.school_name}\")\n",
    "\n",
    "\n",
    "\n",
    "\n",
    "student1 = Student(\"Umer\")\n",
    "student2 = Student(\"Ali\")\n",
    "\n",
    "\n",
    "student1.display_info()\n",
    "student2.display_info()\n",
    "\n",
    "Student.change_school(\"FAST University\")\n",
    "\n",
    "student1.display_info()\n",
    "student2.display_info()\n",
    "\n",
    "\n",
    "        "
   ]
  },
  {
   "cell_type": "markdown",
   "id": "20755e0b",
   "metadata": {},
   "source": [
    "**Task 5: Using @property for Accessor**\n",
    "\n",
    "Create a Rectangle class with attributes length and width. Define a property method for\n",
    "area (accessor) that computes and returns the area of the rectangle. Make sure the area is\n",
    "calculated every time it’s accessed."
   ]
  },
  {
   "cell_type": "code",
   "execution_count": 19,
   "id": "0afdb94c",
   "metadata": {},
   "outputs": [
    {
     "name": "stdout",
     "output_type": "stream",
     "text": [
      "Area: 15\n",
      "Updated Area: 20\n"
     ]
    }
   ],
   "source": [
    "class Rectangle:\n",
    "    def __init__(self, length, width):\n",
    "        self.length = length\n",
    "        self.width = width\n",
    "\n",
    "    @property\n",
    "    def area(self):\n",
    "        ar = self.length * self.width\n",
    "        return ar \n",
    "    \n",
    "# Creating a Rectangle object\n",
    "rect1 = Rectangle(5, 3)\n",
    "\n",
    "# Accessing the area like an attribute\n",
    "print(\"Area:\", rect1.area)\n",
    "\n",
    "# Changing dimensions and accessing updated area\n",
    "rect1.length = 10\n",
    "rect1.width = 2\n",
    "print(\"Updated Area:\", rect1.area)\n",
    "    "
   ]
  },
  {
   "cell_type": "markdown",
   "id": "a5f91bf8",
   "metadata": {},
   "source": [
    "**Task 6: Class Method as an Alternative Constructor**\n",
    "\n",
    "Create a Book class with title and author. Define a class method from_string that takes a\n",
    "string in the format &quot;title,author&quot; and creates an instance of the class. Then, create a Book\n",
    "object using this class method."
   ]
  },
  {
   "cell_type": "code",
   "execution_count": 23,
   "id": "4de7d501",
   "metadata": {},
   "outputs": [
    {
     "name": "stdout",
     "output_type": "stream",
     "text": [
      "Title: 1984, Author: George Orwell\n"
     ]
    }
   ],
   "source": [
    "class Book:\n",
    "    def __init__(self, title, author):\n",
    "        self.title = title\n",
    "        self.author = author\n",
    "\n",
    "    @classmethod\n",
    "    def from_string(cls, book_str):\n",
    "        title, author = book_str.split(\",\")\n",
    "        return cls(title.strip(), author.strip())\n",
    "\n",
    "# Creating a Book object using the class method\n",
    "book1 = Book.from_string(\"1984, George Orwell\")\n",
    "\n",
    "# Displaying the result\n",
    "print(f\"Title: {book1.title}, Author: {book1.author}\")"
   ]
  },
  {
   "cell_type": "markdown",
   "id": "90725c9b",
   "metadata": {},
   "source": [
    "\n",
    "**Task 7: Mutator for Input Validation**\n",
    "\n",
    "Create a Car class with attributes make and year. Define a setter method set_year (mutator)\n",
    "that ensures the year is a positive integer greater than 1900. If the input is invalid, raise a\n",
    "ValueError. Create a Car object and set the year using the setter method."
   ]
  },
  {
   "cell_type": "code",
   "execution_count": 26,
   "id": "9d65af8f",
   "metadata": {},
   "outputs": [
    {
     "name": "stdout",
     "output_type": "stream",
     "text": [
      "Make: Toyota, Year: 2022\n"
     ]
    }
   ],
   "source": [
    "class Car:\n",
    "    def __init__(self, make, year):\n",
    "        self.make = make\n",
    "        self.year = year\n",
    "\n",
    "    def set_year(self, new_year):\n",
    "        if isinstance(new_year, int) and new_year > 1900:\n",
    "            self.year = new_year\n",
    "        else:\n",
    "            raise ValueError(\"Year must be an integer greater than 1900.\")\n",
    "\n",
    "\n",
    "car1 = Car(\"Toyota\", 2000)\n",
    "\n",
    "# Valid update\n",
    "car1.set_year(2022)\n",
    "print(f\"Make: {car1.make}, Year: {car1.year}\")\n"
   ]
  },
  {
   "cell_type": "markdown",
   "id": "14401273",
   "metadata": {},
   "source": [
    "\n",
    "**Task 8: Chaining Accessors and Mutators**\n",
    "\n",
    "Create a MobilePhone class with attributes brand and model. Implement a chain of accessors\n",
    "and mutators: use the setter for brand, use the setter for model, and then use a method to print\n",
    "out the phone&#39;s full details."
   ]
  },
  {
   "cell_type": "code",
   "execution_count": 28,
   "id": "0e897863",
   "metadata": {},
   "outputs": [
    {
     "name": "stdout",
     "output_type": "stream",
     "text": [
      "Mobile Phone: Apple iPhone 14\n"
     ]
    }
   ],
   "source": [
    "class MobilePhone:\n",
    "    def __init__(self, brand, model):\n",
    "        self._brand = brand\n",
    "        self._model = model\n",
    "\n",
    "    # Getter for brand\n",
    "    @property\n",
    "    def brand(self):\n",
    "        return self._brand\n",
    "\n",
    "    # Setter for brand\n",
    "    @brand.setter\n",
    "    def brand(self, new_brand):\n",
    "        self._brand = new_brand\n",
    "\n",
    "    # Getter for model\n",
    "    @property\n",
    "    def model(self):\n",
    "        return self._model\n",
    "\n",
    "    # Setter for model\n",
    "    @model.setter\n",
    "    def model(self, new_model):\n",
    "        self._model = new_model\n",
    "\n",
    "    # Method to display full details\n",
    "    def display_details(self):\n",
    "        print(f\"Mobile Phone: {self.brand} {self.model}\")\n",
    "\n",
    "# Creating object\n",
    "phone = MobilePhone(\"Samsung\", \"Galaxy S21\")\n",
    "\n",
    "# Chaining mutators\n",
    "phone.brand = \"Apple\"\n",
    "phone.model = \"iPhone 14\"\n",
    "\n",
    "# Accessing via accessors and displaying\n",
    "phone.display_details()"
   ]
  },
  {
   "cell_type": "markdown",
   "id": "c87e423d",
   "metadata": {},
   "source": [
    "**Task 9: Using cls for Class Counter**\n",
    "\n",
    "Create a Product class with a class-level attribute product_count. Define a class method\n",
    "increment_count to increase the product_count whenever a new product is created. Define\n",
    "an instance method get_count to return the current count of products."
   ]
  },
  {
   "cell_type": "code",
   "execution_count": 30,
   "id": "b5467701",
   "metadata": {},
   "outputs": [
    {
     "name": "stdout",
     "output_type": "stream",
     "text": [
      "Total Products: 3\n"
     ]
    }
   ],
   "source": [
    "class Product:\n",
    "    product_count = 0\n",
    "\n",
    "    def __init__(self, name):\n",
    "        self.name = name\n",
    "        Product.increment_count()\n",
    "        \n",
    "\n",
    "    @classmethod\n",
    "    def increment_count(cls):\n",
    "        cls.product_count += 1\n",
    "\n",
    "    def get_count(self):\n",
    "        return Product.product_count\n",
    "    \n",
    "\n",
    "\n",
    "p1 = Product(\"Laptop\")\n",
    "p2 = Product(\"Phone\")\n",
    "p3 = Product(\"Tablet\")\n",
    "\n",
    "\n",
    "print(\"Total Products:\", p1.get_count())\n",
    "\n",
    "        "
   ]
  },
  {
   "cell_type": "markdown",
   "id": "242ff3fd",
   "metadata": {},
   "source": [
    "**Task 10: Combining Accessor, Mutator, and Class Method**\n",
    "\n",
    "Create a Library class with attributes name and total_books. Define an accessor for\n",
    "total_books, a mutator to update the total_books, and a class method create_library to\n",
    "create a Library instance with a specific name and an initial count of books. Create a\n",
    "Library object and demonstrate all three methods."
   ]
  },
  {
   "cell_type": "code",
   "execution_count": 34,
   "id": "45ecb593",
   "metadata": {},
   "outputs": [
    {
     "name": "stdout",
     "output_type": "stream",
     "text": [
      "Library: Air Library, Total Books: 500\n"
     ]
    }
   ],
   "source": [
    "class Library:\n",
    "    def __init__(self, name, total_books):\n",
    "        self.name = name\n",
    "        self._total_books = total_books  \n",
    "\n",
    "    @property\n",
    "    def total_books(self):  # Accessor\n",
    "        return self._total_books\n",
    "\n",
    "    @total_books.setter\n",
    "    def total_books(self, new_count):  # Mutator\n",
    "        if isinstance(new_count, int) and new_count >= 0:\n",
    "            self._total_books = new_count\n",
    "        else:\n",
    "            raise ValueError(\"Total books must be a non-negative integer.\")\n",
    "\n",
    "    @classmethod\n",
    "    def create_library(cls, name, initial_bookcounts):\n",
    "        return cls(name, initial_bookcounts)\n",
    "\n",
    "    def show_details(self):\n",
    "        print(f\"Library: {self.name}, Total Books: {self.total_books}\")\n",
    "\n",
    "\n",
    "lib = Library.create_library(\"Air Library\", 300)\n",
    "lib.total_books = 500\n",
    "lib.show_details()"
   ]
  },
  {
   "cell_type": "markdown",
   "id": "b2d4f3ff",
   "metadata": {},
   "source": [
    "___\n"
   ]
  }
 ],
 "metadata": {
  "kernelspec": {
   "display_name": "tf_env",
   "language": "python",
   "name": "python3"
  },
  "language_info": {
   "codemirror_mode": {
    "name": "ipython",
    "version": 3
   },
   "file_extension": ".py",
   "mimetype": "text/x-python",
   "name": "python",
   "nbconvert_exporter": "python",
   "pygments_lexer": "ipython3",
   "version": "3.11.11"
  }
 },
 "nbformat": 4,
 "nbformat_minor": 5
}
