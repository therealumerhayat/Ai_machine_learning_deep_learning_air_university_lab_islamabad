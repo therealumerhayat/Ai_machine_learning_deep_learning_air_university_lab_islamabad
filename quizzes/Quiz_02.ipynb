{
 "cells": [
  {
   "cell_type": "markdown",
   "id": "a6d9dd53",
   "metadata": {},
   "source": [
    "**Name:** Muhammad Umer\n",
    "\n",
    "**Email** umerhayat282@gmail.com\n",
    "\n",
    "**Date** September 22, 2025\n",
    "\n",
    "\n",
    "\n",
    "____"
   ]
  },
  {
   "cell_type": "markdown",
   "id": "ad2ac1fe",
   "metadata": {},
   "source": [
    "##    Q1. (Lists – 10 Marks)\n",
    "- Write a Python function that takes a list of numbers and returns a new list containing only\n",
    "the even numbers from the original list.\n",
    "- Example:\n",
    "input: [1, 2, 3, 4, 5, 6]\n",
    "output: [2, 4, 6]"
   ]
  },
  {
   "cell_type": "code",
   "execution_count": 5,
   "id": "4fea095d",
   "metadata": {},
   "outputs": [],
   "source": [
    "\n",
    "def filter_even_numbers(numbers):\n",
    "    return [num for num in numbers if num % 2 == 0]\n"
   ]
  },
  {
   "cell_type": "code",
   "execution_count": 6,
   "id": "cbdfcce1",
   "metadata": {},
   "outputs": [
    {
     "name": "stdout",
     "output_type": "stream",
     "text": [
      "[2, 4, 6]\n"
     ]
    }
   ],
   "source": [
    "list = [1,2,3,4,5,6]\n",
    "even_numbers = filter_even_numbers(list)\n",
    "print(even_numbers)  "
   ]
  },
  {
   "cell_type": "markdown",
   "id": "51c80803",
   "metadata": {},
   "source": [
    "##  Q2. (Dictionaries – 10 Marks)\n",
    "- Create a dictionary that stores the names of 3 students and their scores in an exam.\n",
    "Write code to:\n",
    "- a) Print all the student names\n",
    "- b) Find and print the name of the student with the highest score"
   ]
  },
  {
   "cell_type": "code",
   "execution_count": 13,
   "id": "7cf0e0a8",
   "metadata": {},
   "outputs": [
    {
     "name": "stdout",
     "output_type": "stream",
     "text": [
      "Student Name: Umer\n",
      "Student Name: Adil\n",
      "Student Name: Mujtaba\n",
      "The highest scorer is: Adil\n"
     ]
    }
   ],
   "source": [
    "\n",
    "students_scores = {\n",
    "    \"Umer\": 85,\n",
    "    \"Adil\": 92,\n",
    "    \"Mujtaba\": 78\n",
    "}\n",
    "\n",
    "\n",
    "for key in students_scores.keys():\n",
    "    print(f\"Student Name: {key}\")\n",
    "\n",
    "\n",
    "highest_scorer = max(students_scores, key=students_scores.get)\n",
    "print(f\"The highest scorer is: {highest_scorer}\")\n"
   ]
  },
  {
   "cell_type": "markdown",
   "id": "60e50397",
   "metadata": {},
   "source": [
    "##  Q3. (OOP – 10 Marks)\n",
    "- Define a class called Student with the following:\n",
    "- Attributes: name, age, marks\n",
    "- Method: display_info() that prints the student&#39;s details\n",
    "- Create 2 objects of this class and call the display_info() method for each."
   ]
  },
  {
   "cell_type": "code",
   "execution_count": 14,
   "id": "52a799eb",
   "metadata": {},
   "outputs": [
    {
     "name": "stdout",
     "output_type": "stream",
     "text": [
      "Name: Umer, Age: 20, Marks: 85\n",
      "Name: Adil, Age: 21, Marks: 92\n"
     ]
    }
   ],
   "source": [
    "class Student:\n",
    "    def __init__(self, name, age, marks):\n",
    "        self.name = name\n",
    "        self.age = age\n",
    "        self.marks = marks\n",
    "\n",
    "    def display_info(self):\n",
    "        print(f\"Name: {self.name}, Age: {self.age}, Marks: {self.marks}\")\n",
    "\n",
    "student1 = Student(\"Umer\", 20, 85)\n",
    "student1.display_info()\n",
    "student2 = Student(\"Adil\", 21, 92)\n",
    "student2.display_info()"
   ]
  },
  {
   "cell_type": "code",
   "execution_count": null,
   "id": "6a450f14",
   "metadata": {},
   "outputs": [],
   "source": []
  },
  {
   "cell_type": "markdown",
   "id": "0250bc01",
   "metadata": {},
   "source": [
    "## Q4. (DataFrames – 10 Marks)\n",
    "\n",
    "Using the **pandas** library:\n",
    "\n",
    "#### a) Create a DataFrame with the following data:\n",
    "\n",
    "| Name     | Age | Score |\n",
    "|-----------|-----|-------|\n",
    "| Alice     | 23  | 85    |\n",
    "| Bob       | 21  | 90    |\n",
    "| Charlie   | 22  | 78    |\n",
    "\n",
    "#### b) Write code to:\n",
    "1. Display only the rows where **Score > 80**  \n",
    "2. Add a new column called **Grade** where:\n",
    "   - Students with **Score ≥ 85** get `'A'`\n",
    "   - Else, they get `'B'`\n",
    "\n",
    "\n"
   ]
  },
  {
   "cell_type": "code",
   "execution_count": 17,
   "id": "ba6ef410",
   "metadata": {},
   "outputs": [
    {
     "data": {
      "text/html": [
       "<div>\n",
       "<style scoped>\n",
       "    .dataframe tbody tr th:only-of-type {\n",
       "        vertical-align: middle;\n",
       "    }\n",
       "\n",
       "    .dataframe tbody tr th {\n",
       "        vertical-align: top;\n",
       "    }\n",
       "\n",
       "    .dataframe thead th {\n",
       "        text-align: right;\n",
       "    }\n",
       "</style>\n",
       "<table border=\"1\" class=\"dataframe\">\n",
       "  <thead>\n",
       "    <tr style=\"text-align: right;\">\n",
       "      <th></th>\n",
       "      <th>Name</th>\n",
       "      <th>Age</th>\n",
       "      <th>Score</th>\n",
       "    </tr>\n",
       "  </thead>\n",
       "  <tbody>\n",
       "    <tr>\n",
       "      <th>0</th>\n",
       "      <td>Umer</td>\n",
       "      <td>20</td>\n",
       "      <td>85</td>\n",
       "    </tr>\n",
       "    <tr>\n",
       "      <th>1</th>\n",
       "      <td>Adil</td>\n",
       "      <td>21</td>\n",
       "      <td>92</td>\n",
       "    </tr>\n",
       "    <tr>\n",
       "      <th>2</th>\n",
       "      <td>Mujtaba</td>\n",
       "      <td>19</td>\n",
       "      <td>78</td>\n",
       "    </tr>\n",
       "  </tbody>\n",
       "</table>\n",
       "</div>"
      ],
      "text/plain": [
       "      Name  Age  Score\n",
       "0     Umer   20     85\n",
       "1     Adil   21     92\n",
       "2  Mujtaba   19     78"
      ]
     },
     "execution_count": 17,
     "metadata": {},
     "output_type": "execute_result"
    }
   ],
   "source": [
    "import pandas as pd\n",
    "\n",
    "data = {\n",
    "    'Name': ['Umer', 'Adil', 'Mujtaba'],\n",
    "    'Age': [20, 21, 19],\n",
    "    'Score': [85, 92, 78]\n",
    "}\n",
    "\n",
    "df = pd.DataFrame(data)\n",
    "df.head()"
   ]
  },
  {
   "cell_type": "code",
   "execution_count": 18,
   "id": "d461b7b7",
   "metadata": {},
   "outputs": [
    {
     "data": {
      "text/html": [
       "<div>\n",
       "<style scoped>\n",
       "    .dataframe tbody tr th:only-of-type {\n",
       "        vertical-align: middle;\n",
       "    }\n",
       "\n",
       "    .dataframe tbody tr th {\n",
       "        vertical-align: top;\n",
       "    }\n",
       "\n",
       "    .dataframe thead th {\n",
       "        text-align: right;\n",
       "    }\n",
       "</style>\n",
       "<table border=\"1\" class=\"dataframe\">\n",
       "  <thead>\n",
       "    <tr style=\"text-align: right;\">\n",
       "      <th></th>\n",
       "      <th>Name</th>\n",
       "      <th>Age</th>\n",
       "      <th>Score</th>\n",
       "    </tr>\n",
       "  </thead>\n",
       "  <tbody>\n",
       "    <tr>\n",
       "      <th>0</th>\n",
       "      <td>Umer</td>\n",
       "      <td>20</td>\n",
       "      <td>85</td>\n",
       "    </tr>\n",
       "    <tr>\n",
       "      <th>1</th>\n",
       "      <td>Adil</td>\n",
       "      <td>21</td>\n",
       "      <td>92</td>\n",
       "    </tr>\n",
       "  </tbody>\n",
       "</table>\n",
       "</div>"
      ],
      "text/plain": [
       "   Name  Age  Score\n",
       "0  Umer   20     85\n",
       "1  Adil   21     92"
      ]
     },
     "execution_count": 18,
     "metadata": {},
     "output_type": "execute_result"
    }
   ],
   "source": [
    "df[df[\"Score\"] > 80]"
   ]
  },
  {
   "cell_type": "code",
   "execution_count": 19,
   "id": "2758a772",
   "metadata": {},
   "outputs": [
    {
     "data": {
      "text/html": [
       "<div>\n",
       "<style scoped>\n",
       "    .dataframe tbody tr th:only-of-type {\n",
       "        vertical-align: middle;\n",
       "    }\n",
       "\n",
       "    .dataframe tbody tr th {\n",
       "        vertical-align: top;\n",
       "    }\n",
       "\n",
       "    .dataframe thead th {\n",
       "        text-align: right;\n",
       "    }\n",
       "</style>\n",
       "<table border=\"1\" class=\"dataframe\">\n",
       "  <thead>\n",
       "    <tr style=\"text-align: right;\">\n",
       "      <th></th>\n",
       "      <th>Name</th>\n",
       "      <th>Age</th>\n",
       "      <th>Score</th>\n",
       "      <th>Grade</th>\n",
       "    </tr>\n",
       "  </thead>\n",
       "  <tbody>\n",
       "    <tr>\n",
       "      <th>0</th>\n",
       "      <td>Umer</td>\n",
       "      <td>20</td>\n",
       "      <td>85</td>\n",
       "      <td>A</td>\n",
       "    </tr>\n",
       "    <tr>\n",
       "      <th>1</th>\n",
       "      <td>Adil</td>\n",
       "      <td>21</td>\n",
       "      <td>92</td>\n",
       "      <td>A</td>\n",
       "    </tr>\n",
       "    <tr>\n",
       "      <th>2</th>\n",
       "      <td>Mujtaba</td>\n",
       "      <td>19</td>\n",
       "      <td>78</td>\n",
       "      <td>B</td>\n",
       "    </tr>\n",
       "  </tbody>\n",
       "</table>\n",
       "</div>"
      ],
      "text/plain": [
       "      Name  Age  Score Grade\n",
       "0     Umer   20     85     A\n",
       "1     Adil   21     92     A\n",
       "2  Mujtaba   19     78     B"
      ]
     },
     "execution_count": 19,
     "metadata": {},
     "output_type": "execute_result"
    }
   ],
   "source": [
    "df['Grade'] = df['Score'].apply(lambda x: 'A' if x >= 85 else 'B' )\n",
    "df.head()"
   ]
  },
  {
   "cell_type": "markdown",
   "id": "377b2771",
   "metadata": {},
   "source": [
    "##  Q5. (Data Visualization – 10 Marks)\n",
    "- Using matplotlib or seaborn, write code to:\n",
    "- a) Create a bar chart showing student names on the x-axis and scores on the y-axis (use\n",
    "data from Q4)\n",
    "- b) Label the axes and add a title to the chart"
   ]
  },
  {
   "cell_type": "code",
   "execution_count": 20,
   "id": "f6d8b8e9",
   "metadata": {},
   "outputs": [],
   "source": [
    "import matplotlib.pyplot as plt\n",
    "import seaborn as sns"
   ]
  },
  {
   "cell_type": "code",
   "execution_count": 21,
   "id": "827b8b69",
   "metadata": {},
   "outputs": [
    {
     "data": {
      "image/png": "[encoded data removed]",
      "text/plain": [
       "<Figure size 640x480 with 1 Axes>"
      ]
     },
     "metadata": {},
     "output_type": "display_data"
    }
   ],
   "source": [
    "sns.barplot(x='Name', y='Score', data=df)\n",
    "plt.title('Student Scores')\n",
    "plt.xlabel('Name')\n",
    "plt.ylabel('Score')\n",
    "plt.show()"
   ]
  },
  {
   "cell_type": "markdown",
   "id": "f9903532",
   "metadata": {},
   "source": [
    "###  **Q6. What is the distribution of age among patients, and how does it relate to heart disease? (15 marks)**\n",
    "\n",
    "Visualization: Histogram of age grouped by target (heart disease presence or absence).\n",
    "\n",
    "Insight: Understand if heart disease prevalence increases with age."
   ]
  },
  {
   "cell_type": "code",
   "execution_count": 22,
   "id": "31582b40",
   "metadata": {},
   "outputs": [],
   "source": [
    "df = pd.read_csv('D:\\Ai_machine_learning_deep_learning_air_university_lab_islamabad\\data\\heart-disease-UCI.csv')"
   ]
  },
  {
   "cell_type": "code",
   "execution_count": 23,
   "id": "9927470d",
   "metadata": {},
   "outputs": [
    {
     "data": {
      "text/html": [
       "<div>\n",
       "<style scoped>\n",
       "    .dataframe tbody tr th:only-of-type {\n",
       "        vertical-align: middle;\n",
       "    }\n",
       "\n",
       "    .dataframe tbody tr th {\n",
       "        vertical-align: top;\n",
       "    }\n",
       "\n",
       "    .dataframe thead th {\n",
       "        text-align: right;\n",
       "    }\n",
       "</style>\n",
       "<table border=\"1\" class=\"dataframe\">\n",
       "  <thead>\n",
       "    <tr style=\"text-align: right;\">\n",
       "      <th></th>\n",
       "      <th>age</th>\n",
       "      <th>sex</th>\n",
       "      <th>cp</th>\n",
       "      <th>trestbps</th>\n",
       "      <th>chol</th>\n",
       "      <th>fbs</th>\n",
       "      <th>restecg</th>\n",
       "      <th>thalach</th>\n",
       "      <th>exang</th>\n",
       "      <th>oldpeak</th>\n",
       "      <th>slope</th>\n",
       "      <th>ca</th>\n",
       "      <th>thal</th>\n",
       "      <th>target</th>\n",
       "    </tr>\n",
       "  </thead>\n",
       "  <tbody>\n",
       "    <tr>\n",
       "      <th>0</th>\n",
       "      <td>63</td>\n",
       "      <td>1</td>\n",
       "      <td>3</td>\n",
       "      <td>145</td>\n",
       "      <td>233</td>\n",
       "      <td>1</td>\n",
       "      <td>0</td>\n",
       "      <td>150</td>\n",
       "      <td>0</td>\n",
       "      <td>2.3</td>\n",
       "      <td>0</td>\n",
       "      <td>0</td>\n",
       "      <td>1</td>\n",
       "      <td>1</td>\n",
       "    </tr>\n",
       "    <tr>\n",
       "      <th>1</th>\n",
       "      <td>37</td>\n",
       "      <td>1</td>\n",
       "      <td>2</td>\n",
       "      <td>130</td>\n",
       "      <td>250</td>\n",
       "      <td>0</td>\n",
       "      <td>1</td>\n",
       "      <td>187</td>\n",
       "      <td>0</td>\n",
       "      <td>3.5</td>\n",
       "      <td>0</td>\n",
       "      <td>0</td>\n",
       "      <td>2</td>\n",
       "      <td>1</td>\n",
       "    </tr>\n",
       "    <tr>\n",
       "      <th>2</th>\n",
       "      <td>41</td>\n",
       "      <td>0</td>\n",
       "      <td>1</td>\n",
       "      <td>130</td>\n",
       "      <td>204</td>\n",
       "      <td>0</td>\n",
       "      <td>0</td>\n",
       "      <td>172</td>\n",
       "      <td>0</td>\n",
       "      <td>1.4</td>\n",
       "      <td>2</td>\n",
       "      <td>0</td>\n",
       "      <td>2</td>\n",
       "      <td>1</td>\n",
       "    </tr>\n",
       "    <tr>\n",
       "      <th>3</th>\n",
       "      <td>56</td>\n",
       "      <td>1</td>\n",
       "      <td>1</td>\n",
       "      <td>120</td>\n",
       "      <td>236</td>\n",
       "      <td>0</td>\n",
       "      <td>1</td>\n",
       "      <td>178</td>\n",
       "      <td>0</td>\n",
       "      <td>0.8</td>\n",
       "      <td>2</td>\n",
       "      <td>0</td>\n",
       "      <td>2</td>\n",
       "      <td>1</td>\n",
       "    </tr>\n",
       "    <tr>\n",
       "      <th>4</th>\n",
       "      <td>57</td>\n",
       "      <td>0</td>\n",
       "      <td>0</td>\n",
       "      <td>120</td>\n",
       "      <td>354</td>\n",
       "      <td>0</td>\n",
       "      <td>1</td>\n",
       "      <td>163</td>\n",
       "      <td>1</td>\n",
       "      <td>0.6</td>\n",
       "      <td>2</td>\n",
       "      <td>0</td>\n",
       "      <td>2</td>\n",
       "      <td>1</td>\n",
       "    </tr>\n",
       "  </tbody>\n",
       "</table>\n",
       "</div>"
      ],
      "text/plain": [
       "   age  sex  cp  trestbps  chol  fbs  restecg  thalach  exang  oldpeak  slope  \\\n",
       "0   63    1   3       145   233    1        0      150      0      2.3      0   \n",
       "1   37    1   2       130   250    0        1      187      0      3.5      0   \n",
       "2   41    0   1       130   204    0        0      172      0      1.4      2   \n",
       "3   56    1   1       120   236    0        1      178      0      0.8      2   \n",
       "4   57    0   0       120   354    0        1      163      1      0.6      2   \n",
       "\n",
       "   ca  thal  target  \n",
       "0   0     1       1  \n",
       "1   0     2       1  \n",
       "2   0     2       1  \n",
       "3   0     2       1  \n",
       "4   0     2       1  "
      ]
     },
     "execution_count": 23,
     "metadata": {},
     "output_type": "execute_result"
    }
   ],
   "source": [
    "df.head()"
   ]
  },
  {
   "cell_type": "code",
   "execution_count": 25,
   "id": "851e0449",
   "metadata": {},
   "outputs": [
    {
     "data": {
      "image/png": "[encoded data removed]",
      "text/plain": [
       "<Figure size 640x480 with 1 Axes>"
      ]
     },
     "metadata": {},
     "output_type": "display_data"
    }
   ],
   "source": [
    "sns.histplot(data=df,x='age',hue='target')\n",
    "plt.title('Age Distribution by Heart Disease Status')\n",
    "plt.xlabel('Age')\n",
    "plt.ylabel('Count')\n",
    "plt.show()"
   ]
  },
  {
   "cell_type": "markdown",
   "id": "a3f88efd",
   "metadata": {},
   "source": [
    "**Observation:**\n",
    "\n",
    "People with heart disease (target = 1) are generally more concentrated in the age range of 40–55, while those without heart disease (target = 0) are more common in the age range of 55–65. This suggests that heart disease tends to occur more frequently in slightly younger middle-aged individuals."
   ]
  },
  {
   "cell_type": "markdown",
   "id": "a40d0b7b",
   "metadata": {},
   "source": [
    "### **Q7.How does sex (gender) affect the prevalence of heart disease? (15 marks)**\n",
    "\n",
    "Visualization: Bar plot showing count or percentage of heart disease cases by sex.\n",
    "\n",
    "Insight: Identify whether males or females are more likely to have heart disease in this\n",
    "dataset."
   ]
  },
  {
   "cell_type": "code",
   "execution_count": null,
   "id": "d7bbab48",
   "metadata": {},
   "outputs": [
    {
     "data": {
      "image/png": "[encoded data removed]",
      "text/plain": [
       "<Figure size 640x480 with 1 Axes>"
      ]
     },
     "metadata": {},
     "output_type": "display_data"
    }
   ],
   "source": [
    "sns.countplot(x='sex', hue='target', data=df)\n",
    "plt.title('Heart Disease Cases by Sex')\n",
    "plt.xlabel('Sex (0 = Female, 1 = Male)')\n",
    "plt.ylabel('Count')\n",
    "plt.show()"
   ]
  },
  {
   "cell_type": "markdown",
   "id": "10dbcaa6",
   "metadata": {},
   "source": [
    "**Observation**\n",
    "\n",
    "This indicates that heart disease is more prevalent among men, who show higher counts of cardiac events and deaths. The difference may be influenced by biological factors (such as hormonal protection in premenopausal women), as well as lifestyle and risk factors like smoking, stress, and diet, which tend to be higher in males. Overall, gender appears to be a significant factor in heart disease risk and outcomes."
   ]
  },
  {
   "cell_type": "markdown",
   "id": "286a5367",
   "metadata": {},
   "source": [
    "### **Q8. What is the relationship between chest pain type (cp) and heart disease? (20 marks)**\n",
    "\n",
    "Visualization: Stacked bar chart showing heart disease occurrence by cp category.\n",
    "\n",
    "\n",
    "Insight: Which types of chest pain are most associated with heart disease."
   ]
  },
  {
   "cell_type": "code",
   "execution_count": 28,
   "id": "90e36e01",
   "metadata": {},
   "outputs": [
    {
     "data": {
      "image/png": "[encoded data removed]",
      "text/plain": [
       "<Figure size 640x480 with 1 Axes>"
      ]
     },
     "metadata": {},
     "output_type": "display_data"
    }
   ],
   "source": [
    "cp_target_counts = df.groupby(['cp', 'target']).size().unstack(fill_value=0)\n",
    "cp_target_counts.plot(kind='bar', stacked=True)\n",
    "plt.title('Heart Disease Cases by Chest Pain Type')\n",
    "plt.xlabel('Chest Pain Type')\n",
    "plt.ylabel('Count')\n",
    "plt.show()"
   ]
  },
  {
   "cell_type": "markdown",
   "id": "bdaf655b",
   "metadata": {},
   "source": [
    "**Observation:**\n",
    "\n",
    "The chart shows that chest pain type 0  is the most common overall, but most of these individuals do not have heart disease. In contrast, chest pain types 1 and 2 show a much higher proportion of heart disease cases, indicating a stronger association between these pain types and the presence of heart disease. Type 3 has the fewest cases overall, with a moderate number linked to heart disease."
   ]
  },
  {
   "cell_type": "markdown",
   "id": "a819f948",
   "metadata": {},
   "source": [
    "___"
   ]
  }
 ],
 "metadata": {
  "kernelspec": {
   "display_name": "tf_env",
   "language": "python",
   "name": "python3"
  },
  "language_info": {
   "codemirror_mode": {
    "name": "ipython",
    "version": 3
   },
   "file_extension": ".py",
   "mimetype": "text/x-python",
   "name": "python",
   "nbconvert_exporter": "python",
   "pygments_lexer": "ipython3",
   "version": "3.11.11"
  }
 },
 "nbformat": 4,
 "nbformat_minor": 5
}
