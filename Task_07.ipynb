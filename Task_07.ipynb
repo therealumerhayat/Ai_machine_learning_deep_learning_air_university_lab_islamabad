{
 "cells": [
  {
   "cell_type": "markdown",
   "id": "4380a650",
   "metadata": {},
   "source": [
    "**Name:** Muhammad Umer\n",
    "\n",
    "**Email** umerhayat282@gmail.com\n",
    "\n",
    "**Date** September 22, 2025\n",
    "\n",
    "\n",
    "\n",
    "____"
   ]
  },
  {
   "cell_type": "markdown",
   "id": "a43deaed",
   "metadata": {},
   "source": [
    "##  Lambda Function"
   ]
  },
  {
   "cell_type": "markdown",
   "id": "5c4f4629",
   "metadata": {},
   "source": [
    "**1. Simple Lambda:**\n",
    "\n",
    "- Write a lambda function that takes a number and returns its square. Test it with the\n",
    "number 5."
   ]
  },
  {
   "cell_type": "code",
   "execution_count": 1,
   "id": "256fed90",
   "metadata": {},
   "outputs": [
    {
     "data": {
      "text/plain": [
       "10"
      ]
     },
     "execution_count": 1,
     "metadata": {},
     "output_type": "execute_result"
    }
   ],
   "source": [
    "lamb = lambda x:x*2\n",
    "\n",
    "lamb(5)"
   ]
  },
  {
   "cell_type": "markdown",
   "id": "9ee170c5",
   "metadata": {},
   "source": [
    "**2. Lambda with Multiple Arguments:**\n",
    "- Write a lambda function that takes two numbers and returns their product. Test it with the\n",
    "numbers 4 and 5."
   ]
  },
  {
   "cell_type": "code",
   "execution_count": 2,
   "id": "da5e1c49",
   "metadata": {},
   "outputs": [
    {
     "data": {
      "text/plain": [
       "20"
      ]
     },
     "execution_count": 2,
     "metadata": {},
     "output_type": "execute_result"
    }
   ],
   "source": [
    "lamb2 = lambda a, b: a*b\n",
    "lamb2(4,5)"
   ]
  },
  {
   "cell_type": "markdown",
   "id": "ff4fcd0a",
   "metadata": {},
   "source": [
    "**3. Sorting with Lambda:**\n",
    "- Given a list of tuples where each tuple contains a name and age, use sorted and a\n",
    "lambda function to sort the list by age. Example list: [(&quot;Alice&quot;, 30), (&quot;Bob&quot;, 25),\n",
    "(&quot;Charlie&quot;, 35)]."
   ]
  },
  {
   "cell_type": "code",
   "execution_count": 9,
   "id": "7c9bfd4d",
   "metadata": {},
   "outputs": [
    {
     "name": "stdout",
     "output_type": "stream",
     "text": [
      "[('Bob', 25), ('Alice', 30), ('Charlie', 35)]\n"
     ]
    }
   ],
   "source": [
    "list_of_tuple = [(\"Alice\",30),(\"Bob\",25),(\"Charlie\",35)]\n",
    "list_of_tuple.sort(key= lambda x:x[1])\n",
    "print(list_of_tuple)\n",
    "\n"
   ]
  },
  {
   "cell_type": "markdown",
   "id": "492a54a0",
   "metadata": {},
   "source": [
    "**4. Lambda for String Manipulation:**\n",
    "- Write a lambda function that takes a string and returns it in uppercase. Test it with the\n",
    "string &quot;hello world&quot;.\n",
    "\n",
    "\n",
    "\n"
   ]
  },
  {
   "cell_type": "code",
   "execution_count": 11,
   "id": "1858ff5a",
   "metadata": {},
   "outputs": [
    {
     "data": {
      "text/plain": [
       "'UMER'"
      ]
     },
     "execution_count": 11,
     "metadata": {},
     "output_type": "execute_result"
    }
   ],
   "source": [
    "string_mani =lambda x: x.upper()\n",
    "string_mani(\"umer\")\n"
   ]
  },
  {
   "cell_type": "markdown",
   "id": "22603d57",
   "metadata": {},
   "source": [
    "**5. Conditional Lambda:**\n",
    "- Write a lambda function that takes a number and returns &quot;Even&quot; if the number is even,\n",
    "and &quot;Odd&quot; if the number is odd. Test it with the number 3."
   ]
  },
  {
   "cell_type": "code",
   "execution_count": 14,
   "id": "b718bedf",
   "metadata": {},
   "outputs": [
    {
     "data": {
      "text/plain": [
       "'Odd'"
      ]
     },
     "execution_count": 14,
     "metadata": {},
     "output_type": "execute_result"
    }
   ],
   "source": [
    "cond_lambda = lambda x: \"Even\" if x/2 == 0 else \"Odd\"\n",
    "cond_lambda(5)"
   ]
  },
  {
   "cell_type": "markdown",
   "id": "7f81ed7c",
   "metadata": {},
   "source": [
    "___"
   ]
  },
  {
   "cell_type": "markdown",
   "id": "e68d3630",
   "metadata": {},
   "source": [
    "##  Function Exercises"
   ]
  },
  {
   "cell_type": "markdown",
   "id": "972f0f54",
   "metadata": {},
   "source": [
    "\n",
    "**6. Define Functions**\n",
    "- Write a function called greet that prints &quot;Hello, World!&quot;."
   ]
  },
  {
   "cell_type": "code",
   "execution_count": 16,
   "id": "5704d59b",
   "metadata": {},
   "outputs": [
    {
     "data": {
      "text/plain": [
       "'Hello, World!'"
      ]
     },
     "execution_count": 16,
     "metadata": {},
     "output_type": "execute_result"
    }
   ],
   "source": [
    "def greet():\n",
    "    return \"Hello, World!\"\n",
    "\n",
    "\n",
    "greet()"
   ]
  },
  {
   "cell_type": "markdown",
   "id": "2302aa2c",
   "metadata": {},
   "source": [
    "**7. 2. Passing Arguments to Functions**\n",
    "- Write a function called add that takes two parameters and prints their sum.\n",
    "- Write a function called print_info that takes a name and an age as parameters and prints\n",
    "them in the format &quot;Name: [name], Age: [age]&quot;."
   ]
  },
  {
   "cell_type": "code",
   "execution_count": 23,
   "id": "c74002fd",
   "metadata": {},
   "outputs": [
    {
     "name": "stdout",
     "output_type": "stream",
     "text": [
      "9\n",
      "----------------------------------------------------------------------------------------------------\n",
      "Name: Umer, Age: 25\n"
     ]
    }
   ],
   "source": [
    "def add(a,b):\n",
    "    print(a+b)\n",
    "\n",
    "\n",
    "add(4,5)\n",
    "\n",
    "print(\"--\"*50)\n",
    "\n",
    "\n",
    "\n",
    "\n",
    "def print_info(name, age):\n",
    "    print(f\"Name: {name}, Age: {age}\")\n",
    "\n",
    "print_info(\"Umer\", 25)"
   ]
  },
  {
   "cell_type": "markdown",
   "id": "0abd86d8",
   "metadata": {},
   "source": [
    "**8. 3. Return a Value from a Function**\n",
    "- Write a function called multiply that takes two numbers as parameters and returns their\n",
    "product.\n",
    "- Write a function called is_even that takes a number as a parameter and returns True if the\n",
    "number is even and False if it is odd."
   ]
  },
  {
   "cell_type": "code",
   "execution_count": 27,
   "id": "561f550f",
   "metadata": {},
   "outputs": [
    {
     "name": "stdout",
     "output_type": "stream",
     "text": [
      "30\n",
      "----------------------------------------------------------------------------------------------------\n",
      "Odd\n"
     ]
    }
   ],
   "source": [
    "def multiply(a,b):\n",
    "    return a*b\n",
    "\n",
    "\n",
    "mul = multiply(5,6)\n",
    "\n",
    "print(mul)\n",
    "\n",
    "print(\"--\"*50)\n",
    "\n",
    "\n",
    "def is_even(n):\n",
    "    if n /2==0:\n",
    "        print(\"Even\")\n",
    "    else:\n",
    "        print(\"Odd\")\n",
    "\n",
    "is_even(5)\n"
   ]
  },
  {
   "cell_type": "markdown",
   "id": "1eca872a",
   "metadata": {},
   "source": [
    "**9. 4. Scope of Objects**\n",
    "- Write a function called outer_function that defines a variable inside it, then defines and\n",
    "calls an inner function that prints the variable.\n",
    "- Write a script to demonstrate the difference between local and global variables by\n",
    "defining a global variable, modifying it inside a function, and printing it both inside and\n",
    "outside the function."
   ]
  },
  {
   "cell_type": "code",
   "execution_count": 5,
   "id": "a3a38b2a",
   "metadata": {},
   "outputs": [
    {
     "name": "stdout",
     "output_type": "stream",
     "text": [
      "Hello from outer function!\n",
      "None\n",
      "----------------------------------------------------------------------------------------------------\n",
      "Inside the function without modifitcation:  This is global variable\n",
      "Inside the function after modification : This is the modified form\n",
      "Outside the function: This is the modified form\n"
     ]
    }
   ],
   "source": [
    "def outer_function():\n",
    "    var = \"Hello from outer function!\"\n",
    "    def inner_function():\n",
    "        print(var)\n",
    "    inner_function()\n",
    "\n",
    "rec = outer_function()\n",
    "print(rec)\n",
    "\n",
    "print(\"--\"*50)\n",
    "\n",
    "global_var = \"This is global variable\"\n",
    "\n",
    "def mod():\n",
    "    global global_var\n",
    "    print(f\"Inside the function without modifitcation:  {global_var}\")\n",
    "    global_var = \"This is the modified form\"\n",
    "    print(f\"Inside the function after modification : {global_var}\")\n",
    "\n",
    "\n",
    "mod()\n",
    "\n",
    "\n",
    "print(f\"Outside the function: {global_var}\")"
   ]
  },
  {
   "cell_type": "markdown",
   "id": "14c3bfb7",
   "metadata": {},
   "source": [
    "**10. 5. Default Arguments**\n",
    "- Write a function called greet_person that takes a name as a parameter and prints &quot;Hello,\n",
    "[name]&quot;. If no name is provided, it should default to &quot;Guest&quot;.\n",
    "- Write a function called power that takes two numbers as parameters and returns the first\n",
    "number raised to the power of the second number. If the second number is not provided,\n",
    "it should default to 2."
   ]
  },
  {
   "cell_type": "code",
   "execution_count": 18,
   "id": "9d18bb1a",
   "metadata": {},
   "outputs": [
    {
     "name": "stdout",
     "output_type": "stream",
     "text": [
      "Printing Without Name:  Hello, Guest\n",
      "Print with giving name: Hello, Umer\n",
      "----------------------------------------------------------------------------------------------------\n"
     ]
    },
    {
     "data": {
      "text/plain": [
       "25"
      ]
     },
     "execution_count": 18,
     "metadata": {},
     "output_type": "execute_result"
    }
   ],
   "source": [
    "def greet_person(name=\"Guest\"):\n",
    "    return \"Hello\" + \", \" + name\n",
    "\n",
    "print(f\"Printing Without Name:  {greet_person()}\")\n",
    "print(f\"Print with giving name: {greet_person(name='Umer')}\")\n",
    "\n",
    "\n",
    "print(\"--\"*50)\n",
    "\n",
    "def power(a, b=2):\n",
    "    return a**b\n",
    "\n",
    "power(5)"
   ]
  },
  {
   "cell_type": "markdown",
   "id": "f09741f7",
   "metadata": {},
   "source": [
    "**11. 6. Positional and Keyword Arguments**\n",
    "- Write a function called describe_pet that takes two parameters: a pet&#39;s name and a pet&#39;s\n",
    "type. Use positional arguments to call the function with &quot;Buddy&quot; and &quot;dog&quot;, and keyword\n",
    "arguments to call the function with &quot;cat&quot; and &quot;Whiskers&quot;.\n",
    "- Write a function called make_sandwich that takes three ingredients as parameters and\n",
    "prints the sandwich&#39;s ingredients in the format &quot;Sandwich with [ingredient1],\n",
    "[ingredient2], and [ingredient3]&quot;. Call the function using both positional and keyword\n",
    "arguments."
   ]
  },
  {
   "cell_type": "code",
   "execution_count": 26,
   "id": "487bceec",
   "metadata": {},
   "outputs": [
    {
     "name": "stdout",
     "output_type": "stream",
     "text": [
      "I have a buddy\n",
      "My  buddy type is dog\n",
      "I have a whiskers\n",
      "My  whiskers type is cat\n",
      "----------------------------------------------------------------------------------------------------\n",
      "Sandwich with Chicken Spread, Bread Slices and Black Pepper\n",
      "Calling the bydefault function: None\n",
      "Calling the function with positional keyword arguments:\n",
      "Sandwich with BBq Sauce, Grilled Chicken and Masala\n"
     ]
    }
   ],
   "source": [
    "def describe_pet(pet_name, pet_type):\n",
    "    print(f\"I have a {pet_name}\")\n",
    "    print(f\"My  {pet_name} type is {pet_type}\")\n",
    "\n",
    "describe_pet(\"buddy\", \"dog\")\n",
    "\n",
    "#calling the function using keyword arguments\n",
    "describe_pet(pet_name=\"whiskers\", pet_type=\"cat\")\n",
    "\n",
    "print(\"--\"*50)\n",
    "\n",
    "def make_sandwich(ing1=\"Chicken Spread\", ing2=\"Bread Slices\",ing3=\"Black Pepper\"):\n",
    "    print(f\"Sandwich with {ing1}, {ing2} and {ing3}\")\n",
    "\n",
    "\n",
    "print(f\"Calling the bydefault function: {make_sandwich()}\")\n",
    "print(\"Calling the function with positional keyword arguments:\")\n",
    "make_sandwich(ing1='BBq Sauce', ing2='Grilled Chicken', ing3='Masala')\n"
   ]
  },
  {
   "cell_type": "markdown",
   "id": "6af1da3f",
   "metadata": {},
   "source": [
    "\n",
    "**12. 7. Variable-Length Arguments**\n",
    "- Write a function called sum_numbers that takes any number of numerical arguments and\n",
    "returns their sum.\n",
    "- Write a function called display_students that takes a course name and any number of\n",
    "student names, and prints the course name followed by the list of student names."
   ]
  },
  {
   "cell_type": "code",
   "execution_count": 8,
   "id": "0170a327",
   "metadata": {},
   "outputs": [
    {
     "name": "stdout",
     "output_type": "stream",
     "text": [
      "15\n",
      "----------------------------------------------------------------------------------------------------\n",
      "Course: Data Science\n",
      "Students:\n",
      "-Umer\n",
      "-Tayyab\n",
      "-Kaleem\n"
     ]
    }
   ],
   "source": [
    "def sum_numbers(*n):\n",
    "    return sum(n)\n",
    "\n",
    "\n",
    "print(sum_numbers(5,10))\n",
    "\n",
    "print(\"--\"*50)\n",
    "\n",
    "\n",
    "\n",
    "\n",
    "def display_students(course_name, *student_names):\n",
    "    print(f\"Course: {course_name}\")\n",
    "    print(f\"Students:\")\n",
    "    for student in student_names:\n",
    "        print(f\"-{student}\")\n",
    "\n",
    "\n",
    "display_students(\"Data Science\", \"Umer\", \"Tayyab\", \"Kaleem\")"
   ]
  },
  {
   "cell_type": "markdown",
   "id": "ccc801f0",
   "metadata": {},
   "source": [
    "___"
   ]
  },
  {
   "cell_type": "markdown",
   "id": "071a3684",
   "metadata": {},
   "source": [
    "##  Complex Function Tasks with Lists, Tuples, and Dictionaries"
   ]
  },
  {
   "cell_type": "markdown",
   "id": "2ee6b86d",
   "metadata": {},
   "source": [
    "**13. Student Grade Management**\n",
    "- Scenario: You have a list of tuples where each tuple contains a student&#39;s name and their\n",
    "grades in three subjects.\n",
    "o Example: students = [(&quot;Alice&quot;, [85, 90, 92]), (&quot;Bob&quot;, [78, 81, 85]), (&quot;Charlie&quot;,\n",
    "[92, 88, 91])]\n",
    "\n",
    "- Tasks:\n",
    "    - 1. Write a function to calculate the average grade for each student.\n",
    "    - 2. Write a function to find the student with the highest average grade.\n",
    "    - 3. Write a function to find the student with the lowest average grade.\n",
    "    - 4. Write a function to add a new student with their grades to the list."
   ]
  },
  {
   "cell_type": "code",
   "execution_count": 31,
   "id": "420b9be5",
   "metadata": {},
   "outputs": [
    {
     "name": "stdout",
     "output_type": "stream",
     "text": [
      "The average grade of Alice is 89.00 %\n",
      "The average grade of Bob is 81.33 %\n",
      "The average grade of Charlie is 90.33 %\n",
      "----------------------------------------------------------------------------------------------------\n",
      "The average grade of Alice is 89.00 %\n",
      "The average grade of Bob is 81.33 %\n",
      "The average grade of Charlie is 90.33 %\n",
      "The highest average is 90.33 %, scored by Charlie\n",
      "----------------------------------------------------------------------------------------------------\n",
      "Added David with grades [80, 85, 90]\n",
      "The average grade of Alice is 89.00 %\n",
      "The average grade of Bob is 81.33 %\n",
      "The average grade of Charlie is 90.33 %\n",
      "The average grade of David is 85.00 %\n"
     ]
    },
    {
     "data": {
      "text/plain": [
       "{'Alice': 89.0,\n",
       " 'Bob': 81.33333333333333,\n",
       " 'Charlie': 90.33333333333333,\n",
       " 'David': 85.0}"
      ]
     },
     "execution_count": 31,
     "metadata": {},
     "output_type": "execute_result"
    }
   ],
   "source": [
    "students = [(\"Alice\",[85,90,92]), (\"Bob\",[78,81,85]),(\"Charlie\", [92,88,91])]\n",
    "\n",
    "#1-write a function to calcualte the average grade for each student\n",
    "def calculate_average(student_list):\n",
    "    averages = {}\n",
    "    for name, grade in student_list:\n",
    "        av = sum(grade) / len(grade)\n",
    "        averages[name] = av\n",
    "        print(f\"The average grade of {name} is {av:.2f} %\")\n",
    "    return averages\n",
    "\n",
    "# Call and store averages\n",
    "averages = calculate_average(students)\n",
    "print(\"--\" * 50)\n",
    "\n",
    "\n",
    "#2- Write a function to find the student with the highest average grade\n",
    "def highest_av(student_list):\n",
    "    averages = calculate_average(student_list)\n",
    "    highest_student = max(averages, key=averages.get)\n",
    "    print(f\"The highest average is {averages[highest_student]:.2f} %, scored by {highest_student}\")\n",
    "\n",
    "highest_av(students)\n",
    "print(\"--\" * 50)\n",
    "#3-Write a function to add a new student with their grades to the list\n",
    "def add_item(name, grades):\n",
    "    global students\n",
    "    students.append((name, grades))\n",
    "    print(f\"Added {name} with grades {grades}\")\n",
    "\n",
    "# Example usage\n",
    "add_item(\"David\", [80, 85, 90])\n",
    "calculate_average(students)\n",
    "\n"
   ]
  },
  {
   "cell_type": "markdown",
   "id": "64316274",
   "metadata": {},
   "source": [
    "**14. 2. Inventory Management**\n",
    "\n",
    "**Scenario:** You have a dictionary representing an inventory of products where the keys\n",
    "are product names and the values are tuples containing the price and the stock quantity.\n",
    "\n",
    "**o Example:** inventory = {&quot;apple&quot;: (0.5, 100), &quot;banana&quot;: (0.3, 150), &quot;orange&quot;: (0.7,\n",
    "120)}\n",
    "- Tasks:\n",
    "    - 1. Write a function to add a new product to the inventory.\n",
    "    - 2. Write a function to update the price and stock quantity of an existing product.\n",
    "    - 3. Write a function to calculate the total value of the inventory (price * quantity for each\n",
    "    product).\n",
    "    - 1. Write a function to find the product with the highest stock quantity."
   ]
  },
  {
   "cell_type": "markdown",
   "id": "3c8773de",
   "metadata": {},
   "source": [
    "**o Employee Data Processing**\n",
    "\n",
    "**Scenario:** You have a list of dictionaries where each dictionary contains details of an\n",
    "employee: their name, age, department, and salary.\n",
    "\n",
    "**o Example:**\n",
    "employees = [{&quot;name&quot;: &quot;Alice&quot;, &quot;age&quot;: 30, &quot;department&quot;: &quot;HR&quot;,\n",
    "&quot;salary&quot;: 50000}, {&quot;name&quot;: &quot;Bob&quot;, &quot;age&quot;: 25, &quot;department&quot;: &quot;IT&quot;, &quot;salary&quot;:\n",
    "60000}, {&quot;name&quot;: &quot;Charlie&quot;, &quot;age&quot;: 35, &quot;department&quot;: &quot;Finance&quot;, &quot;salary&quot;:\n",
    "55000}]\n",
    "- Tasks:\n",
    "  - 1. Write a function to add a new employee to the list.\n",
    "  - 2. Write a function to remove an employee from the list by their name.\n",
    "  - 3. Write a function to find the average salary of employees in a specific department.\n",
    "  - 4. Write a function to find the employee with the highest salary.\n",
    "  - 5. Write a function to list all employees in a specific department."
   ]
  },
  {
   "cell_type": "markdown",
   "id": "5b61f050",
   "metadata": {},
   "source": [
    "**o Book Collection Management**\n",
    "\n",
    "**Scenario:** You have a dictionary where the keys are genres and the values are lists of\n",
    "tuples, each containing a book title and its author.\n",
    "\n",
    "**Example:** books = {&quot;Science Fiction&quot;: [(&quot;Dune&quot;, &quot;Frank Herbert&quot;),\n",
    "(&quot;Neuromancer&quot;, &quot;William Gibson&quot;)], &quot;Fantasy&quot;: [(&quot;The Hobbit&quot;, &quot;J.R.R.\n",
    "Tolkien&quot;), (&quot;Harry Potter&quot;, &quot;J.K. Rowling&quot;)]}\n",
    "\n",
    "- Tasks:\n",
    "  - 1. Write a function to add a new book to a genre.\n",
    "  - 2. Write a function to remove a book from a genre.\n",
    "  - 3. Write a function to find all books by a specific author across all genres.\n",
    "  - 4. Write a function to list all books in a specific genre.\n",
    "  - 5. Write a function to count the total number of books in the collection."
   ]
  },
  {
   "cell_type": "markdown",
   "id": "65b9ef7d",
   "metadata": {},
   "source": [
    "\n",
    "\n",
    "\n",
    "\n",
    "\n",
    "\n",
    "\n",
    "\n",
    "**15. Movie Ratings**\n",
    "\n",
    "**Scenario:** You have a dictionary where the keys are movie titles and the values are lists\n",
    "of tuples, each containing a reviewer&#39;s name and their rating for the movie.\n",
    "\n",
    "**Example:** movies = {&quot;Inception&quot;: [(&quot;Alice&quot;, 9), (&quot;Bob&quot;, 8)], &quot;Titanic&quot;: [(&quot;Alice&quot;,\n",
    "7), (&quot;Charlie&quot;, 8)]}\n",
    "\n",
    "- Tasks:\n",
    "  - 1. Write a function to add a new rating for a movie.\n",
    "  - 2. Write a function to update an existing rating for a movie.\n",
    "  - 3. Write a function to calculate the average rating for a movie.\n",
    "  - 4. Write a function to find the movie with the highest average rating.\n",
    "  - 5. Write a function to list all movies reviewed by a specific reviewer."
   ]
  },
  {
   "cell_type": "code",
   "execution_count": null,
   "id": "874f551d",
   "metadata": {},
   "outputs": [],
   "source": []
  },
  {
   "cell_type": "markdown",
   "id": "fa2203d2",
   "metadata": {},
   "source": [
    "___"
   ]
  }
 ],
 "metadata": {
  "kernelspec": {
   "display_name": "tf_env",
   "language": "python",
   "name": "python3"
  },
  "language_info": {
   "codemirror_mode": {
    "name": "ipython",
    "version": 3
   },
   "file_extension": ".py",
   "mimetype": "text/x-python",
   "name": "python",
   "nbconvert_exporter": "python",
   "pygments_lexer": "ipython3",
   "version": "3.11.11"
  }
 },
 "nbformat": 4,
 "nbformat_minor": 5
}
